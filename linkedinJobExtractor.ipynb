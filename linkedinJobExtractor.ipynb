{
 "cells": [
  {
   "cell_type": "code",
   "execution_count": null,
   "metadata": {},
   "outputs": [],
   "source": [
    "from linkedin_api import Linkedin\n",
    "import pandas as pd \n",
    "import time \n",
    "from tqdm import tqdm"
   ]
  },
  {
   "cell_type": "code",
   "execution_count": null,
   "metadata": {},
   "outputs": [],
   "source": [
    "def data_filter(entries):\n",
    "    '''\n",
    "    This function takes data from job_seeker() and extracts the relevant data\n",
    "    to be passed in the empty lists above.\n",
    "    \n",
    "    The function accepts a list of dictionaries as input.\n",
    "    '''\n",
    "    \n",
    "    #  empty list for storing data; will be used to create dataframe \n",
    "    company = []\n",
    "    location = []\n",
    "    job_title = []\n",
    "    job_id = []\n",
    "    \n",
    "    features_list = [company, \n",
    "                     location, \n",
    "                     job_title, \n",
    "                     job_id\n",
    "                     ]\n",
    "    \n",
    "    for entry in entries:\n",
    "        job_location = entry['formattedLocation']\n",
    "        title = entry['title']\n",
    "        unique_id = entry['entityUrn']\n",
    "        \n",
    "        try:\n",
    "            company_name = entry['companyDetails']['companyName']\n",
    "        except KeyError:\n",
    "            company_name = 'nan'\n",
    "        \n",
    "        \n",
    "        #  append data to list \n",
    "        location.append(job_location)\n",
    "        job_title.append(title)\n",
    "        company.append(company_name)\n",
    "        job_id.append(unique_id)\n",
    "    \n",
    "    return dataframe_fromlists(features_list)"
   ]
  },
  {
   "cell_type": "code",
   "execution_count": null,
   "metadata": {},
   "outputs": [],
   "source": [
    "def job_seeker(user, password, start=1, end=1) -> pd.DataFrame:\n",
    "    '''\n",
    "    \n",
    "    This function gets data on job listings from Linkedin through the Linkedin API.\n",
    "    \n",
    "    The function passes in the username and password of the Linkedin account.\n",
    "    \n",
    "    The function returns dataframe\n",
    "    \n",
    "    '''\n",
    "    \n",
    "    extracted_df_list = []\n",
    "    \n",
    "    api = Linkedin(user, password)\n",
    "    \n",
    "    for day in tqdm(range(start, end+1)):\n",
    "    \n",
    "        #  extracting job listings from Linkedin; max entries returned = 1000\n",
    "        jobs = api.search_jobs(limit=1000, listed_at = 86400 * (day + 1), location_name = 'National Capital Region, Philippines')\n",
    "        \n",
    "        extracted_df_list.append(data_filter(jobs))\n",
    "\n",
    "    return concat_dataframelist(extracted_df_list)"
   ]
  },
  {
   "cell_type": "code",
   "execution_count": null,
   "metadata": {},
   "outputs": [],
   "source": [
    "def dataframe_fromlists(features_list) -> pd.DataFrame:\n",
    "    '''\n",
    "    \n",
    "    This function creates a dataframe from the data lists.\n",
    "    \n",
    "    The function accepts a list of features as input.\n",
    "    \n",
    "    The function returns a dataframe.\n",
    "    \n",
    "    '''\n",
    "    df_format = {'job_title': features_list[2], \n",
    "                'location': features_list[1],\n",
    "                'company': features_list[0],\n",
    "                'job_id': features_list[3]\n",
    "                }\n",
    "    \n",
    "    #  creating a dataframe from the data lists\n",
    "    df = pd.DataFrame(data = df_format)\n",
    "\n",
    "    #  returning the dataframe\n",
    "    return df"
   ]
  },
  {
   "cell_type": "code",
   "execution_count": null,
   "metadata": {},
   "outputs": [],
   "source": [
    "def concat_dataframelist(extracted_df_list) -> pd.DataFrame:\n",
    "    '''\n",
    "    \n",
    "    This function concatenates a list of dataframes.\n",
    "\n",
    "    The function accepts a list of dataframes to be concatenated.\n",
    "    \n",
    "    The function returns a dataframe.\n",
    "    \n",
    "    '''\n",
    "    \n",
    "    #  establishing first dataframe point\n",
    "    prime_df = extracted_df_list[0]\n",
    "    \n",
    "    #  looping through remaining dataframes to concatenate\n",
    "    for i in range(len(extracted_df_list)-1):\n",
    "        prime_df = pd.concat([prime_df,extracted_df_list[i+1]], ignore_index=True)\n",
    "    \n",
    "    return prime_df "
   ]
  }
 ],
 "metadata": {
  "interpreter": {
   "hash": "45f1c52e6ff181b6a08f617934a1e0b0b4cce9123eb7ba2c516144485a5a3822"
  },
  "kernelspec": {
   "display_name": "Python 3.9.9 ('data-science-env')",
   "language": "python",
   "name": "python3"
  },
  "language_info": {
   "codemirror_mode": {
    "name": "ipython",
    "version": 3
   },
   "file_extension": ".py",
   "mimetype": "text/x-python",
   "name": "python",
   "nbconvert_exporter": "python",
   "pygments_lexer": "ipython3",
   "version": "3.9.9"
  },
  "orig_nbformat": 4
 },
 "nbformat": 4,
 "nbformat_minor": 2
}
