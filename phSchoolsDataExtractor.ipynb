{
 "cells": [
  {
   "cell_type": "code",
   "execution_count": 1,
   "metadata": {},
   "outputs": [],
   "source": [
    "import tabula as tb\n",
    "import pandas as pd \n",
    "from tqdm import tqdm "
   ]
  },
  {
   "cell_type": "code",
   "execution_count": 2,
   "metadata": {},
   "outputs": [],
   "source": [
    "#  using tabula to convert pdf to csv\n",
    "ph_schools_list = tb.read_pdf(\"data/phSchoolList.pdf\", pages=\"all\")"
   ]
  },
  {
   "cell_type": "code",
   "execution_count": 3,
   "metadata": {},
   "outputs": [
    {
     "name": "stderr",
     "output_type": "stream",
     "text": [
      "100%|██████████| 543/543 [00:05<00:00, 103.20it/s]\n"
     ]
    }
   ],
   "source": [
    "#  concatenating all the dataframes from ph_school_list into a single dataframe\n",
    "ph_schools_df = ph_schools_list[0]\n",
    "\n",
    "for i in tqdm(range(len(ph_schools_list)-1)):  #  using tqdm to show the progress\n",
    "    ph_schools_df = pd.concat([ph_schools_df,ph_schools_list[i+1]], ignore_index=True)"
   ]
  },
  {
   "cell_type": "code",
   "execution_count": 4,
   "metadata": {},
   "outputs": [],
   "source": [
    "#  reducing the dataset to schools located within NCR\n",
    "ncr_schools_df = ph_schools_df.query(\"Region == 'NCR'\")"
   ]
  },
  {
   "cell_type": "code",
   "execution_count": 5,
   "metadata": {},
   "outputs": [],
   "source": [
    "#  saving the dataframe to a csv file\n",
    "ncr_schools_df.to_csv(\"data/ncr_schools.csv\",index = False)"
   ]
  }
 ],
 "metadata": {
  "interpreter": {
   "hash": "45f1c52e6ff181b6a08f617934a1e0b0b4cce9123eb7ba2c516144485a5a3822"
  },
  "kernelspec": {
   "display_name": "Python 3.9.9 ('data-science-env')",
   "language": "python",
   "name": "python3"
  },
  "language_info": {
   "codemirror_mode": {
    "name": "ipython",
    "version": 3
   },
   "file_extension": ".py",
   "mimetype": "text/x-python",
   "name": "python",
   "nbconvert_exporter": "python",
   "pygments_lexer": "ipython3",
   "version": "3.9.9"
  },
  "orig_nbformat": 4
 },
 "nbformat": 4,
 "nbformat_minor": 2
}
