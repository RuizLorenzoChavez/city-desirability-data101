{
 "cells": [
  {
   "cell_type": "code",
   "execution_count": 1,
   "metadata": {},
   "outputs": [],
   "source": [
    "from bs4 import BeautifulSoup\n",
    "from tqdm import tqdm\n",
    "import requests \n",
    "import time\n",
    "import pandas as pd \n",
    "import numpy as np"
   ]
  },
  {
   "cell_type": "code",
   "execution_count": 2,
   "metadata": {},
   "outputs": [],
   "source": [
    "def property_crawler(base_url=None, start=1, end=1,snooze=1):\n",
    "    '''\n",
    "    \n",
    "    This function loops over a specified number of pages of the website page to be scraped.\n",
    "    \n",
    "    The function accepts the base URL of the website,page number to start scraping from, \n",
    "    page number to end scraping at, and the number of seconds to wait in-between scraping.\n",
    "    \n",
    "    The function returns nothing. This is more of a progress display for the scraping process.\n",
    "    \n",
    "    '''    \n",
    "    \n",
    "    #  empty list to stare dataframes to be concatenated\n",
    "    scraped_df_list = []\n",
    "    \n",
    "    for page_num in tqdm(range(start, end+1), desc='Scraping pages'):\n",
    "        \n",
    "        #  appending specific page number to the base url\n",
    "        specific_url = base_url + str(page_num)\n",
    "        \n",
    "        #  retrieving the html of the specific url\n",
    "        specific_html = requests.get(specific_url)\n",
    "        \n",
    "        #  status code of page: to determine if the page is accessible\n",
    "        status_code = specific_html.status_code\n",
    "        \n",
    "        #  indicating that the process will start \n",
    "        if status_code != 200:\n",
    "            print(f'Retrieval of {specific_url} failed with status code {status_code}')\n",
    "            break\n",
    "        print(f'Retrieving: {specific_url} --- Success!')\n",
    "        \n",
    "        #  function that retrieves data from the specific html and appends it to empty lists\n",
    "        scraped_df_list.append(get_propertyinfo(specific_html))\n",
    "        \n",
    "        #  giving the spider a little break\n",
    "        time.sleep(snooze)\n",
    "    \n",
    "    return concat_dataframelist(scraped_df_list)"
   ]
  },
  {
   "cell_type": "code",
   "execution_count": 3,
   "metadata": {},
   "outputs": [],
   "source": [
    "def get_propertyinfo(specific_html=None) -> pd.DataFrame: \n",
    "    '''\n",
    "    \n",
    "    This function scrapes the lamudi.com.ph website for properties.\n",
    "    \n",
    "    The function accepts the retrieved html of a page.\n",
    "    \n",
    "    The function returns a dataframe containing the scraped data.\n",
    "    \n",
    "    '''\n",
    "    \n",
    "    #  empty lists to store data retrieved from page\n",
    "    listing_list = []\n",
    "    location_list = []\n",
    "    price_list = []\n",
    "    bedroom_num_list = []\n",
    "    bathroom_num_list = []\n",
    "    floor_area_list = [] \n",
    "    land_size_list = []\n",
    "    longitude_list = []\n",
    "    latitude_list = []\n",
    "    \n",
    "    #  list of list to pass to dataframe_fromlists()\n",
    "    features_list = [listing_list,\n",
    "                     location_list,\n",
    "                     price_list,\n",
    "                     bedroom_num_list,\n",
    "                     bathroom_num_list,\n",
    "                     floor_area_list,\n",
    "                     land_size_list,\n",
    "                     longitude_list,\n",
    "                     latitude_list]\n",
    "    \n",
    "    #  soupify the html passed\n",
    "    proplist_soup = BeautifulSoup(specific_html.text, 'lxml')\n",
    "    \n",
    "    #  data of each proprety is concentrated in this html div tag with the class: ListingCell-AllInfo ListingUnit\n",
    "    propinfo_group = proplist_soup('div', class_ ='ListingCell-AllInfo ListingUnit')\n",
    "    \n",
    "    #  looping through each property listing from propinfo_group\n",
    "    for property in propinfo_group:\n",
    "        \n",
    "        #  retrieve listing name \n",
    "        listing = property.find('h2', class_ ='ListingCell-KeyInfo-title').text.strip()\n",
    "        \n",
    "        #  retrieve location \n",
    "        location = property.find('span', class_ = 'ListingCell-KeyInfo-address-text').text.strip()\n",
    "        \n",
    "        #  retrieving price, bedroom, bathroom, floor area and land size\n",
    "        #  we will be using exception handling to deal with property listings that lack any or all of these features\n",
    "        try:  #  for price \n",
    "            price = property.find('span', class_ = 'PriceSection-FirstPrice').text.replace('₱','').strip()           \n",
    "        except AttributeError:\n",
    "            price = np.nan\n",
    "        \n",
    "        try:  #  for num of bedroom\n",
    "            bedroom_num = property.find('span', class_ = 'icon-bedrooms').next_element.strip()\n",
    "        except AttributeError:\n",
    "            bedroom_num = np.nan\n",
    "        \n",
    "        try:  #  for num of bathroom\n",
    "            bathroom_num = property.find('span', class_ = 'icon-bathrooms').next_element.strip()\n",
    "        except AttributeError:\n",
    "            bathroom_num = np.nan\n",
    "        \n",
    "        try:  #  for floor area\n",
    "            floor_area = property.find('span', class_ = 'icon-livingsize').next_element.replace('m²','').strip()\n",
    "        except AttributeError:\n",
    "            floor_area = np.nan\n",
    "            \n",
    "        try:  #  for land size\n",
    "            land_size  = property.find('span', class_ = 'icon-land_size').next_element.replace('m²','').strip()    \n",
    "        except AttributeError:\n",
    "            land_size = np.nan\n",
    "        \n",
    "        #  retrievie longitude and latitude\n",
    "        geopoint = property['data-geo-point'].strip('[\\[\\]]').split(',')\n",
    "        longitude = geopoint[0]\n",
    "        latitude = geopoint[1]\n",
    "            \n",
    "        #  appending data to empty lists \n",
    "        listing_list.append(listing)\n",
    "        location_list.append(location)\n",
    "        price_list.append(price)\n",
    "        bedroom_num_list.append(bedroom_num)\n",
    "        bathroom_num_list.append(bathroom_num)\n",
    "        floor_area_list.append(floor_area)\n",
    "        land_size_list.append(land_size)\n",
    "        longitude_list.append(longitude)\n",
    "        latitude_list.append(latitude)\n",
    "\n",
    "    #  returning a dataframe\n",
    "    return dataframe_fromlists(features_list)\n",
    "    "
   ]
  },
  {
   "cell_type": "code",
   "execution_count": 4,
   "metadata": {},
   "outputs": [],
   "source": [
    "def dataframe_fromlists(features_list) -> pd.DataFrame:\n",
    "    '''\n",
    "    \n",
    "    This function creates a dataframe from the data lists.\n",
    "\n",
    "    The function accepts a list of lists containing the data to be converted to a dataframe.\n",
    "    \n",
    "    The function returns a dataframe.\n",
    "    \n",
    "    '''\n",
    "    \n",
    "    df_format = {'listing': features_list[0], \n",
    "                'location': features_list[1], \n",
    "                'price': features_list[2], \n",
    "                'bedroom_num': features_list[3], \n",
    "                'bathroom_num': features_list[4], \n",
    "                'floor_area': features_list[5],  \n",
    "                'land_size': features_list[6],\n",
    "                'longitude': features_list[7],\n",
    "                'latitude': features_list[8],\n",
    "                }\n",
    "    \n",
    "    #  creating a dataframe from the data lists\n",
    "    df = pd.DataFrame(data = df_format)\n",
    "    \n",
    "    #  returning the dataframe\n",
    "    return df"
   ]
  },
  {
   "cell_type": "code",
   "execution_count": 5,
   "metadata": {},
   "outputs": [],
   "source": [
    "def concat_dataframelist(scraped_df_list) -> pd.DataFrame:\n",
    "    '''\n",
    "    \n",
    "    This function concatenates a list of dataframes.\n",
    "\n",
    "    The function accepts a list of dataframes to be concatenated.\n",
    "    \n",
    "    The function returns a dataframe.\n",
    "    \n",
    "    '''\n",
    "    \n",
    "    #  establishing first dataframe point\n",
    "    prime_df = scraped_df_list[0]\n",
    "    \n",
    "    #  looping through remaining dataframes to concatenate\n",
    "    for i in range(len(scraped_df_list)-1):\n",
    "        prime_df = pd.concat([prime_df,scraped_df_list[i+1]], ignore_index=True)\n",
    "    \n",
    "    return prime_df "
   ]
  },
  {
   "cell_type": "markdown",
   "metadata": {},
   "source": [
    "<h2>Sample Usage of PropertyCrawler</h2>\n",
    "<p>The following example shows propertyCrawler scraping data for makati properties (sans commercial types) that are for sale and for rent</p>\n",
    "<p>For each respective category—sale and rent—four different types of properties are scraped:</p>\n",
    "<ul>\n",
    "    <li>apartment</li>\n",
    "    <li>condo</li>\n",
    "    <li>house</li>\n",
    "    <li>land</li>\n",
    "</ul>"
   ]
  },
  {
   "cell_type": "code",
   "execution_count": 6,
   "metadata": {},
   "outputs": [
    {
     "name": "stderr",
     "output_type": "stream",
     "text": [
      "Scraping pages:   0%|          | 0/100 [00:00<?, ?it/s]"
     ]
    },
    {
     "name": "stdout",
     "output_type": "stream",
     "text": [
      "Retrieving: https://www.lamudi.com.ph/metro-manila/makati/condominium/buy/?script=23&page=1 --- Success!\n"
     ]
    },
    {
     "name": "stderr",
     "output_type": "stream",
     "text": [
      "Scraping pages:   1%|          | 1/100 [00:01<02:44,  1.67s/it]"
     ]
    },
    {
     "name": "stdout",
     "output_type": "stream",
     "text": [
      "Retrieving: https://www.lamudi.com.ph/metro-manila/makati/condominium/buy/?script=23&page=2 --- Success!\n"
     ]
    },
    {
     "name": "stderr",
     "output_type": "stream",
     "text": [
      "Scraping pages:   2%|▏         | 2/100 [00:03<02:44,  1.68s/it]"
     ]
    },
    {
     "name": "stdout",
     "output_type": "stream",
     "text": [
      "Retrieving: https://www.lamudi.com.ph/metro-manila/makati/condominium/buy/?script=23&page=3 --- Success!\n"
     ]
    },
    {
     "name": "stderr",
     "output_type": "stream",
     "text": [
      "Scraping pages:   3%|▎         | 3/100 [00:05<02:43,  1.69s/it]"
     ]
    },
    {
     "name": "stdout",
     "output_type": "stream",
     "text": [
      "Retrieving: https://www.lamudi.com.ph/metro-manila/makati/condominium/buy/?script=23&page=4 --- Success!\n"
     ]
    },
    {
     "name": "stderr",
     "output_type": "stream",
     "text": [
      "Scraping pages:   4%|▍         | 4/100 [00:06<02:42,  1.69s/it]"
     ]
    },
    {
     "name": "stdout",
     "output_type": "stream",
     "text": [
      "Retrieving: https://www.lamudi.com.ph/metro-manila/makati/condominium/buy/?script=23&page=5 --- Success!\n"
     ]
    },
    {
     "name": "stderr",
     "output_type": "stream",
     "text": [
      "Scraping pages:   5%|▌         | 5/100 [00:08<02:39,  1.68s/it]"
     ]
    },
    {
     "name": "stdout",
     "output_type": "stream",
     "text": [
      "Retrieving: https://www.lamudi.com.ph/metro-manila/makati/condominium/buy/?script=23&page=6 --- Success!\n"
     ]
    },
    {
     "name": "stderr",
     "output_type": "stream",
     "text": [
      "Scraping pages:   6%|▌         | 6/100 [00:12<03:47,  2.42s/it]"
     ]
    },
    {
     "name": "stdout",
     "output_type": "stream",
     "text": [
      "Retrieving: https://www.lamudi.com.ph/metro-manila/makati/condominium/buy/?script=23&page=7 --- Success!\n"
     ]
    },
    {
     "name": "stderr",
     "output_type": "stream",
     "text": [
      "Scraping pages:   7%|▋         | 7/100 [00:14<03:51,  2.48s/it]"
     ]
    },
    {
     "name": "stdout",
     "output_type": "stream",
     "text": [
      "Retrieving: https://www.lamudi.com.ph/metro-manila/makati/condominium/buy/?script=23&page=8 --- Success!\n"
     ]
    },
    {
     "name": "stderr",
     "output_type": "stream",
     "text": [
      "Scraping pages:   8%|▊         | 8/100 [00:17<03:44,  2.44s/it]"
     ]
    },
    {
     "name": "stdout",
     "output_type": "stream",
     "text": [
      "Retrieving: https://www.lamudi.com.ph/metro-manila/makati/condominium/buy/?script=23&page=9 --- Success!\n"
     ]
    },
    {
     "name": "stderr",
     "output_type": "stream",
     "text": [
      "Scraping pages:   9%|▉         | 9/100 [00:19<03:46,  2.48s/it]"
     ]
    },
    {
     "name": "stdout",
     "output_type": "stream",
     "text": [
      "Retrieving: https://www.lamudi.com.ph/metro-manila/makati/condominium/buy/?script=23&page=10 --- Success!\n"
     ]
    },
    {
     "name": "stderr",
     "output_type": "stream",
     "text": [
      "Scraping pages:  10%|█         | 10/100 [00:21<03:30,  2.34s/it]"
     ]
    },
    {
     "name": "stdout",
     "output_type": "stream",
     "text": [
      "Retrieving: https://www.lamudi.com.ph/metro-manila/makati/condominium/buy/?script=23&page=11 --- Success!\n"
     ]
    },
    {
     "name": "stderr",
     "output_type": "stream",
     "text": [
      "Scraping pages:  11%|█         | 11/100 [00:23<03:21,  2.27s/it]"
     ]
    },
    {
     "name": "stdout",
     "output_type": "stream",
     "text": [
      "Retrieving: https://www.lamudi.com.ph/metro-manila/makati/condominium/buy/?script=23&page=12 --- Success!\n"
     ]
    },
    {
     "name": "stderr",
     "output_type": "stream",
     "text": [
      "Scraping pages:  12%|█▏        | 12/100 [00:26<03:21,  2.29s/it]"
     ]
    },
    {
     "name": "stdout",
     "output_type": "stream",
     "text": [
      "Retrieving: https://www.lamudi.com.ph/metro-manila/makati/condominium/buy/?script=23&page=13 --- Success!\n"
     ]
    },
    {
     "name": "stderr",
     "output_type": "stream",
     "text": [
      "Scraping pages:  13%|█▎        | 13/100 [00:28<03:19,  2.29s/it]"
     ]
    },
    {
     "name": "stdout",
     "output_type": "stream",
     "text": [
      "Retrieving: https://www.lamudi.com.ph/metro-manila/makati/condominium/buy/?script=23&page=14 --- Success!\n"
     ]
    },
    {
     "name": "stderr",
     "output_type": "stream",
     "text": [
      "Scraping pages:  14%|█▍        | 14/100 [00:30<03:08,  2.19s/it]"
     ]
    },
    {
     "name": "stdout",
     "output_type": "stream",
     "text": [
      "Retrieving: https://www.lamudi.com.ph/metro-manila/makati/condominium/buy/?script=23&page=15 --- Success!\n"
     ]
    },
    {
     "name": "stderr",
     "output_type": "stream",
     "text": [
      "Scraping pages:  15%|█▌        | 15/100 [00:33<03:17,  2.32s/it]"
     ]
    },
    {
     "name": "stdout",
     "output_type": "stream",
     "text": [
      "Retrieving: https://www.lamudi.com.ph/metro-manila/makati/condominium/buy/?script=23&page=16 --- Success!\n"
     ]
    },
    {
     "name": "stderr",
     "output_type": "stream",
     "text": [
      "Scraping pages:  16%|█▌        | 16/100 [00:35<03:13,  2.30s/it]"
     ]
    },
    {
     "name": "stdout",
     "output_type": "stream",
     "text": [
      "Retrieving: https://www.lamudi.com.ph/metro-manila/makati/condominium/buy/?script=23&page=17 --- Success!\n"
     ]
    },
    {
     "name": "stderr",
     "output_type": "stream",
     "text": [
      "Scraping pages:  17%|█▋        | 17/100 [00:37<03:11,  2.31s/it]"
     ]
    },
    {
     "name": "stdout",
     "output_type": "stream",
     "text": [
      "Retrieving: https://www.lamudi.com.ph/metro-manila/makati/condominium/buy/?script=23&page=18 --- Success!\n"
     ]
    },
    {
     "name": "stderr",
     "output_type": "stream",
     "text": [
      "Scraping pages:  18%|█▊        | 18/100 [00:39<03:06,  2.28s/it]"
     ]
    },
    {
     "name": "stdout",
     "output_type": "stream",
     "text": [
      "Retrieving: https://www.lamudi.com.ph/metro-manila/makati/condominium/buy/?script=23&page=19 --- Success!\n"
     ]
    },
    {
     "name": "stderr",
     "output_type": "stream",
     "text": [
      "Scraping pages:  19%|█▉        | 19/100 [00:41<02:57,  2.20s/it]"
     ]
    },
    {
     "name": "stdout",
     "output_type": "stream",
     "text": [
      "Retrieving: https://www.lamudi.com.ph/metro-manila/makati/condominium/buy/?script=23&page=20 --- Success!\n"
     ]
    },
    {
     "name": "stderr",
     "output_type": "stream",
     "text": [
      "Scraping pages:  20%|██        | 20/100 [00:45<03:39,  2.75s/it]"
     ]
    },
    {
     "name": "stdout",
     "output_type": "stream",
     "text": [
      "Retrieving: https://www.lamudi.com.ph/metro-manila/makati/condominium/buy/?script=23&page=21 --- Success!\n"
     ]
    },
    {
     "name": "stderr",
     "output_type": "stream",
     "text": [
      "Scraping pages:  21%|██        | 21/100 [00:48<03:27,  2.62s/it]"
     ]
    },
    {
     "name": "stdout",
     "output_type": "stream",
     "text": [
      "Retrieving: https://www.lamudi.com.ph/metro-manila/makati/condominium/buy/?script=23&page=22 --- Success!\n"
     ]
    },
    {
     "name": "stderr",
     "output_type": "stream",
     "text": [
      "Scraping pages:  22%|██▏       | 22/100 [00:50<03:18,  2.54s/it]"
     ]
    },
    {
     "name": "stdout",
     "output_type": "stream",
     "text": [
      "Retrieving: https://www.lamudi.com.ph/metro-manila/makati/condominium/buy/?script=23&page=23 --- Success!\n"
     ]
    },
    {
     "name": "stderr",
     "output_type": "stream",
     "text": [
      "Scraping pages:  23%|██▎       | 23/100 [00:52<03:08,  2.45s/it]"
     ]
    },
    {
     "name": "stdout",
     "output_type": "stream",
     "text": [
      "Retrieving: https://www.lamudi.com.ph/metro-manila/makati/condominium/buy/?script=23&page=24 --- Success!\n"
     ]
    },
    {
     "name": "stderr",
     "output_type": "stream",
     "text": [
      "Scraping pages:  24%|██▍       | 24/100 [00:55<03:01,  2.39s/it]"
     ]
    },
    {
     "name": "stdout",
     "output_type": "stream",
     "text": [
      "Retrieving: https://www.lamudi.com.ph/metro-manila/makati/condominium/buy/?script=23&page=25 --- Success!\n"
     ]
    },
    {
     "name": "stderr",
     "output_type": "stream",
     "text": [
      "Scraping pages:  25%|██▌       | 25/100 [00:57<02:52,  2.30s/it]"
     ]
    },
    {
     "name": "stdout",
     "output_type": "stream",
     "text": [
      "Retrieving: https://www.lamudi.com.ph/metro-manila/makati/condominium/buy/?script=23&page=26 --- Success!\n"
     ]
    },
    {
     "name": "stderr",
     "output_type": "stream",
     "text": [
      "Scraping pages:  26%|██▌       | 26/100 [00:59<02:55,  2.37s/it]"
     ]
    },
    {
     "name": "stdout",
     "output_type": "stream",
     "text": [
      "Retrieving: https://www.lamudi.com.ph/metro-manila/makati/condominium/buy/?script=23&page=27 --- Success!\n"
     ]
    },
    {
     "name": "stderr",
     "output_type": "stream",
     "text": [
      "Scraping pages:  27%|██▋       | 27/100 [01:02<02:53,  2.38s/it]"
     ]
    },
    {
     "name": "stdout",
     "output_type": "stream",
     "text": [
      "Retrieving: https://www.lamudi.com.ph/metro-manila/makati/condominium/buy/?script=23&page=28 --- Success!\n"
     ]
    },
    {
     "name": "stderr",
     "output_type": "stream",
     "text": [
      "Scraping pages:  28%|██▊       | 28/100 [01:04<02:44,  2.29s/it]"
     ]
    },
    {
     "name": "stdout",
     "output_type": "stream",
     "text": [
      "Retrieving: https://www.lamudi.com.ph/metro-manila/makati/condominium/buy/?script=23&page=29 --- Success!\n"
     ]
    },
    {
     "name": "stderr",
     "output_type": "stream",
     "text": [
      "Scraping pages:  29%|██▉       | 29/100 [01:06<02:36,  2.21s/it]"
     ]
    },
    {
     "name": "stdout",
     "output_type": "stream",
     "text": [
      "Retrieving: https://www.lamudi.com.ph/metro-manila/makati/condominium/buy/?script=23&page=30 --- Success!\n"
     ]
    },
    {
     "name": "stderr",
     "output_type": "stream",
     "text": [
      "Scraping pages:  30%|███       | 30/100 [01:10<03:26,  2.95s/it]"
     ]
    },
    {
     "name": "stdout",
     "output_type": "stream",
     "text": [
      "Retrieving: https://www.lamudi.com.ph/metro-manila/makati/condominium/buy/?script=23&page=31 --- Success!\n"
     ]
    },
    {
     "name": "stderr",
     "output_type": "stream",
     "text": [
      "Scraping pages:  31%|███       | 31/100 [01:13<03:11,  2.78s/it]"
     ]
    },
    {
     "name": "stdout",
     "output_type": "stream",
     "text": [
      "Retrieving: https://www.lamudi.com.ph/metro-manila/makati/condominium/buy/?script=23&page=32 --- Success!\n"
     ]
    },
    {
     "name": "stderr",
     "output_type": "stream",
     "text": [
      "Scraping pages:  32%|███▏      | 32/100 [01:15<02:55,  2.58s/it]"
     ]
    },
    {
     "name": "stdout",
     "output_type": "stream",
     "text": [
      "Retrieving: https://www.lamudi.com.ph/metro-manila/makati/condominium/buy/?script=23&page=33 --- Success!\n"
     ]
    },
    {
     "name": "stderr",
     "output_type": "stream",
     "text": [
      "Scraping pages:  33%|███▎      | 33/100 [01:18<03:05,  2.77s/it]"
     ]
    },
    {
     "name": "stdout",
     "output_type": "stream",
     "text": [
      "Retrieving: https://www.lamudi.com.ph/metro-manila/makati/condominium/buy/?script=23&page=34 --- Success!\n"
     ]
    },
    {
     "name": "stderr",
     "output_type": "stream",
     "text": [
      "Scraping pages:  34%|███▍      | 34/100 [01:20<02:48,  2.56s/it]"
     ]
    },
    {
     "name": "stdout",
     "output_type": "stream",
     "text": [
      "Retrieving: https://www.lamudi.com.ph/metro-manila/makati/condominium/buy/?script=23&page=35 --- Success!\n"
     ]
    },
    {
     "name": "stderr",
     "output_type": "stream",
     "text": [
      "Scraping pages:  35%|███▌      | 35/100 [01:23<02:42,  2.49s/it]"
     ]
    },
    {
     "name": "stdout",
     "output_type": "stream",
     "text": [
      "Retrieving: https://www.lamudi.com.ph/metro-manila/makati/condominium/buy/?script=23&page=36 --- Success!\n"
     ]
    },
    {
     "name": "stderr",
     "output_type": "stream",
     "text": [
      "Scraping pages:  36%|███▌      | 36/100 [01:25<02:30,  2.35s/it]"
     ]
    },
    {
     "name": "stdout",
     "output_type": "stream",
     "text": [
      "Retrieving: https://www.lamudi.com.ph/metro-manila/makati/condominium/buy/?script=23&page=37 --- Success!\n"
     ]
    },
    {
     "name": "stderr",
     "output_type": "stream",
     "text": [
      "Scraping pages:  37%|███▋      | 37/100 [01:27<02:23,  2.28s/it]"
     ]
    },
    {
     "name": "stdout",
     "output_type": "stream",
     "text": [
      "Retrieving: https://www.lamudi.com.ph/metro-manila/makati/condominium/buy/?script=23&page=38 --- Success!\n"
     ]
    },
    {
     "name": "stderr",
     "output_type": "stream",
     "text": [
      "Scraping pages:  38%|███▊      | 38/100 [01:29<02:17,  2.22s/it]"
     ]
    },
    {
     "name": "stdout",
     "output_type": "stream",
     "text": [
      "Retrieving: https://www.lamudi.com.ph/metro-manila/makati/condominium/buy/?script=23&page=39 --- Success!\n"
     ]
    },
    {
     "name": "stderr",
     "output_type": "stream",
     "text": [
      "Scraping pages:  39%|███▉      | 39/100 [01:31<02:12,  2.17s/it]"
     ]
    },
    {
     "name": "stdout",
     "output_type": "stream",
     "text": [
      "Retrieving: https://www.lamudi.com.ph/metro-manila/makati/condominium/buy/?script=23&page=40 --- Success!\n"
     ]
    },
    {
     "name": "stderr",
     "output_type": "stream",
     "text": [
      "Scraping pages:  40%|████      | 40/100 [01:33<02:10,  2.17s/it]"
     ]
    },
    {
     "name": "stdout",
     "output_type": "stream",
     "text": [
      "Retrieving: https://www.lamudi.com.ph/metro-manila/makati/condominium/buy/?script=23&page=41 --- Success!\n"
     ]
    },
    {
     "name": "stderr",
     "output_type": "stream",
     "text": [
      "Scraping pages:  41%|████      | 41/100 [01:35<02:08,  2.17s/it]"
     ]
    },
    {
     "name": "stdout",
     "output_type": "stream",
     "text": [
      "Retrieving: https://www.lamudi.com.ph/metro-manila/makati/condominium/buy/?script=23&page=42 --- Success!\n"
     ]
    },
    {
     "name": "stderr",
     "output_type": "stream",
     "text": [
      "Scraping pages:  42%|████▏     | 42/100 [01:37<02:08,  2.21s/it]"
     ]
    },
    {
     "name": "stdout",
     "output_type": "stream",
     "text": [
      "Retrieving: https://www.lamudi.com.ph/metro-manila/makati/condominium/buy/?script=23&page=43 --- Success!\n"
     ]
    },
    {
     "name": "stderr",
     "output_type": "stream",
     "text": [
      "Scraping pages:  43%|████▎     | 43/100 [01:40<02:04,  2.18s/it]"
     ]
    },
    {
     "name": "stdout",
     "output_type": "stream",
     "text": [
      "Retrieving: https://www.lamudi.com.ph/metro-manila/makati/condominium/buy/?script=23&page=44 --- Success!\n"
     ]
    },
    {
     "name": "stderr",
     "output_type": "stream",
     "text": [
      "Scraping pages:  44%|████▍     | 44/100 [01:42<02:00,  2.15s/it]"
     ]
    },
    {
     "name": "stdout",
     "output_type": "stream",
     "text": [
      "Retrieving: https://www.lamudi.com.ph/metro-manila/makati/condominium/buy/?script=23&page=45 --- Success!\n"
     ]
    },
    {
     "name": "stderr",
     "output_type": "stream",
     "text": [
      "Scraping pages:  45%|████▌     | 45/100 [01:44<01:56,  2.13s/it]"
     ]
    },
    {
     "name": "stdout",
     "output_type": "stream",
     "text": [
      "Retrieving: https://www.lamudi.com.ph/metro-manila/makati/condominium/buy/?script=23&page=46 --- Success!\n"
     ]
    },
    {
     "name": "stderr",
     "output_type": "stream",
     "text": [
      "Scraping pages:  46%|████▌     | 46/100 [01:46<01:53,  2.09s/it]"
     ]
    },
    {
     "name": "stdout",
     "output_type": "stream",
     "text": [
      "Retrieving: https://www.lamudi.com.ph/metro-manila/makati/condominium/buy/?script=23&page=47 --- Success!\n"
     ]
    },
    {
     "name": "stderr",
     "output_type": "stream",
     "text": [
      "Scraping pages:  47%|████▋     | 47/100 [01:48<01:51,  2.10s/it]"
     ]
    },
    {
     "name": "stdout",
     "output_type": "stream",
     "text": [
      "Retrieving: https://www.lamudi.com.ph/metro-manila/makati/condominium/buy/?script=23&page=48 --- Success!\n"
     ]
    },
    {
     "name": "stderr",
     "output_type": "stream",
     "text": [
      "Scraping pages:  48%|████▊     | 48/100 [01:51<02:00,  2.32s/it]"
     ]
    },
    {
     "name": "stdout",
     "output_type": "stream",
     "text": [
      "Retrieving: https://www.lamudi.com.ph/metro-manila/makati/condominium/buy/?script=23&page=49 --- Success!\n"
     ]
    },
    {
     "name": "stderr",
     "output_type": "stream",
     "text": [
      "Scraping pages:  49%|████▉     | 49/100 [01:53<01:57,  2.30s/it]"
     ]
    },
    {
     "name": "stdout",
     "output_type": "stream",
     "text": [
      "Retrieving: https://www.lamudi.com.ph/metro-manila/makati/condominium/buy/?script=23&page=50 --- Success!\n"
     ]
    },
    {
     "name": "stderr",
     "output_type": "stream",
     "text": [
      "Scraping pages:  50%|█████     | 50/100 [01:55<01:52,  2.24s/it]"
     ]
    },
    {
     "name": "stdout",
     "output_type": "stream",
     "text": [
      "Retrieving: https://www.lamudi.com.ph/metro-manila/makati/condominium/buy/?script=23&page=51 --- Success!\n"
     ]
    },
    {
     "name": "stderr",
     "output_type": "stream",
     "text": [
      "Scraping pages:  51%|█████     | 51/100 [01:57<01:52,  2.30s/it]"
     ]
    },
    {
     "name": "stdout",
     "output_type": "stream",
     "text": [
      "Retrieving: https://www.lamudi.com.ph/metro-manila/makati/condominium/buy/?script=23&page=52 --- Success!\n"
     ]
    },
    {
     "name": "stderr",
     "output_type": "stream",
     "text": [
      "Scraping pages:  52%|█████▏    | 52/100 [02:00<01:56,  2.42s/it]"
     ]
    },
    {
     "name": "stdout",
     "output_type": "stream",
     "text": [
      "Retrieving: https://www.lamudi.com.ph/metro-manila/makati/condominium/buy/?script=23&page=53 --- Success!\n"
     ]
    },
    {
     "name": "stderr",
     "output_type": "stream",
     "text": [
      "Scraping pages:  53%|█████▎    | 53/100 [02:02<01:49,  2.33s/it]"
     ]
    },
    {
     "name": "stdout",
     "output_type": "stream",
     "text": [
      "Retrieving: https://www.lamudi.com.ph/metro-manila/makati/condominium/buy/?script=23&page=54 --- Success!\n"
     ]
    },
    {
     "name": "stderr",
     "output_type": "stream",
     "text": [
      "Scraping pages:  54%|█████▍    | 54/100 [02:05<01:45,  2.29s/it]"
     ]
    },
    {
     "name": "stdout",
     "output_type": "stream",
     "text": [
      "Retrieving: https://www.lamudi.com.ph/metro-manila/makati/condominium/buy/?script=23&page=55 --- Success!\n"
     ]
    },
    {
     "name": "stderr",
     "output_type": "stream",
     "text": [
      "Scraping pages:  55%|█████▌    | 55/100 [02:07<01:44,  2.33s/it]"
     ]
    },
    {
     "name": "stdout",
     "output_type": "stream",
     "text": [
      "Retrieving: https://www.lamudi.com.ph/metro-manila/makati/condominium/buy/?script=23&page=56 --- Success!\n"
     ]
    },
    {
     "name": "stderr",
     "output_type": "stream",
     "text": [
      "Scraping pages:  56%|█████▌    | 56/100 [02:11<02:02,  2.79s/it]"
     ]
    },
    {
     "name": "stdout",
     "output_type": "stream",
     "text": [
      "Retrieving: https://www.lamudi.com.ph/metro-manila/makati/condominium/buy/?script=23&page=57 --- Success!\n"
     ]
    },
    {
     "name": "stderr",
     "output_type": "stream",
     "text": [
      "Scraping pages:  57%|█████▋    | 57/100 [02:13<01:53,  2.65s/it]"
     ]
    },
    {
     "name": "stdout",
     "output_type": "stream",
     "text": [
      "Retrieving: https://www.lamudi.com.ph/metro-manila/makati/condominium/buy/?script=23&page=58 --- Success!\n"
     ]
    },
    {
     "name": "stderr",
     "output_type": "stream",
     "text": [
      "Scraping pages:  58%|█████▊    | 58/100 [02:16<01:49,  2.61s/it]"
     ]
    },
    {
     "name": "stdout",
     "output_type": "stream",
     "text": [
      "Retrieving: https://www.lamudi.com.ph/metro-manila/makati/condominium/buy/?script=23&page=59 --- Success!\n"
     ]
    },
    {
     "name": "stderr",
     "output_type": "stream",
     "text": [
      "Scraping pages:  59%|█████▉    | 59/100 [02:18<01:39,  2.44s/it]"
     ]
    },
    {
     "name": "stdout",
     "output_type": "stream",
     "text": [
      "Retrieving: https://www.lamudi.com.ph/metro-manila/makati/condominium/buy/?script=23&page=60 --- Success!\n"
     ]
    },
    {
     "name": "stderr",
     "output_type": "stream",
     "text": [
      "Scraping pages:  60%|██████    | 60/100 [02:20<01:36,  2.40s/it]"
     ]
    },
    {
     "name": "stdout",
     "output_type": "stream",
     "text": [
      "Retrieving: https://www.lamudi.com.ph/metro-manila/makati/condominium/buy/?script=23&page=61 --- Success!\n"
     ]
    },
    {
     "name": "stderr",
     "output_type": "stream",
     "text": [
      "Scraping pages:  61%|██████    | 61/100 [02:22<01:31,  2.34s/it]"
     ]
    },
    {
     "name": "stdout",
     "output_type": "stream",
     "text": [
      "Retrieving: https://www.lamudi.com.ph/metro-manila/makati/condominium/buy/?script=23&page=62 --- Success!\n"
     ]
    },
    {
     "name": "stderr",
     "output_type": "stream",
     "text": [
      "Scraping pages:  62%|██████▏   | 62/100 [02:24<01:26,  2.27s/it]"
     ]
    },
    {
     "name": "stdout",
     "output_type": "stream",
     "text": [
      "Retrieving: https://www.lamudi.com.ph/metro-manila/makati/condominium/buy/?script=23&page=63 --- Success!\n"
     ]
    },
    {
     "name": "stderr",
     "output_type": "stream",
     "text": [
      "Scraping pages:  63%|██████▎   | 63/100 [02:27<01:25,  2.32s/it]"
     ]
    },
    {
     "name": "stdout",
     "output_type": "stream",
     "text": [
      "Retrieving: https://www.lamudi.com.ph/metro-manila/makati/condominium/buy/?script=23&page=64 --- Success!\n"
     ]
    },
    {
     "name": "stderr",
     "output_type": "stream",
     "text": [
      "Scraping pages:  64%|██████▍   | 64/100 [02:30<01:28,  2.46s/it]"
     ]
    },
    {
     "name": "stdout",
     "output_type": "stream",
     "text": [
      "Retrieving: https://www.lamudi.com.ph/metro-manila/makati/condominium/buy/?script=23&page=65 --- Success!\n"
     ]
    },
    {
     "name": "stderr",
     "output_type": "stream",
     "text": [
      "Scraping pages:  65%|██████▌   | 65/100 [02:32<01:25,  2.43s/it]"
     ]
    },
    {
     "name": "stdout",
     "output_type": "stream",
     "text": [
      "Retrieving: https://www.lamudi.com.ph/metro-manila/makati/condominium/buy/?script=23&page=66 --- Success!\n"
     ]
    },
    {
     "name": "stderr",
     "output_type": "stream",
     "text": [
      "Scraping pages:  66%|██████▌   | 66/100 [02:34<01:21,  2.39s/it]"
     ]
    },
    {
     "name": "stdout",
     "output_type": "stream",
     "text": [
      "Retrieving: https://www.lamudi.com.ph/metro-manila/makati/condominium/buy/?script=23&page=67 --- Success!\n"
     ]
    },
    {
     "name": "stderr",
     "output_type": "stream",
     "text": [
      "Scraping pages:  67%|██████▋   | 67/100 [02:37<01:19,  2.40s/it]"
     ]
    },
    {
     "name": "stdout",
     "output_type": "stream",
     "text": [
      "Retrieving: https://www.lamudi.com.ph/metro-manila/makati/condominium/buy/?script=23&page=68 --- Success!\n"
     ]
    },
    {
     "name": "stderr",
     "output_type": "stream",
     "text": [
      "Scraping pages:  68%|██████▊   | 68/100 [02:39<01:15,  2.36s/it]"
     ]
    },
    {
     "name": "stdout",
     "output_type": "stream",
     "text": [
      "Retrieving: https://www.lamudi.com.ph/metro-manila/makati/condominium/buy/?script=23&page=69 --- Success!\n"
     ]
    },
    {
     "name": "stderr",
     "output_type": "stream",
     "text": [
      "Scraping pages:  69%|██████▉   | 69/100 [02:41<01:11,  2.32s/it]"
     ]
    },
    {
     "name": "stdout",
     "output_type": "stream",
     "text": [
      "Retrieving: https://www.lamudi.com.ph/metro-manila/makati/condominium/buy/?script=23&page=70 --- Success!\n"
     ]
    },
    {
     "name": "stderr",
     "output_type": "stream",
     "text": [
      "Scraping pages:  70%|███████   | 70/100 [02:44<01:10,  2.36s/it]"
     ]
    },
    {
     "name": "stdout",
     "output_type": "stream",
     "text": [
      "Retrieving: https://www.lamudi.com.ph/metro-manila/makati/condominium/buy/?script=23&page=71 --- Success!\n"
     ]
    },
    {
     "name": "stderr",
     "output_type": "stream",
     "text": [
      "Scraping pages:  71%|███████   | 71/100 [02:46<01:08,  2.37s/it]"
     ]
    },
    {
     "name": "stdout",
     "output_type": "stream",
     "text": [
      "Retrieving: https://www.lamudi.com.ph/metro-manila/makati/condominium/buy/?script=23&page=72 --- Success!\n"
     ]
    },
    {
     "name": "stderr",
     "output_type": "stream",
     "text": [
      "Scraping pages:  72%|███████▏  | 72/100 [02:48<01:06,  2.39s/it]"
     ]
    },
    {
     "name": "stdout",
     "output_type": "stream",
     "text": [
      "Retrieving: https://www.lamudi.com.ph/metro-manila/makati/condominium/buy/?script=23&page=73 --- Success!\n"
     ]
    },
    {
     "name": "stderr",
     "output_type": "stream",
     "text": [
      "Scraping pages:  73%|███████▎  | 73/100 [02:51<01:03,  2.34s/it]"
     ]
    },
    {
     "name": "stdout",
     "output_type": "stream",
     "text": [
      "Retrieving: https://www.lamudi.com.ph/metro-manila/makati/condominium/buy/?script=23&page=74 --- Success!\n"
     ]
    },
    {
     "name": "stderr",
     "output_type": "stream",
     "text": [
      "Scraping pages:  74%|███████▍  | 74/100 [02:53<01:03,  2.44s/it]"
     ]
    },
    {
     "name": "stdout",
     "output_type": "stream",
     "text": [
      "Retrieving: https://www.lamudi.com.ph/metro-manila/makati/condominium/buy/?script=23&page=75 --- Success!\n"
     ]
    },
    {
     "name": "stderr",
     "output_type": "stream",
     "text": [
      "Scraping pages:  75%|███████▌  | 75/100 [02:56<01:01,  2.45s/it]"
     ]
    },
    {
     "name": "stdout",
     "output_type": "stream",
     "text": [
      "Retrieving: https://www.lamudi.com.ph/metro-manila/makati/condominium/buy/?script=23&page=76 --- Success!\n"
     ]
    },
    {
     "name": "stderr",
     "output_type": "stream",
     "text": [
      "Scraping pages:  76%|███████▌  | 76/100 [02:58<00:57,  2.39s/it]"
     ]
    },
    {
     "name": "stdout",
     "output_type": "stream",
     "text": [
      "Retrieving: https://www.lamudi.com.ph/metro-manila/makati/condominium/buy/?script=23&page=77 --- Success!\n"
     ]
    },
    {
     "name": "stderr",
     "output_type": "stream",
     "text": [
      "Scraping pages:  77%|███████▋  | 77/100 [03:00<00:52,  2.29s/it]"
     ]
    },
    {
     "name": "stdout",
     "output_type": "stream",
     "text": [
      "Retrieving: https://www.lamudi.com.ph/metro-manila/makati/condominium/buy/?script=23&page=78 --- Success!\n"
     ]
    },
    {
     "name": "stderr",
     "output_type": "stream",
     "text": [
      "Scraping pages:  78%|███████▊  | 78/100 [03:02<00:49,  2.25s/it]"
     ]
    },
    {
     "name": "stdout",
     "output_type": "stream",
     "text": [
      "Retrieving: https://www.lamudi.com.ph/metro-manila/makati/condominium/buy/?script=23&page=79 --- Success!\n"
     ]
    },
    {
     "name": "stderr",
     "output_type": "stream",
     "text": [
      "Scraping pages:  79%|███████▉  | 79/100 [03:04<00:46,  2.22s/it]"
     ]
    },
    {
     "name": "stdout",
     "output_type": "stream",
     "text": [
      "Retrieving: https://www.lamudi.com.ph/metro-manila/makati/condominium/buy/?script=23&page=80 --- Success!\n"
     ]
    },
    {
     "name": "stderr",
     "output_type": "stream",
     "text": [
      "Scraping pages:  80%|████████  | 80/100 [03:07<00:46,  2.33s/it]"
     ]
    },
    {
     "name": "stdout",
     "output_type": "stream",
     "text": [
      "Retrieving: https://www.lamudi.com.ph/metro-manila/makati/condominium/buy/?script=23&page=81 --- Success!\n"
     ]
    },
    {
     "name": "stderr",
     "output_type": "stream",
     "text": [
      "Scraping pages:  81%|████████  | 81/100 [03:12<00:57,  3.04s/it]"
     ]
    },
    {
     "name": "stdout",
     "output_type": "stream",
     "text": [
      "Retrieving: https://www.lamudi.com.ph/metro-manila/makati/condominium/buy/?script=23&page=82 --- Success!\n"
     ]
    },
    {
     "name": "stderr",
     "output_type": "stream",
     "text": [
      "Scraping pages:  82%|████████▏ | 82/100 [03:16<01:04,  3.58s/it]"
     ]
    },
    {
     "name": "stdout",
     "output_type": "stream",
     "text": [
      "Retrieving: https://www.lamudi.com.ph/metro-manila/makati/condominium/buy/?script=23&page=83 --- Success!\n"
     ]
    },
    {
     "name": "stderr",
     "output_type": "stream",
     "text": [
      "Scraping pages:  83%|████████▎ | 83/100 [03:19<00:57,  3.36s/it]"
     ]
    },
    {
     "name": "stdout",
     "output_type": "stream",
     "text": [
      "Retrieving: https://www.lamudi.com.ph/metro-manila/makati/condominium/buy/?script=23&page=84 --- Success!\n"
     ]
    },
    {
     "name": "stderr",
     "output_type": "stream",
     "text": [
      "Scraping pages:  84%|████████▍ | 84/100 [03:22<00:50,  3.13s/it]"
     ]
    },
    {
     "name": "stdout",
     "output_type": "stream",
     "text": [
      "Retrieving: https://www.lamudi.com.ph/metro-manila/makati/condominium/buy/?script=23&page=85 --- Success!\n"
     ]
    },
    {
     "name": "stderr",
     "output_type": "stream",
     "text": [
      "Scraping pages:  85%|████████▌ | 85/100 [03:25<00:45,  3.01s/it]"
     ]
    },
    {
     "name": "stdout",
     "output_type": "stream",
     "text": [
      "Retrieving: https://www.lamudi.com.ph/metro-manila/makati/condominium/buy/?script=23&page=86 --- Success!\n"
     ]
    },
    {
     "name": "stderr",
     "output_type": "stream",
     "text": [
      "Scraping pages:  86%|████████▌ | 86/100 [03:27<00:40,  2.88s/it]"
     ]
    },
    {
     "name": "stdout",
     "output_type": "stream",
     "text": [
      "Retrieving: https://www.lamudi.com.ph/metro-manila/makati/condominium/buy/?script=23&page=87 --- Success!\n"
     ]
    },
    {
     "name": "stderr",
     "output_type": "stream",
     "text": [
      "Scraping pages:  87%|████████▋ | 87/100 [03:31<00:40,  3.13s/it]"
     ]
    },
    {
     "name": "stdout",
     "output_type": "stream",
     "text": [
      "Retrieving: https://www.lamudi.com.ph/metro-manila/makati/condominium/buy/?script=23&page=88 --- Success!\n"
     ]
    },
    {
     "name": "stderr",
     "output_type": "stream",
     "text": [
      "Scraping pages:  88%|████████▊ | 88/100 [03:33<00:33,  2.82s/it]"
     ]
    },
    {
     "name": "stdout",
     "output_type": "stream",
     "text": [
      "Retrieving: https://www.lamudi.com.ph/metro-manila/makati/condominium/buy/?script=23&page=89 --- Success!\n"
     ]
    },
    {
     "name": "stderr",
     "output_type": "stream",
     "text": [
      "Scraping pages:  89%|████████▉ | 89/100 [03:35<00:29,  2.68s/it]"
     ]
    },
    {
     "name": "stdout",
     "output_type": "stream",
     "text": [
      "Retrieving: https://www.lamudi.com.ph/metro-manila/makati/condominium/buy/?script=23&page=90 --- Success!\n"
     ]
    },
    {
     "name": "stderr",
     "output_type": "stream",
     "text": [
      "Scraping pages:  90%|█████████ | 90/100 [03:37<00:24,  2.50s/it]"
     ]
    },
    {
     "name": "stdout",
     "output_type": "stream",
     "text": [
      "Retrieving: https://www.lamudi.com.ph/metro-manila/makati/condominium/buy/?script=23&page=91 --- Success!\n"
     ]
    },
    {
     "name": "stderr",
     "output_type": "stream",
     "text": [
      "Scraping pages:  91%|█████████ | 91/100 [03:40<00:21,  2.42s/it]"
     ]
    },
    {
     "name": "stdout",
     "output_type": "stream",
     "text": [
      "Retrieving: https://www.lamudi.com.ph/metro-manila/makati/condominium/buy/?script=23&page=92 --- Success!\n"
     ]
    },
    {
     "name": "stderr",
     "output_type": "stream",
     "text": [
      "Scraping pages:  92%|█████████▏| 92/100 [03:42<00:18,  2.34s/it]"
     ]
    },
    {
     "name": "stdout",
     "output_type": "stream",
     "text": [
      "Retrieving: https://www.lamudi.com.ph/metro-manila/makati/condominium/buy/?script=23&page=93 --- Success!\n"
     ]
    },
    {
     "name": "stderr",
     "output_type": "stream",
     "text": [
      "Scraping pages:  93%|█████████▎| 93/100 [03:44<00:15,  2.28s/it]"
     ]
    },
    {
     "name": "stdout",
     "output_type": "stream",
     "text": [
      "Retrieving: https://www.lamudi.com.ph/metro-manila/makati/condominium/buy/?script=23&page=94 --- Success!\n"
     ]
    },
    {
     "name": "stderr",
     "output_type": "stream",
     "text": [
      "Scraping pages:  94%|█████████▍| 94/100 [03:46<00:14,  2.34s/it]"
     ]
    },
    {
     "name": "stdout",
     "output_type": "stream",
     "text": [
      "Retrieving: https://www.lamudi.com.ph/metro-manila/makati/condominium/buy/?script=23&page=95 --- Success!\n"
     ]
    },
    {
     "name": "stderr",
     "output_type": "stream",
     "text": [
      "Scraping pages:  95%|█████████▌| 95/100 [03:49<00:11,  2.28s/it]"
     ]
    },
    {
     "name": "stdout",
     "output_type": "stream",
     "text": [
      "Retrieving: https://www.lamudi.com.ph/metro-manila/makati/condominium/buy/?script=23&page=96 --- Success!\n"
     ]
    },
    {
     "name": "stderr",
     "output_type": "stream",
     "text": [
      "Scraping pages:  96%|█████████▌| 96/100 [03:52<00:09,  2.47s/it]"
     ]
    },
    {
     "name": "stdout",
     "output_type": "stream",
     "text": [
      "Retrieving: https://www.lamudi.com.ph/metro-manila/makati/condominium/buy/?script=23&page=97 --- Success!\n"
     ]
    },
    {
     "name": "stderr",
     "output_type": "stream",
     "text": [
      "Scraping pages:  97%|█████████▋| 97/100 [03:54<00:07,  2.35s/it]"
     ]
    },
    {
     "name": "stdout",
     "output_type": "stream",
     "text": [
      "Retrieving: https://www.lamudi.com.ph/metro-manila/makati/condominium/buy/?script=23&page=98 --- Success!\n"
     ]
    },
    {
     "name": "stderr",
     "output_type": "stream",
     "text": [
      "Scraping pages:  98%|█████████▊| 98/100 [03:56<00:04,  2.30s/it]"
     ]
    },
    {
     "name": "stdout",
     "output_type": "stream",
     "text": [
      "Retrieving: https://www.lamudi.com.ph/metro-manila/makati/condominium/buy/?script=23&page=99 --- Success!\n"
     ]
    },
    {
     "name": "stderr",
     "output_type": "stream",
     "text": [
      "Scraping pages:  99%|█████████▉| 99/100 [03:58<00:02,  2.20s/it]"
     ]
    },
    {
     "name": "stdout",
     "output_type": "stream",
     "text": [
      "Retrieving: https://www.lamudi.com.ph/metro-manila/makati/condominium/buy/?script=23&page=100 --- Success!\n"
     ]
    },
    {
     "name": "stderr",
     "output_type": "stream",
     "text": [
      "Scraping pages: 100%|██████████| 100/100 [04:00<00:00,  2.41s/it]\n",
      "Scraping pages:   0%|          | 0/50 [00:00<?, ?it/s]"
     ]
    },
    {
     "name": "stdout",
     "output_type": "stream",
     "text": [
      "Retrieving: https://www.lamudi.com.ph/metro-manila/makati/house/buy/?script=23&page=1 --- Success!\n"
     ]
    },
    {
     "name": "stderr",
     "output_type": "stream",
     "text": [
      "Scraping pages:   2%|▏         | 1/50 [00:02<02:20,  2.86s/it]"
     ]
    },
    {
     "name": "stdout",
     "output_type": "stream",
     "text": [
      "Retrieving: https://www.lamudi.com.ph/metro-manila/makati/house/buy/?script=23&page=2 --- Success!\n"
     ]
    },
    {
     "name": "stderr",
     "output_type": "stream",
     "text": [
      "Scraping pages:   4%|▍         | 2/50 [00:04<01:56,  2.43s/it]"
     ]
    },
    {
     "name": "stdout",
     "output_type": "stream",
     "text": [
      "Retrieving: https://www.lamudi.com.ph/metro-manila/makati/house/buy/?script=23&page=3 --- Success!\n"
     ]
    },
    {
     "name": "stderr",
     "output_type": "stream",
     "text": [
      "Scraping pages:   6%|▌         | 3/50 [00:09<02:38,  3.37s/it]"
     ]
    },
    {
     "name": "stdout",
     "output_type": "stream",
     "text": [
      "Retrieving: https://www.lamudi.com.ph/metro-manila/makati/house/buy/?script=23&page=4 --- Success!\n"
     ]
    },
    {
     "name": "stderr",
     "output_type": "stream",
     "text": [
      "Scraping pages:   8%|▊         | 4/50 [00:12<02:27,  3.20s/it]"
     ]
    },
    {
     "name": "stdout",
     "output_type": "stream",
     "text": [
      "Retrieving: https://www.lamudi.com.ph/metro-manila/makati/house/buy/?script=23&page=5 --- Success!\n"
     ]
    },
    {
     "name": "stderr",
     "output_type": "stream",
     "text": [
      "Scraping pages:  10%|█         | 5/50 [00:14<02:09,  2.88s/it]"
     ]
    },
    {
     "name": "stdout",
     "output_type": "stream",
     "text": [
      "Retrieving: https://www.lamudi.com.ph/metro-manila/makati/house/buy/?script=23&page=6 --- Success!\n"
     ]
    },
    {
     "name": "stderr",
     "output_type": "stream",
     "text": [
      "Scraping pages:  12%|█▏        | 6/50 [00:17<02:04,  2.84s/it]"
     ]
    },
    {
     "name": "stdout",
     "output_type": "stream",
     "text": [
      "Retrieving: https://www.lamudi.com.ph/metro-manila/makati/house/buy/?script=23&page=7 --- Success!\n"
     ]
    },
    {
     "name": "stderr",
     "output_type": "stream",
     "text": [
      "Scraping pages:  14%|█▍        | 7/50 [00:19<01:56,  2.71s/it]"
     ]
    },
    {
     "name": "stdout",
     "output_type": "stream",
     "text": [
      "Retrieving: https://www.lamudi.com.ph/metro-manila/makati/house/buy/?script=23&page=8 --- Success!\n"
     ]
    },
    {
     "name": "stderr",
     "output_type": "stream",
     "text": [
      "Scraping pages:  16%|█▌        | 8/50 [00:22<01:49,  2.61s/it]"
     ]
    },
    {
     "name": "stdout",
     "output_type": "stream",
     "text": [
      "Retrieving: https://www.lamudi.com.ph/metro-manila/makati/house/buy/?script=23&page=9 --- Success!\n"
     ]
    },
    {
     "name": "stderr",
     "output_type": "stream",
     "text": [
      "Scraping pages:  18%|█▊        | 9/50 [00:24<01:44,  2.54s/it]"
     ]
    },
    {
     "name": "stdout",
     "output_type": "stream",
     "text": [
      "Retrieving: https://www.lamudi.com.ph/metro-manila/makati/house/buy/?script=23&page=10 --- Success!\n"
     ]
    },
    {
     "name": "stderr",
     "output_type": "stream",
     "text": [
      "Scraping pages:  20%|██        | 10/50 [00:26<01:35,  2.39s/it]"
     ]
    },
    {
     "name": "stdout",
     "output_type": "stream",
     "text": [
      "Retrieving: https://www.lamudi.com.ph/metro-manila/makati/house/buy/?script=23&page=11 --- Success!\n"
     ]
    },
    {
     "name": "stderr",
     "output_type": "stream",
     "text": [
      "Scraping pages:  22%|██▏       | 11/50 [00:28<01:30,  2.32s/it]"
     ]
    },
    {
     "name": "stdout",
     "output_type": "stream",
     "text": [
      "Retrieving: https://www.lamudi.com.ph/metro-manila/makati/house/buy/?script=23&page=12 --- Success!\n"
     ]
    },
    {
     "name": "stderr",
     "output_type": "stream",
     "text": [
      "Scraping pages:  24%|██▍       | 12/50 [00:31<01:28,  2.33s/it]"
     ]
    },
    {
     "name": "stdout",
     "output_type": "stream",
     "text": [
      "Retrieving: https://www.lamudi.com.ph/metro-manila/makati/house/buy/?script=23&page=13 --- Success!\n"
     ]
    },
    {
     "name": "stderr",
     "output_type": "stream",
     "text": [
      "Scraping pages:  26%|██▌       | 13/50 [00:33<01:26,  2.34s/it]"
     ]
    },
    {
     "name": "stdout",
     "output_type": "stream",
     "text": [
      "Retrieving: https://www.lamudi.com.ph/metro-manila/makati/house/buy/?script=23&page=14 --- Success!\n"
     ]
    },
    {
     "name": "stderr",
     "output_type": "stream",
     "text": [
      "Scraping pages:  28%|██▊       | 14/50 [00:36<01:27,  2.44s/it]"
     ]
    },
    {
     "name": "stdout",
     "output_type": "stream",
     "text": [
      "Retrieving: https://www.lamudi.com.ph/metro-manila/makati/house/buy/?script=23&page=15 --- Success!\n"
     ]
    },
    {
     "name": "stderr",
     "output_type": "stream",
     "text": [
      "Scraping pages:  30%|███       | 15/50 [00:38<01:25,  2.45s/it]"
     ]
    },
    {
     "name": "stdout",
     "output_type": "stream",
     "text": [
      "Retrieving: https://www.lamudi.com.ph/metro-manila/makati/house/buy/?script=23&page=16 --- Success!\n"
     ]
    },
    {
     "name": "stderr",
     "output_type": "stream",
     "text": [
      "Scraping pages:  32%|███▏      | 16/50 [00:41<01:25,  2.52s/it]"
     ]
    },
    {
     "name": "stdout",
     "output_type": "stream",
     "text": [
      "Retrieving: https://www.lamudi.com.ph/metro-manila/makati/house/buy/?script=23&page=17 --- Success!\n"
     ]
    },
    {
     "name": "stderr",
     "output_type": "stream",
     "text": [
      "Scraping pages:  34%|███▍      | 17/50 [00:43<01:21,  2.46s/it]"
     ]
    },
    {
     "name": "stdout",
     "output_type": "stream",
     "text": [
      "Retrieving: https://www.lamudi.com.ph/metro-manila/makati/house/buy/?script=23&page=18 --- Success!\n"
     ]
    },
    {
     "name": "stderr",
     "output_type": "stream",
     "text": [
      "Scraping pages:  36%|███▌      | 18/50 [00:46<01:18,  2.47s/it]"
     ]
    },
    {
     "name": "stdout",
     "output_type": "stream",
     "text": [
      "Retrieving: https://www.lamudi.com.ph/metro-manila/makati/house/buy/?script=23&page=19 --- Success!\n"
     ]
    },
    {
     "name": "stderr",
     "output_type": "stream",
     "text": [
      "Scraping pages:  38%|███▊      | 19/50 [00:48<01:17,  2.52s/it]"
     ]
    },
    {
     "name": "stdout",
     "output_type": "stream",
     "text": [
      "Retrieving: https://www.lamudi.com.ph/metro-manila/makati/house/buy/?script=23&page=20 --- Success!\n"
     ]
    },
    {
     "name": "stderr",
     "output_type": "stream",
     "text": [
      "Scraping pages:  40%|████      | 20/50 [00:51<01:15,  2.52s/it]"
     ]
    },
    {
     "name": "stdout",
     "output_type": "stream",
     "text": [
      "Retrieving: https://www.lamudi.com.ph/metro-manila/makati/house/buy/?script=23&page=21 --- Success!\n"
     ]
    },
    {
     "name": "stderr",
     "output_type": "stream",
     "text": [
      "Scraping pages:  42%|████▏     | 21/50 [00:54<01:14,  2.57s/it]"
     ]
    },
    {
     "name": "stdout",
     "output_type": "stream",
     "text": [
      "Retrieving: https://www.lamudi.com.ph/metro-manila/makati/house/buy/?script=23&page=22 --- Success!\n"
     ]
    },
    {
     "name": "stderr",
     "output_type": "stream",
     "text": [
      "Scraping pages:  44%|████▍     | 22/50 [00:56<01:10,  2.53s/it]"
     ]
    },
    {
     "name": "stdout",
     "output_type": "stream",
     "text": [
      "Retrieving: https://www.lamudi.com.ph/metro-manila/makati/house/buy/?script=23&page=23 --- Success!\n"
     ]
    },
    {
     "name": "stderr",
     "output_type": "stream",
     "text": [
      "Scraping pages:  46%|████▌     | 23/50 [00:59<01:11,  2.64s/it]"
     ]
    },
    {
     "name": "stdout",
     "output_type": "stream",
     "text": [
      "Retrieving: https://www.lamudi.com.ph/metro-manila/makati/house/buy/?script=23&page=24 --- Success!\n"
     ]
    },
    {
     "name": "stderr",
     "output_type": "stream",
     "text": [
      "Scraping pages:  48%|████▊     | 24/50 [01:01<01:05,  2.54s/it]"
     ]
    },
    {
     "name": "stdout",
     "output_type": "stream",
     "text": [
      "Retrieving: https://www.lamudi.com.ph/metro-manila/makati/house/buy/?script=23&page=25 --- Success!\n"
     ]
    },
    {
     "name": "stderr",
     "output_type": "stream",
     "text": [
      "Scraping pages:  50%|█████     | 25/50 [01:04<01:01,  2.47s/it]"
     ]
    },
    {
     "name": "stdout",
     "output_type": "stream",
     "text": [
      "Retrieving: https://www.lamudi.com.ph/metro-manila/makati/house/buy/?script=23&page=26 --- Success!\n"
     ]
    },
    {
     "name": "stderr",
     "output_type": "stream",
     "text": [
      "Scraping pages:  52%|█████▏    | 26/50 [01:06<01:01,  2.57s/it]"
     ]
    },
    {
     "name": "stdout",
     "output_type": "stream",
     "text": [
      "Retrieving: https://www.lamudi.com.ph/metro-manila/makati/house/buy/?script=23&page=27 --- Success!\n"
     ]
    },
    {
     "name": "stderr",
     "output_type": "stream",
     "text": [
      "Scraping pages:  54%|█████▍    | 27/50 [01:11<01:10,  3.08s/it]"
     ]
    },
    {
     "name": "stdout",
     "output_type": "stream",
     "text": [
      "Retrieving: https://www.lamudi.com.ph/metro-manila/makati/house/buy/?script=23&page=28 --- Success!\n"
     ]
    },
    {
     "name": "stderr",
     "output_type": "stream",
     "text": [
      "Scraping pages:  56%|█████▌    | 28/50 [01:13<01:05,  2.97s/it]"
     ]
    },
    {
     "name": "stdout",
     "output_type": "stream",
     "text": [
      "Retrieving: https://www.lamudi.com.ph/metro-manila/makati/house/buy/?script=23&page=29 --- Success!\n"
     ]
    },
    {
     "name": "stderr",
     "output_type": "stream",
     "text": [
      "Scraping pages:  58%|█████▊    | 29/50 [01:16<01:00,  2.88s/it]"
     ]
    },
    {
     "name": "stdout",
     "output_type": "stream",
     "text": [
      "Retrieving: https://www.lamudi.com.ph/metro-manila/makati/house/buy/?script=23&page=30 --- Success!\n"
     ]
    },
    {
     "name": "stderr",
     "output_type": "stream",
     "text": [
      "Scraping pages:  60%|██████    | 30/50 [01:18<00:52,  2.64s/it]"
     ]
    },
    {
     "name": "stdout",
     "output_type": "stream",
     "text": [
      "Retrieving: https://www.lamudi.com.ph/metro-manila/makati/house/buy/?script=23&page=31 --- Success!\n"
     ]
    },
    {
     "name": "stderr",
     "output_type": "stream",
     "text": [
      "Scraping pages:  62%|██████▏   | 31/50 [01:20<00:48,  2.55s/it]"
     ]
    },
    {
     "name": "stdout",
     "output_type": "stream",
     "text": [
      "Retrieving: https://www.lamudi.com.ph/metro-manila/makati/house/buy/?script=23&page=32 --- Success!\n"
     ]
    },
    {
     "name": "stderr",
     "output_type": "stream",
     "text": [
      "Scraping pages:  64%|██████▍   | 32/50 [01:23<00:45,  2.54s/it]"
     ]
    },
    {
     "name": "stdout",
     "output_type": "stream",
     "text": [
      "Retrieving: https://www.lamudi.com.ph/metro-manila/makati/house/buy/?script=23&page=33 --- Success!\n"
     ]
    },
    {
     "name": "stderr",
     "output_type": "stream",
     "text": [
      "Scraping pages:  66%|██████▌   | 33/50 [01:25<00:42,  2.49s/it]"
     ]
    },
    {
     "name": "stdout",
     "output_type": "stream",
     "text": [
      "Retrieving: https://www.lamudi.com.ph/metro-manila/makati/house/buy/?script=23&page=34 --- Success!\n"
     ]
    },
    {
     "name": "stderr",
     "output_type": "stream",
     "text": [
      "Scraping pages:  68%|██████▊   | 34/50 [01:28<00:38,  2.41s/it]"
     ]
    },
    {
     "name": "stdout",
     "output_type": "stream",
     "text": [
      "Retrieving: https://www.lamudi.com.ph/metro-manila/makati/house/buy/?script=23&page=35 --- Success!\n"
     ]
    },
    {
     "name": "stderr",
     "output_type": "stream",
     "text": [
      "Scraping pages:  70%|███████   | 35/50 [01:30<00:34,  2.29s/it]"
     ]
    },
    {
     "name": "stdout",
     "output_type": "stream",
     "text": [
      "Retrieving: https://www.lamudi.com.ph/metro-manila/makati/house/buy/?script=23&page=36 --- Success!\n"
     ]
    },
    {
     "name": "stderr",
     "output_type": "stream",
     "text": [
      "Scraping pages:  72%|███████▏  | 36/50 [01:32<00:33,  2.37s/it]"
     ]
    },
    {
     "name": "stdout",
     "output_type": "stream",
     "text": [
      "Retrieving: https://www.lamudi.com.ph/metro-manila/makati/house/buy/?script=23&page=37 --- Success!\n"
     ]
    },
    {
     "name": "stderr",
     "output_type": "stream",
     "text": [
      "Scraping pages:  74%|███████▍  | 37/50 [01:35<00:31,  2.40s/it]"
     ]
    },
    {
     "name": "stdout",
     "output_type": "stream",
     "text": [
      "Retrieving: https://www.lamudi.com.ph/metro-manila/makati/house/buy/?script=23&page=38 --- Success!\n"
     ]
    },
    {
     "name": "stderr",
     "output_type": "stream",
     "text": [
      "Scraping pages:  76%|███████▌  | 38/50 [01:37<00:29,  2.42s/it]"
     ]
    },
    {
     "name": "stdout",
     "output_type": "stream",
     "text": [
      "Retrieving: https://www.lamudi.com.ph/metro-manila/makati/house/buy/?script=23&page=39 --- Success!\n"
     ]
    },
    {
     "name": "stderr",
     "output_type": "stream",
     "text": [
      "Scraping pages:  78%|███████▊  | 39/50 [01:40<00:27,  2.47s/it]"
     ]
    },
    {
     "name": "stdout",
     "output_type": "stream",
     "text": [
      "Retrieving: https://www.lamudi.com.ph/metro-manila/makati/house/buy/?script=23&page=40 --- Success!\n"
     ]
    },
    {
     "name": "stderr",
     "output_type": "stream",
     "text": [
      "Scraping pages:  80%|████████  | 40/50 [01:42<00:23,  2.33s/it]"
     ]
    },
    {
     "name": "stdout",
     "output_type": "stream",
     "text": [
      "Retrieving: https://www.lamudi.com.ph/metro-manila/makati/house/buy/?script=23&page=41 --- Success!\n"
     ]
    },
    {
     "name": "stderr",
     "output_type": "stream",
     "text": [
      "Scraping pages:  82%|████████▏ | 41/50 [01:44<00:20,  2.26s/it]"
     ]
    },
    {
     "name": "stdout",
     "output_type": "stream",
     "text": [
      "Retrieving: https://www.lamudi.com.ph/metro-manila/makati/house/buy/?script=23&page=42 --- Success!\n"
     ]
    },
    {
     "name": "stderr",
     "output_type": "stream",
     "text": [
      "Scraping pages:  84%|████████▍ | 42/50 [01:46<00:18,  2.33s/it]"
     ]
    },
    {
     "name": "stdout",
     "output_type": "stream",
     "text": [
      "Retrieving: https://www.lamudi.com.ph/metro-manila/makati/house/buy/?script=23&page=43 --- Success!\n"
     ]
    },
    {
     "name": "stderr",
     "output_type": "stream",
     "text": [
      "Scraping pages:  86%|████████▌ | 43/50 [01:48<00:15,  2.26s/it]"
     ]
    },
    {
     "name": "stdout",
     "output_type": "stream",
     "text": [
      "Retrieving: https://www.lamudi.com.ph/metro-manila/makati/house/buy/?script=23&page=44 --- Success!\n"
     ]
    },
    {
     "name": "stderr",
     "output_type": "stream",
     "text": [
      "Scraping pages:  88%|████████▊ | 44/50 [01:51<00:13,  2.27s/it]"
     ]
    },
    {
     "name": "stdout",
     "output_type": "stream",
     "text": [
      "Retrieving: https://www.lamudi.com.ph/metro-manila/makati/house/buy/?script=23&page=45 --- Success!\n"
     ]
    },
    {
     "name": "stderr",
     "output_type": "stream",
     "text": [
      "Scraping pages:  90%|█████████ | 45/50 [01:53<00:10,  2.18s/it]"
     ]
    },
    {
     "name": "stdout",
     "output_type": "stream",
     "text": [
      "Retrieving: https://www.lamudi.com.ph/metro-manila/makati/house/buy/?script=23&page=46 --- Success!\n"
     ]
    },
    {
     "name": "stderr",
     "output_type": "stream",
     "text": [
      "Scraping pages:  92%|█████████▏| 46/50 [01:55<00:09,  2.29s/it]"
     ]
    },
    {
     "name": "stdout",
     "output_type": "stream",
     "text": [
      "Retrieving: https://www.lamudi.com.ph/metro-manila/makati/house/buy/?script=23&page=47 --- Success!\n"
     ]
    },
    {
     "name": "stderr",
     "output_type": "stream",
     "text": [
      "Scraping pages:  94%|█████████▍| 47/50 [01:57<00:06,  2.30s/it]"
     ]
    },
    {
     "name": "stdout",
     "output_type": "stream",
     "text": [
      "Retrieving: https://www.lamudi.com.ph/metro-manila/makati/house/buy/?script=23&page=48 --- Success!\n"
     ]
    },
    {
     "name": "stderr",
     "output_type": "stream",
     "text": [
      "Scraping pages:  96%|█████████▌| 48/50 [02:00<00:04,  2.43s/it]"
     ]
    },
    {
     "name": "stdout",
     "output_type": "stream",
     "text": [
      "Retrieving: https://www.lamudi.com.ph/metro-manila/makati/house/buy/?script=23&page=49 --- Success!\n"
     ]
    },
    {
     "name": "stderr",
     "output_type": "stream",
     "text": [
      "Scraping pages:  98%|█████████▊| 49/50 [02:03<00:02,  2.56s/it]"
     ]
    },
    {
     "name": "stdout",
     "output_type": "stream",
     "text": [
      "Retrieving: https://www.lamudi.com.ph/metro-manila/makati/house/buy/?script=23&page=50 --- Success!\n"
     ]
    },
    {
     "name": "stderr",
     "output_type": "stream",
     "text": [
      "Scraping pages: 100%|██████████| 50/50 [02:06<00:00,  2.53s/it]\n",
      "Scraping pages:   0%|          | 0/21 [00:00<?, ?it/s]"
     ]
    },
    {
     "name": "stdout",
     "output_type": "stream",
     "text": [
      "Retrieving: https://www.lamudi.com.ph/metro-manila/makati/land/buy/?script=23&page=1 --- Success!\n"
     ]
    },
    {
     "name": "stderr",
     "output_type": "stream",
     "text": [
      "Scraping pages:   5%|▍         | 1/21 [00:05<01:42,  5.13s/it]"
     ]
    },
    {
     "name": "stdout",
     "output_type": "stream",
     "text": [
      "Retrieving: https://www.lamudi.com.ph/metro-manila/makati/land/buy/?script=23&page=2 --- Success!\n"
     ]
    },
    {
     "name": "stderr",
     "output_type": "stream",
     "text": [
      "Scraping pages:  10%|▉         | 2/21 [00:07<01:07,  3.55s/it]"
     ]
    },
    {
     "name": "stdout",
     "output_type": "stream",
     "text": [
      "Retrieving: https://www.lamudi.com.ph/metro-manila/makati/land/buy/?script=23&page=3 --- Success!\n"
     ]
    },
    {
     "name": "stderr",
     "output_type": "stream",
     "text": [
      "Scraping pages:  14%|█▍        | 3/21 [00:09<00:50,  2.82s/it]"
     ]
    },
    {
     "name": "stdout",
     "output_type": "stream",
     "text": [
      "Retrieving: https://www.lamudi.com.ph/metro-manila/makati/land/buy/?script=23&page=4 --- Success!\n"
     ]
    },
    {
     "name": "stderr",
     "output_type": "stream",
     "text": [
      "Scraping pages:  19%|█▉        | 4/21 [00:11<00:45,  2.66s/it]"
     ]
    },
    {
     "name": "stdout",
     "output_type": "stream",
     "text": [
      "Retrieving: https://www.lamudi.com.ph/metro-manila/makati/land/buy/?script=23&page=5 --- Success!\n"
     ]
    },
    {
     "name": "stderr",
     "output_type": "stream",
     "text": [
      "Scraping pages:  24%|██▍       | 5/21 [00:14<00:41,  2.57s/it]"
     ]
    },
    {
     "name": "stdout",
     "output_type": "stream",
     "text": [
      "Retrieving: https://www.lamudi.com.ph/metro-manila/makati/land/buy/?script=23&page=6 --- Success!\n"
     ]
    },
    {
     "name": "stderr",
     "output_type": "stream",
     "text": [
      "Scraping pages:  29%|██▊       | 6/21 [00:17<00:40,  2.71s/it]"
     ]
    },
    {
     "name": "stdout",
     "output_type": "stream",
     "text": [
      "Retrieving: https://www.lamudi.com.ph/metro-manila/makati/land/buy/?script=23&page=7 --- Success!\n"
     ]
    },
    {
     "name": "stderr",
     "output_type": "stream",
     "text": [
      "Scraping pages:  33%|███▎      | 7/21 [00:20<00:38,  2.76s/it]"
     ]
    },
    {
     "name": "stdout",
     "output_type": "stream",
     "text": [
      "Retrieving: https://www.lamudi.com.ph/metro-manila/makati/land/buy/?script=23&page=8 --- Success!\n"
     ]
    },
    {
     "name": "stderr",
     "output_type": "stream",
     "text": [
      "Scraping pages:  38%|███▊      | 8/21 [00:22<00:35,  2.69s/it]"
     ]
    },
    {
     "name": "stdout",
     "output_type": "stream",
     "text": [
      "Retrieving: https://www.lamudi.com.ph/metro-manila/makati/land/buy/?script=23&page=9 --- Success!\n"
     ]
    },
    {
     "name": "stderr",
     "output_type": "stream",
     "text": [
      "Scraping pages:  43%|████▎     | 9/21 [00:25<00:31,  2.63s/it]"
     ]
    },
    {
     "name": "stdout",
     "output_type": "stream",
     "text": [
      "Retrieving: https://www.lamudi.com.ph/metro-manila/makati/land/buy/?script=23&page=10 --- Success!\n"
     ]
    },
    {
     "name": "stderr",
     "output_type": "stream",
     "text": [
      "Scraping pages:  48%|████▊     | 10/21 [00:27<00:28,  2.63s/it]"
     ]
    },
    {
     "name": "stdout",
     "output_type": "stream",
     "text": [
      "Retrieving: https://www.lamudi.com.ph/metro-manila/makati/land/buy/?script=23&page=11 --- Success!\n"
     ]
    },
    {
     "name": "stderr",
     "output_type": "stream",
     "text": [
      "Scraping pages:  52%|█████▏    | 11/21 [00:30<00:25,  2.59s/it]"
     ]
    },
    {
     "name": "stdout",
     "output_type": "stream",
     "text": [
      "Retrieving: https://www.lamudi.com.ph/metro-manila/makati/land/buy/?script=23&page=12 --- Success!\n"
     ]
    },
    {
     "name": "stderr",
     "output_type": "stream",
     "text": [
      "Scraping pages:  57%|█████▋    | 12/21 [00:32<00:21,  2.42s/it]"
     ]
    },
    {
     "name": "stdout",
     "output_type": "stream",
     "text": [
      "Retrieving: https://www.lamudi.com.ph/metro-manila/makati/land/buy/?script=23&page=13 --- Success!\n"
     ]
    },
    {
     "name": "stderr",
     "output_type": "stream",
     "text": [
      "Scraping pages:  62%|██████▏   | 13/21 [00:35<00:19,  2.50s/it]"
     ]
    },
    {
     "name": "stdout",
     "output_type": "stream",
     "text": [
      "Retrieving: https://www.lamudi.com.ph/metro-manila/makati/land/buy/?script=23&page=14 --- Success!\n"
     ]
    },
    {
     "name": "stderr",
     "output_type": "stream",
     "text": [
      "Scraping pages:  67%|██████▋   | 14/21 [00:37<00:17,  2.51s/it]"
     ]
    },
    {
     "name": "stdout",
     "output_type": "stream",
     "text": [
      "Retrieving: https://www.lamudi.com.ph/metro-manila/makati/land/buy/?script=23&page=15 --- Success!\n"
     ]
    },
    {
     "name": "stderr",
     "output_type": "stream",
     "text": [
      "Scraping pages:  71%|███████▏  | 15/21 [00:39<00:14,  2.42s/it]"
     ]
    },
    {
     "name": "stdout",
     "output_type": "stream",
     "text": [
      "Retrieving: https://www.lamudi.com.ph/metro-manila/makati/land/buy/?script=23&page=16 --- Success!\n"
     ]
    },
    {
     "name": "stderr",
     "output_type": "stream",
     "text": [
      "Scraping pages:  76%|███████▌  | 16/21 [00:42<00:12,  2.58s/it]"
     ]
    },
    {
     "name": "stdout",
     "output_type": "stream",
     "text": [
      "Retrieving: https://www.lamudi.com.ph/metro-manila/makati/land/buy/?script=23&page=17 --- Success!\n"
     ]
    },
    {
     "name": "stderr",
     "output_type": "stream",
     "text": [
      "Scraping pages:  81%|████████  | 17/21 [00:45<00:10,  2.61s/it]"
     ]
    },
    {
     "name": "stdout",
     "output_type": "stream",
     "text": [
      "Retrieving: https://www.lamudi.com.ph/metro-manila/makati/land/buy/?script=23&page=18 --- Success!\n"
     ]
    },
    {
     "name": "stderr",
     "output_type": "stream",
     "text": [
      "Scraping pages:  86%|████████▌ | 18/21 [00:48<00:08,  2.76s/it]"
     ]
    },
    {
     "name": "stdout",
     "output_type": "stream",
     "text": [
      "Retrieving: https://www.lamudi.com.ph/metro-manila/makati/land/buy/?script=23&page=19 --- Success!\n"
     ]
    },
    {
     "name": "stderr",
     "output_type": "stream",
     "text": [
      "Scraping pages:  90%|█████████ | 19/21 [01:20<00:23, 11.62s/it]"
     ]
    },
    {
     "name": "stdout",
     "output_type": "stream",
     "text": [
      "Retrieving: https://www.lamudi.com.ph/metro-manila/makati/land/buy/?script=23&page=20 --- Success!\n"
     ]
    },
    {
     "name": "stderr",
     "output_type": "stream",
     "text": [
      "Scraping pages:  95%|█████████▌| 20/21 [01:23<00:08,  8.87s/it]"
     ]
    },
    {
     "name": "stdout",
     "output_type": "stream",
     "text": [
      "Retrieving: https://www.lamudi.com.ph/metro-manila/makati/land/buy/?script=23&page=21 --- Success!\n"
     ]
    },
    {
     "name": "stderr",
     "output_type": "stream",
     "text": [
      "Scraping pages: 100%|██████████| 21/21 [01:25<00:00,  4.08s/it]\n"
     ]
    }
   ],
   "source": [
    "makati_condo = property_crawler(base_url='https://www.lamudi.com.ph/metro-manila/makati/condominium/buy/?script=23&page=', start=1, end=100)\n",
    "makati_house = property_crawler(base_url='https://www.lamudi.com.ph/metro-manila/makati/house/buy/?script=23&page=', start=1, end=50)\n",
    "makati_land = property_crawler(base_url='https://www.lamudi.com.ph/metro-manila/makati/land/buy/?script=23&page=', start=1, end=21)"
   ]
  },
  {
   "cell_type": "code",
   "execution_count": 7,
   "metadata": {},
   "outputs": [
    {
     "name": "stderr",
     "output_type": "stream",
     "text": [
      "Scraping pages:   0%|          | 0/7 [00:00<?, ?it/s]"
     ]
    },
    {
     "name": "stdout",
     "output_type": "stream",
     "text": [
      "Retrieving: https://www.lamudi.com.ph/metro-manila/makati/apartment/rent/?page=1 --- Success!\n"
     ]
    },
    {
     "name": "stderr",
     "output_type": "stream",
     "text": [
      "Scraping pages:  14%|█▍        | 1/7 [00:02<00:12,  2.14s/it]"
     ]
    },
    {
     "name": "stdout",
     "output_type": "stream",
     "text": [
      "Retrieving: https://www.lamudi.com.ph/metro-manila/makati/apartment/rent/?page=2 --- Success!\n"
     ]
    },
    {
     "name": "stderr",
     "output_type": "stream",
     "text": [
      "Scraping pages:  29%|██▊       | 2/7 [00:04<00:10,  2.08s/it]"
     ]
    },
    {
     "name": "stdout",
     "output_type": "stream",
     "text": [
      "Retrieving: https://www.lamudi.com.ph/metro-manila/makati/apartment/rent/?page=3 --- Success!\n"
     ]
    },
    {
     "name": "stderr",
     "output_type": "stream",
     "text": [
      "Scraping pages:  43%|████▎     | 3/7 [00:06<00:08,  2.04s/it]"
     ]
    },
    {
     "name": "stdout",
     "output_type": "stream",
     "text": [
      "Retrieving: https://www.lamudi.com.ph/metro-manila/makati/apartment/rent/?page=4 --- Success!\n"
     ]
    },
    {
     "name": "stderr",
     "output_type": "stream",
     "text": [
      "Scraping pages:  57%|█████▋    | 4/7 [00:08<00:06,  2.01s/it]"
     ]
    },
    {
     "name": "stdout",
     "output_type": "stream",
     "text": [
      "Retrieving: https://www.lamudi.com.ph/metro-manila/makati/apartment/rent/?page=5 --- Success!\n"
     ]
    },
    {
     "name": "stderr",
     "output_type": "stream",
     "text": [
      "Scraping pages:  71%|███████▏  | 5/7 [00:10<00:04,  2.02s/it]"
     ]
    },
    {
     "name": "stdout",
     "output_type": "stream",
     "text": [
      "Retrieving: https://www.lamudi.com.ph/metro-manila/makati/apartment/rent/?page=6 --- Success!\n"
     ]
    },
    {
     "name": "stderr",
     "output_type": "stream",
     "text": [
      "Scraping pages:  86%|████████▌ | 6/7 [00:12<00:02,  2.07s/it]"
     ]
    },
    {
     "name": "stdout",
     "output_type": "stream",
     "text": [
      "Retrieving: https://www.lamudi.com.ph/metro-manila/makati/apartment/rent/?page=7 --- Success!\n"
     ]
    },
    {
     "name": "stderr",
     "output_type": "stream",
     "text": [
      "Scraping pages: 100%|██████████| 7/7 [00:15<00:00,  2.15s/it]\n",
      "Scraping pages:   0%|          | 0/100 [00:00<?, ?it/s]"
     ]
    },
    {
     "name": "stdout",
     "output_type": "stream",
     "text": [
      "Retrieving: https://www.lamudi.com.ph/metro-manila/makati/condominium/rent/?page=1 --- Success!\n"
     ]
    },
    {
     "name": "stderr",
     "output_type": "stream",
     "text": [
      "Scraping pages:   1%|          | 1/100 [00:02<03:23,  2.05s/it]"
     ]
    },
    {
     "name": "stdout",
     "output_type": "stream",
     "text": [
      "Retrieving: https://www.lamudi.com.ph/metro-manila/makati/condominium/rent/?page=2 --- Success!\n"
     ]
    },
    {
     "name": "stderr",
     "output_type": "stream",
     "text": [
      "Scraping pages:   2%|▏         | 2/100 [00:04<03:20,  2.05s/it]"
     ]
    },
    {
     "name": "stdout",
     "output_type": "stream",
     "text": [
      "Retrieving: https://www.lamudi.com.ph/metro-manila/makati/condominium/rent/?page=3 --- Success!\n"
     ]
    },
    {
     "name": "stderr",
     "output_type": "stream",
     "text": [
      "Scraping pages:   3%|▎         | 3/100 [00:06<03:22,  2.08s/it]"
     ]
    },
    {
     "name": "stdout",
     "output_type": "stream",
     "text": [
      "Retrieving: https://www.lamudi.com.ph/metro-manila/makati/condominium/rent/?page=4 --- Success!\n"
     ]
    },
    {
     "name": "stderr",
     "output_type": "stream",
     "text": [
      "Scraping pages:   4%|▍         | 4/100 [00:08<03:20,  2.09s/it]"
     ]
    },
    {
     "name": "stdout",
     "output_type": "stream",
     "text": [
      "Retrieving: https://www.lamudi.com.ph/metro-manila/makati/condominium/rent/?page=5 --- Success!\n"
     ]
    },
    {
     "name": "stderr",
     "output_type": "stream",
     "text": [
      "Scraping pages:   5%|▌         | 5/100 [00:10<03:17,  2.08s/it]"
     ]
    },
    {
     "name": "stdout",
     "output_type": "stream",
     "text": [
      "Retrieving: https://www.lamudi.com.ph/metro-manila/makati/condominium/rent/?page=6 --- Success!\n"
     ]
    },
    {
     "name": "stderr",
     "output_type": "stream",
     "text": [
      "Scraping pages:   6%|▌         | 6/100 [00:12<03:22,  2.16s/it]"
     ]
    },
    {
     "name": "stdout",
     "output_type": "stream",
     "text": [
      "Retrieving: https://www.lamudi.com.ph/metro-manila/makati/condominium/rent/?page=7 --- Success!\n"
     ]
    },
    {
     "name": "stderr",
     "output_type": "stream",
     "text": [
      "Scraping pages:   7%|▋         | 7/100 [00:15<03:39,  2.37s/it]"
     ]
    },
    {
     "name": "stdout",
     "output_type": "stream",
     "text": [
      "Retrieving: https://www.lamudi.com.ph/metro-manila/makati/condominium/rent/?page=8 --- Success!\n"
     ]
    },
    {
     "name": "stderr",
     "output_type": "stream",
     "text": [
      "Scraping pages:   8%|▊         | 8/100 [00:17<03:26,  2.24s/it]"
     ]
    },
    {
     "name": "stdout",
     "output_type": "stream",
     "text": [
      "Retrieving: https://www.lamudi.com.ph/metro-manila/makati/condominium/rent/?page=9 --- Success!\n"
     ]
    },
    {
     "name": "stderr",
     "output_type": "stream",
     "text": [
      "Scraping pages:   9%|▉         | 9/100 [00:19<03:26,  2.27s/it]"
     ]
    },
    {
     "name": "stdout",
     "output_type": "stream",
     "text": [
      "Retrieving: https://www.lamudi.com.ph/metro-manila/makati/condominium/rent/?page=10 --- Success!\n"
     ]
    },
    {
     "name": "stderr",
     "output_type": "stream",
     "text": [
      "Scraping pages:  10%|█         | 10/100 [00:23<04:16,  2.85s/it]"
     ]
    },
    {
     "name": "stdout",
     "output_type": "stream",
     "text": [
      "Retrieving: https://www.lamudi.com.ph/metro-manila/makati/condominium/rent/?page=11 --- Success!\n"
     ]
    },
    {
     "name": "stderr",
     "output_type": "stream",
     "text": [
      "Scraping pages:  11%|█         | 11/100 [00:27<04:32,  3.06s/it]"
     ]
    },
    {
     "name": "stdout",
     "output_type": "stream",
     "text": [
      "Retrieving: https://www.lamudi.com.ph/metro-manila/makati/condominium/rent/?page=12 --- Success!\n"
     ]
    },
    {
     "name": "stderr",
     "output_type": "stream",
     "text": [
      "Scraping pages:  12%|█▏        | 12/100 [00:29<03:58,  2.71s/it]"
     ]
    },
    {
     "name": "stdout",
     "output_type": "stream",
     "text": [
      "Retrieving: https://www.lamudi.com.ph/metro-manila/makati/condominium/rent/?page=13 --- Success!\n"
     ]
    },
    {
     "name": "stderr",
     "output_type": "stream",
     "text": [
      "Scraping pages:  13%|█▎        | 13/100 [00:31<03:44,  2.58s/it]"
     ]
    },
    {
     "name": "stdout",
     "output_type": "stream",
     "text": [
      "Retrieving: https://www.lamudi.com.ph/metro-manila/makati/condominium/rent/?page=14 --- Success!\n"
     ]
    },
    {
     "name": "stderr",
     "output_type": "stream",
     "text": [
      "Scraping pages:  14%|█▍        | 14/100 [00:33<03:33,  2.48s/it]"
     ]
    },
    {
     "name": "stdout",
     "output_type": "stream",
     "text": [
      "Retrieving: https://www.lamudi.com.ph/metro-manila/makati/condominium/rent/?page=15 --- Success!\n"
     ]
    },
    {
     "name": "stderr",
     "output_type": "stream",
     "text": [
      "Scraping pages:  15%|█▌        | 15/100 [00:36<03:31,  2.48s/it]"
     ]
    },
    {
     "name": "stdout",
     "output_type": "stream",
     "text": [
      "Retrieving: https://www.lamudi.com.ph/metro-manila/makati/condominium/rent/?page=16 --- Success!\n"
     ]
    },
    {
     "name": "stderr",
     "output_type": "stream",
     "text": [
      "Scraping pages:  16%|█▌        | 16/100 [00:38<03:16,  2.34s/it]"
     ]
    },
    {
     "name": "stdout",
     "output_type": "stream",
     "text": [
      "Retrieving: https://www.lamudi.com.ph/metro-manila/makati/condominium/rent/?page=17 --- Success!\n"
     ]
    },
    {
     "name": "stderr",
     "output_type": "stream",
     "text": [
      "Scraping pages:  17%|█▋        | 17/100 [00:40<03:10,  2.29s/it]"
     ]
    },
    {
     "name": "stdout",
     "output_type": "stream",
     "text": [
      "Retrieving: https://www.lamudi.com.ph/metro-manila/makati/condominium/rent/?page=18 --- Success!\n"
     ]
    },
    {
     "name": "stderr",
     "output_type": "stream",
     "text": [
      "Scraping pages:  18%|█▊        | 18/100 [00:42<03:07,  2.29s/it]"
     ]
    },
    {
     "name": "stdout",
     "output_type": "stream",
     "text": [
      "Retrieving: https://www.lamudi.com.ph/metro-manila/makati/condominium/rent/?page=19 --- Success!\n"
     ]
    },
    {
     "name": "stderr",
     "output_type": "stream",
     "text": [
      "Scraping pages:  19%|█▉        | 19/100 [00:46<03:44,  2.78s/it]"
     ]
    },
    {
     "name": "stdout",
     "output_type": "stream",
     "text": [
      "Retrieving: https://www.lamudi.com.ph/metro-manila/makati/condominium/rent/?page=20 --- Success!\n"
     ]
    },
    {
     "name": "stderr",
     "output_type": "stream",
     "text": [
      "Scraping pages:  20%|██        | 20/100 [00:49<03:35,  2.70s/it]"
     ]
    },
    {
     "name": "stdout",
     "output_type": "stream",
     "text": [
      "Retrieving: https://www.lamudi.com.ph/metro-manila/makati/condominium/rent/?page=21 --- Success!\n"
     ]
    },
    {
     "name": "stderr",
     "output_type": "stream",
     "text": [
      "Scraping pages:  21%|██        | 21/100 [00:51<03:27,  2.63s/it]"
     ]
    },
    {
     "name": "stdout",
     "output_type": "stream",
     "text": [
      "Retrieving: https://www.lamudi.com.ph/metro-manila/makati/condominium/rent/?page=22 --- Success!\n"
     ]
    },
    {
     "name": "stderr",
     "output_type": "stream",
     "text": [
      "Scraping pages:  22%|██▏       | 22/100 [00:53<03:14,  2.49s/it]"
     ]
    },
    {
     "name": "stdout",
     "output_type": "stream",
     "text": [
      "Retrieving: https://www.lamudi.com.ph/metro-manila/makati/condominium/rent/?page=23 --- Success!\n"
     ]
    },
    {
     "name": "stderr",
     "output_type": "stream",
     "text": [
      "Scraping pages:  23%|██▎       | 23/100 [00:56<03:09,  2.46s/it]"
     ]
    },
    {
     "name": "stdout",
     "output_type": "stream",
     "text": [
      "Retrieving: https://www.lamudi.com.ph/metro-manila/makati/condominium/rent/?page=24 --- Success!\n"
     ]
    },
    {
     "name": "stderr",
     "output_type": "stream",
     "text": [
      "Scraping pages:  24%|██▍       | 24/100 [00:58<03:07,  2.47s/it]"
     ]
    },
    {
     "name": "stdout",
     "output_type": "stream",
     "text": [
      "Retrieving: https://www.lamudi.com.ph/metro-manila/makati/condominium/rent/?page=25 --- Success!\n"
     ]
    },
    {
     "name": "stderr",
     "output_type": "stream",
     "text": [
      "Scraping pages:  25%|██▌       | 25/100 [01:00<02:55,  2.34s/it]"
     ]
    },
    {
     "name": "stdout",
     "output_type": "stream",
     "text": [
      "Retrieving: https://www.lamudi.com.ph/metro-manila/makati/condominium/rent/?page=26 --- Success!\n"
     ]
    },
    {
     "name": "stderr",
     "output_type": "stream",
     "text": [
      "Scraping pages:  26%|██▌       | 26/100 [01:03<02:52,  2.33s/it]"
     ]
    },
    {
     "name": "stdout",
     "output_type": "stream",
     "text": [
      "Retrieving: https://www.lamudi.com.ph/metro-manila/makati/condominium/rent/?page=27 --- Success!\n"
     ]
    },
    {
     "name": "stderr",
     "output_type": "stream",
     "text": [
      "Scraping pages:  27%|██▋       | 27/100 [01:05<02:52,  2.37s/it]"
     ]
    },
    {
     "name": "stdout",
     "output_type": "stream",
     "text": [
      "Retrieving: https://www.lamudi.com.ph/metro-manila/makati/condominium/rent/?page=28 --- Success!\n"
     ]
    },
    {
     "name": "stderr",
     "output_type": "stream",
     "text": [
      "Scraping pages:  28%|██▊       | 28/100 [01:07<02:41,  2.24s/it]"
     ]
    },
    {
     "name": "stdout",
     "output_type": "stream",
     "text": [
      "Retrieving: https://www.lamudi.com.ph/metro-manila/makati/condominium/rent/?page=29 --- Success!\n"
     ]
    },
    {
     "name": "stderr",
     "output_type": "stream",
     "text": [
      "Scraping pages:  29%|██▉       | 29/100 [01:09<02:40,  2.26s/it]"
     ]
    },
    {
     "name": "stdout",
     "output_type": "stream",
     "text": [
      "Retrieving: https://www.lamudi.com.ph/metro-manila/makati/condominium/rent/?page=30 --- Success!\n"
     ]
    },
    {
     "name": "stderr",
     "output_type": "stream",
     "text": [
      "Scraping pages:  30%|███       | 30/100 [01:12<02:43,  2.33s/it]"
     ]
    },
    {
     "name": "stdout",
     "output_type": "stream",
     "text": [
      "Retrieving: https://www.lamudi.com.ph/metro-manila/makati/condominium/rent/?page=31 --- Success!\n"
     ]
    },
    {
     "name": "stderr",
     "output_type": "stream",
     "text": [
      "Scraping pages:  31%|███       | 31/100 [01:14<02:38,  2.30s/it]"
     ]
    },
    {
     "name": "stdout",
     "output_type": "stream",
     "text": [
      "Retrieving: https://www.lamudi.com.ph/metro-manila/makati/condominium/rent/?page=32 --- Success!\n"
     ]
    },
    {
     "name": "stderr",
     "output_type": "stream",
     "text": [
      "Scraping pages:  32%|███▏      | 32/100 [01:16<02:33,  2.25s/it]"
     ]
    },
    {
     "name": "stdout",
     "output_type": "stream",
     "text": [
      "Retrieving: https://www.lamudi.com.ph/metro-manila/makati/condominium/rent/?page=33 --- Success!\n"
     ]
    },
    {
     "name": "stderr",
     "output_type": "stream",
     "text": [
      "Scraping pages:  33%|███▎      | 33/100 [01:19<02:34,  2.31s/it]"
     ]
    },
    {
     "name": "stdout",
     "output_type": "stream",
     "text": [
      "Retrieving: https://www.lamudi.com.ph/metro-manila/makati/condominium/rent/?page=34 --- Success!\n"
     ]
    },
    {
     "name": "stderr",
     "output_type": "stream",
     "text": [
      "Scraping pages:  34%|███▍      | 34/100 [01:24<03:28,  3.15s/it]"
     ]
    },
    {
     "name": "stdout",
     "output_type": "stream",
     "text": [
      "Retrieving: https://www.lamudi.com.ph/metro-manila/makati/condominium/rent/?page=35 --- Success!\n"
     ]
    },
    {
     "name": "stderr",
     "output_type": "stream",
     "text": [
      "Scraping pages:  35%|███▌      | 35/100 [01:26<03:09,  2.92s/it]"
     ]
    },
    {
     "name": "stdout",
     "output_type": "stream",
     "text": [
      "Retrieving: https://www.lamudi.com.ph/metro-manila/makati/condominium/rent/?page=36 --- Success!\n"
     ]
    },
    {
     "name": "stderr",
     "output_type": "stream",
     "text": [
      "Scraping pages:  36%|███▌      | 36/100 [01:28<02:54,  2.73s/it]"
     ]
    },
    {
     "name": "stdout",
     "output_type": "stream",
     "text": [
      "Retrieving: https://www.lamudi.com.ph/metro-manila/makati/condominium/rent/?page=37 --- Success!\n"
     ]
    },
    {
     "name": "stderr",
     "output_type": "stream",
     "text": [
      "Scraping pages:  37%|███▋      | 37/100 [01:31<02:48,  2.67s/it]"
     ]
    },
    {
     "name": "stdout",
     "output_type": "stream",
     "text": [
      "Retrieving: https://www.lamudi.com.ph/metro-manila/makati/condominium/rent/?page=38 --- Success!\n"
     ]
    },
    {
     "name": "stderr",
     "output_type": "stream",
     "text": [
      "Scraping pages:  38%|███▊      | 38/100 [01:33<02:39,  2.57s/it]"
     ]
    },
    {
     "name": "stdout",
     "output_type": "stream",
     "text": [
      "Retrieving: https://www.lamudi.com.ph/metro-manila/makati/condominium/rent/?page=39 --- Success!\n"
     ]
    },
    {
     "name": "stderr",
     "output_type": "stream",
     "text": [
      "Scraping pages:  39%|███▉      | 39/100 [01:35<02:25,  2.38s/it]"
     ]
    },
    {
     "name": "stdout",
     "output_type": "stream",
     "text": [
      "Retrieving: https://www.lamudi.com.ph/metro-manila/makati/condominium/rent/?page=40 --- Success!\n"
     ]
    },
    {
     "name": "stderr",
     "output_type": "stream",
     "text": [
      "Scraping pages:  40%|████      | 40/100 [01:37<02:14,  2.25s/it]"
     ]
    },
    {
     "name": "stdout",
     "output_type": "stream",
     "text": [
      "Retrieving: https://www.lamudi.com.ph/metro-manila/makati/condominium/rent/?page=41 --- Success!\n"
     ]
    },
    {
     "name": "stderr",
     "output_type": "stream",
     "text": [
      "Scraping pages:  41%|████      | 41/100 [01:39<02:06,  2.15s/it]"
     ]
    },
    {
     "name": "stdout",
     "output_type": "stream",
     "text": [
      "Retrieving: https://www.lamudi.com.ph/metro-manila/makati/condominium/rent/?page=42 --- Success!\n"
     ]
    },
    {
     "name": "stderr",
     "output_type": "stream",
     "text": [
      "Scraping pages:  42%|████▏     | 42/100 [01:41<02:06,  2.19s/it]"
     ]
    },
    {
     "name": "stdout",
     "output_type": "stream",
     "text": [
      "Retrieving: https://www.lamudi.com.ph/metro-manila/makati/condominium/rent/?page=43 --- Success!\n"
     ]
    },
    {
     "name": "stderr",
     "output_type": "stream",
     "text": [
      "Scraping pages:  43%|████▎     | 43/100 [01:43<02:02,  2.15s/it]"
     ]
    },
    {
     "name": "stdout",
     "output_type": "stream",
     "text": [
      "Retrieving: https://www.lamudi.com.ph/metro-manila/makati/condominium/rent/?page=44 --- Success!\n"
     ]
    },
    {
     "name": "stderr",
     "output_type": "stream",
     "text": [
      "Scraping pages:  44%|████▍     | 44/100 [01:46<01:59,  2.13s/it]"
     ]
    },
    {
     "name": "stdout",
     "output_type": "stream",
     "text": [
      "Retrieving: https://www.lamudi.com.ph/metro-manila/makati/condominium/rent/?page=45 --- Success!\n"
     ]
    },
    {
     "name": "stderr",
     "output_type": "stream",
     "text": [
      "Scraping pages:  45%|████▌     | 45/100 [01:47<01:52,  2.05s/it]"
     ]
    },
    {
     "name": "stdout",
     "output_type": "stream",
     "text": [
      "Retrieving: https://www.lamudi.com.ph/metro-manila/makati/condominium/rent/?page=46 --- Success!\n"
     ]
    },
    {
     "name": "stderr",
     "output_type": "stream",
     "text": [
      "Scraping pages:  46%|████▌     | 46/100 [01:50<01:52,  2.08s/it]"
     ]
    },
    {
     "name": "stdout",
     "output_type": "stream",
     "text": [
      "Retrieving: https://www.lamudi.com.ph/metro-manila/makati/condominium/rent/?page=47 --- Success!\n"
     ]
    },
    {
     "name": "stderr",
     "output_type": "stream",
     "text": [
      "Scraping pages:  47%|████▋     | 47/100 [01:52<02:00,  2.27s/it]"
     ]
    },
    {
     "name": "stdout",
     "output_type": "stream",
     "text": [
      "Retrieving: https://www.lamudi.com.ph/metro-manila/makati/condominium/rent/?page=48 --- Success!\n"
     ]
    },
    {
     "name": "stderr",
     "output_type": "stream",
     "text": [
      "Scraping pages:  48%|████▊     | 48/100 [01:54<01:56,  2.24s/it]"
     ]
    },
    {
     "name": "stdout",
     "output_type": "stream",
     "text": [
      "Retrieving: https://www.lamudi.com.ph/metro-manila/makati/condominium/rent/?page=49 --- Success!\n"
     ]
    },
    {
     "name": "stderr",
     "output_type": "stream",
     "text": [
      "Scraping pages:  49%|████▉     | 49/100 [01:57<01:52,  2.21s/it]"
     ]
    },
    {
     "name": "stdout",
     "output_type": "stream",
     "text": [
      "Retrieving: https://www.lamudi.com.ph/metro-manila/makati/condominium/rent/?page=50 --- Success!\n"
     ]
    },
    {
     "name": "stderr",
     "output_type": "stream",
     "text": [
      "Scraping pages:  50%|█████     | 50/100 [01:59<01:53,  2.27s/it]"
     ]
    },
    {
     "name": "stdout",
     "output_type": "stream",
     "text": [
      "Retrieving: https://www.lamudi.com.ph/metro-manila/makati/condominium/rent/?page=51 --- Success!\n"
     ]
    },
    {
     "name": "stderr",
     "output_type": "stream",
     "text": [
      "Scraping pages:  51%|█████     | 51/100 [02:01<01:47,  2.19s/it]"
     ]
    },
    {
     "name": "stdout",
     "output_type": "stream",
     "text": [
      "Retrieving: https://www.lamudi.com.ph/metro-manila/makati/condominium/rent/?page=52 --- Success!\n"
     ]
    },
    {
     "name": "stderr",
     "output_type": "stream",
     "text": [
      "Scraping pages:  52%|█████▏    | 52/100 [02:03<01:45,  2.19s/it]"
     ]
    },
    {
     "name": "stdout",
     "output_type": "stream",
     "text": [
      "Retrieving: https://www.lamudi.com.ph/metro-manila/makati/condominium/rent/?page=53 --- Success!\n"
     ]
    },
    {
     "name": "stderr",
     "output_type": "stream",
     "text": [
      "Scraping pages:  53%|█████▎    | 53/100 [02:06<01:49,  2.32s/it]"
     ]
    },
    {
     "name": "stdout",
     "output_type": "stream",
     "text": [
      "Retrieving: https://www.lamudi.com.ph/metro-manila/makati/condominium/rent/?page=54 --- Success!\n"
     ]
    },
    {
     "name": "stderr",
     "output_type": "stream",
     "text": [
      "Scraping pages:  54%|█████▍    | 54/100 [02:08<01:45,  2.29s/it]"
     ]
    },
    {
     "name": "stdout",
     "output_type": "stream",
     "text": [
      "Retrieving: https://www.lamudi.com.ph/metro-manila/makati/condominium/rent/?page=55 --- Success!\n"
     ]
    },
    {
     "name": "stderr",
     "output_type": "stream",
     "text": [
      "Scraping pages:  55%|█████▌    | 55/100 [02:10<01:40,  2.24s/it]"
     ]
    },
    {
     "name": "stdout",
     "output_type": "stream",
     "text": [
      "Retrieving: https://www.lamudi.com.ph/metro-manila/makati/condominium/rent/?page=56 --- Success!\n"
     ]
    },
    {
     "name": "stderr",
     "output_type": "stream",
     "text": [
      "Scraping pages:  56%|█████▌    | 56/100 [02:13<01:42,  2.33s/it]"
     ]
    },
    {
     "name": "stdout",
     "output_type": "stream",
     "text": [
      "Retrieving: https://www.lamudi.com.ph/metro-manila/makati/condominium/rent/?page=57 --- Success!\n"
     ]
    },
    {
     "name": "stderr",
     "output_type": "stream",
     "text": [
      "Scraping pages:  57%|█████▋    | 57/100 [02:15<01:38,  2.29s/it]"
     ]
    },
    {
     "name": "stdout",
     "output_type": "stream",
     "text": [
      "Retrieving: https://www.lamudi.com.ph/metro-manila/makati/condominium/rent/?page=58 --- Success!\n"
     ]
    },
    {
     "name": "stderr",
     "output_type": "stream",
     "text": [
      "Scraping pages:  58%|█████▊    | 58/100 [02:18<01:42,  2.43s/it]"
     ]
    },
    {
     "name": "stdout",
     "output_type": "stream",
     "text": [
      "Retrieving: https://www.lamudi.com.ph/metro-manila/makati/condominium/rent/?page=59 --- Success!\n"
     ]
    },
    {
     "name": "stderr",
     "output_type": "stream",
     "text": [
      "Scraping pages:  59%|█████▉    | 59/100 [02:22<02:05,  3.05s/it]"
     ]
    },
    {
     "name": "stdout",
     "output_type": "stream",
     "text": [
      "Retrieving: https://www.lamudi.com.ph/metro-manila/makati/condominium/rent/?page=60 --- Success!\n"
     ]
    },
    {
     "name": "stderr",
     "output_type": "stream",
     "text": [
      "Scraping pages:  60%|██████    | 60/100 [02:25<01:58,  2.96s/it]"
     ]
    },
    {
     "name": "stdout",
     "output_type": "stream",
     "text": [
      "Retrieving: https://www.lamudi.com.ph/metro-manila/makati/condominium/rent/?page=61 --- Success!\n"
     ]
    },
    {
     "name": "stderr",
     "output_type": "stream",
     "text": [
      "Scraping pages:  61%|██████    | 61/100 [02:28<01:52,  2.88s/it]"
     ]
    },
    {
     "name": "stdout",
     "output_type": "stream",
     "text": [
      "Retrieving: https://www.lamudi.com.ph/metro-manila/makati/condominium/rent/?page=62 --- Success!\n"
     ]
    },
    {
     "name": "stderr",
     "output_type": "stream",
     "text": [
      "Scraping pages:  62%|██████▏   | 62/100 [02:30<01:40,  2.63s/it]"
     ]
    },
    {
     "name": "stdout",
     "output_type": "stream",
     "text": [
      "Retrieving: https://www.lamudi.com.ph/metro-manila/makati/condominium/rent/?page=63 --- Success!\n"
     ]
    },
    {
     "name": "stderr",
     "output_type": "stream",
     "text": [
      "Scraping pages:  63%|██████▎   | 63/100 [02:32<01:31,  2.48s/it]"
     ]
    },
    {
     "name": "stdout",
     "output_type": "stream",
     "text": [
      "Retrieving: https://www.lamudi.com.ph/metro-manila/makati/condominium/rent/?page=64 --- Success!\n"
     ]
    },
    {
     "name": "stderr",
     "output_type": "stream",
     "text": [
      "Scraping pages:  64%|██████▍   | 64/100 [02:34<01:29,  2.47s/it]"
     ]
    },
    {
     "name": "stdout",
     "output_type": "stream",
     "text": [
      "Retrieving: https://www.lamudi.com.ph/metro-manila/makati/condominium/rent/?page=65 --- Success!\n"
     ]
    },
    {
     "name": "stderr",
     "output_type": "stream",
     "text": [
      "Scraping pages:  65%|██████▌   | 65/100 [02:36<01:21,  2.34s/it]"
     ]
    },
    {
     "name": "stdout",
     "output_type": "stream",
     "text": [
      "Retrieving: https://www.lamudi.com.ph/metro-manila/makati/condominium/rent/?page=66 --- Success!\n"
     ]
    },
    {
     "name": "stderr",
     "output_type": "stream",
     "text": [
      "Scraping pages:  66%|██████▌   | 66/100 [02:39<01:19,  2.34s/it]"
     ]
    },
    {
     "name": "stdout",
     "output_type": "stream",
     "text": [
      "Retrieving: https://www.lamudi.com.ph/metro-manila/makati/condominium/rent/?page=67 --- Success!\n"
     ]
    },
    {
     "name": "stderr",
     "output_type": "stream",
     "text": [
      "Scraping pages:  67%|██████▋   | 67/100 [02:41<01:13,  2.23s/it]"
     ]
    },
    {
     "name": "stdout",
     "output_type": "stream",
     "text": [
      "Retrieving: https://www.lamudi.com.ph/metro-manila/makati/condominium/rent/?page=68 --- Success!\n"
     ]
    },
    {
     "name": "stderr",
     "output_type": "stream",
     "text": [
      "Scraping pages:  68%|██████▊   | 68/100 [02:43<01:16,  2.40s/it]"
     ]
    },
    {
     "name": "stdout",
     "output_type": "stream",
     "text": [
      "Retrieving: https://www.lamudi.com.ph/metro-manila/makati/condominium/rent/?page=69 --- Success!\n"
     ]
    },
    {
     "name": "stderr",
     "output_type": "stream",
     "text": [
      "Scraping pages:  69%|██████▉   | 69/100 [02:45<01:11,  2.29s/it]"
     ]
    },
    {
     "name": "stdout",
     "output_type": "stream",
     "text": [
      "Retrieving: https://www.lamudi.com.ph/metro-manila/makati/condominium/rent/?page=70 --- Success!\n"
     ]
    },
    {
     "name": "stderr",
     "output_type": "stream",
     "text": [
      "Scraping pages:  70%|███████   | 70/100 [02:48<01:10,  2.36s/it]"
     ]
    },
    {
     "name": "stdout",
     "output_type": "stream",
     "text": [
      "Retrieving: https://www.lamudi.com.ph/metro-manila/makati/condominium/rent/?page=71 --- Success!\n"
     ]
    },
    {
     "name": "stderr",
     "output_type": "stream",
     "text": [
      "Scraping pages:  71%|███████   | 71/100 [02:50<01:07,  2.33s/it]"
     ]
    },
    {
     "name": "stdout",
     "output_type": "stream",
     "text": [
      "Retrieving: https://www.lamudi.com.ph/metro-manila/makati/condominium/rent/?page=72 --- Success!\n"
     ]
    },
    {
     "name": "stderr",
     "output_type": "stream",
     "text": [
      "Scraping pages:  72%|███████▏  | 72/100 [02:53<01:06,  2.38s/it]"
     ]
    },
    {
     "name": "stdout",
     "output_type": "stream",
     "text": [
      "Retrieving: https://www.lamudi.com.ph/metro-manila/makati/condominium/rent/?page=73 --- Success!\n"
     ]
    },
    {
     "name": "stderr",
     "output_type": "stream",
     "text": [
      "Scraping pages:  73%|███████▎  | 73/100 [02:55<01:01,  2.28s/it]"
     ]
    },
    {
     "name": "stdout",
     "output_type": "stream",
     "text": [
      "Retrieving: https://www.lamudi.com.ph/metro-manila/makati/condominium/rent/?page=74 --- Success!\n"
     ]
    },
    {
     "name": "stderr",
     "output_type": "stream",
     "text": [
      "Scraping pages:  74%|███████▍  | 74/100 [02:57<00:59,  2.29s/it]"
     ]
    },
    {
     "name": "stdout",
     "output_type": "stream",
     "text": [
      "Retrieving: https://www.lamudi.com.ph/metro-manila/makati/condominium/rent/?page=75 --- Success!\n"
     ]
    },
    {
     "name": "stderr",
     "output_type": "stream",
     "text": [
      "Scraping pages:  75%|███████▌  | 75/100 [03:00<01:00,  2.42s/it]"
     ]
    },
    {
     "name": "stdout",
     "output_type": "stream",
     "text": [
      "Retrieving: https://www.lamudi.com.ph/metro-manila/makati/condominium/rent/?page=76 --- Success!\n"
     ]
    },
    {
     "name": "stderr",
     "output_type": "stream",
     "text": [
      "Scraping pages:  76%|███████▌  | 76/100 [03:02<00:54,  2.29s/it]"
     ]
    },
    {
     "name": "stdout",
     "output_type": "stream",
     "text": [
      "Retrieving: https://www.lamudi.com.ph/metro-manila/makati/condominium/rent/?page=77 --- Success!\n"
     ]
    },
    {
     "name": "stderr",
     "output_type": "stream",
     "text": [
      "Scraping pages:  77%|███████▋  | 77/100 [03:04<00:53,  2.33s/it]"
     ]
    },
    {
     "name": "stdout",
     "output_type": "stream",
     "text": [
      "Retrieving: https://www.lamudi.com.ph/metro-manila/makati/condominium/rent/?page=78 --- Success!\n"
     ]
    },
    {
     "name": "stderr",
     "output_type": "stream",
     "text": [
      "Scraping pages:  78%|███████▊  | 78/100 [03:06<00:48,  2.22s/it]"
     ]
    },
    {
     "name": "stdout",
     "output_type": "stream",
     "text": [
      "Retrieving: https://www.lamudi.com.ph/metro-manila/makati/condominium/rent/?page=79 --- Success!\n"
     ]
    },
    {
     "name": "stderr",
     "output_type": "stream",
     "text": [
      "Scraping pages:  79%|███████▉  | 79/100 [03:09<00:48,  2.31s/it]"
     ]
    },
    {
     "name": "stdout",
     "output_type": "stream",
     "text": [
      "Retrieving: https://www.lamudi.com.ph/metro-manila/makati/condominium/rent/?page=80 --- Success!\n"
     ]
    },
    {
     "name": "stderr",
     "output_type": "stream",
     "text": [
      "Scraping pages:  80%|████████  | 80/100 [03:11<00:47,  2.37s/it]"
     ]
    },
    {
     "name": "stdout",
     "output_type": "stream",
     "text": [
      "Retrieving: https://www.lamudi.com.ph/metro-manila/makati/condominium/rent/?page=81 --- Success!\n"
     ]
    },
    {
     "name": "stderr",
     "output_type": "stream",
     "text": [
      "Scraping pages:  81%|████████  | 81/100 [03:14<00:45,  2.40s/it]"
     ]
    },
    {
     "name": "stdout",
     "output_type": "stream",
     "text": [
      "Retrieving: https://www.lamudi.com.ph/metro-manila/makati/condominium/rent/?page=82 --- Success!\n"
     ]
    },
    {
     "name": "stderr",
     "output_type": "stream",
     "text": [
      "Scraping pages:  82%|████████▏ | 82/100 [03:16<00:43,  2.40s/it]"
     ]
    },
    {
     "name": "stdout",
     "output_type": "stream",
     "text": [
      "Retrieving: https://www.lamudi.com.ph/metro-manila/makati/condominium/rent/?page=83 --- Success!\n"
     ]
    },
    {
     "name": "stderr",
     "output_type": "stream",
     "text": [
      "Scraping pages:  83%|████████▎ | 83/100 [03:19<00:41,  2.43s/it]"
     ]
    },
    {
     "name": "stdout",
     "output_type": "stream",
     "text": [
      "Retrieving: https://www.lamudi.com.ph/metro-manila/makati/condominium/rent/?page=84 --- Success!\n"
     ]
    },
    {
     "name": "stderr",
     "output_type": "stream",
     "text": [
      "Scraping pages:  84%|████████▍ | 84/100 [03:23<00:47,  2.98s/it]"
     ]
    },
    {
     "name": "stdout",
     "output_type": "stream",
     "text": [
      "Retrieving: https://www.lamudi.com.ph/metro-manila/makati/condominium/rent/?page=85 --- Success!\n"
     ]
    },
    {
     "name": "stderr",
     "output_type": "stream",
     "text": [
      "Scraping pages:  85%|████████▌ | 85/100 [03:25<00:42,  2.86s/it]"
     ]
    },
    {
     "name": "stdout",
     "output_type": "stream",
     "text": [
      "Retrieving: https://www.lamudi.com.ph/metro-manila/makati/condominium/rent/?page=86 --- Success!\n"
     ]
    },
    {
     "name": "stderr",
     "output_type": "stream",
     "text": [
      "Scraping pages:  86%|████████▌ | 86/100 [03:27<00:36,  2.59s/it]"
     ]
    },
    {
     "name": "stdout",
     "output_type": "stream",
     "text": [
      "Retrieving: https://www.lamudi.com.ph/metro-manila/makati/condominium/rent/?page=87 --- Success!\n"
     ]
    },
    {
     "name": "stderr",
     "output_type": "stream",
     "text": [
      "Scraping pages:  87%|████████▋ | 87/100 [03:30<00:32,  2.48s/it]"
     ]
    },
    {
     "name": "stdout",
     "output_type": "stream",
     "text": [
      "Retrieving: https://www.lamudi.com.ph/metro-manila/makati/condominium/rent/?page=88 --- Success!\n"
     ]
    },
    {
     "name": "stderr",
     "output_type": "stream",
     "text": [
      "Scraping pages:  88%|████████▊ | 88/100 [03:32<00:28,  2.33s/it]"
     ]
    },
    {
     "name": "stdout",
     "output_type": "stream",
     "text": [
      "Retrieving: https://www.lamudi.com.ph/metro-manila/makati/condominium/rent/?page=89 --- Success!\n"
     ]
    },
    {
     "name": "stderr",
     "output_type": "stream",
     "text": [
      "Scraping pages:  89%|████████▉ | 89/100 [03:34<00:26,  2.38s/it]"
     ]
    },
    {
     "name": "stdout",
     "output_type": "stream",
     "text": [
      "Retrieving: https://www.lamudi.com.ph/metro-manila/makati/condominium/rent/?page=90 --- Success!\n"
     ]
    },
    {
     "name": "stderr",
     "output_type": "stream",
     "text": [
      "Scraping pages:  90%|█████████ | 90/100 [03:36<00:22,  2.26s/it]"
     ]
    },
    {
     "name": "stdout",
     "output_type": "stream",
     "text": [
      "Retrieving: https://www.lamudi.com.ph/metro-manila/makati/condominium/rent/?page=91 --- Success!\n"
     ]
    },
    {
     "name": "stderr",
     "output_type": "stream",
     "text": [
      "Scraping pages:  91%|█████████ | 91/100 [03:38<00:20,  2.24s/it]"
     ]
    },
    {
     "name": "stdout",
     "output_type": "stream",
     "text": [
      "Retrieving: https://www.lamudi.com.ph/metro-manila/makati/condominium/rent/?page=92 --- Success!\n"
     ]
    },
    {
     "name": "stderr",
     "output_type": "stream",
     "text": [
      "Scraping pages:  92%|█████████▏| 92/100 [03:41<00:18,  2.26s/it]"
     ]
    },
    {
     "name": "stdout",
     "output_type": "stream",
     "text": [
      "Retrieving: https://www.lamudi.com.ph/metro-manila/makati/condominium/rent/?page=93 --- Success!\n"
     ]
    },
    {
     "name": "stderr",
     "output_type": "stream",
     "text": [
      "Scraping pages:  93%|█████████▎| 93/100 [03:43<00:16,  2.29s/it]"
     ]
    },
    {
     "name": "stdout",
     "output_type": "stream",
     "text": [
      "Retrieving: https://www.lamudi.com.ph/metro-manila/makati/condominium/rent/?page=94 --- Success!\n"
     ]
    },
    {
     "name": "stderr",
     "output_type": "stream",
     "text": [
      "Scraping pages:  94%|█████████▍| 94/100 [03:45<00:13,  2.23s/it]"
     ]
    },
    {
     "name": "stdout",
     "output_type": "stream",
     "text": [
      "Retrieving: https://www.lamudi.com.ph/metro-manila/makati/condominium/rent/?page=95 --- Success!\n"
     ]
    },
    {
     "name": "stderr",
     "output_type": "stream",
     "text": [
      "Scraping pages:  95%|█████████▌| 95/100 [03:48<00:11,  2.37s/it]"
     ]
    },
    {
     "name": "stdout",
     "output_type": "stream",
     "text": [
      "Retrieving: https://www.lamudi.com.ph/metro-manila/makati/condominium/rent/?page=96 --- Success!\n"
     ]
    },
    {
     "name": "stderr",
     "output_type": "stream",
     "text": [
      "Scraping pages:  96%|█████████▌| 96/100 [03:50<00:08,  2.24s/it]"
     ]
    },
    {
     "name": "stdout",
     "output_type": "stream",
     "text": [
      "Retrieving: https://www.lamudi.com.ph/metro-manila/makati/condominium/rent/?page=97 --- Success!\n"
     ]
    },
    {
     "name": "stderr",
     "output_type": "stream",
     "text": [
      "Scraping pages:  97%|█████████▋| 97/100 [03:53<00:07,  2.46s/it]"
     ]
    },
    {
     "name": "stdout",
     "output_type": "stream",
     "text": [
      "Retrieving: https://www.lamudi.com.ph/metro-manila/makati/condominium/rent/?page=98 --- Success!\n"
     ]
    },
    {
     "name": "stderr",
     "output_type": "stream",
     "text": [
      "Scraping pages:  98%|█████████▊| 98/100 [03:55<00:04,  2.42s/it]"
     ]
    },
    {
     "name": "stdout",
     "output_type": "stream",
     "text": [
      "Retrieving: https://www.lamudi.com.ph/metro-manila/makati/condominium/rent/?page=99 --- Success!\n"
     ]
    },
    {
     "name": "stderr",
     "output_type": "stream",
     "text": [
      "Scraping pages:  99%|█████████▉| 99/100 [03:57<00:02,  2.38s/it]"
     ]
    },
    {
     "name": "stdout",
     "output_type": "stream",
     "text": [
      "Retrieving: https://www.lamudi.com.ph/metro-manila/makati/condominium/rent/?page=100 --- Success!\n"
     ]
    },
    {
     "name": "stderr",
     "output_type": "stream",
     "text": [
      "Scraping pages: 100%|██████████| 100/100 [03:59<00:00,  2.40s/it]\n",
      "Scraping pages:   0%|          | 0/53 [00:00<?, ?it/s]"
     ]
    },
    {
     "name": "stdout",
     "output_type": "stream",
     "text": [
      "Retrieving: https://www.lamudi.com.ph/metro-manila/makati/house/rent/?page=1 --- Success!\n"
     ]
    },
    {
     "name": "stderr",
     "output_type": "stream",
     "text": [
      "Scraping pages:   2%|▏         | 1/53 [00:02<02:09,  2.49s/it]"
     ]
    },
    {
     "name": "stdout",
     "output_type": "stream",
     "text": [
      "Retrieving: https://www.lamudi.com.ph/metro-manila/makati/house/rent/?page=2 --- Success!\n"
     ]
    },
    {
     "name": "stderr",
     "output_type": "stream",
     "text": [
      "Scraping pages:   4%|▍         | 2/53 [00:04<02:00,  2.37s/it]"
     ]
    },
    {
     "name": "stdout",
     "output_type": "stream",
     "text": [
      "Retrieving: https://www.lamudi.com.ph/metro-manila/makati/house/rent/?page=3 --- Success!\n"
     ]
    },
    {
     "name": "stderr",
     "output_type": "stream",
     "text": [
      "Scraping pages:   6%|▌         | 3/53 [00:06<01:54,  2.28s/it]"
     ]
    },
    {
     "name": "stdout",
     "output_type": "stream",
     "text": [
      "Retrieving: https://www.lamudi.com.ph/metro-manila/makati/house/rent/?page=4 --- Success!\n"
     ]
    },
    {
     "name": "stderr",
     "output_type": "stream",
     "text": [
      "Scraping pages:   8%|▊         | 4/53 [00:09<01:50,  2.25s/it]"
     ]
    },
    {
     "name": "stdout",
     "output_type": "stream",
     "text": [
      "Retrieving: https://www.lamudi.com.ph/metro-manila/makati/house/rent/?page=5 --- Success!\n"
     ]
    },
    {
     "name": "stderr",
     "output_type": "stream",
     "text": [
      "Scraping pages:   9%|▉         | 5/53 [00:11<01:44,  2.19s/it]"
     ]
    },
    {
     "name": "stdout",
     "output_type": "stream",
     "text": [
      "Retrieving: https://www.lamudi.com.ph/metro-manila/makati/house/rent/?page=6 --- Success!\n"
     ]
    },
    {
     "name": "stderr",
     "output_type": "stream",
     "text": [
      "Scraping pages:  11%|█▏        | 6/53 [00:13<01:40,  2.14s/it]"
     ]
    },
    {
     "name": "stdout",
     "output_type": "stream",
     "text": [
      "Retrieving: https://www.lamudi.com.ph/metro-manila/makati/house/rent/?page=7 --- Success!\n"
     ]
    },
    {
     "name": "stderr",
     "output_type": "stream",
     "text": [
      "Scraping pages:  13%|█▎        | 7/53 [00:16<01:57,  2.55s/it]"
     ]
    },
    {
     "name": "stdout",
     "output_type": "stream",
     "text": [
      "Retrieving: https://www.lamudi.com.ph/metro-manila/makati/house/rent/?page=8 --- Success!\n"
     ]
    },
    {
     "name": "stderr",
     "output_type": "stream",
     "text": [
      "Scraping pages:  15%|█▌        | 8/53 [00:19<01:53,  2.51s/it]"
     ]
    },
    {
     "name": "stdout",
     "output_type": "stream",
     "text": [
      "Retrieving: https://www.lamudi.com.ph/metro-manila/makati/house/rent/?page=9 --- Success!\n"
     ]
    },
    {
     "name": "stderr",
     "output_type": "stream",
     "text": [
      "Scraping pages:  17%|█▋        | 9/53 [00:22<02:09,  2.94s/it]"
     ]
    },
    {
     "name": "stdout",
     "output_type": "stream",
     "text": [
      "Retrieving: https://www.lamudi.com.ph/metro-manila/makati/house/rent/?page=10 --- Success!\n"
     ]
    },
    {
     "name": "stderr",
     "output_type": "stream",
     "text": [
      "Scraping pages:  19%|█▉        | 10/53 [00:25<02:02,  2.84s/it]"
     ]
    },
    {
     "name": "stdout",
     "output_type": "stream",
     "text": [
      "Retrieving: https://www.lamudi.com.ph/metro-manila/makati/house/rent/?page=11 --- Success!\n"
     ]
    },
    {
     "name": "stderr",
     "output_type": "stream",
     "text": [
      "Scraping pages:  21%|██        | 11/53 [00:28<01:54,  2.72s/it]"
     ]
    },
    {
     "name": "stdout",
     "output_type": "stream",
     "text": [
      "Retrieving: https://www.lamudi.com.ph/metro-manila/makati/house/rent/?page=12 --- Success!\n"
     ]
    },
    {
     "name": "stderr",
     "output_type": "stream",
     "text": [
      "Scraping pages:  23%|██▎       | 12/53 [00:30<01:50,  2.69s/it]"
     ]
    },
    {
     "name": "stdout",
     "output_type": "stream",
     "text": [
      "Retrieving: https://www.lamudi.com.ph/metro-manila/makati/house/rent/?page=13 --- Success!\n"
     ]
    },
    {
     "name": "stderr",
     "output_type": "stream",
     "text": [
      "Scraping pages:  25%|██▍       | 13/53 [00:32<01:43,  2.58s/it]"
     ]
    },
    {
     "name": "stdout",
     "output_type": "stream",
     "text": [
      "Retrieving: https://www.lamudi.com.ph/metro-manila/makati/house/rent/?page=14 --- Success!\n"
     ]
    },
    {
     "name": "stderr",
     "output_type": "stream",
     "text": [
      "Scraping pages:  26%|██▋       | 14/53 [00:35<01:37,  2.51s/it]"
     ]
    },
    {
     "name": "stdout",
     "output_type": "stream",
     "text": [
      "Retrieving: https://www.lamudi.com.ph/metro-manila/makati/house/rent/?page=15 --- Success!\n"
     ]
    },
    {
     "name": "stderr",
     "output_type": "stream",
     "text": [
      "Scraping pages:  28%|██▊       | 15/53 [00:37<01:30,  2.39s/it]"
     ]
    },
    {
     "name": "stdout",
     "output_type": "stream",
     "text": [
      "Retrieving: https://www.lamudi.com.ph/metro-manila/makati/house/rent/?page=16 --- Success!\n"
     ]
    },
    {
     "name": "stderr",
     "output_type": "stream",
     "text": [
      "Scraping pages:  30%|███       | 16/53 [00:39<01:27,  2.37s/it]"
     ]
    },
    {
     "name": "stdout",
     "output_type": "stream",
     "text": [
      "Retrieving: https://www.lamudi.com.ph/metro-manila/makati/house/rent/?page=17 --- Success!\n"
     ]
    },
    {
     "name": "stderr",
     "output_type": "stream",
     "text": [
      "Scraping pages:  32%|███▏      | 17/53 [00:42<01:28,  2.46s/it]"
     ]
    },
    {
     "name": "stdout",
     "output_type": "stream",
     "text": [
      "Retrieving: https://www.lamudi.com.ph/metro-manila/makati/house/rent/?page=18 --- Success!\n"
     ]
    },
    {
     "name": "stderr",
     "output_type": "stream",
     "text": [
      "Scraping pages:  34%|███▍      | 18/53 [00:44<01:20,  2.30s/it]"
     ]
    },
    {
     "name": "stdout",
     "output_type": "stream",
     "text": [
      "Retrieving: https://www.lamudi.com.ph/metro-manila/makati/house/rent/?page=19 --- Success!\n"
     ]
    },
    {
     "name": "stderr",
     "output_type": "stream",
     "text": [
      "Scraping pages:  36%|███▌      | 19/53 [00:46<01:19,  2.34s/it]"
     ]
    },
    {
     "name": "stdout",
     "output_type": "stream",
     "text": [
      "Retrieving: https://www.lamudi.com.ph/metro-manila/makati/house/rent/?page=20 --- Success!\n"
     ]
    },
    {
     "name": "stderr",
     "output_type": "stream",
     "text": [
      "Scraping pages:  38%|███▊      | 20/53 [00:49<01:17,  2.34s/it]"
     ]
    },
    {
     "name": "stdout",
     "output_type": "stream",
     "text": [
      "Retrieving: https://www.lamudi.com.ph/metro-manila/makati/house/rent/?page=21 --- Success!\n"
     ]
    },
    {
     "name": "stderr",
     "output_type": "stream",
     "text": [
      "Scraping pages:  40%|███▉      | 21/53 [00:51<01:11,  2.24s/it]"
     ]
    },
    {
     "name": "stdout",
     "output_type": "stream",
     "text": [
      "Retrieving: https://www.lamudi.com.ph/metro-manila/makati/house/rent/?page=22 --- Success!\n"
     ]
    },
    {
     "name": "stderr",
     "output_type": "stream",
     "text": [
      "Scraping pages:  42%|████▏     | 22/53 [00:53<01:09,  2.23s/it]"
     ]
    },
    {
     "name": "stdout",
     "output_type": "stream",
     "text": [
      "Retrieving: https://www.lamudi.com.ph/metro-manila/makati/house/rent/?page=23 --- Success!\n"
     ]
    },
    {
     "name": "stderr",
     "output_type": "stream",
     "text": [
      "Scraping pages:  43%|████▎     | 23/53 [00:55<01:08,  2.29s/it]"
     ]
    },
    {
     "name": "stdout",
     "output_type": "stream",
     "text": [
      "Retrieving: https://www.lamudi.com.ph/metro-manila/makati/house/rent/?page=24 --- Success!\n"
     ]
    },
    {
     "name": "stderr",
     "output_type": "stream",
     "text": [
      "Scraping pages:  45%|████▌     | 24/53 [00:58<01:06,  2.29s/it]"
     ]
    },
    {
     "name": "stdout",
     "output_type": "stream",
     "text": [
      "Retrieving: https://www.lamudi.com.ph/metro-manila/makati/house/rent/?page=25 --- Success!\n"
     ]
    },
    {
     "name": "stderr",
     "output_type": "stream",
     "text": [
      "Scraping pages:  47%|████▋     | 25/53 [01:00<01:02,  2.25s/it]"
     ]
    },
    {
     "name": "stdout",
     "output_type": "stream",
     "text": [
      "Retrieving: https://www.lamudi.com.ph/metro-manila/makati/house/rent/?page=26 --- Success!\n"
     ]
    },
    {
     "name": "stderr",
     "output_type": "stream",
     "text": [
      "Scraping pages:  49%|████▉     | 26/53 [01:02<01:02,  2.32s/it]"
     ]
    },
    {
     "name": "stdout",
     "output_type": "stream",
     "text": [
      "Retrieving: https://www.lamudi.com.ph/metro-manila/makati/house/rent/?page=27 --- Success!\n"
     ]
    },
    {
     "name": "stderr",
     "output_type": "stream",
     "text": [
      "Scraping pages:  51%|█████     | 27/53 [01:04<00:59,  2.31s/it]"
     ]
    },
    {
     "name": "stdout",
     "output_type": "stream",
     "text": [
      "Retrieving: https://www.lamudi.com.ph/metro-manila/makati/house/rent/?page=28 --- Success!\n"
     ]
    },
    {
     "name": "stderr",
     "output_type": "stream",
     "text": [
      "Scraping pages:  53%|█████▎    | 28/53 [01:07<01:02,  2.48s/it]"
     ]
    },
    {
     "name": "stdout",
     "output_type": "stream",
     "text": [
      "Retrieving: https://www.lamudi.com.ph/metro-manila/makati/house/rent/?page=29 --- Success!\n"
     ]
    },
    {
     "name": "stderr",
     "output_type": "stream",
     "text": [
      "Scraping pages:  55%|█████▍    | 29/53 [01:10<00:57,  2.39s/it]"
     ]
    },
    {
     "name": "stdout",
     "output_type": "stream",
     "text": [
      "Retrieving: https://www.lamudi.com.ph/metro-manila/makati/house/rent/?page=30 --- Success!\n"
     ]
    },
    {
     "name": "stderr",
     "output_type": "stream",
     "text": [
      "Scraping pages:  57%|█████▋    | 30/53 [01:13<00:59,  2.59s/it]"
     ]
    },
    {
     "name": "stdout",
     "output_type": "stream",
     "text": [
      "Retrieving: https://www.lamudi.com.ph/metro-manila/makati/house/rent/?page=31 --- Success!\n"
     ]
    },
    {
     "name": "stderr",
     "output_type": "stream",
     "text": [
      "Scraping pages:  58%|█████▊    | 31/53 [01:25<02:01,  5.54s/it]"
     ]
    },
    {
     "name": "stdout",
     "output_type": "stream",
     "text": [
      "Retrieving: https://www.lamudi.com.ph/metro-manila/makati/house/rent/?page=32 --- Success!\n"
     ]
    },
    {
     "name": "stderr",
     "output_type": "stream",
     "text": [
      "Scraping pages:  60%|██████    | 32/53 [01:28<01:41,  4.85s/it]"
     ]
    },
    {
     "name": "stdout",
     "output_type": "stream",
     "text": [
      "Retrieving: https://www.lamudi.com.ph/metro-manila/makati/house/rent/?page=33 --- Success!\n"
     ]
    },
    {
     "name": "stderr",
     "output_type": "stream",
     "text": [
      "Scraping pages:  62%|██████▏   | 33/53 [01:31<01:23,  4.19s/it]"
     ]
    },
    {
     "name": "stdout",
     "output_type": "stream",
     "text": [
      "Retrieving: https://www.lamudi.com.ph/metro-manila/makati/house/rent/?page=34 --- Success!\n"
     ]
    },
    {
     "name": "stderr",
     "output_type": "stream",
     "text": [
      "Scraping pages:  64%|██████▍   | 34/53 [01:33<01:09,  3.66s/it]"
     ]
    },
    {
     "name": "stdout",
     "output_type": "stream",
     "text": [
      "Retrieving: https://www.lamudi.com.ph/metro-manila/makati/house/rent/?page=35 --- Success!\n"
     ]
    },
    {
     "name": "stderr",
     "output_type": "stream",
     "text": [
      "Scraping pages:  66%|██████▌   | 35/53 [01:36<00:58,  3.25s/it]"
     ]
    },
    {
     "name": "stdout",
     "output_type": "stream",
     "text": [
      "Retrieving: https://www.lamudi.com.ph/metro-manila/makati/house/rent/?page=36 --- Success!\n"
     ]
    },
    {
     "name": "stderr",
     "output_type": "stream",
     "text": [
      "Scraping pages:  68%|██████▊   | 36/53 [01:38<00:52,  3.07s/it]"
     ]
    },
    {
     "name": "stdout",
     "output_type": "stream",
     "text": [
      "Retrieving: https://www.lamudi.com.ph/metro-manila/makati/house/rent/?page=37 --- Success!\n"
     ]
    },
    {
     "name": "stderr",
     "output_type": "stream",
     "text": [
      "Scraping pages:  70%|██████▉   | 37/53 [01:41<00:45,  2.87s/it]"
     ]
    },
    {
     "name": "stdout",
     "output_type": "stream",
     "text": [
      "Retrieving: https://www.lamudi.com.ph/metro-manila/makati/house/rent/?page=38 --- Success!\n"
     ]
    },
    {
     "name": "stderr",
     "output_type": "stream",
     "text": [
      "Scraping pages:  72%|███████▏  | 38/53 [01:43<00:40,  2.71s/it]"
     ]
    },
    {
     "name": "stdout",
     "output_type": "stream",
     "text": [
      "Retrieving: https://www.lamudi.com.ph/metro-manila/makati/house/rent/?page=39 --- Success!\n"
     ]
    },
    {
     "name": "stderr",
     "output_type": "stream",
     "text": [
      "Scraping pages:  74%|███████▎  | 39/53 [01:45<00:35,  2.55s/it]"
     ]
    },
    {
     "name": "stdout",
     "output_type": "stream",
     "text": [
      "Retrieving: https://www.lamudi.com.ph/metro-manila/makati/house/rent/?page=40 --- Success!\n"
     ]
    },
    {
     "name": "stderr",
     "output_type": "stream",
     "text": [
      "Scraping pages:  75%|███████▌  | 40/53 [01:48<00:32,  2.49s/it]"
     ]
    },
    {
     "name": "stdout",
     "output_type": "stream",
     "text": [
      "Retrieving: https://www.lamudi.com.ph/metro-manila/makati/house/rent/?page=41 --- Success!\n"
     ]
    },
    {
     "name": "stderr",
     "output_type": "stream",
     "text": [
      "Scraping pages:  77%|███████▋  | 41/53 [01:50<00:29,  2.44s/it]"
     ]
    },
    {
     "name": "stdout",
     "output_type": "stream",
     "text": [
      "Retrieving: https://www.lamudi.com.ph/metro-manila/makati/house/rent/?page=42 --- Success!\n"
     ]
    },
    {
     "name": "stderr",
     "output_type": "stream",
     "text": [
      "Scraping pages:  79%|███████▉  | 42/53 [01:52<00:27,  2.46s/it]"
     ]
    },
    {
     "name": "stdout",
     "output_type": "stream",
     "text": [
      "Retrieving: https://www.lamudi.com.ph/metro-manila/makati/house/rent/?page=43 --- Success!\n"
     ]
    },
    {
     "name": "stderr",
     "output_type": "stream",
     "text": [
      "Scraping pages:  81%|████████  | 43/53 [01:55<00:23,  2.37s/it]"
     ]
    },
    {
     "name": "stdout",
     "output_type": "stream",
     "text": [
      "Retrieving: https://www.lamudi.com.ph/metro-manila/makati/house/rent/?page=44 --- Success!\n"
     ]
    },
    {
     "name": "stderr",
     "output_type": "stream",
     "text": [
      "Scraping pages:  83%|████████▎ | 44/53 [01:57<00:21,  2.44s/it]"
     ]
    },
    {
     "name": "stdout",
     "output_type": "stream",
     "text": [
      "Retrieving: https://www.lamudi.com.ph/metro-manila/makati/house/rent/?page=45 --- Success!\n"
     ]
    },
    {
     "name": "stderr",
     "output_type": "stream",
     "text": [
      "Scraping pages:  85%|████████▍ | 45/53 [01:59<00:19,  2.42s/it]"
     ]
    },
    {
     "name": "stdout",
     "output_type": "stream",
     "text": [
      "Retrieving: https://www.lamudi.com.ph/metro-manila/makati/house/rent/?page=46 --- Success!\n"
     ]
    },
    {
     "name": "stderr",
     "output_type": "stream",
     "text": [
      "Scraping pages:  87%|████████▋ | 46/53 [02:02<00:16,  2.35s/it]"
     ]
    },
    {
     "name": "stdout",
     "output_type": "stream",
     "text": [
      "Retrieving: https://www.lamudi.com.ph/metro-manila/makati/house/rent/?page=47 --- Success!\n"
     ]
    },
    {
     "name": "stderr",
     "output_type": "stream",
     "text": [
      "Scraping pages:  89%|████████▊ | 47/53 [02:04<00:13,  2.32s/it]"
     ]
    },
    {
     "name": "stdout",
     "output_type": "stream",
     "text": [
      "Retrieving: https://www.lamudi.com.ph/metro-manila/makati/house/rent/?page=48 --- Success!\n"
     ]
    },
    {
     "name": "stderr",
     "output_type": "stream",
     "text": [
      "Scraping pages:  91%|█████████ | 48/53 [02:06<00:11,  2.28s/it]"
     ]
    },
    {
     "name": "stdout",
     "output_type": "stream",
     "text": [
      "Retrieving: https://www.lamudi.com.ph/metro-manila/makati/house/rent/?page=49 --- Success!\n"
     ]
    },
    {
     "name": "stderr",
     "output_type": "stream",
     "text": [
      "Scraping pages:  92%|█████████▏| 49/53 [02:09<00:09,  2.34s/it]"
     ]
    },
    {
     "name": "stdout",
     "output_type": "stream",
     "text": [
      "Retrieving: https://www.lamudi.com.ph/metro-manila/makati/house/rent/?page=50 --- Success!\n"
     ]
    },
    {
     "name": "stderr",
     "output_type": "stream",
     "text": [
      "Scraping pages:  94%|█████████▍| 50/53 [02:11<00:06,  2.26s/it]"
     ]
    },
    {
     "name": "stdout",
     "output_type": "stream",
     "text": [
      "Retrieving: https://www.lamudi.com.ph/metro-manila/makati/house/rent/?page=51 --- Success!\n"
     ]
    },
    {
     "name": "stderr",
     "output_type": "stream",
     "text": [
      "Scraping pages:  96%|█████████▌| 51/53 [02:13<00:04,  2.23s/it]"
     ]
    },
    {
     "name": "stdout",
     "output_type": "stream",
     "text": [
      "Retrieving: https://www.lamudi.com.ph/metro-manila/makati/house/rent/?page=52 --- Success!\n"
     ]
    },
    {
     "name": "stderr",
     "output_type": "stream",
     "text": [
      "Scraping pages:  98%|█████████▊| 52/53 [02:15<00:02,  2.31s/it]"
     ]
    },
    {
     "name": "stdout",
     "output_type": "stream",
     "text": [
      "Retrieving: https://www.lamudi.com.ph/metro-manila/makati/house/rent/?page=53 --- Success!\n"
     ]
    },
    {
     "name": "stderr",
     "output_type": "stream",
     "text": [
      "Scraping pages: 100%|██████████| 53/53 [02:18<00:00,  2.61s/it]\n",
      "Scraping pages:   0%|          | 0/2 [00:00<?, ?it/s]"
     ]
    },
    {
     "name": "stdout",
     "output_type": "stream",
     "text": [
      "Retrieving: https://www.lamudi.com.ph/metro-manila/makati/land/rent/?page=1 --- Success!\n"
     ]
    },
    {
     "name": "stderr",
     "output_type": "stream",
     "text": [
      "Scraping pages:  50%|█████     | 1/2 [00:06<00:06,  6.82s/it]"
     ]
    },
    {
     "name": "stdout",
     "output_type": "stream",
     "text": [
      "Retrieving: https://www.lamudi.com.ph/metro-manila/makati/land/rent/?page=2 --- Success!\n"
     ]
    },
    {
     "name": "stderr",
     "output_type": "stream",
     "text": [
      "Scraping pages: 100%|██████████| 2/2 [00:09<00:00,  4.66s/it]\n"
     ]
    }
   ],
   "source": [
    "rent_makati_apartment = property_crawler(base_url='https://www.lamudi.com.ph/metro-manila/makati/apartment/rent/?page=', start=1, end=7)\n",
    "rent_makati_condo = property_crawler(base_url='https://www.lamudi.com.ph/metro-manila/makati/condominium/rent/?page=', start=1, end=100)\n",
    "rent_makati_house = property_crawler(base_url='https://www.lamudi.com.ph/metro-manila/makati/house/rent/?page=', start=1, end=53)\n",
    "rent_makati_land = property_crawler(base_url='https://www.lamudi.com.ph/metro-manila/makati/land/rent/?page=', start=1, end=2)"
   ]
  },
  {
   "cell_type": "code",
   "execution_count": 8,
   "metadata": {},
   "outputs": [],
   "source": [
    "makati_4sale = pd.concat([makati_condo, makati_house, makati_land])\n",
    "makati_4sale.to_csv('data/for sale/makati_4sale.csv')\n",
    "\n",
    "makati_4rent = pd.concat([rent_makati_apartment, rent_makati_condo, rent_makati_house, rent_makati_land])\n",
    "makati_4rent.to_csv('data/for rent/makati_4rent.csv')"
   ]
  },
  {
   "cell_type": "code",
   "execution_count": 9,
   "metadata": {},
   "outputs": [
    {
     "name": "stderr",
     "output_type": "stream",
     "text": [
      "Scraping pages:   0%|          | 0/100 [00:00<?, ?it/s]"
     ]
    },
    {
     "name": "stdout",
     "output_type": "stream",
     "text": [
      "Retrieving: https://www.lamudi.com.ph/metro-manila/taguig/condominium/buy/?script=23&page=1 --- Success!\n"
     ]
    },
    {
     "name": "stderr",
     "output_type": "stream",
     "text": [
      "Scraping pages:   1%|          | 1/100 [00:03<05:09,  3.13s/it]"
     ]
    },
    {
     "name": "stdout",
     "output_type": "stream",
     "text": [
      "Retrieving: https://www.lamudi.com.ph/metro-manila/taguig/condominium/buy/?script=23&page=2 --- Success!\n"
     ]
    },
    {
     "name": "stderr",
     "output_type": "stream",
     "text": [
      "Scraping pages:   2%|▏         | 2/100 [00:05<04:14,  2.60s/it]"
     ]
    },
    {
     "name": "stdout",
     "output_type": "stream",
     "text": [
      "Retrieving: https://www.lamudi.com.ph/metro-manila/taguig/condominium/buy/?script=23&page=3 --- Success!\n"
     ]
    },
    {
     "name": "stderr",
     "output_type": "stream",
     "text": [
      "Scraping pages:   3%|▎         | 3/100 [00:07<03:44,  2.31s/it]"
     ]
    },
    {
     "name": "stdout",
     "output_type": "stream",
     "text": [
      "Retrieving: https://www.lamudi.com.ph/metro-manila/taguig/condominium/buy/?script=23&page=4 --- Success!\n"
     ]
    },
    {
     "name": "stderr",
     "output_type": "stream",
     "text": [
      "Scraping pages:   4%|▍         | 4/100 [00:10<04:02,  2.53s/it]"
     ]
    },
    {
     "name": "stdout",
     "output_type": "stream",
     "text": [
      "Retrieving: https://www.lamudi.com.ph/metro-manila/taguig/condominium/buy/?script=23&page=5 --- Success!\n"
     ]
    },
    {
     "name": "stderr",
     "output_type": "stream",
     "text": [
      "Scraping pages:   5%|▌         | 5/100 [00:12<03:47,  2.39s/it]"
     ]
    },
    {
     "name": "stdout",
     "output_type": "stream",
     "text": [
      "Retrieving: https://www.lamudi.com.ph/metro-manila/taguig/condominium/buy/?script=23&page=6 --- Success!\n"
     ]
    },
    {
     "name": "stderr",
     "output_type": "stream",
     "text": [
      "Scraping pages:   6%|▌         | 6/100 [00:14<03:41,  2.35s/it]"
     ]
    },
    {
     "name": "stdout",
     "output_type": "stream",
     "text": [
      "Retrieving: https://www.lamudi.com.ph/metro-manila/taguig/condominium/buy/?script=23&page=7 --- Success!\n"
     ]
    },
    {
     "name": "stderr",
     "output_type": "stream",
     "text": [
      "Scraping pages:   7%|▋         | 7/100 [00:16<03:29,  2.25s/it]"
     ]
    },
    {
     "name": "stdout",
     "output_type": "stream",
     "text": [
      "Retrieving: https://www.lamudi.com.ph/metro-manila/taguig/condominium/buy/?script=23&page=8 --- Success!\n"
     ]
    },
    {
     "name": "stderr",
     "output_type": "stream",
     "text": [
      "Scraping pages:   8%|▊         | 8/100 [00:18<03:29,  2.28s/it]"
     ]
    },
    {
     "name": "stdout",
     "output_type": "stream",
     "text": [
      "Retrieving: https://www.lamudi.com.ph/metro-manila/taguig/condominium/buy/?script=23&page=9 --- Success!\n"
     ]
    },
    {
     "name": "stderr",
     "output_type": "stream",
     "text": [
      "Scraping pages:   9%|▉         | 9/100 [00:21<03:24,  2.25s/it]"
     ]
    },
    {
     "name": "stdout",
     "output_type": "stream",
     "text": [
      "Retrieving: https://www.lamudi.com.ph/metro-manila/taguig/condominium/buy/?script=23&page=10 --- Success!\n"
     ]
    },
    {
     "name": "stderr",
     "output_type": "stream",
     "text": [
      "Scraping pages:  10%|█         | 10/100 [00:23<03:22,  2.25s/it]"
     ]
    },
    {
     "name": "stdout",
     "output_type": "stream",
     "text": [
      "Retrieving: https://www.lamudi.com.ph/metro-manila/taguig/condominium/buy/?script=23&page=11 --- Success!\n"
     ]
    },
    {
     "name": "stderr",
     "output_type": "stream",
     "text": [
      "Scraping pages:  11%|█         | 11/100 [00:26<03:35,  2.42s/it]"
     ]
    },
    {
     "name": "stdout",
     "output_type": "stream",
     "text": [
      "Retrieving: https://www.lamudi.com.ph/metro-manila/taguig/condominium/buy/?script=23&page=12 --- Success!\n"
     ]
    },
    {
     "name": "stderr",
     "output_type": "stream",
     "text": [
      "Scraping pages:  12%|█▏        | 12/100 [00:28<03:26,  2.35s/it]"
     ]
    },
    {
     "name": "stdout",
     "output_type": "stream",
     "text": [
      "Retrieving: https://www.lamudi.com.ph/metro-manila/taguig/condominium/buy/?script=23&page=13 --- Success!\n"
     ]
    },
    {
     "name": "stderr",
     "output_type": "stream",
     "text": [
      "Scraping pages:  13%|█▎        | 13/100 [00:30<03:14,  2.23s/it]"
     ]
    },
    {
     "name": "stdout",
     "output_type": "stream",
     "text": [
      "Retrieving: https://www.lamudi.com.ph/metro-manila/taguig/condominium/buy/?script=23&page=14 --- Success!\n"
     ]
    },
    {
     "name": "stderr",
     "output_type": "stream",
     "text": [
      "Scraping pages:  14%|█▍        | 14/100 [00:32<03:15,  2.27s/it]"
     ]
    },
    {
     "name": "stdout",
     "output_type": "stream",
     "text": [
      "Retrieving: https://www.lamudi.com.ph/metro-manila/taguig/condominium/buy/?script=23&page=15 --- Success!\n"
     ]
    },
    {
     "name": "stderr",
     "output_type": "stream",
     "text": [
      "Scraping pages:  15%|█▌        | 15/100 [00:35<03:18,  2.33s/it]"
     ]
    },
    {
     "name": "stdout",
     "output_type": "stream",
     "text": [
      "Retrieving: https://www.lamudi.com.ph/metro-manila/taguig/condominium/buy/?script=23&page=16 --- Success!\n"
     ]
    },
    {
     "name": "stderr",
     "output_type": "stream",
     "text": [
      "Scraping pages:  16%|█▌        | 16/100 [00:36<03:01,  2.16s/it]"
     ]
    },
    {
     "name": "stdout",
     "output_type": "stream",
     "text": [
      "Retrieving: https://www.lamudi.com.ph/metro-manila/taguig/condominium/buy/?script=23&page=17 --- Success!\n"
     ]
    },
    {
     "name": "stderr",
     "output_type": "stream",
     "text": [
      "Scraping pages:  17%|█▋        | 17/100 [00:39<03:10,  2.29s/it]"
     ]
    },
    {
     "name": "stdout",
     "output_type": "stream",
     "text": [
      "Retrieving: https://www.lamudi.com.ph/metro-manila/taguig/condominium/buy/?script=23&page=18 --- Success!\n"
     ]
    },
    {
     "name": "stderr",
     "output_type": "stream",
     "text": [
      "Scraping pages:  18%|█▊        | 18/100 [00:42<03:13,  2.36s/it]"
     ]
    },
    {
     "name": "stdout",
     "output_type": "stream",
     "text": [
      "Retrieving: https://www.lamudi.com.ph/metro-manila/taguig/condominium/buy/?script=23&page=19 --- Success!\n"
     ]
    },
    {
     "name": "stderr",
     "output_type": "stream",
     "text": [
      "Scraping pages:  19%|█▉        | 19/100 [00:44<03:15,  2.42s/it]"
     ]
    },
    {
     "name": "stdout",
     "output_type": "stream",
     "text": [
      "Retrieving: https://www.lamudi.com.ph/metro-manila/taguig/condominium/buy/?script=23&page=20 --- Success!\n"
     ]
    },
    {
     "name": "stderr",
     "output_type": "stream",
     "text": [
      "Scraping pages:  20%|██        | 20/100 [00:46<03:08,  2.35s/it]"
     ]
    },
    {
     "name": "stdout",
     "output_type": "stream",
     "text": [
      "Retrieving: https://www.lamudi.com.ph/metro-manila/taguig/condominium/buy/?script=23&page=21 --- Success!\n"
     ]
    },
    {
     "name": "stderr",
     "output_type": "stream",
     "text": [
      "Scraping pages:  21%|██        | 21/100 [00:49<03:16,  2.49s/it]"
     ]
    },
    {
     "name": "stdout",
     "output_type": "stream",
     "text": [
      "Retrieving: https://www.lamudi.com.ph/metro-manila/taguig/condominium/buy/?script=23&page=22 --- Success!\n"
     ]
    },
    {
     "name": "stderr",
     "output_type": "stream",
     "text": [
      "Scraping pages:  22%|██▏       | 22/100 [00:51<03:06,  2.39s/it]"
     ]
    },
    {
     "name": "stdout",
     "output_type": "stream",
     "text": [
      "Retrieving: https://www.lamudi.com.ph/metro-manila/taguig/condominium/buy/?script=23&page=23 --- Success!\n"
     ]
    },
    {
     "name": "stderr",
     "output_type": "stream",
     "text": [
      "Scraping pages:  23%|██▎       | 23/100 [00:56<03:47,  2.96s/it]"
     ]
    },
    {
     "name": "stdout",
     "output_type": "stream",
     "text": [
      "Retrieving: https://www.lamudi.com.ph/metro-manila/taguig/condominium/buy/?script=23&page=24 --- Success!\n"
     ]
    },
    {
     "name": "stderr",
     "output_type": "stream",
     "text": [
      "Scraping pages:  24%|██▍       | 24/100 [00:58<03:35,  2.84s/it]"
     ]
    },
    {
     "name": "stdout",
     "output_type": "stream",
     "text": [
      "Retrieving: https://www.lamudi.com.ph/metro-manila/taguig/condominium/buy/?script=23&page=25 --- Success!\n"
     ]
    },
    {
     "name": "stderr",
     "output_type": "stream",
     "text": [
      "Scraping pages:  25%|██▌       | 25/100 [01:00<03:20,  2.68s/it]"
     ]
    },
    {
     "name": "stdout",
     "output_type": "stream",
     "text": [
      "Retrieving: https://www.lamudi.com.ph/metro-manila/taguig/condominium/buy/?script=23&page=26 --- Success!\n"
     ]
    },
    {
     "name": "stderr",
     "output_type": "stream",
     "text": [
      "Scraping pages:  26%|██▌       | 26/100 [01:03<03:13,  2.61s/it]"
     ]
    },
    {
     "name": "stdout",
     "output_type": "stream",
     "text": [
      "Retrieving: https://www.lamudi.com.ph/metro-manila/taguig/condominium/buy/?script=23&page=27 --- Success!\n"
     ]
    },
    {
     "name": "stderr",
     "output_type": "stream",
     "text": [
      "Scraping pages:  27%|██▋       | 27/100 [01:06<03:10,  2.61s/it]"
     ]
    },
    {
     "name": "stdout",
     "output_type": "stream",
     "text": [
      "Retrieving: https://www.lamudi.com.ph/metro-manila/taguig/condominium/buy/?script=23&page=28 --- Success!\n"
     ]
    },
    {
     "name": "stderr",
     "output_type": "stream",
     "text": [
      "Scraping pages:  28%|██▊       | 28/100 [01:08<03:04,  2.57s/it]"
     ]
    },
    {
     "name": "stdout",
     "output_type": "stream",
     "text": [
      "Retrieving: https://www.lamudi.com.ph/metro-manila/taguig/condominium/buy/?script=23&page=29 --- Success!\n"
     ]
    },
    {
     "name": "stderr",
     "output_type": "stream",
     "text": [
      "Scraping pages:  29%|██▉       | 29/100 [01:11<03:01,  2.56s/it]"
     ]
    },
    {
     "name": "stdout",
     "output_type": "stream",
     "text": [
      "Retrieving: https://www.lamudi.com.ph/metro-manila/taguig/condominium/buy/?script=23&page=30 --- Success!\n"
     ]
    },
    {
     "name": "stderr",
     "output_type": "stream",
     "text": [
      "Scraping pages:  30%|███       | 30/100 [01:13<02:49,  2.42s/it]"
     ]
    },
    {
     "name": "stdout",
     "output_type": "stream",
     "text": [
      "Retrieving: https://www.lamudi.com.ph/metro-manila/taguig/condominium/buy/?script=23&page=31 --- Success!\n"
     ]
    },
    {
     "name": "stderr",
     "output_type": "stream",
     "text": [
      "Scraping pages:  31%|███       | 31/100 [01:15<02:41,  2.35s/it]"
     ]
    },
    {
     "name": "stdout",
     "output_type": "stream",
     "text": [
      "Retrieving: https://www.lamudi.com.ph/metro-manila/taguig/condominium/buy/?script=23&page=32 --- Success!\n"
     ]
    },
    {
     "name": "stderr",
     "output_type": "stream",
     "text": [
      "Scraping pages:  32%|███▏      | 32/100 [01:17<02:34,  2.27s/it]"
     ]
    },
    {
     "name": "stdout",
     "output_type": "stream",
     "text": [
      "Retrieving: https://www.lamudi.com.ph/metro-manila/taguig/condominium/buy/?script=23&page=33 --- Success!\n"
     ]
    },
    {
     "name": "stderr",
     "output_type": "stream",
     "text": [
      "Scraping pages:  33%|███▎      | 33/100 [01:19<02:29,  2.23s/it]"
     ]
    },
    {
     "name": "stdout",
     "output_type": "stream",
     "text": [
      "Retrieving: https://www.lamudi.com.ph/metro-manila/taguig/condominium/buy/?script=23&page=34 --- Success!\n"
     ]
    },
    {
     "name": "stderr",
     "output_type": "stream",
     "text": [
      "Scraping pages:  34%|███▍      | 34/100 [01:22<02:40,  2.42s/it]"
     ]
    },
    {
     "name": "stdout",
     "output_type": "stream",
     "text": [
      "Retrieving: https://www.lamudi.com.ph/metro-manila/taguig/condominium/buy/?script=23&page=35 --- Success!\n"
     ]
    },
    {
     "name": "stderr",
     "output_type": "stream",
     "text": [
      "Scraping pages:  35%|███▌      | 35/100 [01:25<02:50,  2.63s/it]"
     ]
    },
    {
     "name": "stdout",
     "output_type": "stream",
     "text": [
      "Retrieving: https://www.lamudi.com.ph/metro-manila/taguig/condominium/buy/?script=23&page=36 --- Success!\n"
     ]
    },
    {
     "name": "stderr",
     "output_type": "stream",
     "text": [
      "Scraping pages:  36%|███▌      | 36/100 [01:28<02:47,  2.62s/it]"
     ]
    },
    {
     "name": "stdout",
     "output_type": "stream",
     "text": [
      "Retrieving: https://www.lamudi.com.ph/metro-manila/taguig/condominium/buy/?script=23&page=37 --- Success!\n"
     ]
    },
    {
     "name": "stderr",
     "output_type": "stream",
     "text": [
      "Scraping pages:  37%|███▋      | 37/100 [01:30<02:34,  2.46s/it]"
     ]
    },
    {
     "name": "stdout",
     "output_type": "stream",
     "text": [
      "Retrieving: https://www.lamudi.com.ph/metro-manila/taguig/condominium/buy/?script=23&page=38 --- Success!\n"
     ]
    },
    {
     "name": "stderr",
     "output_type": "stream",
     "text": [
      "Scraping pages:  38%|███▊      | 38/100 [01:32<02:30,  2.43s/it]"
     ]
    },
    {
     "name": "stdout",
     "output_type": "stream",
     "text": [
      "Retrieving: https://www.lamudi.com.ph/metro-manila/taguig/condominium/buy/?script=23&page=39 --- Success!\n"
     ]
    },
    {
     "name": "stderr",
     "output_type": "stream",
     "text": [
      "Scraping pages:  39%|███▉      | 39/100 [01:34<02:24,  2.36s/it]"
     ]
    },
    {
     "name": "stdout",
     "output_type": "stream",
     "text": [
      "Retrieving: https://www.lamudi.com.ph/metro-manila/taguig/condominium/buy/?script=23&page=40 --- Success!\n"
     ]
    },
    {
     "name": "stderr",
     "output_type": "stream",
     "text": [
      "Scraping pages:  40%|████      | 40/100 [01:37<02:25,  2.43s/it]"
     ]
    },
    {
     "name": "stdout",
     "output_type": "stream",
     "text": [
      "Retrieving: https://www.lamudi.com.ph/metro-manila/taguig/condominium/buy/?script=23&page=41 --- Success!\n"
     ]
    },
    {
     "name": "stderr",
     "output_type": "stream",
     "text": [
      "Scraping pages:  41%|████      | 41/100 [01:39<02:24,  2.44s/it]"
     ]
    },
    {
     "name": "stdout",
     "output_type": "stream",
     "text": [
      "Retrieving: https://www.lamudi.com.ph/metro-manila/taguig/condominium/buy/?script=23&page=42 --- Success!\n"
     ]
    },
    {
     "name": "stderr",
     "output_type": "stream",
     "text": [
      "Scraping pages:  42%|████▏     | 42/100 [01:43<02:44,  2.83s/it]"
     ]
    },
    {
     "name": "stdout",
     "output_type": "stream",
     "text": [
      "Retrieving: https://www.lamudi.com.ph/metro-manila/taguig/condominium/buy/?script=23&page=43 --- Success!\n"
     ]
    },
    {
     "name": "stderr",
     "output_type": "stream",
     "text": [
      "Scraping pages:  43%|████▎     | 43/100 [01:45<02:27,  2.59s/it]"
     ]
    },
    {
     "name": "stdout",
     "output_type": "stream",
     "text": [
      "Retrieving: https://www.lamudi.com.ph/metro-manila/taguig/condominium/buy/?script=23&page=44 --- Success!\n"
     ]
    },
    {
     "name": "stderr",
     "output_type": "stream",
     "text": [
      "Scraping pages:  44%|████▍     | 44/100 [01:47<02:19,  2.50s/it]"
     ]
    },
    {
     "name": "stdout",
     "output_type": "stream",
     "text": [
      "Retrieving: https://www.lamudi.com.ph/metro-manila/taguig/condominium/buy/?script=23&page=45 --- Success!\n"
     ]
    },
    {
     "name": "stderr",
     "output_type": "stream",
     "text": [
      "Scraping pages:  45%|████▌     | 45/100 [01:50<02:11,  2.40s/it]"
     ]
    },
    {
     "name": "stdout",
     "output_type": "stream",
     "text": [
      "Retrieving: https://www.lamudi.com.ph/metro-manila/taguig/condominium/buy/?script=23&page=46 --- Success!\n"
     ]
    },
    {
     "name": "stderr",
     "output_type": "stream",
     "text": [
      "Scraping pages:  46%|████▌     | 46/100 [01:54<02:35,  2.88s/it]"
     ]
    },
    {
     "name": "stdout",
     "output_type": "stream",
     "text": [
      "Retrieving: https://www.lamudi.com.ph/metro-manila/taguig/condominium/buy/?script=23&page=47 --- Success!\n"
     ]
    },
    {
     "name": "stderr",
     "output_type": "stream",
     "text": [
      "Scraping pages:  47%|████▋     | 47/100 [01:56<02:30,  2.83s/it]"
     ]
    },
    {
     "name": "stdout",
     "output_type": "stream",
     "text": [
      "Retrieving: https://www.lamudi.com.ph/metro-manila/taguig/condominium/buy/?script=23&page=48 --- Success!\n"
     ]
    },
    {
     "name": "stderr",
     "output_type": "stream",
     "text": [
      "Scraping pages:  48%|████▊     | 48/100 [01:59<02:24,  2.78s/it]"
     ]
    },
    {
     "name": "stdout",
     "output_type": "stream",
     "text": [
      "Retrieving: https://www.lamudi.com.ph/metro-manila/taguig/condominium/buy/?script=23&page=49 --- Success!\n"
     ]
    },
    {
     "name": "stderr",
     "output_type": "stream",
     "text": [
      "Scraping pages:  49%|████▉     | 49/100 [02:02<02:26,  2.88s/it]"
     ]
    },
    {
     "name": "stdout",
     "output_type": "stream",
     "text": [
      "Retrieving: https://www.lamudi.com.ph/metro-manila/taguig/condominium/buy/?script=23&page=50 --- Success!\n"
     ]
    },
    {
     "name": "stderr",
     "output_type": "stream",
     "text": [
      "Scraping pages:  50%|█████     | 50/100 [02:04<02:11,  2.63s/it]"
     ]
    },
    {
     "name": "stdout",
     "output_type": "stream",
     "text": [
      "Retrieving: https://www.lamudi.com.ph/metro-manila/taguig/condominium/buy/?script=23&page=51 --- Success!\n"
     ]
    },
    {
     "name": "stderr",
     "output_type": "stream",
     "text": [
      "Scraping pages:  51%|█████     | 51/100 [02:07<02:06,  2.58s/it]"
     ]
    },
    {
     "name": "stdout",
     "output_type": "stream",
     "text": [
      "Retrieving: https://www.lamudi.com.ph/metro-manila/taguig/condominium/buy/?script=23&page=52 --- Success!\n"
     ]
    },
    {
     "name": "stderr",
     "output_type": "stream",
     "text": [
      "Scraping pages:  52%|█████▏    | 52/100 [02:09<02:01,  2.52s/it]"
     ]
    },
    {
     "name": "stdout",
     "output_type": "stream",
     "text": [
      "Retrieving: https://www.lamudi.com.ph/metro-manila/taguig/condominium/buy/?script=23&page=53 --- Success!\n"
     ]
    },
    {
     "name": "stderr",
     "output_type": "stream",
     "text": [
      "Scraping pages:  53%|█████▎    | 53/100 [02:11<01:51,  2.36s/it]"
     ]
    },
    {
     "name": "stdout",
     "output_type": "stream",
     "text": [
      "Retrieving: https://www.lamudi.com.ph/metro-manila/taguig/condominium/buy/?script=23&page=54 --- Success!\n"
     ]
    },
    {
     "name": "stderr",
     "output_type": "stream",
     "text": [
      "Scraping pages:  54%|█████▍    | 54/100 [02:13<01:48,  2.37s/it]"
     ]
    },
    {
     "name": "stdout",
     "output_type": "stream",
     "text": [
      "Retrieving: https://www.lamudi.com.ph/metro-manila/taguig/condominium/buy/?script=23&page=55 --- Success!\n"
     ]
    },
    {
     "name": "stderr",
     "output_type": "stream",
     "text": [
      "Scraping pages:  55%|█████▌    | 55/100 [02:15<01:43,  2.29s/it]"
     ]
    },
    {
     "name": "stdout",
     "output_type": "stream",
     "text": [
      "Retrieving: https://www.lamudi.com.ph/metro-manila/taguig/condominium/buy/?script=23&page=56 --- Success!\n"
     ]
    },
    {
     "name": "stderr",
     "output_type": "stream",
     "text": [
      "Scraping pages:  56%|█████▌    | 56/100 [02:18<01:40,  2.28s/it]"
     ]
    },
    {
     "name": "stdout",
     "output_type": "stream",
     "text": [
      "Retrieving: https://www.lamudi.com.ph/metro-manila/taguig/condominium/buy/?script=23&page=57 --- Success!\n"
     ]
    },
    {
     "name": "stderr",
     "output_type": "stream",
     "text": [
      "Scraping pages:  57%|█████▋    | 57/100 [02:20<01:39,  2.31s/it]"
     ]
    },
    {
     "name": "stdout",
     "output_type": "stream",
     "text": [
      "Retrieving: https://www.lamudi.com.ph/metro-manila/taguig/condominium/buy/?script=23&page=58 --- Success!\n"
     ]
    },
    {
     "name": "stderr",
     "output_type": "stream",
     "text": [
      "Scraping pages:  58%|█████▊    | 58/100 [02:23<01:40,  2.38s/it]"
     ]
    },
    {
     "name": "stdout",
     "output_type": "stream",
     "text": [
      "Retrieving: https://www.lamudi.com.ph/metro-manila/taguig/condominium/buy/?script=23&page=59 --- Success!\n"
     ]
    },
    {
     "name": "stderr",
     "output_type": "stream",
     "text": [
      "Scraping pages:  59%|█████▉    | 59/100 [02:25<01:36,  2.35s/it]"
     ]
    },
    {
     "name": "stdout",
     "output_type": "stream",
     "text": [
      "Retrieving: https://www.lamudi.com.ph/metro-manila/taguig/condominium/buy/?script=23&page=60 --- Success!\n"
     ]
    },
    {
     "name": "stderr",
     "output_type": "stream",
     "text": [
      "Scraping pages:  60%|██████    | 60/100 [02:27<01:35,  2.39s/it]"
     ]
    },
    {
     "name": "stdout",
     "output_type": "stream",
     "text": [
      "Retrieving: https://www.lamudi.com.ph/metro-manila/taguig/condominium/buy/?script=23&page=61 --- Success!\n"
     ]
    },
    {
     "name": "stderr",
     "output_type": "stream",
     "text": [
      "Scraping pages:  61%|██████    | 61/100 [02:30<01:31,  2.35s/it]"
     ]
    },
    {
     "name": "stdout",
     "output_type": "stream",
     "text": [
      "Retrieving: https://www.lamudi.com.ph/metro-manila/taguig/condominium/buy/?script=23&page=62 --- Success!\n"
     ]
    },
    {
     "name": "stderr",
     "output_type": "stream",
     "text": [
      "Scraping pages:  62%|██████▏   | 62/100 [02:32<01:27,  2.31s/it]"
     ]
    },
    {
     "name": "stdout",
     "output_type": "stream",
     "text": [
      "Retrieving: https://www.lamudi.com.ph/metro-manila/taguig/condominium/buy/?script=23&page=63 --- Success!\n"
     ]
    },
    {
     "name": "stderr",
     "output_type": "stream",
     "text": [
      "Scraping pages:  63%|██████▎   | 63/100 [02:34<01:28,  2.40s/it]"
     ]
    },
    {
     "name": "stdout",
     "output_type": "stream",
     "text": [
      "Retrieving: https://www.lamudi.com.ph/metro-manila/taguig/condominium/buy/?script=23&page=64 --- Success!\n"
     ]
    },
    {
     "name": "stderr",
     "output_type": "stream",
     "text": [
      "Scraping pages:  64%|██████▍   | 64/100 [02:37<01:22,  2.31s/it]"
     ]
    },
    {
     "name": "stdout",
     "output_type": "stream",
     "text": [
      "Retrieving: https://www.lamudi.com.ph/metro-manila/taguig/condominium/buy/?script=23&page=65 --- Success!\n"
     ]
    },
    {
     "name": "stderr",
     "output_type": "stream",
     "text": [
      "Scraping pages:  65%|██████▌   | 65/100 [02:39<01:23,  2.37s/it]"
     ]
    },
    {
     "name": "stdout",
     "output_type": "stream",
     "text": [
      "Retrieving: https://www.lamudi.com.ph/metro-manila/taguig/condominium/buy/?script=23&page=66 --- Success!\n"
     ]
    },
    {
     "name": "stderr",
     "output_type": "stream",
     "text": [
      "Scraping pages:  66%|██████▌   | 66/100 [02:41<01:17,  2.27s/it]"
     ]
    },
    {
     "name": "stdout",
     "output_type": "stream",
     "text": [
      "Retrieving: https://www.lamudi.com.ph/metro-manila/taguig/condominium/buy/?script=23&page=67 --- Success!\n"
     ]
    },
    {
     "name": "stderr",
     "output_type": "stream",
     "text": [
      "Scraping pages:  67%|██████▋   | 67/100 [02:43<01:14,  2.25s/it]"
     ]
    },
    {
     "name": "stdout",
     "output_type": "stream",
     "text": [
      "Retrieving: https://www.lamudi.com.ph/metro-manila/taguig/condominium/buy/?script=23&page=68 --- Success!\n"
     ]
    },
    {
     "name": "stderr",
     "output_type": "stream",
     "text": [
      "Scraping pages:  68%|██████▊   | 68/100 [02:46<01:12,  2.27s/it]"
     ]
    },
    {
     "name": "stdout",
     "output_type": "stream",
     "text": [
      "Retrieving: https://www.lamudi.com.ph/metro-manila/taguig/condominium/buy/?script=23&page=69 --- Success!\n"
     ]
    },
    {
     "name": "stderr",
     "output_type": "stream",
     "text": [
      "Scraping pages:  69%|██████▉   | 69/100 [02:48<01:07,  2.19s/it]"
     ]
    },
    {
     "name": "stdout",
     "output_type": "stream",
     "text": [
      "Retrieving: https://www.lamudi.com.ph/metro-manila/taguig/condominium/buy/?script=23&page=70 --- Success!\n"
     ]
    },
    {
     "name": "stderr",
     "output_type": "stream",
     "text": [
      "Scraping pages:  70%|███████   | 70/100 [02:50<01:06,  2.23s/it]"
     ]
    },
    {
     "name": "stdout",
     "output_type": "stream",
     "text": [
      "Retrieving: https://www.lamudi.com.ph/metro-manila/taguig/condominium/buy/?script=23&page=71 --- Success!\n"
     ]
    },
    {
     "name": "stderr",
     "output_type": "stream",
     "text": [
      "Scraping pages:  71%|███████   | 71/100 [02:52<01:07,  2.33s/it]"
     ]
    },
    {
     "name": "stdout",
     "output_type": "stream",
     "text": [
      "Retrieving: https://www.lamudi.com.ph/metro-manila/taguig/condominium/buy/?script=23&page=72 --- Success!\n"
     ]
    },
    {
     "name": "stderr",
     "output_type": "stream",
     "text": [
      "Scraping pages:  72%|███████▏  | 72/100 [02:56<01:13,  2.61s/it]"
     ]
    },
    {
     "name": "stdout",
     "output_type": "stream",
     "text": [
      "Retrieving: https://www.lamudi.com.ph/metro-manila/taguig/condominium/buy/?script=23&page=73 --- Success!\n"
     ]
    },
    {
     "name": "stderr",
     "output_type": "stream",
     "text": [
      "Scraping pages:  73%|███████▎  | 73/100 [02:58<01:10,  2.63s/it]"
     ]
    },
    {
     "name": "stdout",
     "output_type": "stream",
     "text": [
      "Retrieving: https://www.lamudi.com.ph/metro-manila/taguig/condominium/buy/?script=23&page=74 --- Success!\n"
     ]
    },
    {
     "name": "stderr",
     "output_type": "stream",
     "text": [
      "Scraping pages:  74%|███████▍  | 74/100 [03:01<01:06,  2.55s/it]"
     ]
    },
    {
     "name": "stdout",
     "output_type": "stream",
     "text": [
      "Retrieving: https://www.lamudi.com.ph/metro-manila/taguig/condominium/buy/?script=23&page=75 --- Success!\n"
     ]
    },
    {
     "name": "stderr",
     "output_type": "stream",
     "text": [
      "Scraping pages:  75%|███████▌  | 75/100 [03:03<01:04,  2.59s/it]"
     ]
    },
    {
     "name": "stdout",
     "output_type": "stream",
     "text": [
      "Retrieving: https://www.lamudi.com.ph/metro-manila/taguig/condominium/buy/?script=23&page=76 --- Success!\n"
     ]
    },
    {
     "name": "stderr",
     "output_type": "stream",
     "text": [
      "Scraping pages:  76%|███████▌  | 76/100 [03:06<00:59,  2.46s/it]"
     ]
    },
    {
     "name": "stdout",
     "output_type": "stream",
     "text": [
      "Retrieving: https://www.lamudi.com.ph/metro-manila/taguig/condominium/buy/?script=23&page=77 --- Success!\n"
     ]
    },
    {
     "name": "stderr",
     "output_type": "stream",
     "text": [
      "Scraping pages:  77%|███████▋  | 77/100 [03:08<00:56,  2.45s/it]"
     ]
    },
    {
     "name": "stdout",
     "output_type": "stream",
     "text": [
      "Retrieving: https://www.lamudi.com.ph/metro-manila/taguig/condominium/buy/?script=23&page=78 --- Success!\n"
     ]
    },
    {
     "name": "stderr",
     "output_type": "stream",
     "text": [
      "Scraping pages:  78%|███████▊  | 78/100 [03:10<00:53,  2.43s/it]"
     ]
    },
    {
     "name": "stdout",
     "output_type": "stream",
     "text": [
      "Retrieving: https://www.lamudi.com.ph/metro-manila/taguig/condominium/buy/?script=23&page=79 --- Success!\n"
     ]
    },
    {
     "name": "stderr",
     "output_type": "stream",
     "text": [
      "Scraping pages:  79%|███████▉  | 79/100 [03:13<00:49,  2.38s/it]"
     ]
    },
    {
     "name": "stdout",
     "output_type": "stream",
     "text": [
      "Retrieving: https://www.lamudi.com.ph/metro-manila/taguig/condominium/buy/?script=23&page=80 --- Success!\n"
     ]
    },
    {
     "name": "stderr",
     "output_type": "stream",
     "text": [
      "Scraping pages:  80%|████████  | 80/100 [03:15<00:46,  2.31s/it]"
     ]
    },
    {
     "name": "stdout",
     "output_type": "stream",
     "text": [
      "Retrieving: https://www.lamudi.com.ph/metro-manila/taguig/condominium/buy/?script=23&page=81 --- Success!\n"
     ]
    },
    {
     "name": "stderr",
     "output_type": "stream",
     "text": [
      "Scraping pages:  81%|████████  | 81/100 [03:17<00:43,  2.27s/it]"
     ]
    },
    {
     "name": "stdout",
     "output_type": "stream",
     "text": [
      "Retrieving: https://www.lamudi.com.ph/metro-manila/taguig/condominium/buy/?script=23&page=82 --- Success!\n"
     ]
    },
    {
     "name": "stderr",
     "output_type": "stream",
     "text": [
      "Scraping pages:  82%|████████▏ | 82/100 [03:19<00:39,  2.20s/it]"
     ]
    },
    {
     "name": "stdout",
     "output_type": "stream",
     "text": [
      "Retrieving: https://www.lamudi.com.ph/metro-manila/taguig/condominium/buy/?script=23&page=83 --- Success!\n"
     ]
    },
    {
     "name": "stderr",
     "output_type": "stream",
     "text": [
      "Scraping pages:  83%|████████▎ | 83/100 [03:21<00:37,  2.18s/it]"
     ]
    },
    {
     "name": "stdout",
     "output_type": "stream",
     "text": [
      "Retrieving: https://www.lamudi.com.ph/metro-manila/taguig/condominium/buy/?script=23&page=84 --- Success!\n"
     ]
    },
    {
     "name": "stderr",
     "output_type": "stream",
     "text": [
      "Scraping pages:  84%|████████▍ | 84/100 [03:24<00:36,  2.27s/it]"
     ]
    },
    {
     "name": "stdout",
     "output_type": "stream",
     "text": [
      "Retrieving: https://www.lamudi.com.ph/metro-manila/taguig/condominium/buy/?script=23&page=85 --- Success!\n"
     ]
    },
    {
     "name": "stderr",
     "output_type": "stream",
     "text": [
      "Scraping pages:  85%|████████▌ | 85/100 [03:26<00:34,  2.27s/it]"
     ]
    },
    {
     "name": "stdout",
     "output_type": "stream",
     "text": [
      "Retrieving: https://www.lamudi.com.ph/metro-manila/taguig/condominium/buy/?script=23&page=86 --- Success!\n"
     ]
    },
    {
     "name": "stderr",
     "output_type": "stream",
     "text": [
      "Scraping pages:  86%|████████▌ | 86/100 [03:28<00:31,  2.22s/it]"
     ]
    },
    {
     "name": "stdout",
     "output_type": "stream",
     "text": [
      "Retrieving: https://www.lamudi.com.ph/metro-manila/taguig/condominium/buy/?script=23&page=87 --- Success!\n"
     ]
    },
    {
     "name": "stderr",
     "output_type": "stream",
     "text": [
      "Scraping pages:  87%|████████▋ | 87/100 [03:31<00:30,  2.36s/it]"
     ]
    },
    {
     "name": "stdout",
     "output_type": "stream",
     "text": [
      "Retrieving: https://www.lamudi.com.ph/metro-manila/taguig/condominium/buy/?script=23&page=88 --- Success!\n"
     ]
    },
    {
     "name": "stderr",
     "output_type": "stream",
     "text": [
      "Scraping pages:  88%|████████▊ | 88/100 [03:33<00:28,  2.34s/it]"
     ]
    },
    {
     "name": "stdout",
     "output_type": "stream",
     "text": [
      "Retrieving: https://www.lamudi.com.ph/metro-manila/taguig/condominium/buy/?script=23&page=89 --- Success!\n"
     ]
    },
    {
     "name": "stderr",
     "output_type": "stream",
     "text": [
      "Scraping pages:  89%|████████▉ | 89/100 [03:36<00:26,  2.38s/it]"
     ]
    },
    {
     "name": "stdout",
     "output_type": "stream",
     "text": [
      "Retrieving: https://www.lamudi.com.ph/metro-manila/taguig/condominium/buy/?script=23&page=90 --- Success!\n"
     ]
    },
    {
     "name": "stderr",
     "output_type": "stream",
     "text": [
      "Scraping pages:  90%|█████████ | 90/100 [03:37<00:22,  2.25s/it]"
     ]
    },
    {
     "name": "stdout",
     "output_type": "stream",
     "text": [
      "Retrieving: https://www.lamudi.com.ph/metro-manila/taguig/condominium/buy/?script=23&page=91 --- Success!\n"
     ]
    },
    {
     "name": "stderr",
     "output_type": "stream",
     "text": [
      "Scraping pages:  91%|█████████ | 91/100 [03:40<00:21,  2.39s/it]"
     ]
    },
    {
     "name": "stdout",
     "output_type": "stream",
     "text": [
      "Retrieving: https://www.lamudi.com.ph/metro-manila/taguig/condominium/buy/?script=23&page=92 --- Success!\n"
     ]
    },
    {
     "name": "stderr",
     "output_type": "stream",
     "text": [
      "Scraping pages:  92%|█████████▏| 92/100 [03:43<00:19,  2.39s/it]"
     ]
    },
    {
     "name": "stdout",
     "output_type": "stream",
     "text": [
      "Retrieving: https://www.lamudi.com.ph/metro-manila/taguig/condominium/buy/?script=23&page=93 --- Success!\n"
     ]
    },
    {
     "name": "stderr",
     "output_type": "stream",
     "text": [
      "Scraping pages:  93%|█████████▎| 93/100 [03:45<00:16,  2.34s/it]"
     ]
    },
    {
     "name": "stdout",
     "output_type": "stream",
     "text": [
      "Retrieving: https://www.lamudi.com.ph/metro-manila/taguig/condominium/buy/?script=23&page=94 --- Success!\n"
     ]
    },
    {
     "name": "stderr",
     "output_type": "stream",
     "text": [
      "Scraping pages:  94%|█████████▍| 94/100 [03:47<00:13,  2.25s/it]"
     ]
    },
    {
     "name": "stdout",
     "output_type": "stream",
     "text": [
      "Retrieving: https://www.lamudi.com.ph/metro-manila/taguig/condominium/buy/?script=23&page=95 --- Success!\n"
     ]
    },
    {
     "name": "stderr",
     "output_type": "stream",
     "text": [
      "Scraping pages:  95%|█████████▌| 95/100 [03:49<00:11,  2.26s/it]"
     ]
    },
    {
     "name": "stdout",
     "output_type": "stream",
     "text": [
      "Retrieving: https://www.lamudi.com.ph/metro-manila/taguig/condominium/buy/?script=23&page=96 --- Success!\n"
     ]
    },
    {
     "name": "stderr",
     "output_type": "stream",
     "text": [
      "Scraping pages:  96%|█████████▌| 96/100 [03:52<00:09,  2.33s/it]"
     ]
    },
    {
     "name": "stdout",
     "output_type": "stream",
     "text": [
      "Retrieving: https://www.lamudi.com.ph/metro-manila/taguig/condominium/buy/?script=23&page=97 --- Success!\n"
     ]
    },
    {
     "name": "stderr",
     "output_type": "stream",
     "text": [
      "Scraping pages:  97%|█████████▋| 97/100 [03:57<00:09,  3.30s/it]"
     ]
    },
    {
     "name": "stdout",
     "output_type": "stream",
     "text": [
      "Retrieving: https://www.lamudi.com.ph/metro-manila/taguig/condominium/buy/?script=23&page=98 --- Success!\n"
     ]
    },
    {
     "name": "stderr",
     "output_type": "stream",
     "text": [
      "Scraping pages:  98%|█████████▊| 98/100 [04:00<00:06,  3.14s/it]"
     ]
    },
    {
     "name": "stdout",
     "output_type": "stream",
     "text": [
      "Retrieving: https://www.lamudi.com.ph/metro-manila/taguig/condominium/buy/?script=23&page=99 --- Success!\n"
     ]
    },
    {
     "name": "stderr",
     "output_type": "stream",
     "text": [
      "Scraping pages:  99%|█████████▉| 99/100 [04:02<00:02,  2.91s/it]"
     ]
    },
    {
     "name": "stdout",
     "output_type": "stream",
     "text": [
      "Retrieving: https://www.lamudi.com.ph/metro-manila/taguig/condominium/buy/?script=23&page=100 --- Success!\n"
     ]
    },
    {
     "name": "stderr",
     "output_type": "stream",
     "text": [
      "Scraping pages: 100%|██████████| 100/100 [04:05<00:00,  2.45s/it]\n",
      "Scraping pages:   0%|          | 0/20 [00:00<?, ?it/s]"
     ]
    },
    {
     "name": "stdout",
     "output_type": "stream",
     "text": [
      "Retrieving: https://www.lamudi.com.ph/metro-manila/taguig/house/buy/?script=23&page=1 --- Success!\n"
     ]
    },
    {
     "name": "stderr",
     "output_type": "stream",
     "text": [
      "Scraping pages:   5%|▌         | 1/20 [00:02<00:50,  2.63s/it]"
     ]
    },
    {
     "name": "stdout",
     "output_type": "stream",
     "text": [
      "Retrieving: https://www.lamudi.com.ph/metro-manila/taguig/house/buy/?script=23&page=2 --- Success!\n"
     ]
    },
    {
     "name": "stderr",
     "output_type": "stream",
     "text": [
      "Scraping pages:  10%|█         | 2/20 [00:04<00:41,  2.32s/it]"
     ]
    },
    {
     "name": "stdout",
     "output_type": "stream",
     "text": [
      "Retrieving: https://www.lamudi.com.ph/metro-manila/taguig/house/buy/?script=23&page=3 --- Success!\n"
     ]
    },
    {
     "name": "stderr",
     "output_type": "stream",
     "text": [
      "Scraping pages:  15%|█▌        | 3/20 [00:07<00:39,  2.32s/it]"
     ]
    },
    {
     "name": "stdout",
     "output_type": "stream",
     "text": [
      "Retrieving: https://www.lamudi.com.ph/metro-manila/taguig/house/buy/?script=23&page=4 --- Success!\n"
     ]
    },
    {
     "name": "stderr",
     "output_type": "stream",
     "text": [
      "Scraping pages:  20%|██        | 4/20 [00:09<00:36,  2.27s/it]"
     ]
    },
    {
     "name": "stdout",
     "output_type": "stream",
     "text": [
      "Retrieving: https://www.lamudi.com.ph/metro-manila/taguig/house/buy/?script=23&page=5 --- Success!\n"
     ]
    },
    {
     "name": "stderr",
     "output_type": "stream",
     "text": [
      "Scraping pages:  25%|██▌       | 5/20 [00:11<00:32,  2.18s/it]"
     ]
    },
    {
     "name": "stdout",
     "output_type": "stream",
     "text": [
      "Retrieving: https://www.lamudi.com.ph/metro-manila/taguig/house/buy/?script=23&page=6 --- Success!\n"
     ]
    },
    {
     "name": "stderr",
     "output_type": "stream",
     "text": [
      "Scraping pages:  30%|███       | 6/20 [00:14<00:35,  2.55s/it]"
     ]
    },
    {
     "name": "stdout",
     "output_type": "stream",
     "text": [
      "Retrieving: https://www.lamudi.com.ph/metro-manila/taguig/house/buy/?script=23&page=7 --- Success!\n"
     ]
    },
    {
     "name": "stderr",
     "output_type": "stream",
     "text": [
      "Scraping pages:  35%|███▌      | 7/20 [00:17<00:33,  2.54s/it]"
     ]
    },
    {
     "name": "stdout",
     "output_type": "stream",
     "text": [
      "Retrieving: https://www.lamudi.com.ph/metro-manila/taguig/house/buy/?script=23&page=8 --- Success!\n"
     ]
    },
    {
     "name": "stderr",
     "output_type": "stream",
     "text": [
      "Scraping pages:  40%|████      | 8/20 [00:19<00:30,  2.51s/it]"
     ]
    },
    {
     "name": "stdout",
     "output_type": "stream",
     "text": [
      "Retrieving: https://www.lamudi.com.ph/metro-manila/taguig/house/buy/?script=23&page=9 --- Success!\n"
     ]
    },
    {
     "name": "stderr",
     "output_type": "stream",
     "text": [
      "Scraping pages:  45%|████▌     | 9/20 [00:21<00:26,  2.42s/it]"
     ]
    },
    {
     "name": "stdout",
     "output_type": "stream",
     "text": [
      "Retrieving: https://www.lamudi.com.ph/metro-manila/taguig/house/buy/?script=23&page=10 --- Success!\n"
     ]
    },
    {
     "name": "stderr",
     "output_type": "stream",
     "text": [
      "Scraping pages:  50%|█████     | 10/20 [00:23<00:22,  2.29s/it]"
     ]
    },
    {
     "name": "stdout",
     "output_type": "stream",
     "text": [
      "Retrieving: https://www.lamudi.com.ph/metro-manila/taguig/house/buy/?script=23&page=11 --- Success!\n"
     ]
    },
    {
     "name": "stderr",
     "output_type": "stream",
     "text": [
      "Scraping pages:  55%|█████▌    | 11/20 [00:26<00:21,  2.38s/it]"
     ]
    },
    {
     "name": "stdout",
     "output_type": "stream",
     "text": [
      "Retrieving: https://www.lamudi.com.ph/metro-manila/taguig/house/buy/?script=23&page=12 --- Success!\n"
     ]
    },
    {
     "name": "stderr",
     "output_type": "stream",
     "text": [
      "Scraping pages:  60%|██████    | 12/20 [00:28<00:19,  2.39s/it]"
     ]
    },
    {
     "name": "stdout",
     "output_type": "stream",
     "text": [
      "Retrieving: https://www.lamudi.com.ph/metro-manila/taguig/house/buy/?script=23&page=13 --- Success!\n"
     ]
    },
    {
     "name": "stderr",
     "output_type": "stream",
     "text": [
      "Scraping pages:  65%|██████▌   | 13/20 [00:31<00:17,  2.44s/it]"
     ]
    },
    {
     "name": "stdout",
     "output_type": "stream",
     "text": [
      "Retrieving: https://www.lamudi.com.ph/metro-manila/taguig/house/buy/?script=23&page=14 --- Success!\n"
     ]
    },
    {
     "name": "stderr",
     "output_type": "stream",
     "text": [
      "Scraping pages:  70%|███████   | 14/20 [00:33<00:14,  2.43s/it]"
     ]
    },
    {
     "name": "stdout",
     "output_type": "stream",
     "text": [
      "Retrieving: https://www.lamudi.com.ph/metro-manila/taguig/house/buy/?script=23&page=15 --- Success!\n"
     ]
    },
    {
     "name": "stderr",
     "output_type": "stream",
     "text": [
      "Scraping pages:  75%|███████▌  | 15/20 [00:35<00:11,  2.26s/it]"
     ]
    },
    {
     "name": "stdout",
     "output_type": "stream",
     "text": [
      "Retrieving: https://www.lamudi.com.ph/metro-manila/taguig/house/buy/?script=23&page=16 --- Success!\n"
     ]
    },
    {
     "name": "stderr",
     "output_type": "stream",
     "text": [
      "Scraping pages:  80%|████████  | 16/20 [00:37<00:08,  2.17s/it]"
     ]
    },
    {
     "name": "stdout",
     "output_type": "stream",
     "text": [
      "Retrieving: https://www.lamudi.com.ph/metro-manila/taguig/house/buy/?script=23&page=17 --- Success!\n"
     ]
    },
    {
     "name": "stderr",
     "output_type": "stream",
     "text": [
      "Scraping pages:  85%|████████▌ | 17/20 [00:39<00:06,  2.16s/it]"
     ]
    },
    {
     "name": "stdout",
     "output_type": "stream",
     "text": [
      "Retrieving: https://www.lamudi.com.ph/metro-manila/taguig/house/buy/?script=23&page=18 --- Success!\n"
     ]
    },
    {
     "name": "stderr",
     "output_type": "stream",
     "text": [
      "Scraping pages:  90%|█████████ | 18/20 [00:41<00:04,  2.22s/it]"
     ]
    },
    {
     "name": "stdout",
     "output_type": "stream",
     "text": [
      "Retrieving: https://www.lamudi.com.ph/metro-manila/taguig/house/buy/?script=23&page=19 --- Success!\n"
     ]
    },
    {
     "name": "stderr",
     "output_type": "stream",
     "text": [
      "Scraping pages:  95%|█████████▌| 19/20 [00:44<00:02,  2.23s/it]"
     ]
    },
    {
     "name": "stdout",
     "output_type": "stream",
     "text": [
      "Retrieving: https://www.lamudi.com.ph/metro-manila/taguig/house/buy/?script=23&page=20 --- Success!\n"
     ]
    },
    {
     "name": "stderr",
     "output_type": "stream",
     "text": [
      "Scraping pages: 100%|██████████| 20/20 [00:46<00:00,  2.35s/it]\n",
      "Scraping pages:   0%|          | 0/15 [00:00<?, ?it/s]"
     ]
    },
    {
     "name": "stdout",
     "output_type": "stream",
     "text": [
      "Retrieving: https://www.lamudi.com.ph/metro-manila/taguig/land/buy/?script=23&page=1 --- Success!\n"
     ]
    },
    {
     "name": "stderr",
     "output_type": "stream",
     "text": [
      "Scraping pages:   7%|▋         | 1/15 [00:05<01:19,  5.68s/it]"
     ]
    },
    {
     "name": "stdout",
     "output_type": "stream",
     "text": [
      "Retrieving: https://www.lamudi.com.ph/metro-manila/taguig/land/buy/?script=23&page=2 --- Success!\n"
     ]
    },
    {
     "name": "stderr",
     "output_type": "stream",
     "text": [
      "Scraping pages:  13%|█▎        | 2/15 [00:08<00:48,  3.76s/it]"
     ]
    },
    {
     "name": "stdout",
     "output_type": "stream",
     "text": [
      "Retrieving: https://www.lamudi.com.ph/metro-manila/taguig/land/buy/?script=23&page=3 --- Success!\n"
     ]
    },
    {
     "name": "stderr",
     "output_type": "stream",
     "text": [
      "Scraping pages:  20%|██        | 3/15 [00:10<00:35,  2.97s/it]"
     ]
    },
    {
     "name": "stdout",
     "output_type": "stream",
     "text": [
      "Retrieving: https://www.lamudi.com.ph/metro-manila/taguig/land/buy/?script=23&page=4 --- Success!\n"
     ]
    },
    {
     "name": "stderr",
     "output_type": "stream",
     "text": [
      "Scraping pages:  27%|██▋       | 4/15 [00:12<00:29,  2.70s/it]"
     ]
    },
    {
     "name": "stdout",
     "output_type": "stream",
     "text": [
      "Retrieving: https://www.lamudi.com.ph/metro-manila/taguig/land/buy/?script=23&page=5 --- Success!\n"
     ]
    },
    {
     "name": "stderr",
     "output_type": "stream",
     "text": [
      "Scraping pages:  33%|███▎      | 5/15 [00:14<00:24,  2.47s/it]"
     ]
    },
    {
     "name": "stdout",
     "output_type": "stream",
     "text": [
      "Retrieving: https://www.lamudi.com.ph/metro-manila/taguig/land/buy/?script=23&page=6 --- Success!\n"
     ]
    },
    {
     "name": "stderr",
     "output_type": "stream",
     "text": [
      "Scraping pages:  40%|████      | 6/15 [00:16<00:21,  2.34s/it]"
     ]
    },
    {
     "name": "stdout",
     "output_type": "stream",
     "text": [
      "Retrieving: https://www.lamudi.com.ph/metro-manila/taguig/land/buy/?script=23&page=7 --- Success!\n"
     ]
    },
    {
     "name": "stderr",
     "output_type": "stream",
     "text": [
      "Scraping pages:  47%|████▋     | 7/15 [00:18<00:18,  2.28s/it]"
     ]
    },
    {
     "name": "stdout",
     "output_type": "stream",
     "text": [
      "Retrieving: https://www.lamudi.com.ph/metro-manila/taguig/land/buy/?script=23&page=8 --- Success!\n"
     ]
    },
    {
     "name": "stderr",
     "output_type": "stream",
     "text": [
      "Scraping pages:  53%|█████▎    | 8/15 [00:21<00:16,  2.36s/it]"
     ]
    },
    {
     "name": "stdout",
     "output_type": "stream",
     "text": [
      "Retrieving: https://www.lamudi.com.ph/metro-manila/taguig/land/buy/?script=23&page=9 --- Success!\n"
     ]
    },
    {
     "name": "stderr",
     "output_type": "stream",
     "text": [
      "Scraping pages:  60%|██████    | 9/15 [00:23<00:13,  2.26s/it]"
     ]
    },
    {
     "name": "stdout",
     "output_type": "stream",
     "text": [
      "Retrieving: https://www.lamudi.com.ph/metro-manila/taguig/land/buy/?script=23&page=10 --- Success!\n"
     ]
    },
    {
     "name": "stderr",
     "output_type": "stream",
     "text": [
      "Scraping pages:  67%|██████▋   | 10/15 [00:25<00:11,  2.29s/it]"
     ]
    },
    {
     "name": "stdout",
     "output_type": "stream",
     "text": [
      "Retrieving: https://www.lamudi.com.ph/metro-manila/taguig/land/buy/?script=23&page=11 --- Success!\n"
     ]
    },
    {
     "name": "stderr",
     "output_type": "stream",
     "text": [
      "Scraping pages:  73%|███████▎  | 11/15 [00:27<00:08,  2.22s/it]"
     ]
    },
    {
     "name": "stdout",
     "output_type": "stream",
     "text": [
      "Retrieving: https://www.lamudi.com.ph/metro-manila/taguig/land/buy/?script=23&page=12 --- Success!\n"
     ]
    },
    {
     "name": "stderr",
     "output_type": "stream",
     "text": [
      "Scraping pages:  80%|████████  | 12/15 [00:30<00:06,  2.25s/it]"
     ]
    },
    {
     "name": "stdout",
     "output_type": "stream",
     "text": [
      "Retrieving: https://www.lamudi.com.ph/metro-manila/taguig/land/buy/?script=23&page=13 --- Success!\n"
     ]
    },
    {
     "name": "stderr",
     "output_type": "stream",
     "text": [
      "Scraping pages:  87%|████████▋ | 13/15 [00:32<00:04,  2.30s/it]"
     ]
    },
    {
     "name": "stdout",
     "output_type": "stream",
     "text": [
      "Retrieving: https://www.lamudi.com.ph/metro-manila/taguig/land/buy/?script=23&page=14 --- Success!\n"
     ]
    },
    {
     "name": "stderr",
     "output_type": "stream",
     "text": [
      "Scraping pages:  93%|█████████▎| 14/15 [00:34<00:02,  2.25s/it]"
     ]
    },
    {
     "name": "stdout",
     "output_type": "stream",
     "text": [
      "Retrieving: https://www.lamudi.com.ph/metro-manila/taguig/land/buy/?script=23&page=15 --- Success!\n"
     ]
    },
    {
     "name": "stderr",
     "output_type": "stream",
     "text": [
      "Scraping pages: 100%|██████████| 15/15 [00:37<00:00,  2.47s/it]\n"
     ]
    }
   ],
   "source": [
    "taguig_condo = property_crawler(base_url='https://www.lamudi.com.ph/metro-manila/taguig/condominium/buy/?script=23&page=', start=1, end=100)\n",
    "taguig_house = property_crawler(base_url='https://www.lamudi.com.ph/metro-manila/taguig/house/buy/?script=23&page=', start=1, end=20)\n",
    "taguig_land = property_crawler(base_url='https://www.lamudi.com.ph/metro-manila/taguig/land/buy/?script=23&page=', start=1, end=15)"
   ]
  },
  {
   "cell_type": "code",
   "execution_count": 10,
   "metadata": {},
   "outputs": [
    {
     "name": "stderr",
     "output_type": "stream",
     "text": [
      "Scraping pages:   0%|          | 0/2 [00:00<?, ?it/s]"
     ]
    },
    {
     "name": "stdout",
     "output_type": "stream",
     "text": [
      "Retrieving: https://www.lamudi.com.ph/metro-manila/taguig/apartment/rent/?page=1 --- Success!\n"
     ]
    },
    {
     "name": "stderr",
     "output_type": "stream",
     "text": [
      "Scraping pages:  50%|█████     | 1/2 [00:02<00:02,  2.18s/it]"
     ]
    },
    {
     "name": "stdout",
     "output_type": "stream",
     "text": [
      "Retrieving: https://www.lamudi.com.ph/metro-manila/taguig/apartment/rent/?page=2 --- Success!\n"
     ]
    },
    {
     "name": "stderr",
     "output_type": "stream",
     "text": [
      "Scraping pages: 100%|██████████| 2/2 [00:05<00:00,  2.62s/it]\n",
      "Scraping pages:   0%|          | 0/100 [00:00<?, ?it/s]"
     ]
    },
    {
     "name": "stdout",
     "output_type": "stream",
     "text": [
      "Retrieving: https://www.lamudi.com.ph/metro-manila/taguig/condominium/rent/?page=1 --- Success!\n"
     ]
    },
    {
     "name": "stderr",
     "output_type": "stream",
     "text": [
      "Scraping pages:   1%|          | 1/100 [00:02<03:56,  2.39s/it]"
     ]
    },
    {
     "name": "stdout",
     "output_type": "stream",
     "text": [
      "Retrieving: https://www.lamudi.com.ph/metro-manila/taguig/condominium/rent/?page=2 --- Success!\n"
     ]
    },
    {
     "name": "stderr",
     "output_type": "stream",
     "text": [
      "Scraping pages:   2%|▏         | 2/100 [00:04<03:31,  2.16s/it]"
     ]
    },
    {
     "name": "stdout",
     "output_type": "stream",
     "text": [
      "Retrieving: https://www.lamudi.com.ph/metro-manila/taguig/condominium/rent/?page=3 --- Success!\n"
     ]
    },
    {
     "name": "stderr",
     "output_type": "stream",
     "text": [
      "Scraping pages:   3%|▎         | 3/100 [00:06<03:47,  2.35s/it]"
     ]
    },
    {
     "name": "stdout",
     "output_type": "stream",
     "text": [
      "Retrieving: https://www.lamudi.com.ph/metro-manila/taguig/condominium/rent/?page=4 --- Success!\n"
     ]
    },
    {
     "name": "stderr",
     "output_type": "stream",
     "text": [
      "Scraping pages:   4%|▍         | 4/100 [00:09<03:38,  2.28s/it]"
     ]
    },
    {
     "name": "stdout",
     "output_type": "stream",
     "text": [
      "Retrieving: https://www.lamudi.com.ph/metro-manila/taguig/condominium/rent/?page=5 --- Success!\n"
     ]
    },
    {
     "name": "stderr",
     "output_type": "stream",
     "text": [
      "Scraping pages:   5%|▌         | 5/100 [00:11<03:29,  2.21s/it]"
     ]
    },
    {
     "name": "stdout",
     "output_type": "stream",
     "text": [
      "Retrieving: https://www.lamudi.com.ph/metro-manila/taguig/condominium/rent/?page=6 --- Success!\n"
     ]
    },
    {
     "name": "stderr",
     "output_type": "stream",
     "text": [
      "Scraping pages:   6%|▌         | 6/100 [00:13<03:37,  2.31s/it]"
     ]
    },
    {
     "name": "stdout",
     "output_type": "stream",
     "text": [
      "Retrieving: https://www.lamudi.com.ph/metro-manila/taguig/condominium/rent/?page=7 --- Success!\n"
     ]
    },
    {
     "name": "stderr",
     "output_type": "stream",
     "text": [
      "Scraping pages:   7%|▋         | 7/100 [00:16<03:39,  2.36s/it]"
     ]
    },
    {
     "name": "stdout",
     "output_type": "stream",
     "text": [
      "Retrieving: https://www.lamudi.com.ph/metro-manila/taguig/condominium/rent/?page=8 --- Success!\n"
     ]
    },
    {
     "name": "stderr",
     "output_type": "stream",
     "text": [
      "Scraping pages:   8%|▊         | 8/100 [00:19<04:02,  2.64s/it]"
     ]
    },
    {
     "name": "stdout",
     "output_type": "stream",
     "text": [
      "Retrieving: https://www.lamudi.com.ph/metro-manila/taguig/condominium/rent/?page=9 --- Success!\n"
     ]
    },
    {
     "name": "stderr",
     "output_type": "stream",
     "text": [
      "Scraping pages:   9%|▉         | 9/100 [00:21<03:42,  2.44s/it]"
     ]
    },
    {
     "name": "stdout",
     "output_type": "stream",
     "text": [
      "Retrieving: https://www.lamudi.com.ph/metro-manila/taguig/condominium/rent/?page=10 --- Success!\n"
     ]
    },
    {
     "name": "stderr",
     "output_type": "stream",
     "text": [
      "Scraping pages:  10%|█         | 10/100 [00:24<03:45,  2.50s/it]"
     ]
    },
    {
     "name": "stdout",
     "output_type": "stream",
     "text": [
      "Retrieving: https://www.lamudi.com.ph/metro-manila/taguig/condominium/rent/?page=11 --- Success!\n"
     ]
    },
    {
     "name": "stderr",
     "output_type": "stream",
     "text": [
      "Scraping pages:  11%|█         | 11/100 [00:25<03:25,  2.30s/it]"
     ]
    },
    {
     "name": "stdout",
     "output_type": "stream",
     "text": [
      "Retrieving: https://www.lamudi.com.ph/metro-manila/taguig/condominium/rent/?page=12 --- Success!\n"
     ]
    },
    {
     "name": "stderr",
     "output_type": "stream",
     "text": [
      "Scraping pages:  12%|█▏        | 12/100 [00:28<03:21,  2.28s/it]"
     ]
    },
    {
     "name": "stdout",
     "output_type": "stream",
     "text": [
      "Retrieving: https://www.lamudi.com.ph/metro-manila/taguig/condominium/rent/?page=13 --- Success!\n"
     ]
    },
    {
     "name": "stderr",
     "output_type": "stream",
     "text": [
      "Scraping pages:  13%|█▎        | 13/100 [00:30<03:21,  2.31s/it]"
     ]
    },
    {
     "name": "stdout",
     "output_type": "stream",
     "text": [
      "Retrieving: https://www.lamudi.com.ph/metro-manila/taguig/condominium/rent/?page=14 --- Success!\n"
     ]
    },
    {
     "name": "stderr",
     "output_type": "stream",
     "text": [
      "Scraping pages:  14%|█▍        | 14/100 [00:32<03:12,  2.24s/it]"
     ]
    },
    {
     "name": "stdout",
     "output_type": "stream",
     "text": [
      "Retrieving: https://www.lamudi.com.ph/metro-manila/taguig/condominium/rent/?page=15 --- Success!\n"
     ]
    },
    {
     "name": "stderr",
     "output_type": "stream",
     "text": [
      "Scraping pages:  15%|█▌        | 15/100 [00:34<03:12,  2.26s/it]"
     ]
    },
    {
     "name": "stdout",
     "output_type": "stream",
     "text": [
      "Retrieving: https://www.lamudi.com.ph/metro-manila/taguig/condominium/rent/?page=16 --- Success!\n"
     ]
    },
    {
     "name": "stderr",
     "output_type": "stream",
     "text": [
      "Scraping pages:  16%|█▌        | 16/100 [00:37<03:20,  2.39s/it]"
     ]
    },
    {
     "name": "stdout",
     "output_type": "stream",
     "text": [
      "Retrieving: https://www.lamudi.com.ph/metro-manila/taguig/condominium/rent/?page=17 --- Success!\n"
     ]
    },
    {
     "name": "stderr",
     "output_type": "stream",
     "text": [
      "Scraping pages:  17%|█▋        | 17/100 [00:39<03:11,  2.31s/it]"
     ]
    },
    {
     "name": "stdout",
     "output_type": "stream",
     "text": [
      "Retrieving: https://www.lamudi.com.ph/metro-manila/taguig/condominium/rent/?page=18 --- Success!\n"
     ]
    },
    {
     "name": "stderr",
     "output_type": "stream",
     "text": [
      "Scraping pages:  18%|█▊        | 18/100 [00:41<03:03,  2.23s/it]"
     ]
    },
    {
     "name": "stdout",
     "output_type": "stream",
     "text": [
      "Retrieving: https://www.lamudi.com.ph/metro-manila/taguig/condominium/rent/?page=19 --- Success!\n"
     ]
    },
    {
     "name": "stderr",
     "output_type": "stream",
     "text": [
      "Scraping pages:  19%|█▉        | 19/100 [00:44<03:00,  2.23s/it]"
     ]
    },
    {
     "name": "stdout",
     "output_type": "stream",
     "text": [
      "Retrieving: https://www.lamudi.com.ph/metro-manila/taguig/condominium/rent/?page=20 --- Success!\n"
     ]
    },
    {
     "name": "stderr",
     "output_type": "stream",
     "text": [
      "Scraping pages:  20%|██        | 20/100 [01:15<14:50, 11.13s/it]"
     ]
    },
    {
     "name": "stdout",
     "output_type": "stream",
     "text": [
      "Retrieving: https://www.lamudi.com.ph/metro-manila/taguig/condominium/rent/?page=21 --- Success!\n"
     ]
    },
    {
     "name": "stderr",
     "output_type": "stream",
     "text": [
      "Scraping pages:  21%|██        | 21/100 [01:21<12:34,  9.55s/it]"
     ]
    },
    {
     "name": "stdout",
     "output_type": "stream",
     "text": [
      "Retrieving: https://www.lamudi.com.ph/metro-manila/taguig/condominium/rent/?page=22 --- Success!\n"
     ]
    },
    {
     "name": "stderr",
     "output_type": "stream",
     "text": [
      "Scraping pages:  22%|██▏       | 22/100 [01:24<09:42,  7.46s/it]"
     ]
    },
    {
     "name": "stdout",
     "output_type": "stream",
     "text": [
      "Retrieving: https://www.lamudi.com.ph/metro-manila/taguig/condominium/rent/?page=23 --- Success!\n"
     ]
    },
    {
     "name": "stderr",
     "output_type": "stream",
     "text": [
      "Scraping pages:  23%|██▎       | 23/100 [01:26<07:31,  5.86s/it]"
     ]
    },
    {
     "name": "stdout",
     "output_type": "stream",
     "text": [
      "Retrieving: https://www.lamudi.com.ph/metro-manila/taguig/condominium/rent/?page=24 --- Success!\n"
     ]
    },
    {
     "name": "stderr",
     "output_type": "stream",
     "text": [
      "Scraping pages:  24%|██▍       | 24/100 [01:28<06:07,  4.83s/it]"
     ]
    },
    {
     "name": "stdout",
     "output_type": "stream",
     "text": [
      "Retrieving: https://www.lamudi.com.ph/metro-manila/taguig/condominium/rent/?page=25 --- Success!\n"
     ]
    },
    {
     "name": "stderr",
     "output_type": "stream",
     "text": [
      "Scraping pages:  25%|██▌       | 25/100 [01:31<05:12,  4.16s/it]"
     ]
    },
    {
     "name": "stdout",
     "output_type": "stream",
     "text": [
      "Retrieving: https://www.lamudi.com.ph/metro-manila/taguig/condominium/rent/?page=26 --- Success!\n"
     ]
    },
    {
     "name": "stderr",
     "output_type": "stream",
     "text": [
      "Scraping pages:  26%|██▌       | 26/100 [01:33<04:26,  3.60s/it]"
     ]
    },
    {
     "name": "stdout",
     "output_type": "stream",
     "text": [
      "Retrieving: https://www.lamudi.com.ph/metro-manila/taguig/condominium/rent/?page=27 --- Success!\n"
     ]
    },
    {
     "name": "stderr",
     "output_type": "stream",
     "text": [
      "Scraping pages:  27%|██▋       | 27/100 [01:36<03:52,  3.19s/it]"
     ]
    },
    {
     "name": "stdout",
     "output_type": "stream",
     "text": [
      "Retrieving: https://www.lamudi.com.ph/metro-manila/taguig/condominium/rent/?page=28 --- Success!\n"
     ]
    },
    {
     "name": "stderr",
     "output_type": "stream",
     "text": [
      "Scraping pages:  28%|██▊       | 28/100 [01:38<03:44,  3.11s/it]"
     ]
    },
    {
     "name": "stdout",
     "output_type": "stream",
     "text": [
      "Retrieving: https://www.lamudi.com.ph/metro-manila/taguig/condominium/rent/?page=29 --- Success!\n"
     ]
    },
    {
     "name": "stderr",
     "output_type": "stream",
     "text": [
      "Scraping pages:  29%|██▉       | 29/100 [01:41<03:23,  2.87s/it]"
     ]
    },
    {
     "name": "stdout",
     "output_type": "stream",
     "text": [
      "Retrieving: https://www.lamudi.com.ph/metro-manila/taguig/condominium/rent/?page=30 --- Success!\n"
     ]
    },
    {
     "name": "stderr",
     "output_type": "stream",
     "text": [
      "Scraping pages:  30%|███       | 30/100 [01:43<03:02,  2.60s/it]"
     ]
    },
    {
     "name": "stdout",
     "output_type": "stream",
     "text": [
      "Retrieving: https://www.lamudi.com.ph/metro-manila/taguig/condominium/rent/?page=31 --- Success!\n"
     ]
    },
    {
     "name": "stderr",
     "output_type": "stream",
     "text": [
      "Scraping pages:  31%|███       | 31/100 [01:45<02:56,  2.56s/it]"
     ]
    },
    {
     "name": "stdout",
     "output_type": "stream",
     "text": [
      "Retrieving: https://www.lamudi.com.ph/metro-manila/taguig/condominium/rent/?page=32 --- Success!\n"
     ]
    },
    {
     "name": "stderr",
     "output_type": "stream",
     "text": [
      "Scraping pages:  32%|███▏      | 32/100 [01:47<02:46,  2.45s/it]"
     ]
    },
    {
     "name": "stdout",
     "output_type": "stream",
     "text": [
      "Retrieving: https://www.lamudi.com.ph/metro-manila/taguig/condominium/rent/?page=33 --- Success!\n"
     ]
    },
    {
     "name": "stderr",
     "output_type": "stream",
     "text": [
      "Scraping pages:  33%|███▎      | 33/100 [01:50<02:42,  2.43s/it]"
     ]
    },
    {
     "name": "stdout",
     "output_type": "stream",
     "text": [
      "Retrieving: https://www.lamudi.com.ph/metro-manila/taguig/condominium/rent/?page=34 --- Success!\n"
     ]
    },
    {
     "name": "stderr",
     "output_type": "stream",
     "text": [
      "Scraping pages:  34%|███▍      | 34/100 [01:52<02:43,  2.47s/it]"
     ]
    },
    {
     "name": "stdout",
     "output_type": "stream",
     "text": [
      "Retrieving: https://www.lamudi.com.ph/metro-manila/taguig/condominium/rent/?page=35 --- Success!\n"
     ]
    },
    {
     "name": "stderr",
     "output_type": "stream",
     "text": [
      "Scraping pages:  35%|███▌      | 35/100 [01:55<02:50,  2.63s/it]"
     ]
    },
    {
     "name": "stdout",
     "output_type": "stream",
     "text": [
      "Retrieving: https://www.lamudi.com.ph/metro-manila/taguig/condominium/rent/?page=36 --- Success!\n"
     ]
    },
    {
     "name": "stderr",
     "output_type": "stream",
     "text": [
      "Scraping pages:  36%|███▌      | 36/100 [01:57<02:35,  2.43s/it]"
     ]
    },
    {
     "name": "stdout",
     "output_type": "stream",
     "text": [
      "Retrieving: https://www.lamudi.com.ph/metro-manila/taguig/condominium/rent/?page=37 --- Success!\n"
     ]
    },
    {
     "name": "stderr",
     "output_type": "stream",
     "text": [
      "Scraping pages:  37%|███▋      | 37/100 [02:00<02:31,  2.41s/it]"
     ]
    },
    {
     "name": "stdout",
     "output_type": "stream",
     "text": [
      "Retrieving: https://www.lamudi.com.ph/metro-manila/taguig/condominium/rent/?page=38 --- Success!\n"
     ]
    },
    {
     "name": "stderr",
     "output_type": "stream",
     "text": [
      "Scraping pages:  38%|███▊      | 38/100 [02:02<02:32,  2.46s/it]"
     ]
    },
    {
     "name": "stdout",
     "output_type": "stream",
     "text": [
      "Retrieving: https://www.lamudi.com.ph/metro-manila/taguig/condominium/rent/?page=39 --- Success!\n"
     ]
    },
    {
     "name": "stderr",
     "output_type": "stream",
     "text": [
      "Scraping pages:  39%|███▉      | 39/100 [02:05<02:29,  2.45s/it]"
     ]
    },
    {
     "name": "stdout",
     "output_type": "stream",
     "text": [
      "Retrieving: https://www.lamudi.com.ph/metro-manila/taguig/condominium/rent/?page=40 --- Success!\n"
     ]
    },
    {
     "name": "stderr",
     "output_type": "stream",
     "text": [
      "Scraping pages:  40%|████      | 40/100 [02:07<02:27,  2.46s/it]"
     ]
    },
    {
     "name": "stdout",
     "output_type": "stream",
     "text": [
      "Retrieving: https://www.lamudi.com.ph/metro-manila/taguig/condominium/rent/?page=41 --- Success!\n"
     ]
    },
    {
     "name": "stderr",
     "output_type": "stream",
     "text": [
      "Scraping pages:  41%|████      | 41/100 [02:11<02:47,  2.85s/it]"
     ]
    },
    {
     "name": "stdout",
     "output_type": "stream",
     "text": [
      "Retrieving: https://www.lamudi.com.ph/metro-manila/taguig/condominium/rent/?page=42 --- Success!\n"
     ]
    },
    {
     "name": "stderr",
     "output_type": "stream",
     "text": [
      "Scraping pages:  42%|████▏     | 42/100 [02:13<02:38,  2.74s/it]"
     ]
    },
    {
     "name": "stdout",
     "output_type": "stream",
     "text": [
      "Retrieving: https://www.lamudi.com.ph/metro-manila/taguig/condominium/rent/?page=43 --- Success!\n"
     ]
    },
    {
     "name": "stderr",
     "output_type": "stream",
     "text": [
      "Scraping pages:  43%|████▎     | 43/100 [02:18<03:03,  3.22s/it]"
     ]
    },
    {
     "name": "stdout",
     "output_type": "stream",
     "text": [
      "Retrieving: https://www.lamudi.com.ph/metro-manila/taguig/condominium/rent/?page=44 --- Success!\n"
     ]
    },
    {
     "name": "stderr",
     "output_type": "stream",
     "text": [
      "Scraping pages:  44%|████▍     | 44/100 [02:20<02:42,  2.89s/it]"
     ]
    },
    {
     "name": "stdout",
     "output_type": "stream",
     "text": [
      "Retrieving: https://www.lamudi.com.ph/metro-manila/taguig/condominium/rent/?page=45 --- Success!\n"
     ]
    },
    {
     "name": "stderr",
     "output_type": "stream",
     "text": [
      "Scraping pages:  45%|████▌     | 45/100 [02:23<02:41,  2.93s/it]"
     ]
    },
    {
     "name": "stdout",
     "output_type": "stream",
     "text": [
      "Retrieving: https://www.lamudi.com.ph/metro-manila/taguig/condominium/rent/?page=46 --- Success!\n"
     ]
    },
    {
     "name": "stderr",
     "output_type": "stream",
     "text": [
      "Scraping pages:  46%|████▌     | 46/100 [02:25<02:25,  2.70s/it]"
     ]
    },
    {
     "name": "stdout",
     "output_type": "stream",
     "text": [
      "Retrieving: https://www.lamudi.com.ph/metro-manila/taguig/condominium/rent/?page=47 --- Success!\n"
     ]
    },
    {
     "name": "stderr",
     "output_type": "stream",
     "text": [
      "Scraping pages:  47%|████▋     | 47/100 [02:28<02:21,  2.66s/it]"
     ]
    },
    {
     "name": "stdout",
     "output_type": "stream",
     "text": [
      "Retrieving: https://www.lamudi.com.ph/metro-manila/taguig/condominium/rent/?page=48 --- Success!\n"
     ]
    },
    {
     "name": "stderr",
     "output_type": "stream",
     "text": [
      "Scraping pages:  48%|████▊     | 48/100 [02:30<02:16,  2.62s/it]"
     ]
    },
    {
     "name": "stdout",
     "output_type": "stream",
     "text": [
      "Retrieving: https://www.lamudi.com.ph/metro-manila/taguig/condominium/rent/?page=49 --- Success!\n"
     ]
    },
    {
     "name": "stderr",
     "output_type": "stream",
     "text": [
      "Scraping pages:  49%|████▉     | 49/100 [02:33<02:12,  2.60s/it]"
     ]
    },
    {
     "name": "stdout",
     "output_type": "stream",
     "text": [
      "Retrieving: https://www.lamudi.com.ph/metro-manila/taguig/condominium/rent/?page=50 --- Success!\n"
     ]
    },
    {
     "name": "stderr",
     "output_type": "stream",
     "text": [
      "Scraping pages:  50%|█████     | 50/100 [02:35<02:04,  2.49s/it]"
     ]
    },
    {
     "name": "stdout",
     "output_type": "stream",
     "text": [
      "Retrieving: https://www.lamudi.com.ph/metro-manila/taguig/condominium/rent/?page=51 --- Success!\n"
     ]
    },
    {
     "name": "stderr",
     "output_type": "stream",
     "text": [
      "Scraping pages:  51%|█████     | 51/100 [02:38<02:03,  2.51s/it]"
     ]
    },
    {
     "name": "stdout",
     "output_type": "stream",
     "text": [
      "Retrieving: https://www.lamudi.com.ph/metro-manila/taguig/condominium/rent/?page=52 --- Success!\n"
     ]
    },
    {
     "name": "stderr",
     "output_type": "stream",
     "text": [
      "Scraping pages:  52%|█████▏    | 52/100 [02:40<02:00,  2.50s/it]"
     ]
    },
    {
     "name": "stdout",
     "output_type": "stream",
     "text": [
      "Retrieving: https://www.lamudi.com.ph/metro-manila/taguig/condominium/rent/?page=53 --- Success!\n"
     ]
    },
    {
     "name": "stderr",
     "output_type": "stream",
     "text": [
      "Scraping pages:  53%|█████▎    | 53/100 [02:42<01:50,  2.36s/it]"
     ]
    },
    {
     "name": "stdout",
     "output_type": "stream",
     "text": [
      "Retrieving: https://www.lamudi.com.ph/metro-manila/taguig/condominium/rent/?page=54 --- Success!\n"
     ]
    },
    {
     "name": "stderr",
     "output_type": "stream",
     "text": [
      "Scraping pages:  54%|█████▍    | 54/100 [02:45<01:51,  2.43s/it]"
     ]
    },
    {
     "name": "stdout",
     "output_type": "stream",
     "text": [
      "Retrieving: https://www.lamudi.com.ph/metro-manila/taguig/condominium/rent/?page=55 --- Success!\n"
     ]
    },
    {
     "name": "stderr",
     "output_type": "stream",
     "text": [
      "Scraping pages:  55%|█████▌    | 55/100 [02:47<01:52,  2.51s/it]"
     ]
    },
    {
     "name": "stdout",
     "output_type": "stream",
     "text": [
      "Retrieving: https://www.lamudi.com.ph/metro-manila/taguig/condominium/rent/?page=56 --- Success!\n"
     ]
    },
    {
     "name": "stderr",
     "output_type": "stream",
     "text": [
      "Scraping pages:  56%|█████▌    | 56/100 [02:50<01:47,  2.45s/it]"
     ]
    },
    {
     "name": "stdout",
     "output_type": "stream",
     "text": [
      "Retrieving: https://www.lamudi.com.ph/metro-manila/taguig/condominium/rent/?page=57 --- Success!\n"
     ]
    },
    {
     "name": "stderr",
     "output_type": "stream",
     "text": [
      "Scraping pages:  57%|█████▋    | 57/100 [02:52<01:41,  2.36s/it]"
     ]
    },
    {
     "name": "stdout",
     "output_type": "stream",
     "text": [
      "Retrieving: https://www.lamudi.com.ph/metro-manila/taguig/condominium/rent/?page=58 --- Success!\n"
     ]
    },
    {
     "name": "stderr",
     "output_type": "stream",
     "text": [
      "Scraping pages:  58%|█████▊    | 58/100 [02:54<01:37,  2.32s/it]"
     ]
    },
    {
     "name": "stdout",
     "output_type": "stream",
     "text": [
      "Retrieving: https://www.lamudi.com.ph/metro-manila/taguig/condominium/rent/?page=59 --- Success!\n"
     ]
    },
    {
     "name": "stderr",
     "output_type": "stream",
     "text": [
      "Scraping pages:  59%|█████▉    | 59/100 [02:57<01:40,  2.45s/it]"
     ]
    },
    {
     "name": "stdout",
     "output_type": "stream",
     "text": [
      "Retrieving: https://www.lamudi.com.ph/metro-manila/taguig/condominium/rent/?page=60 --- Success!\n"
     ]
    },
    {
     "name": "stderr",
     "output_type": "stream",
     "text": [
      "Scraping pages:  60%|██████    | 60/100 [02:59<01:40,  2.52s/it]"
     ]
    },
    {
     "name": "stdout",
     "output_type": "stream",
     "text": [
      "Retrieving: https://www.lamudi.com.ph/metro-manila/taguig/condominium/rent/?page=61 --- Success!\n"
     ]
    },
    {
     "name": "stderr",
     "output_type": "stream",
     "text": [
      "Scraping pages:  61%|██████    | 61/100 [03:01<01:32,  2.37s/it]"
     ]
    },
    {
     "name": "stdout",
     "output_type": "stream",
     "text": [
      "Retrieving: https://www.lamudi.com.ph/metro-manila/taguig/condominium/rent/?page=62 --- Success!\n"
     ]
    },
    {
     "name": "stderr",
     "output_type": "stream",
     "text": [
      "Scraping pages:  62%|██████▏   | 62/100 [03:04<01:34,  2.50s/it]"
     ]
    },
    {
     "name": "stdout",
     "output_type": "stream",
     "text": [
      "Retrieving: https://www.lamudi.com.ph/metro-manila/taguig/condominium/rent/?page=63 --- Success!\n"
     ]
    },
    {
     "name": "stderr",
     "output_type": "stream",
     "text": [
      "Scraping pages:  63%|██████▎   | 63/100 [03:07<01:34,  2.56s/it]"
     ]
    },
    {
     "name": "stdout",
     "output_type": "stream",
     "text": [
      "Retrieving: https://www.lamudi.com.ph/metro-manila/taguig/condominium/rent/?page=64 --- Success!\n"
     ]
    },
    {
     "name": "stderr",
     "output_type": "stream",
     "text": [
      "Scraping pages:  64%|██████▍   | 64/100 [03:09<01:27,  2.43s/it]"
     ]
    },
    {
     "name": "stdout",
     "output_type": "stream",
     "text": [
      "Retrieving: https://www.lamudi.com.ph/metro-manila/taguig/condominium/rent/?page=65 --- Success!\n"
     ]
    },
    {
     "name": "stderr",
     "output_type": "stream",
     "text": [
      "Scraping pages:  65%|██████▌   | 65/100 [03:11<01:21,  2.33s/it]"
     ]
    },
    {
     "name": "stdout",
     "output_type": "stream",
     "text": [
      "Retrieving: https://www.lamudi.com.ph/metro-manila/taguig/condominium/rent/?page=66 --- Success!\n"
     ]
    },
    {
     "name": "stderr",
     "output_type": "stream",
     "text": [
      "Scraping pages:  66%|██████▌   | 66/100 [03:13<01:16,  2.24s/it]"
     ]
    },
    {
     "name": "stdout",
     "output_type": "stream",
     "text": [
      "Retrieving: https://www.lamudi.com.ph/metro-manila/taguig/condominium/rent/?page=67 --- Success!\n"
     ]
    },
    {
     "name": "stderr",
     "output_type": "stream",
     "text": [
      "Scraping pages:  67%|██████▋   | 67/100 [03:15<01:13,  2.22s/it]"
     ]
    },
    {
     "name": "stdout",
     "output_type": "stream",
     "text": [
      "Retrieving: https://www.lamudi.com.ph/metro-manila/taguig/condominium/rent/?page=68 --- Success!\n"
     ]
    },
    {
     "name": "stderr",
     "output_type": "stream",
     "text": [
      "Scraping pages:  68%|██████▊   | 68/100 [03:22<01:56,  3.63s/it]"
     ]
    },
    {
     "name": "stdout",
     "output_type": "stream",
     "text": [
      "Retrieving: https://www.lamudi.com.ph/metro-manila/taguig/condominium/rent/?page=69 --- Success!\n"
     ]
    },
    {
     "name": "stderr",
     "output_type": "stream",
     "text": [
      "Scraping pages:  69%|██████▉   | 69/100 [03:26<01:54,  3.69s/it]"
     ]
    },
    {
     "name": "stdout",
     "output_type": "stream",
     "text": [
      "Retrieving: https://www.lamudi.com.ph/metro-manila/taguig/condominium/rent/?page=70 --- Success!\n"
     ]
    },
    {
     "name": "stderr",
     "output_type": "stream",
     "text": [
      "Scraping pages:  70%|███████   | 70/100 [03:29<01:41,  3.38s/it]"
     ]
    },
    {
     "name": "stdout",
     "output_type": "stream",
     "text": [
      "Retrieving: https://www.lamudi.com.ph/metro-manila/taguig/condominium/rent/?page=71 --- Success!\n"
     ]
    },
    {
     "name": "stderr",
     "output_type": "stream",
     "text": [
      "Scraping pages:  71%|███████   | 71/100 [03:31<01:27,  3.01s/it]"
     ]
    },
    {
     "name": "stdout",
     "output_type": "stream",
     "text": [
      "Retrieving: https://www.lamudi.com.ph/metro-manila/taguig/condominium/rent/?page=72 --- Success!\n"
     ]
    },
    {
     "name": "stderr",
     "output_type": "stream",
     "text": [
      "Scraping pages:  72%|███████▏  | 72/100 [03:33<01:17,  2.77s/it]"
     ]
    },
    {
     "name": "stdout",
     "output_type": "stream",
     "text": [
      "Retrieving: https://www.lamudi.com.ph/metro-manila/taguig/condominium/rent/?page=73 --- Success!\n"
     ]
    },
    {
     "name": "stderr",
     "output_type": "stream",
     "text": [
      "Scraping pages:  73%|███████▎  | 73/100 [03:35<01:10,  2.60s/it]"
     ]
    },
    {
     "name": "stdout",
     "output_type": "stream",
     "text": [
      "Retrieving: https://www.lamudi.com.ph/metro-manila/taguig/condominium/rent/?page=74 --- Success!\n"
     ]
    },
    {
     "name": "stderr",
     "output_type": "stream",
     "text": [
      "Scraping pages:  74%|███████▍  | 74/100 [03:38<01:06,  2.54s/it]"
     ]
    },
    {
     "name": "stdout",
     "output_type": "stream",
     "text": [
      "Retrieving: https://www.lamudi.com.ph/metro-manila/taguig/condominium/rent/?page=75 --- Success!\n"
     ]
    },
    {
     "name": "stderr",
     "output_type": "stream",
     "text": [
      "Scraping pages:  75%|███████▌  | 75/100 [03:40<01:01,  2.47s/it]"
     ]
    },
    {
     "name": "stdout",
     "output_type": "stream",
     "text": [
      "Retrieving: https://www.lamudi.com.ph/metro-manila/taguig/condominium/rent/?page=76 --- Success!\n"
     ]
    },
    {
     "name": "stderr",
     "output_type": "stream",
     "text": [
      "Scraping pages:  76%|███████▌  | 76/100 [03:43<01:03,  2.65s/it]"
     ]
    },
    {
     "name": "stdout",
     "output_type": "stream",
     "text": [
      "Retrieving: https://www.lamudi.com.ph/metro-manila/taguig/condominium/rent/?page=77 --- Success!\n"
     ]
    },
    {
     "name": "stderr",
     "output_type": "stream",
     "text": [
      "Scraping pages:  77%|███████▋  | 77/100 [03:45<00:57,  2.49s/it]"
     ]
    },
    {
     "name": "stdout",
     "output_type": "stream",
     "text": [
      "Retrieving: https://www.lamudi.com.ph/metro-manila/taguig/condominium/rent/?page=78 --- Success!\n"
     ]
    },
    {
     "name": "stderr",
     "output_type": "stream",
     "text": [
      "Scraping pages:  78%|███████▊  | 78/100 [03:48<00:54,  2.48s/it]"
     ]
    },
    {
     "name": "stdout",
     "output_type": "stream",
     "text": [
      "Retrieving: https://www.lamudi.com.ph/metro-manila/taguig/condominium/rent/?page=79 --- Success!\n"
     ]
    },
    {
     "name": "stderr",
     "output_type": "stream",
     "text": [
      "Scraping pages:  79%|███████▉  | 79/100 [03:50<00:52,  2.50s/it]"
     ]
    },
    {
     "name": "stdout",
     "output_type": "stream",
     "text": [
      "Retrieving: https://www.lamudi.com.ph/metro-manila/taguig/condominium/rent/?page=80 --- Success!\n"
     ]
    },
    {
     "name": "stderr",
     "output_type": "stream",
     "text": [
      "Scraping pages:  80%|████████  | 80/100 [04:40<05:35, 16.77s/it]"
     ]
    },
    {
     "name": "stdout",
     "output_type": "stream",
     "text": [
      "Retrieving: https://www.lamudi.com.ph/metro-manila/taguig/condominium/rent/?page=81 --- Success!\n"
     ]
    },
    {
     "name": "stderr",
     "output_type": "stream",
     "text": [
      "Scraping pages:  81%|████████  | 81/100 [04:44<04:01, 12.71s/it]"
     ]
    },
    {
     "name": "stdout",
     "output_type": "stream",
     "text": [
      "Retrieving: https://www.lamudi.com.ph/metro-manila/taguig/condominium/rent/?page=82 --- Success!\n"
     ]
    },
    {
     "name": "stderr",
     "output_type": "stream",
     "text": [
      "Scraping pages:  82%|████████▏ | 82/100 [04:46<02:51,  9.52s/it]"
     ]
    },
    {
     "name": "stdout",
     "output_type": "stream",
     "text": [
      "Retrieving: https://www.lamudi.com.ph/metro-manila/taguig/condominium/rent/?page=83 --- Success!\n"
     ]
    },
    {
     "name": "stderr",
     "output_type": "stream",
     "text": [
      "Scraping pages:  83%|████████▎ | 83/100 [04:48<02:04,  7.32s/it]"
     ]
    },
    {
     "name": "stdout",
     "output_type": "stream",
     "text": [
      "Retrieving: https://www.lamudi.com.ph/metro-manila/taguig/condominium/rent/?page=84 --- Success!\n"
     ]
    },
    {
     "name": "stderr",
     "output_type": "stream",
     "text": [
      "Scraping pages:  84%|████████▍ | 84/100 [04:50<01:32,  5.77s/it]"
     ]
    },
    {
     "name": "stdout",
     "output_type": "stream",
     "text": [
      "Retrieving: https://www.lamudi.com.ph/metro-manila/taguig/condominium/rent/?page=85 --- Success!\n"
     ]
    },
    {
     "name": "stderr",
     "output_type": "stream",
     "text": [
      "Scraping pages:  85%|████████▌ | 85/100 [04:52<01:11,  4.79s/it]"
     ]
    },
    {
     "name": "stdout",
     "output_type": "stream",
     "text": [
      "Retrieving: https://www.lamudi.com.ph/metro-manila/taguig/condominium/rent/?page=86 --- Success!\n"
     ]
    },
    {
     "name": "stderr",
     "output_type": "stream",
     "text": [
      "Scraping pages:  86%|████████▌ | 86/100 [04:55<00:58,  4.20s/it]"
     ]
    },
    {
     "name": "stdout",
     "output_type": "stream",
     "text": [
      "Retrieving: https://www.lamudi.com.ph/metro-manila/taguig/condominium/rent/?page=87 --- Success!\n"
     ]
    },
    {
     "name": "stderr",
     "output_type": "stream",
     "text": [
      "Scraping pages:  87%|████████▋ | 87/100 [04:57<00:46,  3.57s/it]"
     ]
    },
    {
     "name": "stdout",
     "output_type": "stream",
     "text": [
      "Retrieving: https://www.lamudi.com.ph/metro-manila/taguig/condominium/rent/?page=88 --- Success!\n"
     ]
    },
    {
     "name": "stderr",
     "output_type": "stream",
     "text": [
      "Scraping pages:  88%|████████▊ | 88/100 [05:00<00:37,  3.14s/it]"
     ]
    },
    {
     "name": "stdout",
     "output_type": "stream",
     "text": [
      "Retrieving: https://www.lamudi.com.ph/metro-manila/taguig/condominium/rent/?page=89 --- Success!\n"
     ]
    },
    {
     "name": "stderr",
     "output_type": "stream",
     "text": [
      "Scraping pages:  89%|████████▉ | 89/100 [05:02<00:32,  2.93s/it]"
     ]
    },
    {
     "name": "stdout",
     "output_type": "stream",
     "text": [
      "Retrieving: https://www.lamudi.com.ph/metro-manila/taguig/condominium/rent/?page=90 --- Success!\n"
     ]
    },
    {
     "name": "stderr",
     "output_type": "stream",
     "text": [
      "Scraping pages:  90%|█████████ | 90/100 [05:04<00:26,  2.69s/it]"
     ]
    },
    {
     "name": "stdout",
     "output_type": "stream",
     "text": [
      "Retrieving: https://www.lamudi.com.ph/metro-manila/taguig/condominium/rent/?page=91 --- Success!\n"
     ]
    },
    {
     "name": "stderr",
     "output_type": "stream",
     "text": [
      "Scraping pages:  91%|█████████ | 91/100 [05:06<00:22,  2.49s/it]"
     ]
    },
    {
     "name": "stdout",
     "output_type": "stream",
     "text": [
      "Retrieving: https://www.lamudi.com.ph/metro-manila/taguig/condominium/rent/?page=92 --- Success!\n"
     ]
    },
    {
     "name": "stderr",
     "output_type": "stream",
     "text": [
      "Scraping pages:  92%|█████████▏| 92/100 [05:09<00:19,  2.50s/it]"
     ]
    },
    {
     "name": "stdout",
     "output_type": "stream",
     "text": [
      "Retrieving: https://www.lamudi.com.ph/metro-manila/taguig/condominium/rent/?page=93 --- Success!\n"
     ]
    },
    {
     "name": "stderr",
     "output_type": "stream",
     "text": [
      "Scraping pages:  93%|█████████▎| 93/100 [05:11<00:17,  2.48s/it]"
     ]
    },
    {
     "name": "stdout",
     "output_type": "stream",
     "text": [
      "Retrieving: https://www.lamudi.com.ph/metro-manila/taguig/condominium/rent/?page=94 --- Success!\n"
     ]
    },
    {
     "name": "stderr",
     "output_type": "stream",
     "text": [
      "Scraping pages:  94%|█████████▍| 94/100 [05:14<00:15,  2.53s/it]"
     ]
    },
    {
     "name": "stdout",
     "output_type": "stream",
     "text": [
      "Retrieving: https://www.lamudi.com.ph/metro-manila/taguig/condominium/rent/?page=95 --- Success!\n"
     ]
    },
    {
     "name": "stderr",
     "output_type": "stream",
     "text": [
      "Scraping pages:  95%|█████████▌| 95/100 [05:16<00:12,  2.49s/it]"
     ]
    },
    {
     "name": "stdout",
     "output_type": "stream",
     "text": [
      "Retrieving: https://www.lamudi.com.ph/metro-manila/taguig/condominium/rent/?page=96 --- Success!\n"
     ]
    },
    {
     "name": "stderr",
     "output_type": "stream",
     "text": [
      "Scraping pages:  96%|█████████▌| 96/100 [05:21<00:12,  3.11s/it]"
     ]
    },
    {
     "name": "stdout",
     "output_type": "stream",
     "text": [
      "Retrieving: https://www.lamudi.com.ph/metro-manila/taguig/condominium/rent/?page=97 --- Success!\n"
     ]
    },
    {
     "name": "stderr",
     "output_type": "stream",
     "text": [
      "Scraping pages:  97%|█████████▋| 97/100 [05:23<00:08,  2.87s/it]"
     ]
    },
    {
     "name": "stdout",
     "output_type": "stream",
     "text": [
      "Retrieving: https://www.lamudi.com.ph/metro-manila/taguig/condominium/rent/?page=98 --- Success!\n"
     ]
    },
    {
     "name": "stderr",
     "output_type": "stream",
     "text": [
      "Scraping pages:  98%|█████████▊| 98/100 [05:25<00:05,  2.69s/it]"
     ]
    },
    {
     "name": "stdout",
     "output_type": "stream",
     "text": [
      "Retrieving: https://www.lamudi.com.ph/metro-manila/taguig/condominium/rent/?page=99 --- Success!\n"
     ]
    },
    {
     "name": "stderr",
     "output_type": "stream",
     "text": [
      "Scraping pages:  99%|█████████▉| 99/100 [05:28<00:02,  2.60s/it]"
     ]
    },
    {
     "name": "stdout",
     "output_type": "stream",
     "text": [
      "Retrieving: https://www.lamudi.com.ph/metro-manila/taguig/condominium/rent/?page=100 --- Success!\n"
     ]
    },
    {
     "name": "stderr",
     "output_type": "stream",
     "text": [
      "Scraping pages: 100%|██████████| 100/100 [05:30<00:00,  3.30s/it]\n",
      "Scraping pages:   0%|          | 0/8 [00:00<?, ?it/s]"
     ]
    },
    {
     "name": "stdout",
     "output_type": "stream",
     "text": [
      "Retrieving: https://www.lamudi.com.ph/metro-manila/taguig/house/rent/?page=1 --- Success!\n"
     ]
    },
    {
     "name": "stderr",
     "output_type": "stream",
     "text": [
      "Scraping pages:  12%|█▎        | 1/8 [00:02<00:17,  2.43s/it]"
     ]
    },
    {
     "name": "stdout",
     "output_type": "stream",
     "text": [
      "Retrieving: https://www.lamudi.com.ph/metro-manila/taguig/house/rent/?page=2 --- Success!\n"
     ]
    },
    {
     "name": "stderr",
     "output_type": "stream",
     "text": [
      "Scraping pages:  25%|██▌       | 2/8 [00:06<00:20,  3.47s/it]"
     ]
    },
    {
     "name": "stdout",
     "output_type": "stream",
     "text": [
      "Retrieving: https://www.lamudi.com.ph/metro-manila/taguig/house/rent/?page=3 --- Success!\n"
     ]
    },
    {
     "name": "stderr",
     "output_type": "stream",
     "text": [
      "Scraping pages:  38%|███▊      | 3/8 [00:08<00:13,  2.79s/it]"
     ]
    },
    {
     "name": "stdout",
     "output_type": "stream",
     "text": [
      "Retrieving: https://www.lamudi.com.ph/metro-manila/taguig/house/rent/?page=4 --- Success!\n"
     ]
    },
    {
     "name": "stderr",
     "output_type": "stream",
     "text": [
      "Scraping pages:  50%|█████     | 4/8 [00:10<00:10,  2.53s/it]"
     ]
    },
    {
     "name": "stdout",
     "output_type": "stream",
     "text": [
      "Retrieving: https://www.lamudi.com.ph/metro-manila/taguig/house/rent/?page=5 --- Success!\n"
     ]
    },
    {
     "name": "stderr",
     "output_type": "stream",
     "text": [
      "Scraping pages:  62%|██████▎   | 5/8 [00:13<00:07,  2.46s/it]"
     ]
    },
    {
     "name": "stdout",
     "output_type": "stream",
     "text": [
      "Retrieving: https://www.lamudi.com.ph/metro-manila/taguig/house/rent/?page=6 --- Success!\n"
     ]
    },
    {
     "name": "stderr",
     "output_type": "stream",
     "text": [
      "Scraping pages:  75%|███████▌  | 6/8 [00:15<00:05,  2.61s/it]"
     ]
    },
    {
     "name": "stdout",
     "output_type": "stream",
     "text": [
      "Retrieving: https://www.lamudi.com.ph/metro-manila/taguig/house/rent/?page=7 --- Success!\n"
     ]
    },
    {
     "name": "stderr",
     "output_type": "stream",
     "text": [
      "Scraping pages:  88%|████████▊ | 7/8 [00:18<00:02,  2.68s/it]"
     ]
    },
    {
     "name": "stdout",
     "output_type": "stream",
     "text": [
      "Retrieving: https://www.lamudi.com.ph/metro-manila/taguig/house/rent/?page=8 --- Success!\n"
     ]
    },
    {
     "name": "stderr",
     "output_type": "stream",
     "text": [
      "Scraping pages: 100%|██████████| 8/8 [00:21<00:00,  2.71s/it]\n",
      "Scraping pages:   0%|          | 0/2 [00:00<?, ?it/s]"
     ]
    },
    {
     "name": "stdout",
     "output_type": "stream",
     "text": [
      "Retrieving: https://www.lamudi.com.ph/metro-manila/taguig/land/rent/?page=1 --- Success!\n"
     ]
    },
    {
     "name": "stderr",
     "output_type": "stream",
     "text": [
      "Scraping pages:  50%|█████     | 1/2 [00:03<00:03,  3.92s/it]"
     ]
    },
    {
     "name": "stdout",
     "output_type": "stream",
     "text": [
      "Retrieving: https://www.lamudi.com.ph/metro-manila/taguig/land/rent/?page=2 --- Success!\n"
     ]
    },
    {
     "name": "stderr",
     "output_type": "stream",
     "text": [
      "Scraping pages: 100%|██████████| 2/2 [00:06<00:00,  3.25s/it]\n"
     ]
    }
   ],
   "source": [
    "rent_taguig_apartment = property_crawler(base_url='https://www.lamudi.com.ph/metro-manila/taguig/apartment/rent/?page=', start=1, end=2)\n",
    "rent_taguig_condo = property_crawler(base_url='https://www.lamudi.com.ph/metro-manila/taguig/condominium/rent/?page=', start=1, end=100)\n",
    "rent_taguig_house = property_crawler(base_url='https://www.lamudi.com.ph/metro-manila/taguig/house/rent/?page=', start=1, end=8)\n",
    "rent_taguig_land = property_crawler(base_url='https://www.lamudi.com.ph/metro-manila/taguig/land/rent/?page=', start=1, end=2)"
   ]
  },
  {
   "cell_type": "code",
   "execution_count": 11,
   "metadata": {},
   "outputs": [],
   "source": [
    "taguig_4sale = pd.concat([taguig_condo, taguig_house, taguig_land])\n",
    "taguig_4sale.to_csv('data/for sale/taguig_4sale.csv')\n",
    "\n",
    "taguig_4rent = pd.concat([rent_taguig_apartment, rent_taguig_condo, rent_taguig_house, rent_taguig_land])\n",
    "taguig_4rent.to_csv('data/for rent/taguig_4rent.csv')"
   ]
  },
  {
   "cell_type": "code",
   "execution_count": 12,
   "metadata": {},
   "outputs": [
    {
     "name": "stderr",
     "output_type": "stream",
     "text": [
      "Scraping pages:   0%|          | 0/100 [00:00<?, ?it/s]"
     ]
    },
    {
     "name": "stdout",
     "output_type": "stream",
     "text": [
      "Retrieving: https://www.lamudi.com.ph/metro-manila/quezon-city/condominium/buy/?script=23&page=1 --- Success!\n"
     ]
    },
    {
     "name": "stderr",
     "output_type": "stream",
     "text": [
      "Scraping pages:   1%|          | 1/100 [00:02<04:29,  2.72s/it]"
     ]
    },
    {
     "name": "stdout",
     "output_type": "stream",
     "text": [
      "Retrieving: https://www.lamudi.com.ph/metro-manila/quezon-city/condominium/buy/?script=23&page=2 --- Success!\n"
     ]
    },
    {
     "name": "stderr",
     "output_type": "stream",
     "text": [
      "Scraping pages:   2%|▏         | 2/100 [00:05<04:34,  2.80s/it]"
     ]
    },
    {
     "name": "stdout",
     "output_type": "stream",
     "text": [
      "Retrieving: https://www.lamudi.com.ph/metro-manila/quezon-city/condominium/buy/?script=23&page=3 --- Success!\n"
     ]
    },
    {
     "name": "stderr",
     "output_type": "stream",
     "text": [
      "Scraping pages:   3%|▎         | 3/100 [00:08<04:30,  2.79s/it]"
     ]
    },
    {
     "name": "stdout",
     "output_type": "stream",
     "text": [
      "Retrieving: https://www.lamudi.com.ph/metro-manila/quezon-city/condominium/buy/?script=23&page=4 --- Success!\n"
     ]
    },
    {
     "name": "stderr",
     "output_type": "stream",
     "text": [
      "Scraping pages:   4%|▍         | 4/100 [00:11<04:39,  2.91s/it]"
     ]
    },
    {
     "name": "stdout",
     "output_type": "stream",
     "text": [
      "Retrieving: https://www.lamudi.com.ph/metro-manila/quezon-city/condominium/buy/?script=23&page=5 --- Success!\n"
     ]
    },
    {
     "name": "stderr",
     "output_type": "stream",
     "text": [
      "Scraping pages:   5%|▌         | 5/100 [00:14<04:30,  2.85s/it]"
     ]
    },
    {
     "name": "stdout",
     "output_type": "stream",
     "text": [
      "Retrieving: https://www.lamudi.com.ph/metro-manila/quezon-city/condominium/buy/?script=23&page=6 --- Success!\n"
     ]
    },
    {
     "name": "stderr",
     "output_type": "stream",
     "text": [
      "Scraping pages:   6%|▌         | 6/100 [00:17<04:32,  2.90s/it]"
     ]
    },
    {
     "name": "stdout",
     "output_type": "stream",
     "text": [
      "Retrieving: https://www.lamudi.com.ph/metro-manila/quezon-city/condominium/buy/?script=23&page=7 --- Success!\n"
     ]
    },
    {
     "name": "stderr",
     "output_type": "stream",
     "text": [
      "Scraping pages:   7%|▋         | 7/100 [00:21<05:20,  3.45s/it]"
     ]
    },
    {
     "name": "stdout",
     "output_type": "stream",
     "text": [
      "Retrieving: https://www.lamudi.com.ph/metro-manila/quezon-city/condominium/buy/?script=23&page=8 --- Success!\n"
     ]
    },
    {
     "name": "stderr",
     "output_type": "stream",
     "text": [
      "Scraping pages:   8%|▊         | 8/100 [00:25<05:15,  3.43s/it]"
     ]
    },
    {
     "name": "stdout",
     "output_type": "stream",
     "text": [
      "Retrieving: https://www.lamudi.com.ph/metro-manila/quezon-city/condominium/buy/?script=23&page=9 --- Success!\n"
     ]
    },
    {
     "name": "stderr",
     "output_type": "stream",
     "text": [
      "Scraping pages:   9%|▉         | 9/100 [00:28<05:01,  3.31s/it]"
     ]
    },
    {
     "name": "stdout",
     "output_type": "stream",
     "text": [
      "Retrieving: https://www.lamudi.com.ph/metro-manila/quezon-city/condominium/buy/?script=23&page=10 --- Success!\n"
     ]
    },
    {
     "name": "stderr",
     "output_type": "stream",
     "text": [
      "Scraping pages:  10%|█         | 10/100 [00:31<04:49,  3.21s/it]"
     ]
    },
    {
     "name": "stdout",
     "output_type": "stream",
     "text": [
      "Retrieving: https://www.lamudi.com.ph/metro-manila/quezon-city/condominium/buy/?script=23&page=11 --- Success!\n"
     ]
    },
    {
     "name": "stderr",
     "output_type": "stream",
     "text": [
      "Scraping pages:  11%|█         | 11/100 [00:33<04:32,  3.06s/it]"
     ]
    },
    {
     "name": "stdout",
     "output_type": "stream",
     "text": [
      "Retrieving: https://www.lamudi.com.ph/metro-manila/quezon-city/condominium/buy/?script=23&page=12 --- Success!\n"
     ]
    },
    {
     "name": "stderr",
     "output_type": "stream",
     "text": [
      "Scraping pages:  12%|█▏        | 12/100 [00:36<04:27,  3.04s/it]"
     ]
    },
    {
     "name": "stdout",
     "output_type": "stream",
     "text": [
      "Retrieving: https://www.lamudi.com.ph/metro-manila/quezon-city/condominium/buy/?script=23&page=13 --- Success!\n"
     ]
    },
    {
     "name": "stderr",
     "output_type": "stream",
     "text": [
      "Scraping pages:  13%|█▎        | 13/100 [00:39<04:22,  3.02s/it]"
     ]
    },
    {
     "name": "stdout",
     "output_type": "stream",
     "text": [
      "Retrieving: https://www.lamudi.com.ph/metro-manila/quezon-city/condominium/buy/?script=23&page=14 --- Success!\n"
     ]
    },
    {
     "name": "stderr",
     "output_type": "stream",
     "text": [
      "Scraping pages:  14%|█▍        | 14/100 [00:42<04:17,  2.99s/it]"
     ]
    },
    {
     "name": "stdout",
     "output_type": "stream",
     "text": [
      "Retrieving: https://www.lamudi.com.ph/metro-manila/quezon-city/condominium/buy/?script=23&page=15 --- Success!\n"
     ]
    },
    {
     "name": "stderr",
     "output_type": "stream",
     "text": [
      "Scraping pages:  15%|█▌        | 15/100 [00:45<04:13,  2.98s/it]"
     ]
    },
    {
     "name": "stdout",
     "output_type": "stream",
     "text": [
      "Retrieving: https://www.lamudi.com.ph/metro-manila/quezon-city/condominium/buy/?script=23&page=16 --- Success!\n"
     ]
    },
    {
     "name": "stderr",
     "output_type": "stream",
     "text": [
      "Scraping pages:  16%|█▌        | 16/100 [00:49<04:18,  3.07s/it]"
     ]
    },
    {
     "name": "stdout",
     "output_type": "stream",
     "text": [
      "Retrieving: https://www.lamudi.com.ph/metro-manila/quezon-city/condominium/buy/?script=23&page=17 --- Success!\n"
     ]
    },
    {
     "name": "stderr",
     "output_type": "stream",
     "text": [
      "Scraping pages:  17%|█▋        | 17/100 [00:51<03:57,  2.86s/it]"
     ]
    },
    {
     "name": "stdout",
     "output_type": "stream",
     "text": [
      "Retrieving: https://www.lamudi.com.ph/metro-manila/quezon-city/condominium/buy/?script=23&page=18 --- Success!\n"
     ]
    },
    {
     "name": "stderr",
     "output_type": "stream",
     "text": [
      "Scraping pages:  18%|█▊        | 18/100 [00:53<03:39,  2.68s/it]"
     ]
    },
    {
     "name": "stdout",
     "output_type": "stream",
     "text": [
      "Retrieving: https://www.lamudi.com.ph/metro-manila/quezon-city/condominium/buy/?script=23&page=19 --- Success!\n"
     ]
    },
    {
     "name": "stderr",
     "output_type": "stream",
     "text": [
      "Scraping pages:  19%|█▉        | 19/100 [00:55<03:26,  2.54s/it]"
     ]
    },
    {
     "name": "stdout",
     "output_type": "stream",
     "text": [
      "Retrieving: https://www.lamudi.com.ph/metro-manila/quezon-city/condominium/buy/?script=23&page=20 --- Success!\n"
     ]
    },
    {
     "name": "stderr",
     "output_type": "stream",
     "text": [
      "Scraping pages:  20%|██        | 20/100 [00:58<03:17,  2.47s/it]"
     ]
    },
    {
     "name": "stdout",
     "output_type": "stream",
     "text": [
      "Retrieving: https://www.lamudi.com.ph/metro-manila/quezon-city/condominium/buy/?script=23&page=21 --- Success!\n"
     ]
    },
    {
     "name": "stderr",
     "output_type": "stream",
     "text": [
      "Scraping pages:  21%|██        | 21/100 [01:01<03:26,  2.61s/it]"
     ]
    },
    {
     "name": "stdout",
     "output_type": "stream",
     "text": [
      "Retrieving: https://www.lamudi.com.ph/metro-manila/quezon-city/condominium/buy/?script=23&page=22 --- Success!\n"
     ]
    },
    {
     "name": "stderr",
     "output_type": "stream",
     "text": [
      "Scraping pages:  22%|██▏       | 22/100 [01:03<03:10,  2.44s/it]"
     ]
    },
    {
     "name": "stdout",
     "output_type": "stream",
     "text": [
      "Retrieving: https://www.lamudi.com.ph/metro-manila/quezon-city/condominium/buy/?script=23&page=23 --- Success!\n"
     ]
    },
    {
     "name": "stderr",
     "output_type": "stream",
     "text": [
      "Scraping pages:  23%|██▎       | 23/100 [01:05<03:01,  2.36s/it]"
     ]
    },
    {
     "name": "stdout",
     "output_type": "stream",
     "text": [
      "Retrieving: https://www.lamudi.com.ph/metro-manila/quezon-city/condominium/buy/?script=23&page=24 --- Success!\n"
     ]
    },
    {
     "name": "stderr",
     "output_type": "stream",
     "text": [
      "Scraping pages:  24%|██▍       | 24/100 [01:07<03:03,  2.42s/it]"
     ]
    },
    {
     "name": "stdout",
     "output_type": "stream",
     "text": [
      "Retrieving: https://www.lamudi.com.ph/metro-manila/quezon-city/condominium/buy/?script=23&page=25 --- Success!\n"
     ]
    },
    {
     "name": "stderr",
     "output_type": "stream",
     "text": [
      "Scraping pages:  25%|██▌       | 25/100 [01:10<03:03,  2.44s/it]"
     ]
    },
    {
     "name": "stdout",
     "output_type": "stream",
     "text": [
      "Retrieving: https://www.lamudi.com.ph/metro-manila/quezon-city/condominium/buy/?script=23&page=26 --- Success!\n"
     ]
    },
    {
     "name": "stderr",
     "output_type": "stream",
     "text": [
      "Scraping pages:  26%|██▌       | 26/100 [01:12<03:02,  2.47s/it]"
     ]
    },
    {
     "name": "stdout",
     "output_type": "stream",
     "text": [
      "Retrieving: https://www.lamudi.com.ph/metro-manila/quezon-city/condominium/buy/?script=23&page=27 --- Success!\n"
     ]
    },
    {
     "name": "stderr",
     "output_type": "stream",
     "text": [
      "Scraping pages:  27%|██▋       | 27/100 [01:15<03:07,  2.56s/it]"
     ]
    },
    {
     "name": "stdout",
     "output_type": "stream",
     "text": [
      "Retrieving: https://www.lamudi.com.ph/metro-manila/quezon-city/condominium/buy/?script=23&page=28 --- Success!\n"
     ]
    },
    {
     "name": "stderr",
     "output_type": "stream",
     "text": [
      "Scraping pages:  28%|██▊       | 28/100 [01:17<02:55,  2.43s/it]"
     ]
    },
    {
     "name": "stdout",
     "output_type": "stream",
     "text": [
      "Retrieving: https://www.lamudi.com.ph/metro-manila/quezon-city/condominium/buy/?script=23&page=29 --- Success!\n"
     ]
    },
    {
     "name": "stderr",
     "output_type": "stream",
     "text": [
      "Scraping pages:  29%|██▉       | 29/100 [01:22<03:36,  3.05s/it]"
     ]
    },
    {
     "name": "stdout",
     "output_type": "stream",
     "text": [
      "Retrieving: https://www.lamudi.com.ph/metro-manila/quezon-city/condominium/buy/?script=23&page=30 --- Success!\n"
     ]
    },
    {
     "name": "stderr",
     "output_type": "stream",
     "text": [
      "Scraping pages:  30%|███       | 30/100 [01:24<03:21,  2.88s/it]"
     ]
    },
    {
     "name": "stdout",
     "output_type": "stream",
     "text": [
      "Retrieving: https://www.lamudi.com.ph/metro-manila/quezon-city/condominium/buy/?script=23&page=31 --- Success!\n"
     ]
    },
    {
     "name": "stderr",
     "output_type": "stream",
     "text": [
      "Scraping pages:  31%|███       | 31/100 [01:27<03:11,  2.78s/it]"
     ]
    },
    {
     "name": "stdout",
     "output_type": "stream",
     "text": [
      "Retrieving: https://www.lamudi.com.ph/metro-manila/quezon-city/condominium/buy/?script=23&page=32 --- Success!\n"
     ]
    },
    {
     "name": "stderr",
     "output_type": "stream",
     "text": [
      "Scraping pages:  32%|███▏      | 32/100 [01:29<03:01,  2.68s/it]"
     ]
    },
    {
     "name": "stdout",
     "output_type": "stream",
     "text": [
      "Retrieving: https://www.lamudi.com.ph/metro-manila/quezon-city/condominium/buy/?script=23&page=33 --- Success!\n"
     ]
    },
    {
     "name": "stderr",
     "output_type": "stream",
     "text": [
      "Scraping pages:  33%|███▎      | 33/100 [01:31<02:48,  2.52s/it]"
     ]
    },
    {
     "name": "stdout",
     "output_type": "stream",
     "text": [
      "Retrieving: https://www.lamudi.com.ph/metro-manila/quezon-city/condominium/buy/?script=23&page=34 --- Success!\n"
     ]
    },
    {
     "name": "stderr",
     "output_type": "stream",
     "text": [
      "Scraping pages:  34%|███▍      | 34/100 [01:34<02:43,  2.48s/it]"
     ]
    },
    {
     "name": "stdout",
     "output_type": "stream",
     "text": [
      "Retrieving: https://www.lamudi.com.ph/metro-manila/quezon-city/condominium/buy/?script=23&page=35 --- Success!\n"
     ]
    },
    {
     "name": "stderr",
     "output_type": "stream",
     "text": [
      "Scraping pages:  35%|███▌      | 35/100 [01:37<02:47,  2.57s/it]"
     ]
    },
    {
     "name": "stdout",
     "output_type": "stream",
     "text": [
      "Retrieving: https://www.lamudi.com.ph/metro-manila/quezon-city/condominium/buy/?script=23&page=36 --- Success!\n"
     ]
    },
    {
     "name": "stderr",
     "output_type": "stream",
     "text": [
      "Scraping pages:  36%|███▌      | 36/100 [01:39<02:43,  2.56s/it]"
     ]
    },
    {
     "name": "stdout",
     "output_type": "stream",
     "text": [
      "Retrieving: https://www.lamudi.com.ph/metro-manila/quezon-city/condominium/buy/?script=23&page=37 --- Success!\n"
     ]
    },
    {
     "name": "stderr",
     "output_type": "stream",
     "text": [
      "Scraping pages:  37%|███▋      | 37/100 [01:42<02:40,  2.55s/it]"
     ]
    },
    {
     "name": "stdout",
     "output_type": "stream",
     "text": [
      "Retrieving: https://www.lamudi.com.ph/metro-manila/quezon-city/condominium/buy/?script=23&page=38 --- Success!\n"
     ]
    },
    {
     "name": "stderr",
     "output_type": "stream",
     "text": [
      "Scraping pages:  38%|███▊      | 38/100 [01:44<02:33,  2.47s/it]"
     ]
    },
    {
     "name": "stdout",
     "output_type": "stream",
     "text": [
      "Retrieving: https://www.lamudi.com.ph/metro-manila/quezon-city/condominium/buy/?script=23&page=39 --- Success!\n"
     ]
    },
    {
     "name": "stderr",
     "output_type": "stream",
     "text": [
      "Scraping pages:  39%|███▉      | 39/100 [01:46<02:26,  2.40s/it]"
     ]
    },
    {
     "name": "stdout",
     "output_type": "stream",
     "text": [
      "Retrieving: https://www.lamudi.com.ph/metro-manila/quezon-city/condominium/buy/?script=23&page=40 --- Success!\n"
     ]
    },
    {
     "name": "stderr",
     "output_type": "stream",
     "text": [
      "Scraping pages:  40%|████      | 40/100 [01:48<02:21,  2.36s/it]"
     ]
    },
    {
     "name": "stdout",
     "output_type": "stream",
     "text": [
      "Retrieving: https://www.lamudi.com.ph/metro-manila/quezon-city/condominium/buy/?script=23&page=41 --- Success!\n"
     ]
    },
    {
     "name": "stderr",
     "output_type": "stream",
     "text": [
      "Scraping pages:  41%|████      | 41/100 [01:51<02:20,  2.39s/it]"
     ]
    },
    {
     "name": "stdout",
     "output_type": "stream",
     "text": [
      "Retrieving: https://www.lamudi.com.ph/metro-manila/quezon-city/condominium/buy/?script=23&page=42 --- Success!\n"
     ]
    },
    {
     "name": "stderr",
     "output_type": "stream",
     "text": [
      "Scraping pages:  42%|████▏     | 42/100 [01:54<02:34,  2.67s/it]"
     ]
    },
    {
     "name": "stdout",
     "output_type": "stream",
     "text": [
      "Retrieving: https://www.lamudi.com.ph/metro-manila/quezon-city/condominium/buy/?script=23&page=43 --- Success!\n"
     ]
    },
    {
     "name": "stderr",
     "output_type": "stream",
     "text": [
      "Scraping pages:  43%|████▎     | 43/100 [01:57<02:31,  2.66s/it]"
     ]
    },
    {
     "name": "stdout",
     "output_type": "stream",
     "text": [
      "Retrieving: https://www.lamudi.com.ph/metro-manila/quezon-city/condominium/buy/?script=23&page=44 --- Success!\n"
     ]
    },
    {
     "name": "stderr",
     "output_type": "stream",
     "text": [
      "Scraping pages:  44%|████▍     | 44/100 [01:59<02:20,  2.51s/it]"
     ]
    },
    {
     "name": "stdout",
     "output_type": "stream",
     "text": [
      "Retrieving: https://www.lamudi.com.ph/metro-manila/quezon-city/condominium/buy/?script=23&page=45 --- Success!\n"
     ]
    },
    {
     "name": "stderr",
     "output_type": "stream",
     "text": [
      "Scraping pages:  45%|████▌     | 45/100 [02:02<02:19,  2.53s/it]"
     ]
    },
    {
     "name": "stdout",
     "output_type": "stream",
     "text": [
      "Retrieving: https://www.lamudi.com.ph/metro-manila/quezon-city/condominium/buy/?script=23&page=46 --- Success!\n"
     ]
    },
    {
     "name": "stderr",
     "output_type": "stream",
     "text": [
      "Scraping pages:  46%|████▌     | 46/100 [02:04<02:17,  2.54s/it]"
     ]
    },
    {
     "name": "stdout",
     "output_type": "stream",
     "text": [
      "Retrieving: https://www.lamudi.com.ph/metro-manila/quezon-city/condominium/buy/?script=23&page=47 --- Success!\n"
     ]
    },
    {
     "name": "stderr",
     "output_type": "stream",
     "text": [
      "Scraping pages:  47%|████▋     | 47/100 [02:07<02:14,  2.53s/it]"
     ]
    },
    {
     "name": "stdout",
     "output_type": "stream",
     "text": [
      "Retrieving: https://www.lamudi.com.ph/metro-manila/quezon-city/condominium/buy/?script=23&page=48 --- Success!\n"
     ]
    },
    {
     "name": "stderr",
     "output_type": "stream",
     "text": [
      "Scraping pages:  48%|████▊     | 48/100 [02:09<02:07,  2.46s/it]"
     ]
    },
    {
     "name": "stdout",
     "output_type": "stream",
     "text": [
      "Retrieving: https://www.lamudi.com.ph/metro-manila/quezon-city/condominium/buy/?script=23&page=49 --- Success!\n"
     ]
    },
    {
     "name": "stderr",
     "output_type": "stream",
     "text": [
      "Scraping pages:  49%|████▉     | 49/100 [02:11<02:05,  2.46s/it]"
     ]
    },
    {
     "name": "stdout",
     "output_type": "stream",
     "text": [
      "Retrieving: https://www.lamudi.com.ph/metro-manila/quezon-city/condominium/buy/?script=23&page=50 --- Success!\n"
     ]
    },
    {
     "name": "stderr",
     "output_type": "stream",
     "text": [
      "Scraping pages:  50%|█████     | 50/100 [02:14<02:01,  2.44s/it]"
     ]
    },
    {
     "name": "stdout",
     "output_type": "stream",
     "text": [
      "Retrieving: https://www.lamudi.com.ph/metro-manila/quezon-city/condominium/buy/?script=23&page=51 --- Success!\n"
     ]
    },
    {
     "name": "stderr",
     "output_type": "stream",
     "text": [
      "Scraping pages:  51%|█████     | 51/100 [02:16<01:58,  2.42s/it]"
     ]
    },
    {
     "name": "stdout",
     "output_type": "stream",
     "text": [
      "Retrieving: https://www.lamudi.com.ph/metro-manila/quezon-city/condominium/buy/?script=23&page=52 --- Success!\n"
     ]
    },
    {
     "name": "stderr",
     "output_type": "stream",
     "text": [
      "Scraping pages:  52%|█████▏    | 52/100 [02:22<02:42,  3.39s/it]"
     ]
    },
    {
     "name": "stdout",
     "output_type": "stream",
     "text": [
      "Retrieving: https://www.lamudi.com.ph/metro-manila/quezon-city/condominium/buy/?script=23&page=53 --- Success!\n"
     ]
    },
    {
     "name": "stderr",
     "output_type": "stream",
     "text": [
      "Scraping pages:  53%|█████▎    | 53/100 [02:26<02:46,  3.54s/it]"
     ]
    },
    {
     "name": "stdout",
     "output_type": "stream",
     "text": [
      "Retrieving: https://www.lamudi.com.ph/metro-manila/quezon-city/condominium/buy/?script=23&page=54 --- Success!\n"
     ]
    },
    {
     "name": "stderr",
     "output_type": "stream",
     "text": [
      "Scraping pages:  54%|█████▍    | 54/100 [02:28<02:28,  3.23s/it]"
     ]
    },
    {
     "name": "stdout",
     "output_type": "stream",
     "text": [
      "Retrieving: https://www.lamudi.com.ph/metro-manila/quezon-city/condominium/buy/?script=23&page=55 --- Success!\n"
     ]
    },
    {
     "name": "stderr",
     "output_type": "stream",
     "text": [
      "Scraping pages:  55%|█████▌    | 55/100 [02:31<02:15,  3.01s/it]"
     ]
    },
    {
     "name": "stdout",
     "output_type": "stream",
     "text": [
      "Retrieving: https://www.lamudi.com.ph/metro-manila/quezon-city/condominium/buy/?script=23&page=56 --- Success!\n"
     ]
    },
    {
     "name": "stderr",
     "output_type": "stream",
     "text": [
      "Scraping pages:  56%|█████▌    | 56/100 [02:33<02:04,  2.83s/it]"
     ]
    },
    {
     "name": "stdout",
     "output_type": "stream",
     "text": [
      "Retrieving: https://www.lamudi.com.ph/metro-manila/quezon-city/condominium/buy/?script=23&page=57 --- Success!\n"
     ]
    },
    {
     "name": "stderr",
     "output_type": "stream",
     "text": [
      "Scraping pages:  57%|█████▋    | 57/100 [02:36<02:00,  2.79s/it]"
     ]
    },
    {
     "name": "stdout",
     "output_type": "stream",
     "text": [
      "Retrieving: https://www.lamudi.com.ph/metro-manila/quezon-city/condominium/buy/?script=23&page=58 --- Success!\n"
     ]
    },
    {
     "name": "stderr",
     "output_type": "stream",
     "text": [
      "Scraping pages:  58%|█████▊    | 58/100 [02:38<01:53,  2.70s/it]"
     ]
    },
    {
     "name": "stdout",
     "output_type": "stream",
     "text": [
      "Retrieving: https://www.lamudi.com.ph/metro-manila/quezon-city/condominium/buy/?script=23&page=59 --- Success!\n"
     ]
    },
    {
     "name": "stderr",
     "output_type": "stream",
     "text": [
      "Scraping pages:  59%|█████▉    | 59/100 [02:41<01:48,  2.65s/it]"
     ]
    },
    {
     "name": "stdout",
     "output_type": "stream",
     "text": [
      "Retrieving: https://www.lamudi.com.ph/metro-manila/quezon-city/condominium/buy/?script=23&page=60 --- Success!\n"
     ]
    },
    {
     "name": "stderr",
     "output_type": "stream",
     "text": [
      "Scraping pages:  60%|██████    | 60/100 [02:43<01:40,  2.51s/it]"
     ]
    },
    {
     "name": "stdout",
     "output_type": "stream",
     "text": [
      "Retrieving: https://www.lamudi.com.ph/metro-manila/quezon-city/condominium/buy/?script=23&page=61 --- Success!\n"
     ]
    },
    {
     "name": "stderr",
     "output_type": "stream",
     "text": [
      "Scraping pages:  61%|██████    | 61/100 [02:45<01:34,  2.41s/it]"
     ]
    },
    {
     "name": "stdout",
     "output_type": "stream",
     "text": [
      "Retrieving: https://www.lamudi.com.ph/metro-manila/quezon-city/condominium/buy/?script=23&page=62 --- Success!\n"
     ]
    },
    {
     "name": "stderr",
     "output_type": "stream",
     "text": [
      "Scraping pages:  62%|██████▏   | 62/100 [02:48<01:33,  2.47s/it]"
     ]
    },
    {
     "name": "stdout",
     "output_type": "stream",
     "text": [
      "Retrieving: https://www.lamudi.com.ph/metro-manila/quezon-city/condominium/buy/?script=23&page=63 --- Success!\n"
     ]
    },
    {
     "name": "stderr",
     "output_type": "stream",
     "text": [
      "Scraping pages:  63%|██████▎   | 63/100 [02:50<01:30,  2.45s/it]"
     ]
    },
    {
     "name": "stdout",
     "output_type": "stream",
     "text": [
      "Retrieving: https://www.lamudi.com.ph/metro-manila/quezon-city/condominium/buy/?script=23&page=64 --- Success!\n"
     ]
    },
    {
     "name": "stderr",
     "output_type": "stream",
     "text": [
      "Scraping pages:  64%|██████▍   | 64/100 [02:53<01:28,  2.46s/it]"
     ]
    },
    {
     "name": "stdout",
     "output_type": "stream",
     "text": [
      "Retrieving: https://www.lamudi.com.ph/metro-manila/quezon-city/condominium/buy/?script=23&page=65 --- Success!\n"
     ]
    },
    {
     "name": "stderr",
     "output_type": "stream",
     "text": [
      "Scraping pages:  65%|██████▌   | 65/100 [02:55<01:23,  2.37s/it]"
     ]
    },
    {
     "name": "stdout",
     "output_type": "stream",
     "text": [
      "Retrieving: https://www.lamudi.com.ph/metro-manila/quezon-city/condominium/buy/?script=23&page=66 --- Success!\n"
     ]
    },
    {
     "name": "stderr",
     "output_type": "stream",
     "text": [
      "Scraping pages:  66%|██████▌   | 66/100 [02:57<01:20,  2.38s/it]"
     ]
    },
    {
     "name": "stdout",
     "output_type": "stream",
     "text": [
      "Retrieving: https://www.lamudi.com.ph/metro-manila/quezon-city/condominium/buy/?script=23&page=67 --- Success!\n"
     ]
    },
    {
     "name": "stderr",
     "output_type": "stream",
     "text": [
      "Scraping pages:  67%|██████▋   | 67/100 [03:00<01:19,  2.42s/it]"
     ]
    },
    {
     "name": "stdout",
     "output_type": "stream",
     "text": [
      "Retrieving: https://www.lamudi.com.ph/metro-manila/quezon-city/condominium/buy/?script=23&page=68 --- Success!\n"
     ]
    },
    {
     "name": "stderr",
     "output_type": "stream",
     "text": [
      "Scraping pages:  68%|██████▊   | 68/100 [03:02<01:14,  2.33s/it]"
     ]
    },
    {
     "name": "stdout",
     "output_type": "stream",
     "text": [
      "Retrieving: https://www.lamudi.com.ph/metro-manila/quezon-city/condominium/buy/?script=23&page=69 --- Success!\n"
     ]
    },
    {
     "name": "stderr",
     "output_type": "stream",
     "text": [
      "Scraping pages:  69%|██████▉   | 69/100 [03:04<01:13,  2.37s/it]"
     ]
    },
    {
     "name": "stdout",
     "output_type": "stream",
     "text": [
      "Retrieving: https://www.lamudi.com.ph/metro-manila/quezon-city/condominium/buy/?script=23&page=70 --- Success!\n"
     ]
    },
    {
     "name": "stderr",
     "output_type": "stream",
     "text": [
      "Scraping pages:  70%|███████   | 70/100 [03:07<01:10,  2.34s/it]"
     ]
    },
    {
     "name": "stdout",
     "output_type": "stream",
     "text": [
      "Retrieving: https://www.lamudi.com.ph/metro-manila/quezon-city/condominium/buy/?script=23&page=71 --- Success!\n"
     ]
    },
    {
     "name": "stderr",
     "output_type": "stream",
     "text": [
      "Scraping pages:  71%|███████   | 71/100 [03:09<01:06,  2.28s/it]"
     ]
    },
    {
     "name": "stdout",
     "output_type": "stream",
     "text": [
      "Retrieving: https://www.lamudi.com.ph/metro-manila/quezon-city/condominium/buy/?script=23&page=72 --- Success!\n"
     ]
    },
    {
     "name": "stderr",
     "output_type": "stream",
     "text": [
      "Scraping pages:  72%|███████▏  | 72/100 [03:11<01:05,  2.34s/it]"
     ]
    },
    {
     "name": "stdout",
     "output_type": "stream",
     "text": [
      "Retrieving: https://www.lamudi.com.ph/metro-manila/quezon-city/condominium/buy/?script=23&page=73 --- Success!\n"
     ]
    },
    {
     "name": "stderr",
     "output_type": "stream",
     "text": [
      "Scraping pages:  73%|███████▎  | 73/100 [03:14<01:03,  2.36s/it]"
     ]
    },
    {
     "name": "stdout",
     "output_type": "stream",
     "text": [
      "Retrieving: https://www.lamudi.com.ph/metro-manila/quezon-city/condominium/buy/?script=23&page=74 --- Success!\n"
     ]
    },
    {
     "name": "stderr",
     "output_type": "stream",
     "text": [
      "Scraping pages:  74%|███████▍  | 74/100 [03:16<01:04,  2.47s/it]"
     ]
    },
    {
     "name": "stdout",
     "output_type": "stream",
     "text": [
      "Retrieving: https://www.lamudi.com.ph/metro-manila/quezon-city/condominium/buy/?script=23&page=75 --- Success!\n"
     ]
    },
    {
     "name": "stderr",
     "output_type": "stream",
     "text": [
      "Scraping pages:  75%|███████▌  | 75/100 [03:22<01:21,  3.25s/it]"
     ]
    },
    {
     "name": "stdout",
     "output_type": "stream",
     "text": [
      "Retrieving: https://www.lamudi.com.ph/metro-manila/quezon-city/condominium/buy/?script=23&page=76 --- Success!\n"
     ]
    },
    {
     "name": "stderr",
     "output_type": "stream",
     "text": [
      "Scraping pages:  76%|███████▌  | 76/100 [03:24<01:14,  3.10s/it]"
     ]
    },
    {
     "name": "stdout",
     "output_type": "stream",
     "text": [
      "Retrieving: https://www.lamudi.com.ph/metro-manila/quezon-city/condominium/buy/?script=23&page=77 --- Success!\n"
     ]
    },
    {
     "name": "stderr",
     "output_type": "stream",
     "text": [
      "Scraping pages:  77%|███████▋  | 77/100 [03:27<01:09,  3.00s/it]"
     ]
    },
    {
     "name": "stdout",
     "output_type": "stream",
     "text": [
      "Retrieving: https://www.lamudi.com.ph/metro-manila/quezon-city/condominium/buy/?script=23&page=78 --- Success!\n"
     ]
    },
    {
     "name": "stderr",
     "output_type": "stream",
     "text": [
      "Scraping pages:  78%|███████▊  | 78/100 [03:29<01:01,  2.81s/it]"
     ]
    },
    {
     "name": "stdout",
     "output_type": "stream",
     "text": [
      "Retrieving: https://www.lamudi.com.ph/metro-manila/quezon-city/condominium/buy/?script=23&page=79 --- Success!\n"
     ]
    },
    {
     "name": "stderr",
     "output_type": "stream",
     "text": [
      "Scraping pages:  79%|███████▉  | 79/100 [03:32<00:56,  2.68s/it]"
     ]
    },
    {
     "name": "stdout",
     "output_type": "stream",
     "text": [
      "Retrieving: https://www.lamudi.com.ph/metro-manila/quezon-city/condominium/buy/?script=23&page=80 --- Success!\n"
     ]
    },
    {
     "name": "stderr",
     "output_type": "stream",
     "text": [
      "Scraping pages:  80%|████████  | 80/100 [03:34<00:52,  2.65s/it]"
     ]
    },
    {
     "name": "stdout",
     "output_type": "stream",
     "text": [
      "Retrieving: https://www.lamudi.com.ph/metro-manila/quezon-city/condominium/buy/?script=23&page=81 --- Success!\n"
     ]
    },
    {
     "name": "stderr",
     "output_type": "stream",
     "text": [
      "Scraping pages:  81%|████████  | 81/100 [03:37<00:47,  2.50s/it]"
     ]
    },
    {
     "name": "stdout",
     "output_type": "stream",
     "text": [
      "Retrieving: https://www.lamudi.com.ph/metro-manila/quezon-city/condominium/buy/?script=23&page=82 --- Success!\n"
     ]
    },
    {
     "name": "stderr",
     "output_type": "stream",
     "text": [
      "Scraping pages:  82%|████████▏ | 82/100 [03:39<00:44,  2.47s/it]"
     ]
    },
    {
     "name": "stdout",
     "output_type": "stream",
     "text": [
      "Retrieving: https://www.lamudi.com.ph/metro-manila/quezon-city/condominium/buy/?script=23&page=83 --- Success!\n"
     ]
    },
    {
     "name": "stderr",
     "output_type": "stream",
     "text": [
      "Scraping pages:  83%|████████▎ | 83/100 [03:42<00:43,  2.58s/it]"
     ]
    },
    {
     "name": "stdout",
     "output_type": "stream",
     "text": [
      "Retrieving: https://www.lamudi.com.ph/metro-manila/quezon-city/condominium/buy/?script=23&page=84 --- Success!\n"
     ]
    },
    {
     "name": "stderr",
     "output_type": "stream",
     "text": [
      "Scraping pages:  84%|████████▍ | 84/100 [03:45<00:43,  2.70s/it]"
     ]
    },
    {
     "name": "stdout",
     "output_type": "stream",
     "text": [
      "Retrieving: https://www.lamudi.com.ph/metro-manila/quezon-city/condominium/buy/?script=23&page=85 --- Success!\n"
     ]
    },
    {
     "name": "stderr",
     "output_type": "stream",
     "text": [
      "Scraping pages:  85%|████████▌ | 85/100 [03:47<00:39,  2.66s/it]"
     ]
    },
    {
     "name": "stdout",
     "output_type": "stream",
     "text": [
      "Retrieving: https://www.lamudi.com.ph/metro-manila/quezon-city/condominium/buy/?script=23&page=86 --- Success!\n"
     ]
    },
    {
     "name": "stderr",
     "output_type": "stream",
     "text": [
      "Scraping pages:  86%|████████▌ | 86/100 [03:50<00:35,  2.57s/it]"
     ]
    },
    {
     "name": "stdout",
     "output_type": "stream",
     "text": [
      "Retrieving: https://www.lamudi.com.ph/metro-manila/quezon-city/condominium/buy/?script=23&page=87 --- Success!\n"
     ]
    },
    {
     "name": "stderr",
     "output_type": "stream",
     "text": [
      "Scraping pages:  87%|████████▋ | 87/100 [03:52<00:33,  2.59s/it]"
     ]
    },
    {
     "name": "stdout",
     "output_type": "stream",
     "text": [
      "Retrieving: https://www.lamudi.com.ph/metro-manila/quezon-city/condominium/buy/?script=23&page=88 --- Success!\n"
     ]
    },
    {
     "name": "stderr",
     "output_type": "stream",
     "text": [
      "Scraping pages:  88%|████████▊ | 88/100 [03:55<00:31,  2.59s/it]"
     ]
    },
    {
     "name": "stdout",
     "output_type": "stream",
     "text": [
      "Retrieving: https://www.lamudi.com.ph/metro-manila/quezon-city/condominium/buy/?script=23&page=89 --- Success!\n"
     ]
    },
    {
     "name": "stderr",
     "output_type": "stream",
     "text": [
      "Scraping pages:  89%|████████▉ | 89/100 [03:57<00:27,  2.52s/it]"
     ]
    },
    {
     "name": "stdout",
     "output_type": "stream",
     "text": [
      "Retrieving: https://www.lamudi.com.ph/metro-manila/quezon-city/condominium/buy/?script=23&page=90 --- Success!\n"
     ]
    },
    {
     "name": "stderr",
     "output_type": "stream",
     "text": [
      "Scraping pages:  90%|█████████ | 90/100 [04:00<00:25,  2.59s/it]"
     ]
    },
    {
     "name": "stdout",
     "output_type": "stream",
     "text": [
      "Retrieving: https://www.lamudi.com.ph/metro-manila/quezon-city/condominium/buy/?script=23&page=91 --- Success!\n"
     ]
    },
    {
     "name": "stderr",
     "output_type": "stream",
     "text": [
      "Scraping pages:  91%|█████████ | 91/100 [04:03<00:24,  2.74s/it]"
     ]
    },
    {
     "name": "stdout",
     "output_type": "stream",
     "text": [
      "Retrieving: https://www.lamudi.com.ph/metro-manila/quezon-city/condominium/buy/?script=23&page=92 --- Success!\n"
     ]
    },
    {
     "name": "stderr",
     "output_type": "stream",
     "text": [
      "Scraping pages:  92%|█████████▏| 92/100 [04:07<00:24,  3.08s/it]"
     ]
    },
    {
     "name": "stdout",
     "output_type": "stream",
     "text": [
      "Retrieving: https://www.lamudi.com.ph/metro-manila/quezon-city/condominium/buy/?script=23&page=93 --- Success!\n"
     ]
    },
    {
     "name": "stderr",
     "output_type": "stream",
     "text": [
      "Scraping pages:  93%|█████████▎| 93/100 [04:10<00:21,  3.04s/it]"
     ]
    },
    {
     "name": "stdout",
     "output_type": "stream",
     "text": [
      "Retrieving: https://www.lamudi.com.ph/metro-manila/quezon-city/condominium/buy/?script=23&page=94 --- Success!\n"
     ]
    },
    {
     "name": "stderr",
     "output_type": "stream",
     "text": [
      "Scraping pages:  94%|█████████▍| 94/100 [04:12<00:17,  2.85s/it]"
     ]
    },
    {
     "name": "stdout",
     "output_type": "stream",
     "text": [
      "Retrieving: https://www.lamudi.com.ph/metro-manila/quezon-city/condominium/buy/?script=23&page=95 --- Success!\n"
     ]
    },
    {
     "name": "stderr",
     "output_type": "stream",
     "text": [
      "Scraping pages:  95%|█████████▌| 95/100 [04:15<00:13,  2.78s/it]"
     ]
    },
    {
     "name": "stdout",
     "output_type": "stream",
     "text": [
      "Retrieving: https://www.lamudi.com.ph/metro-manila/quezon-city/condominium/buy/?script=23&page=96 --- Success!\n"
     ]
    },
    {
     "name": "stderr",
     "output_type": "stream",
     "text": [
      "Scraping pages:  96%|█████████▌| 96/100 [04:18<00:10,  2.75s/it]"
     ]
    },
    {
     "name": "stdout",
     "output_type": "stream",
     "text": [
      "Retrieving: https://www.lamudi.com.ph/metro-manila/quezon-city/condominium/buy/?script=23&page=97 --- Success!\n"
     ]
    },
    {
     "name": "stderr",
     "output_type": "stream",
     "text": [
      "Scraping pages:  97%|█████████▋| 97/100 [04:22<00:09,  3.15s/it]"
     ]
    },
    {
     "name": "stdout",
     "output_type": "stream",
     "text": [
      "Retrieving: https://www.lamudi.com.ph/metro-manila/quezon-city/condominium/buy/?script=23&page=98 --- Success!\n"
     ]
    },
    {
     "name": "stderr",
     "output_type": "stream",
     "text": [
      "Scraping pages:  98%|█████████▊| 98/100 [04:24<00:05,  2.99s/it]"
     ]
    },
    {
     "name": "stdout",
     "output_type": "stream",
     "text": [
      "Retrieving: https://www.lamudi.com.ph/metro-manila/quezon-city/condominium/buy/?script=23&page=99 --- Success!\n"
     ]
    },
    {
     "name": "stderr",
     "output_type": "stream",
     "text": [
      "Scraping pages:  99%|█████████▉| 99/100 [04:27<00:02,  2.80s/it]"
     ]
    },
    {
     "name": "stdout",
     "output_type": "stream",
     "text": [
      "Retrieving: https://www.lamudi.com.ph/metro-manila/quezon-city/condominium/buy/?script=23&page=100 --- Success!\n"
     ]
    },
    {
     "name": "stderr",
     "output_type": "stream",
     "text": [
      "Scraping pages: 100%|██████████| 100/100 [04:29<00:00,  2.69s/it]\n",
      "Scraping pages:   0%|          | 0/100 [00:00<?, ?it/s]"
     ]
    },
    {
     "name": "stdout",
     "output_type": "stream",
     "text": [
      "Retrieving: https://www.lamudi.com.ph/metro-manila/quezon-city/house/buy/?script=23&page=1 --- Success!\n"
     ]
    },
    {
     "name": "stderr",
     "output_type": "stream",
     "text": [
      "Scraping pages:   1%|          | 1/100 [00:02<03:48,  2.31s/it]"
     ]
    },
    {
     "name": "stdout",
     "output_type": "stream",
     "text": [
      "Retrieving: https://www.lamudi.com.ph/metro-manila/quezon-city/house/buy/?script=23&page=2 --- Success!\n"
     ]
    },
    {
     "name": "stderr",
     "output_type": "stream",
     "text": [
      "Scraping pages:   2%|▏         | 2/100 [00:03<02:54,  1.78s/it]"
     ]
    },
    {
     "name": "stdout",
     "output_type": "stream",
     "text": [
      "Retrieving: https://www.lamudi.com.ph/metro-manila/quezon-city/house/buy/?script=23&page=3 --- Success!\n"
     ]
    },
    {
     "name": "stderr",
     "output_type": "stream",
     "text": [
      "Scraping pages:   3%|▎         | 3/100 [00:05<02:55,  1.81s/it]"
     ]
    },
    {
     "name": "stdout",
     "output_type": "stream",
     "text": [
      "Retrieving: https://www.lamudi.com.ph/metro-manila/quezon-city/house/buy/?script=23&page=4 --- Success!\n"
     ]
    },
    {
     "name": "stderr",
     "output_type": "stream",
     "text": [
      "Scraping pages:   4%|▍         | 4/100 [00:07<02:50,  1.78s/it]"
     ]
    },
    {
     "name": "stdout",
     "output_type": "stream",
     "text": [
      "Retrieving: https://www.lamudi.com.ph/metro-manila/quezon-city/house/buy/?script=23&page=5 --- Success!\n"
     ]
    },
    {
     "name": "stderr",
     "output_type": "stream",
     "text": [
      "Scraping pages:   5%|▌         | 5/100 [00:09<02:55,  1.85s/it]"
     ]
    },
    {
     "name": "stdout",
     "output_type": "stream",
     "text": [
      "Retrieving: https://www.lamudi.com.ph/metro-manila/quezon-city/house/buy/?script=23&page=6 --- Success!\n"
     ]
    },
    {
     "name": "stderr",
     "output_type": "stream",
     "text": [
      "Scraping pages:   6%|▌         | 6/100 [00:11<02:55,  1.86s/it]"
     ]
    },
    {
     "name": "stdout",
     "output_type": "stream",
     "text": [
      "Retrieving: https://www.lamudi.com.ph/metro-manila/quezon-city/house/buy/?script=23&page=7 --- Success!\n"
     ]
    },
    {
     "name": "stderr",
     "output_type": "stream",
     "text": [
      "Scraping pages:   7%|▋         | 7/100 [00:13<02:53,  1.87s/it]"
     ]
    },
    {
     "name": "stdout",
     "output_type": "stream",
     "text": [
      "Retrieving: https://www.lamudi.com.ph/metro-manila/quezon-city/house/buy/?script=23&page=8 --- Success!\n"
     ]
    },
    {
     "name": "stderr",
     "output_type": "stream",
     "text": [
      "Scraping pages:   8%|▊         | 8/100 [00:15<03:00,  1.96s/it]"
     ]
    },
    {
     "name": "stdout",
     "output_type": "stream",
     "text": [
      "Retrieving: https://www.lamudi.com.ph/metro-manila/quezon-city/house/buy/?script=23&page=9 --- Success!\n"
     ]
    },
    {
     "name": "stderr",
     "output_type": "stream",
     "text": [
      "Scraping pages:   9%|▉         | 9/100 [00:17<02:57,  1.95s/it]"
     ]
    },
    {
     "name": "stdout",
     "output_type": "stream",
     "text": [
      "Retrieving: https://www.lamudi.com.ph/metro-manila/quezon-city/house/buy/?script=23&page=10 --- Success!\n"
     ]
    },
    {
     "name": "stderr",
     "output_type": "stream",
     "text": [
      "Scraping pages:  10%|█         | 10/100 [00:19<02:59,  2.00s/it]"
     ]
    },
    {
     "name": "stdout",
     "output_type": "stream",
     "text": [
      "Retrieving: https://www.lamudi.com.ph/metro-manila/quezon-city/house/buy/?script=23&page=11 --- Success!\n"
     ]
    },
    {
     "name": "stderr",
     "output_type": "stream",
     "text": [
      "Scraping pages:  11%|█         | 11/100 [00:21<02:58,  2.01s/it]"
     ]
    },
    {
     "name": "stdout",
     "output_type": "stream",
     "text": [
      "Retrieving: https://www.lamudi.com.ph/metro-manila/quezon-city/house/buy/?script=23&page=12 --- Success!\n"
     ]
    },
    {
     "name": "stderr",
     "output_type": "stream",
     "text": [
      "Scraping pages:  12%|█▏        | 12/100 [00:23<02:53,  1.98s/it]"
     ]
    },
    {
     "name": "stdout",
     "output_type": "stream",
     "text": [
      "Retrieving: https://www.lamudi.com.ph/metro-manila/quezon-city/house/buy/?script=23&page=13 --- Success!\n"
     ]
    },
    {
     "name": "stderr",
     "output_type": "stream",
     "text": [
      "Scraping pages:  13%|█▎        | 13/100 [00:25<02:51,  1.97s/it]"
     ]
    },
    {
     "name": "stdout",
     "output_type": "stream",
     "text": [
      "Retrieving: https://www.lamudi.com.ph/metro-manila/quezon-city/house/buy/?script=23&page=14 --- Success!\n"
     ]
    },
    {
     "name": "stderr",
     "output_type": "stream",
     "text": [
      "Scraping pages:  14%|█▍        | 14/100 [00:27<02:54,  2.03s/it]"
     ]
    },
    {
     "name": "stdout",
     "output_type": "stream",
     "text": [
      "Retrieving: https://www.lamudi.com.ph/metro-manila/quezon-city/house/buy/?script=23&page=15 --- Success!\n"
     ]
    },
    {
     "name": "stderr",
     "output_type": "stream",
     "text": [
      "Scraping pages:  15%|█▌        | 15/100 [00:29<02:53,  2.05s/it]"
     ]
    },
    {
     "name": "stdout",
     "output_type": "stream",
     "text": [
      "Retrieving: https://www.lamudi.com.ph/metro-manila/quezon-city/house/buy/?script=23&page=16 --- Success!\n"
     ]
    },
    {
     "name": "stderr",
     "output_type": "stream",
     "text": [
      "Scraping pages:  16%|█▌        | 16/100 [00:31<02:47,  1.99s/it]"
     ]
    },
    {
     "name": "stdout",
     "output_type": "stream",
     "text": [
      "Retrieving: https://www.lamudi.com.ph/metro-manila/quezon-city/house/buy/?script=23&page=17 --- Success!\n"
     ]
    },
    {
     "name": "stderr",
     "output_type": "stream",
     "text": [
      "Scraping pages:  17%|█▋        | 17/100 [00:33<02:49,  2.04s/it]"
     ]
    },
    {
     "name": "stdout",
     "output_type": "stream",
     "text": [
      "Retrieving: https://www.lamudi.com.ph/metro-manila/quezon-city/house/buy/?script=23&page=18 --- Success!\n"
     ]
    },
    {
     "name": "stderr",
     "output_type": "stream",
     "text": [
      "Scraping pages:  18%|█▊        | 18/100 [00:36<03:04,  2.25s/it]"
     ]
    },
    {
     "name": "stdout",
     "output_type": "stream",
     "text": [
      "Retrieving: https://www.lamudi.com.ph/metro-manila/quezon-city/house/buy/?script=23&page=19 --- Success!\n"
     ]
    },
    {
     "name": "stderr",
     "output_type": "stream",
     "text": [
      "Scraping pages:  19%|█▉        | 19/100 [00:37<02:51,  2.12s/it]"
     ]
    },
    {
     "name": "stdout",
     "output_type": "stream",
     "text": [
      "Retrieving: https://www.lamudi.com.ph/metro-manila/quezon-city/house/buy/?script=23&page=20 --- Success!\n"
     ]
    },
    {
     "name": "stderr",
     "output_type": "stream",
     "text": [
      "Scraping pages:  20%|██        | 20/100 [00:40<02:49,  2.12s/it]"
     ]
    },
    {
     "name": "stdout",
     "output_type": "stream",
     "text": [
      "Retrieving: https://www.lamudi.com.ph/metro-manila/quezon-city/house/buy/?script=23&page=21 --- Success!\n"
     ]
    },
    {
     "name": "stderr",
     "output_type": "stream",
     "text": [
      "Scraping pages:  21%|██        | 21/100 [00:42<02:44,  2.08s/it]"
     ]
    },
    {
     "name": "stdout",
     "output_type": "stream",
     "text": [
      "Retrieving: https://www.lamudi.com.ph/metro-manila/quezon-city/house/buy/?script=23&page=22 --- Success!\n"
     ]
    },
    {
     "name": "stderr",
     "output_type": "stream",
     "text": [
      "Scraping pages:  22%|██▏       | 22/100 [00:43<02:38,  2.03s/it]"
     ]
    },
    {
     "name": "stdout",
     "output_type": "stream",
     "text": [
      "Retrieving: https://www.lamudi.com.ph/metro-manila/quezon-city/house/buy/?script=23&page=23 --- Success!\n"
     ]
    },
    {
     "name": "stderr",
     "output_type": "stream",
     "text": [
      "Scraping pages:  23%|██▎       | 23/100 [00:45<02:35,  2.01s/it]"
     ]
    },
    {
     "name": "stdout",
     "output_type": "stream",
     "text": [
      "Retrieving: https://www.lamudi.com.ph/metro-manila/quezon-city/house/buy/?script=23&page=24 --- Success!\n"
     ]
    },
    {
     "name": "stderr",
     "output_type": "stream",
     "text": [
      "Scraping pages:  24%|██▍       | 24/100 [00:48<02:39,  2.10s/it]"
     ]
    },
    {
     "name": "stdout",
     "output_type": "stream",
     "text": [
      "Retrieving: https://www.lamudi.com.ph/metro-manila/quezon-city/house/buy/?script=23&page=25 --- Success!\n"
     ]
    },
    {
     "name": "stderr",
     "output_type": "stream",
     "text": [
      "Scraping pages:  25%|██▌       | 25/100 [00:52<03:29,  2.79s/it]"
     ]
    },
    {
     "name": "stdout",
     "output_type": "stream",
     "text": [
      "Retrieving: https://www.lamudi.com.ph/metro-manila/quezon-city/house/buy/?script=23&page=26 --- Success!\n"
     ]
    },
    {
     "name": "stderr",
     "output_type": "stream",
     "text": [
      "Scraping pages:  26%|██▌       | 26/100 [00:54<03:14,  2.62s/it]"
     ]
    },
    {
     "name": "stdout",
     "output_type": "stream",
     "text": [
      "Retrieving: https://www.lamudi.com.ph/metro-manila/quezon-city/house/buy/?script=23&page=27 --- Success!\n"
     ]
    },
    {
     "name": "stderr",
     "output_type": "stream",
     "text": [
      "Scraping pages:  27%|██▋       | 27/100 [00:57<03:02,  2.51s/it]"
     ]
    },
    {
     "name": "stdout",
     "output_type": "stream",
     "text": [
      "Retrieving: https://www.lamudi.com.ph/metro-manila/quezon-city/house/buy/?script=23&page=28 --- Success!\n"
     ]
    },
    {
     "name": "stderr",
     "output_type": "stream",
     "text": [
      "Scraping pages:  28%|██▊       | 28/100 [00:59<02:56,  2.45s/it]"
     ]
    },
    {
     "name": "stdout",
     "output_type": "stream",
     "text": [
      "Retrieving: https://www.lamudi.com.ph/metro-manila/quezon-city/house/buy/?script=23&page=29 --- Success!\n"
     ]
    },
    {
     "name": "stderr",
     "output_type": "stream",
     "text": [
      "Scraping pages:  29%|██▉       | 29/100 [01:01<02:44,  2.32s/it]"
     ]
    },
    {
     "name": "stdout",
     "output_type": "stream",
     "text": [
      "Retrieving: https://www.lamudi.com.ph/metro-manila/quezon-city/house/buy/?script=23&page=30 --- Success!\n"
     ]
    },
    {
     "name": "stderr",
     "output_type": "stream",
     "text": [
      "Scraping pages:  30%|███       | 30/100 [01:03<02:37,  2.25s/it]"
     ]
    },
    {
     "name": "stdout",
     "output_type": "stream",
     "text": [
      "Retrieving: https://www.lamudi.com.ph/metro-manila/quezon-city/house/buy/?script=23&page=31 --- Success!\n"
     ]
    },
    {
     "name": "stderr",
     "output_type": "stream",
     "text": [
      "Scraping pages:  31%|███       | 31/100 [01:05<02:35,  2.25s/it]"
     ]
    },
    {
     "name": "stdout",
     "output_type": "stream",
     "text": [
      "Retrieving: https://www.lamudi.com.ph/metro-manila/quezon-city/house/buy/?script=23&page=32 --- Success!\n"
     ]
    },
    {
     "name": "stderr",
     "output_type": "stream",
     "text": [
      "Scraping pages:  32%|███▏      | 32/100 [01:07<02:30,  2.21s/it]"
     ]
    },
    {
     "name": "stdout",
     "output_type": "stream",
     "text": [
      "Retrieving: https://www.lamudi.com.ph/metro-manila/quezon-city/house/buy/?script=23&page=33 --- Success!\n"
     ]
    },
    {
     "name": "stderr",
     "output_type": "stream",
     "text": [
      "Scraping pages:  33%|███▎      | 33/100 [01:09<02:22,  2.13s/it]"
     ]
    },
    {
     "name": "stdout",
     "output_type": "stream",
     "text": [
      "Retrieving: https://www.lamudi.com.ph/metro-manila/quezon-city/house/buy/?script=23&page=34 --- Success!\n"
     ]
    },
    {
     "name": "stderr",
     "output_type": "stream",
     "text": [
      "Scraping pages:  34%|███▍      | 34/100 [01:12<02:28,  2.25s/it]"
     ]
    },
    {
     "name": "stdout",
     "output_type": "stream",
     "text": [
      "Retrieving: https://www.lamudi.com.ph/metro-manila/quezon-city/house/buy/?script=23&page=35 --- Success!\n"
     ]
    },
    {
     "name": "stderr",
     "output_type": "stream",
     "text": [
      "Scraping pages:  35%|███▌      | 35/100 [01:14<02:21,  2.17s/it]"
     ]
    },
    {
     "name": "stdout",
     "output_type": "stream",
     "text": [
      "Retrieving: https://www.lamudi.com.ph/metro-manila/quezon-city/house/buy/?script=23&page=36 --- Success!\n"
     ]
    },
    {
     "name": "stderr",
     "output_type": "stream",
     "text": [
      "Scraping pages:  36%|███▌      | 36/100 [01:16<02:12,  2.07s/it]"
     ]
    },
    {
     "name": "stdout",
     "output_type": "stream",
     "text": [
      "Retrieving: https://www.lamudi.com.ph/metro-manila/quezon-city/house/buy/?script=23&page=37 --- Success!\n"
     ]
    },
    {
     "name": "stderr",
     "output_type": "stream",
     "text": [
      "Scraping pages:  37%|███▋      | 37/100 [01:18<02:06,  2.00s/it]"
     ]
    },
    {
     "name": "stdout",
     "output_type": "stream",
     "text": [
      "Retrieving: https://www.lamudi.com.ph/metro-manila/quezon-city/house/buy/?script=23&page=38 --- Success!\n"
     ]
    },
    {
     "name": "stderr",
     "output_type": "stream",
     "text": [
      "Scraping pages:  38%|███▊      | 38/100 [01:20<02:04,  2.01s/it]"
     ]
    },
    {
     "name": "stdout",
     "output_type": "stream",
     "text": [
      "Retrieving: https://www.lamudi.com.ph/metro-manila/quezon-city/house/buy/?script=23&page=39 --- Success!\n"
     ]
    },
    {
     "name": "stderr",
     "output_type": "stream",
     "text": [
      "Scraping pages:  39%|███▉      | 39/100 [01:22<02:12,  2.17s/it]"
     ]
    },
    {
     "name": "stdout",
     "output_type": "stream",
     "text": [
      "Retrieving: https://www.lamudi.com.ph/metro-manila/quezon-city/house/buy/?script=23&page=40 --- Success!\n"
     ]
    },
    {
     "name": "stderr",
     "output_type": "stream",
     "text": [
      "Scraping pages:  40%|████      | 40/100 [01:24<02:10,  2.17s/it]"
     ]
    },
    {
     "name": "stdout",
     "output_type": "stream",
     "text": [
      "Retrieving: https://www.lamudi.com.ph/metro-manila/quezon-city/house/buy/?script=23&page=41 --- Success!\n"
     ]
    },
    {
     "name": "stderr",
     "output_type": "stream",
     "text": [
      "Scraping pages:  41%|████      | 41/100 [01:27<02:13,  2.27s/it]"
     ]
    },
    {
     "name": "stdout",
     "output_type": "stream",
     "text": [
      "Retrieving: https://www.lamudi.com.ph/metro-manila/quezon-city/house/buy/?script=23&page=42 --- Success!\n"
     ]
    },
    {
     "name": "stderr",
     "output_type": "stream",
     "text": [
      "Scraping pages:  42%|████▏     | 42/100 [01:29<02:11,  2.26s/it]"
     ]
    },
    {
     "name": "stdout",
     "output_type": "stream",
     "text": [
      "Retrieving: https://www.lamudi.com.ph/metro-manila/quezon-city/house/buy/?script=23&page=43 --- Success!\n"
     ]
    },
    {
     "name": "stderr",
     "output_type": "stream",
     "text": [
      "Scraping pages:  43%|████▎     | 43/100 [01:31<02:05,  2.21s/it]"
     ]
    },
    {
     "name": "stdout",
     "output_type": "stream",
     "text": [
      "Retrieving: https://www.lamudi.com.ph/metro-manila/quezon-city/house/buy/?script=23&page=44 --- Success!\n"
     ]
    },
    {
     "name": "stderr",
     "output_type": "stream",
     "text": [
      "Scraping pages:  44%|████▍     | 44/100 [01:33<02:02,  2.19s/it]"
     ]
    },
    {
     "name": "stdout",
     "output_type": "stream",
     "text": [
      "Retrieving: https://www.lamudi.com.ph/metro-manila/quezon-city/house/buy/?script=23&page=45 --- Success!\n"
     ]
    },
    {
     "name": "stderr",
     "output_type": "stream",
     "text": [
      "Scraping pages:  45%|████▌     | 45/100 [01:35<01:57,  2.14s/it]"
     ]
    },
    {
     "name": "stdout",
     "output_type": "stream",
     "text": [
      "Retrieving: https://www.lamudi.com.ph/metro-manila/quezon-city/house/buy/?script=23&page=46 --- Success!\n"
     ]
    },
    {
     "name": "stderr",
     "output_type": "stream",
     "text": [
      "Scraping pages:  46%|████▌     | 46/100 [01:37<01:53,  2.11s/it]"
     ]
    },
    {
     "name": "stdout",
     "output_type": "stream",
     "text": [
      "Retrieving: https://www.lamudi.com.ph/metro-manila/quezon-city/house/buy/?script=23&page=47 --- Success!\n"
     ]
    },
    {
     "name": "stderr",
     "output_type": "stream",
     "text": [
      "Scraping pages:  47%|████▋     | 47/100 [01:39<01:48,  2.04s/it]"
     ]
    },
    {
     "name": "stdout",
     "output_type": "stream",
     "text": [
      "Retrieving: https://www.lamudi.com.ph/metro-manila/quezon-city/house/buy/?script=23&page=48 --- Success!\n"
     ]
    },
    {
     "name": "stderr",
     "output_type": "stream",
     "text": [
      "Scraping pages:  48%|████▊     | 48/100 [01:41<01:48,  2.09s/it]"
     ]
    },
    {
     "name": "stdout",
     "output_type": "stream",
     "text": [
      "Retrieving: https://www.lamudi.com.ph/metro-manila/quezon-city/house/buy/?script=23&page=49 --- Success!\n"
     ]
    },
    {
     "name": "stderr",
     "output_type": "stream",
     "text": [
      "Scraping pages:  49%|████▉     | 49/100 [01:44<01:51,  2.19s/it]"
     ]
    },
    {
     "name": "stdout",
     "output_type": "stream",
     "text": [
      "Retrieving: https://www.lamudi.com.ph/metro-manila/quezon-city/house/buy/?script=23&page=50 --- Success!\n"
     ]
    },
    {
     "name": "stderr",
     "output_type": "stream",
     "text": [
      "Scraping pages:  50%|█████     | 50/100 [01:46<01:45,  2.11s/it]"
     ]
    },
    {
     "name": "stdout",
     "output_type": "stream",
     "text": [
      "Retrieving: https://www.lamudi.com.ph/metro-manila/quezon-city/house/buy/?script=23&page=51 --- Success!\n"
     ]
    },
    {
     "name": "stderr",
     "output_type": "stream",
     "text": [
      "Scraping pages:  51%|█████     | 51/100 [01:48<01:43,  2.11s/it]"
     ]
    },
    {
     "name": "stdout",
     "output_type": "stream",
     "text": [
      "Retrieving: https://www.lamudi.com.ph/metro-manila/quezon-city/house/buy/?script=23&page=52 --- Success!\n"
     ]
    },
    {
     "name": "stderr",
     "output_type": "stream",
     "text": [
      "Scraping pages:  52%|█████▏    | 52/100 [01:52<02:07,  2.66s/it]"
     ]
    },
    {
     "name": "stdout",
     "output_type": "stream",
     "text": [
      "Retrieving: https://www.lamudi.com.ph/metro-manila/quezon-city/house/buy/?script=23&page=53 --- Success!\n"
     ]
    },
    {
     "name": "stderr",
     "output_type": "stream",
     "text": [
      "Scraping pages:  53%|█████▎    | 53/100 [01:54<01:56,  2.49s/it]"
     ]
    },
    {
     "name": "stdout",
     "output_type": "stream",
     "text": [
      "Retrieving: https://www.lamudi.com.ph/metro-manila/quezon-city/house/buy/?script=23&page=54 --- Success!\n"
     ]
    },
    {
     "name": "stderr",
     "output_type": "stream",
     "text": [
      "Scraping pages:  54%|█████▍    | 54/100 [01:56<01:47,  2.34s/it]"
     ]
    },
    {
     "name": "stdout",
     "output_type": "stream",
     "text": [
      "Retrieving: https://www.lamudi.com.ph/metro-manila/quezon-city/house/buy/?script=23&page=55 --- Success!\n"
     ]
    },
    {
     "name": "stderr",
     "output_type": "stream",
     "text": [
      "Scraping pages:  55%|█████▌    | 55/100 [01:58<01:39,  2.21s/it]"
     ]
    },
    {
     "name": "stdout",
     "output_type": "stream",
     "text": [
      "Retrieving: https://www.lamudi.com.ph/metro-manila/quezon-city/house/buy/?script=23&page=56 --- Success!\n"
     ]
    },
    {
     "name": "stderr",
     "output_type": "stream",
     "text": [
      "Scraping pages:  56%|█████▌    | 56/100 [02:00<01:35,  2.17s/it]"
     ]
    },
    {
     "name": "stdout",
     "output_type": "stream",
     "text": [
      "Retrieving: https://www.lamudi.com.ph/metro-manila/quezon-city/house/buy/?script=23&page=57 --- Success!\n"
     ]
    },
    {
     "name": "stderr",
     "output_type": "stream",
     "text": [
      "Scraping pages:  57%|█████▋    | 57/100 [02:02<01:31,  2.13s/it]"
     ]
    },
    {
     "name": "stdout",
     "output_type": "stream",
     "text": [
      "Retrieving: https://www.lamudi.com.ph/metro-manila/quezon-city/house/buy/?script=23&page=58 --- Success!\n"
     ]
    },
    {
     "name": "stderr",
     "output_type": "stream",
     "text": [
      "Scraping pages:  58%|█████▊    | 58/100 [02:04<01:29,  2.13s/it]"
     ]
    },
    {
     "name": "stdout",
     "output_type": "stream",
     "text": [
      "Retrieving: https://www.lamudi.com.ph/metro-manila/quezon-city/house/buy/?script=23&page=59 --- Success!\n"
     ]
    },
    {
     "name": "stderr",
     "output_type": "stream",
     "text": [
      "Scraping pages:  59%|█████▉    | 59/100 [02:06<01:27,  2.13s/it]"
     ]
    },
    {
     "name": "stdout",
     "output_type": "stream",
     "text": [
      "Retrieving: https://www.lamudi.com.ph/metro-manila/quezon-city/house/buy/?script=23&page=60 --- Success!\n"
     ]
    },
    {
     "name": "stderr",
     "output_type": "stream",
     "text": [
      "Scraping pages:  60%|██████    | 60/100 [02:08<01:22,  2.05s/it]"
     ]
    },
    {
     "name": "stdout",
     "output_type": "stream",
     "text": [
      "Retrieving: https://www.lamudi.com.ph/metro-manila/quezon-city/house/buy/?script=23&page=61 --- Success!\n"
     ]
    },
    {
     "name": "stderr",
     "output_type": "stream",
     "text": [
      "Scraping pages:  61%|██████    | 61/100 [02:10<01:18,  2.02s/it]"
     ]
    },
    {
     "name": "stdout",
     "output_type": "stream",
     "text": [
      "Retrieving: https://www.lamudi.com.ph/metro-manila/quezon-city/house/buy/?script=23&page=62 --- Success!\n"
     ]
    },
    {
     "name": "stderr",
     "output_type": "stream",
     "text": [
      "Scraping pages:  62%|██████▏   | 62/100 [02:12<01:15,  1.99s/it]"
     ]
    },
    {
     "name": "stdout",
     "output_type": "stream",
     "text": [
      "Retrieving: https://www.lamudi.com.ph/metro-manila/quezon-city/house/buy/?script=23&page=63 --- Success!\n"
     ]
    },
    {
     "name": "stderr",
     "output_type": "stream",
     "text": [
      "Scraping pages:  63%|██████▎   | 63/100 [02:14<01:12,  1.95s/it]"
     ]
    },
    {
     "name": "stdout",
     "output_type": "stream",
     "text": [
      "Retrieving: https://www.lamudi.com.ph/metro-manila/quezon-city/house/buy/?script=23&page=64 --- Success!\n"
     ]
    },
    {
     "name": "stderr",
     "output_type": "stream",
     "text": [
      "Scraping pages:  64%|██████▍   | 64/100 [02:16<01:13,  2.04s/it]"
     ]
    },
    {
     "name": "stdout",
     "output_type": "stream",
     "text": [
      "Retrieving: https://www.lamudi.com.ph/metro-manila/quezon-city/house/buy/?script=23&page=65 --- Success!\n"
     ]
    },
    {
     "name": "stderr",
     "output_type": "stream",
     "text": [
      "Scraping pages:  65%|██████▌   | 65/100 [02:18<01:12,  2.07s/it]"
     ]
    },
    {
     "name": "stdout",
     "output_type": "stream",
     "text": [
      "Retrieving: https://www.lamudi.com.ph/metro-manila/quezon-city/house/buy/?script=23&page=66 --- Success!\n"
     ]
    },
    {
     "name": "stderr",
     "output_type": "stream",
     "text": [
      "Scraping pages:  66%|██████▌   | 66/100 [02:20<01:09,  2.04s/it]"
     ]
    },
    {
     "name": "stdout",
     "output_type": "stream",
     "text": [
      "Retrieving: https://www.lamudi.com.ph/metro-manila/quezon-city/house/buy/?script=23&page=67 --- Success!\n"
     ]
    },
    {
     "name": "stderr",
     "output_type": "stream",
     "text": [
      "Scraping pages:  67%|██████▋   | 67/100 [02:22<01:09,  2.12s/it]"
     ]
    },
    {
     "name": "stdout",
     "output_type": "stream",
     "text": [
      "Retrieving: https://www.lamudi.com.ph/metro-manila/quezon-city/house/buy/?script=23&page=68 --- Success!\n"
     ]
    },
    {
     "name": "stderr",
     "output_type": "stream",
     "text": [
      "Scraping pages:  68%|██████▊   | 68/100 [02:25<01:09,  2.17s/it]"
     ]
    },
    {
     "name": "stdout",
     "output_type": "stream",
     "text": [
      "Retrieving: https://www.lamudi.com.ph/metro-manila/quezon-city/house/buy/?script=23&page=69 --- Success!\n"
     ]
    },
    {
     "name": "stderr",
     "output_type": "stream",
     "text": [
      "Scraping pages:  69%|██████▉   | 69/100 [02:27<01:03,  2.06s/it]"
     ]
    },
    {
     "name": "stdout",
     "output_type": "stream",
     "text": [
      "Retrieving: https://www.lamudi.com.ph/metro-manila/quezon-city/house/buy/?script=23&page=70 --- Success!\n"
     ]
    },
    {
     "name": "stderr",
     "output_type": "stream",
     "text": [
      "Scraping pages:  70%|███████   | 70/100 [02:29<01:01,  2.04s/it]"
     ]
    },
    {
     "name": "stdout",
     "output_type": "stream",
     "text": [
      "Retrieving: https://www.lamudi.com.ph/metro-manila/quezon-city/house/buy/?script=23&page=71 --- Success!\n"
     ]
    },
    {
     "name": "stderr",
     "output_type": "stream",
     "text": [
      "Scraping pages:  71%|███████   | 71/100 [02:31<01:02,  2.14s/it]"
     ]
    },
    {
     "name": "stdout",
     "output_type": "stream",
     "text": [
      "Retrieving: https://www.lamudi.com.ph/metro-manila/quezon-city/house/buy/?script=23&page=72 --- Success!\n"
     ]
    },
    {
     "name": "stderr",
     "output_type": "stream",
     "text": [
      "Scraping pages:  72%|███████▏  | 72/100 [02:33<00:59,  2.12s/it]"
     ]
    },
    {
     "name": "stdout",
     "output_type": "stream",
     "text": [
      "Retrieving: https://www.lamudi.com.ph/metro-manila/quezon-city/house/buy/?script=23&page=73 --- Success!\n"
     ]
    },
    {
     "name": "stderr",
     "output_type": "stream",
     "text": [
      "Scraping pages:  73%|███████▎  | 73/100 [02:35<00:56,  2.09s/it]"
     ]
    },
    {
     "name": "stdout",
     "output_type": "stream",
     "text": [
      "Retrieving: https://www.lamudi.com.ph/metro-manila/quezon-city/house/buy/?script=23&page=74 --- Success!\n"
     ]
    },
    {
     "name": "stderr",
     "output_type": "stream",
     "text": [
      "Scraping pages:  74%|███████▍  | 74/100 [02:37<00:53,  2.07s/it]"
     ]
    },
    {
     "name": "stdout",
     "output_type": "stream",
     "text": [
      "Retrieving: https://www.lamudi.com.ph/metro-manila/quezon-city/house/buy/?script=23&page=75 --- Success!\n"
     ]
    },
    {
     "name": "stderr",
     "output_type": "stream",
     "text": [
      "Scraping pages:  75%|███████▌  | 75/100 [02:39<00:52,  2.11s/it]"
     ]
    },
    {
     "name": "stdout",
     "output_type": "stream",
     "text": [
      "Retrieving: https://www.lamudi.com.ph/metro-manila/quezon-city/house/buy/?script=23&page=76 --- Success!\n"
     ]
    },
    {
     "name": "stderr",
     "output_type": "stream",
     "text": [
      "Scraping pages:  76%|███████▌  | 76/100 [02:41<00:49,  2.07s/it]"
     ]
    },
    {
     "name": "stdout",
     "output_type": "stream",
     "text": [
      "Retrieving: https://www.lamudi.com.ph/metro-manila/quezon-city/house/buy/?script=23&page=77 --- Success!\n"
     ]
    },
    {
     "name": "stderr",
     "output_type": "stream",
     "text": [
      "Scraping pages:  77%|███████▋  | 77/100 [02:43<00:47,  2.07s/it]"
     ]
    },
    {
     "name": "stdout",
     "output_type": "stream",
     "text": [
      "Retrieving: https://www.lamudi.com.ph/metro-manila/quezon-city/house/buy/?script=23&page=78 --- Success!\n"
     ]
    },
    {
     "name": "stderr",
     "output_type": "stream",
     "text": [
      "Scraping pages:  78%|███████▊  | 78/100 [02:45<00:44,  2.02s/it]"
     ]
    },
    {
     "name": "stdout",
     "output_type": "stream",
     "text": [
      "Retrieving: https://www.lamudi.com.ph/metro-manila/quezon-city/house/buy/?script=23&page=79 --- Success!\n"
     ]
    },
    {
     "name": "stderr",
     "output_type": "stream",
     "text": [
      "Scraping pages:  79%|███████▉  | 79/100 [02:47<00:43,  2.05s/it]"
     ]
    },
    {
     "name": "stdout",
     "output_type": "stream",
     "text": [
      "Retrieving: https://www.lamudi.com.ph/metro-manila/quezon-city/house/buy/?script=23&page=80 --- Success!\n"
     ]
    },
    {
     "name": "stderr",
     "output_type": "stream",
     "text": [
      "Scraping pages:  80%|████████  | 80/100 [02:53<01:01,  3.10s/it]"
     ]
    },
    {
     "name": "stdout",
     "output_type": "stream",
     "text": [
      "Retrieving: https://www.lamudi.com.ph/metro-manila/quezon-city/house/buy/?script=23&page=81 --- Success!\n"
     ]
    },
    {
     "name": "stderr",
     "output_type": "stream",
     "text": [
      "Scraping pages:  81%|████████  | 81/100 [02:57<01:05,  3.45s/it]"
     ]
    },
    {
     "name": "stdout",
     "output_type": "stream",
     "text": [
      "Retrieving: https://www.lamudi.com.ph/metro-manila/quezon-city/house/buy/?script=23&page=82 --- Success!\n"
     ]
    },
    {
     "name": "stderr",
     "output_type": "stream",
     "text": [
      "Scraping pages:  82%|████████▏ | 82/100 [02:59<00:56,  3.12s/it]"
     ]
    },
    {
     "name": "stdout",
     "output_type": "stream",
     "text": [
      "Retrieving: https://www.lamudi.com.ph/metro-manila/quezon-city/house/buy/?script=23&page=83 --- Success!\n"
     ]
    },
    {
     "name": "stderr",
     "output_type": "stream",
     "text": [
      "Scraping pages:  83%|████████▎ | 83/100 [03:02<00:47,  2.81s/it]"
     ]
    },
    {
     "name": "stdout",
     "output_type": "stream",
     "text": [
      "Retrieving: https://www.lamudi.com.ph/metro-manila/quezon-city/house/buy/?script=23&page=84 --- Success!\n"
     ]
    },
    {
     "name": "stderr",
     "output_type": "stream",
     "text": [
      "Scraping pages:  84%|████████▍ | 84/100 [03:04<00:41,  2.58s/it]"
     ]
    },
    {
     "name": "stdout",
     "output_type": "stream",
     "text": [
      "Retrieving: https://www.lamudi.com.ph/metro-manila/quezon-city/house/buy/?script=23&page=85 --- Success!\n"
     ]
    },
    {
     "name": "stderr",
     "output_type": "stream",
     "text": [
      "Scraping pages:  85%|████████▌ | 85/100 [03:06<00:40,  2.67s/it]"
     ]
    },
    {
     "name": "stdout",
     "output_type": "stream",
     "text": [
      "Retrieving: https://www.lamudi.com.ph/metro-manila/quezon-city/house/buy/?script=23&page=86 --- Success!\n"
     ]
    },
    {
     "name": "stderr",
     "output_type": "stream",
     "text": [
      "Scraping pages:  86%|████████▌ | 86/100 [03:09<00:35,  2.56s/it]"
     ]
    },
    {
     "name": "stdout",
     "output_type": "stream",
     "text": [
      "Retrieving: https://www.lamudi.com.ph/metro-manila/quezon-city/house/buy/?script=23&page=87 --- Success!\n"
     ]
    },
    {
     "name": "stderr",
     "output_type": "stream",
     "text": [
      "Scraping pages:  87%|████████▋ | 87/100 [03:11<00:33,  2.58s/it]"
     ]
    },
    {
     "name": "stdout",
     "output_type": "stream",
     "text": [
      "Retrieving: https://www.lamudi.com.ph/metro-manila/quezon-city/house/buy/?script=23&page=88 --- Success!\n"
     ]
    },
    {
     "name": "stderr",
     "output_type": "stream",
     "text": [
      "Scraping pages:  88%|████████▊ | 88/100 [03:14<00:29,  2.44s/it]"
     ]
    },
    {
     "name": "stdout",
     "output_type": "stream",
     "text": [
      "Retrieving: https://www.lamudi.com.ph/metro-manila/quezon-city/house/buy/?script=23&page=89 --- Success!\n"
     ]
    },
    {
     "name": "stderr",
     "output_type": "stream",
     "text": [
      "Scraping pages:  89%|████████▉ | 89/100 [03:16<00:26,  2.39s/it]"
     ]
    },
    {
     "name": "stdout",
     "output_type": "stream",
     "text": [
      "Retrieving: https://www.lamudi.com.ph/metro-manila/quezon-city/house/buy/?script=23&page=90 --- Success!\n"
     ]
    },
    {
     "name": "stderr",
     "output_type": "stream",
     "text": [
      "Scraping pages:  90%|█████████ | 90/100 [03:18<00:24,  2.40s/it]"
     ]
    },
    {
     "name": "stdout",
     "output_type": "stream",
     "text": [
      "Retrieving: https://www.lamudi.com.ph/metro-manila/quezon-city/house/buy/?script=23&page=91 --- Success!\n"
     ]
    },
    {
     "name": "stderr",
     "output_type": "stream",
     "text": [
      "Scraping pages:  91%|█████████ | 91/100 [03:20<00:20,  2.30s/it]"
     ]
    },
    {
     "name": "stdout",
     "output_type": "stream",
     "text": [
      "Retrieving: https://www.lamudi.com.ph/metro-manila/quezon-city/house/buy/?script=23&page=92 --- Success!\n"
     ]
    },
    {
     "name": "stderr",
     "output_type": "stream",
     "text": [
      "Scraping pages:  92%|█████████▏| 92/100 [03:22<00:18,  2.27s/it]"
     ]
    },
    {
     "name": "stdout",
     "output_type": "stream",
     "text": [
      "Retrieving: https://www.lamudi.com.ph/metro-manila/quezon-city/house/buy/?script=23&page=93 --- Success!\n"
     ]
    },
    {
     "name": "stderr",
     "output_type": "stream",
     "text": [
      "Scraping pages:  93%|█████████▎| 93/100 [03:24<00:15,  2.19s/it]"
     ]
    },
    {
     "name": "stdout",
     "output_type": "stream",
     "text": [
      "Retrieving: https://www.lamudi.com.ph/metro-manila/quezon-city/house/buy/?script=23&page=94 --- Success!\n"
     ]
    },
    {
     "name": "stderr",
     "output_type": "stream",
     "text": [
      "Scraping pages:  94%|█████████▍| 94/100 [03:26<00:12,  2.12s/it]"
     ]
    },
    {
     "name": "stdout",
     "output_type": "stream",
     "text": [
      "Retrieving: https://www.lamudi.com.ph/metro-manila/quezon-city/house/buy/?script=23&page=95 --- Success!\n"
     ]
    },
    {
     "name": "stderr",
     "output_type": "stream",
     "text": [
      "Scraping pages:  95%|█████████▌| 95/100 [03:29<00:10,  2.11s/it]"
     ]
    },
    {
     "name": "stdout",
     "output_type": "stream",
     "text": [
      "Retrieving: https://www.lamudi.com.ph/metro-manila/quezon-city/house/buy/?script=23&page=96 --- Success!\n"
     ]
    },
    {
     "name": "stderr",
     "output_type": "stream",
     "text": [
      "Scraping pages:  96%|█████████▌| 96/100 [03:31<00:08,  2.19s/it]"
     ]
    },
    {
     "name": "stdout",
     "output_type": "stream",
     "text": [
      "Retrieving: https://www.lamudi.com.ph/metro-manila/quezon-city/house/buy/?script=23&page=97 --- Success!\n"
     ]
    },
    {
     "name": "stderr",
     "output_type": "stream",
     "text": [
      "Scraping pages:  97%|█████████▋| 97/100 [03:33<00:06,  2.15s/it]"
     ]
    },
    {
     "name": "stdout",
     "output_type": "stream",
     "text": [
      "Retrieving: https://www.lamudi.com.ph/metro-manila/quezon-city/house/buy/?script=23&page=98 --- Success!\n"
     ]
    },
    {
     "name": "stderr",
     "output_type": "stream",
     "text": [
      "Scraping pages:  98%|█████████▊| 98/100 [03:35<00:04,  2.12s/it]"
     ]
    },
    {
     "name": "stdout",
     "output_type": "stream",
     "text": [
      "Retrieving: https://www.lamudi.com.ph/metro-manila/quezon-city/house/buy/?script=23&page=99 --- Success!\n"
     ]
    },
    {
     "name": "stderr",
     "output_type": "stream",
     "text": [
      "Scraping pages:  99%|█████████▉| 99/100 [03:37<00:02,  2.04s/it]"
     ]
    },
    {
     "name": "stdout",
     "output_type": "stream",
     "text": [
      "Retrieving: https://www.lamudi.com.ph/metro-manila/quezon-city/house/buy/?script=23&page=100 --- Success!\n"
     ]
    },
    {
     "name": "stderr",
     "output_type": "stream",
     "text": [
      "Scraping pages: 100%|██████████| 100/100 [03:39<00:00,  2.19s/it]\n",
      "Scraping pages:   0%|          | 0/57 [00:00<?, ?it/s]"
     ]
    },
    {
     "name": "stdout",
     "output_type": "stream",
     "text": [
      "Retrieving: https://www.lamudi.com.ph/metro-manila/quezon-city/land/buy/?script=23&page=1 --- Success!\n"
     ]
    },
    {
     "name": "stderr",
     "output_type": "stream",
     "text": [
      "Scraping pages:   2%|▏         | 1/57 [00:01<01:49,  1.95s/it]"
     ]
    },
    {
     "name": "stdout",
     "output_type": "stream",
     "text": [
      "Retrieving: https://www.lamudi.com.ph/metro-manila/quezon-city/land/buy/?script=23&page=2 --- Success!\n"
     ]
    },
    {
     "name": "stderr",
     "output_type": "stream",
     "text": [
      "Scraping pages:   4%|▎         | 2/57 [00:03<01:47,  1.95s/it]"
     ]
    },
    {
     "name": "stdout",
     "output_type": "stream",
     "text": [
      "Retrieving: https://www.lamudi.com.ph/metro-manila/quezon-city/land/buy/?script=23&page=3 --- Success!\n"
     ]
    },
    {
     "name": "stderr",
     "output_type": "stream",
     "text": [
      "Scraping pages:   5%|▌         | 3/57 [00:05<01:48,  2.00s/it]"
     ]
    },
    {
     "name": "stdout",
     "output_type": "stream",
     "text": [
      "Retrieving: https://www.lamudi.com.ph/metro-manila/quezon-city/land/buy/?script=23&page=4 --- Success!\n"
     ]
    },
    {
     "name": "stderr",
     "output_type": "stream",
     "text": [
      "Scraping pages:   7%|▋         | 4/57 [00:07<01:45,  2.00s/it]"
     ]
    },
    {
     "name": "stdout",
     "output_type": "stream",
     "text": [
      "Retrieving: https://www.lamudi.com.ph/metro-manila/quezon-city/land/buy/?script=23&page=5 --- Success!\n"
     ]
    },
    {
     "name": "stderr",
     "output_type": "stream",
     "text": [
      "Scraping pages:   9%|▉         | 5/57 [00:10<01:50,  2.12s/it]"
     ]
    },
    {
     "name": "stdout",
     "output_type": "stream",
     "text": [
      "Retrieving: https://www.lamudi.com.ph/metro-manila/quezon-city/land/buy/?script=23&page=6 --- Success!\n"
     ]
    },
    {
     "name": "stderr",
     "output_type": "stream",
     "text": [
      "Scraping pages:  11%|█         | 6/57 [00:14<02:25,  2.84s/it]"
     ]
    },
    {
     "name": "stdout",
     "output_type": "stream",
     "text": [
      "Retrieving: https://www.lamudi.com.ph/metro-manila/quezon-city/land/buy/?script=23&page=7 --- Success!\n"
     ]
    },
    {
     "name": "stderr",
     "output_type": "stream",
     "text": [
      "Scraping pages:  12%|█▏        | 7/57 [00:16<02:12,  2.64s/it]"
     ]
    },
    {
     "name": "stdout",
     "output_type": "stream",
     "text": [
      "Retrieving: https://www.lamudi.com.ph/metro-manila/quezon-city/land/buy/?script=23&page=8 --- Success!\n"
     ]
    },
    {
     "name": "stderr",
     "output_type": "stream",
     "text": [
      "Scraping pages:  14%|█▍        | 8/57 [00:19<02:08,  2.62s/it]"
     ]
    },
    {
     "name": "stdout",
     "output_type": "stream",
     "text": [
      "Retrieving: https://www.lamudi.com.ph/metro-manila/quezon-city/land/buy/?script=23&page=9 --- Success!\n"
     ]
    },
    {
     "name": "stderr",
     "output_type": "stream",
     "text": [
      "Scraping pages:  16%|█▌        | 9/57 [00:21<01:55,  2.41s/it]"
     ]
    },
    {
     "name": "stdout",
     "output_type": "stream",
     "text": [
      "Retrieving: https://www.lamudi.com.ph/metro-manila/quezon-city/land/buy/?script=23&page=10 --- Success!\n"
     ]
    },
    {
     "name": "stderr",
     "output_type": "stream",
     "text": [
      "Scraping pages:  18%|█▊        | 10/57 [00:23<01:50,  2.35s/it]"
     ]
    },
    {
     "name": "stdout",
     "output_type": "stream",
     "text": [
      "Retrieving: https://www.lamudi.com.ph/metro-manila/quezon-city/land/buy/?script=23&page=11 --- Success!\n"
     ]
    },
    {
     "name": "stderr",
     "output_type": "stream",
     "text": [
      "Scraping pages:  19%|█▉        | 11/57 [00:25<01:42,  2.24s/it]"
     ]
    },
    {
     "name": "stdout",
     "output_type": "stream",
     "text": [
      "Retrieving: https://www.lamudi.com.ph/metro-manila/quezon-city/land/buy/?script=23&page=12 --- Success!\n"
     ]
    },
    {
     "name": "stderr",
     "output_type": "stream",
     "text": [
      "Scraping pages:  21%|██        | 12/57 [00:27<01:36,  2.15s/it]"
     ]
    },
    {
     "name": "stdout",
     "output_type": "stream",
     "text": [
      "Retrieving: https://www.lamudi.com.ph/metro-manila/quezon-city/land/buy/?script=23&page=13 --- Success!\n"
     ]
    },
    {
     "name": "stderr",
     "output_type": "stream",
     "text": [
      "Scraping pages:  23%|██▎       | 13/57 [00:30<01:47,  2.44s/it]"
     ]
    },
    {
     "name": "stdout",
     "output_type": "stream",
     "text": [
      "Retrieving: https://www.lamudi.com.ph/metro-manila/quezon-city/land/buy/?script=23&page=14 --- Success!\n"
     ]
    },
    {
     "name": "stderr",
     "output_type": "stream",
     "text": [
      "Scraping pages:  25%|██▍       | 14/57 [00:32<01:40,  2.33s/it]"
     ]
    },
    {
     "name": "stdout",
     "output_type": "stream",
     "text": [
      "Retrieving: https://www.lamudi.com.ph/metro-manila/quezon-city/land/buy/?script=23&page=15 --- Success!\n"
     ]
    },
    {
     "name": "stderr",
     "output_type": "stream",
     "text": [
      "Scraping pages:  26%|██▋       | 15/57 [00:34<01:34,  2.25s/it]"
     ]
    },
    {
     "name": "stdout",
     "output_type": "stream",
     "text": [
      "Retrieving: https://www.lamudi.com.ph/metro-manila/quezon-city/land/buy/?script=23&page=16 --- Success!\n"
     ]
    },
    {
     "name": "stderr",
     "output_type": "stream",
     "text": [
      "Scraping pages:  28%|██▊       | 16/57 [00:36<01:31,  2.22s/it]"
     ]
    },
    {
     "name": "stdout",
     "output_type": "stream",
     "text": [
      "Retrieving: https://www.lamudi.com.ph/metro-manila/quezon-city/land/buy/?script=23&page=17 --- Success!\n"
     ]
    },
    {
     "name": "stderr",
     "output_type": "stream",
     "text": [
      "Scraping pages:  30%|██▉       | 17/57 [00:39<01:30,  2.27s/it]"
     ]
    },
    {
     "name": "stdout",
     "output_type": "stream",
     "text": [
      "Retrieving: https://www.lamudi.com.ph/metro-manila/quezon-city/land/buy/?script=23&page=18 --- Success!\n"
     ]
    },
    {
     "name": "stderr",
     "output_type": "stream",
     "text": [
      "Scraping pages:  32%|███▏      | 18/57 [00:41<01:26,  2.22s/it]"
     ]
    },
    {
     "name": "stdout",
     "output_type": "stream",
     "text": [
      "Retrieving: https://www.lamudi.com.ph/metro-manila/quezon-city/land/buy/?script=23&page=19 --- Success!\n"
     ]
    },
    {
     "name": "stderr",
     "output_type": "stream",
     "text": [
      "Scraping pages:  33%|███▎      | 19/57 [00:43<01:22,  2.16s/it]"
     ]
    },
    {
     "name": "stdout",
     "output_type": "stream",
     "text": [
      "Retrieving: https://www.lamudi.com.ph/metro-manila/quezon-city/land/buy/?script=23&page=20 --- Success!\n"
     ]
    },
    {
     "name": "stderr",
     "output_type": "stream",
     "text": [
      "Scraping pages:  35%|███▌      | 20/57 [00:45<01:21,  2.19s/it]"
     ]
    },
    {
     "name": "stdout",
     "output_type": "stream",
     "text": [
      "Retrieving: https://www.lamudi.com.ph/metro-manila/quezon-city/land/buy/?script=23&page=21 --- Success!\n"
     ]
    },
    {
     "name": "stderr",
     "output_type": "stream",
     "text": [
      "Scraping pages:  37%|███▋      | 21/57 [00:47<01:19,  2.20s/it]"
     ]
    },
    {
     "name": "stdout",
     "output_type": "stream",
     "text": [
      "Retrieving: https://www.lamudi.com.ph/metro-manila/quezon-city/land/buy/?script=23&page=22 --- Success!\n"
     ]
    },
    {
     "name": "stderr",
     "output_type": "stream",
     "text": [
      "Scraping pages:  39%|███▊      | 22/57 [00:51<01:31,  2.60s/it]"
     ]
    },
    {
     "name": "stdout",
     "output_type": "stream",
     "text": [
      "Retrieving: https://www.lamudi.com.ph/metro-manila/quezon-city/land/buy/?script=23&page=23 --- Success!\n"
     ]
    },
    {
     "name": "stderr",
     "output_type": "stream",
     "text": [
      "Scraping pages:  40%|████      | 23/57 [00:53<01:25,  2.53s/it]"
     ]
    },
    {
     "name": "stdout",
     "output_type": "stream",
     "text": [
      "Retrieving: https://www.lamudi.com.ph/metro-manila/quezon-city/land/buy/?script=23&page=24 --- Success!\n"
     ]
    },
    {
     "name": "stderr",
     "output_type": "stream",
     "text": [
      "Scraping pages:  42%|████▏     | 24/57 [00:56<01:21,  2.47s/it]"
     ]
    },
    {
     "name": "stdout",
     "output_type": "stream",
     "text": [
      "Retrieving: https://www.lamudi.com.ph/metro-manila/quezon-city/land/buy/?script=23&page=25 --- Success!\n"
     ]
    },
    {
     "name": "stderr",
     "output_type": "stream",
     "text": [
      "Scraping pages:  44%|████▍     | 25/57 [00:58<01:14,  2.34s/it]"
     ]
    },
    {
     "name": "stdout",
     "output_type": "stream",
     "text": [
      "Retrieving: https://www.lamudi.com.ph/metro-manila/quezon-city/land/buy/?script=23&page=26 --- Success!\n"
     ]
    },
    {
     "name": "stderr",
     "output_type": "stream",
     "text": [
      "Scraping pages:  46%|████▌     | 26/57 [01:00<01:09,  2.26s/it]"
     ]
    },
    {
     "name": "stdout",
     "output_type": "stream",
     "text": [
      "Retrieving: https://www.lamudi.com.ph/metro-manila/quezon-city/land/buy/?script=23&page=27 --- Success!\n"
     ]
    },
    {
     "name": "stderr",
     "output_type": "stream",
     "text": [
      "Scraping pages:  47%|████▋     | 27/57 [01:02<01:06,  2.22s/it]"
     ]
    },
    {
     "name": "stdout",
     "output_type": "stream",
     "text": [
      "Retrieving: https://www.lamudi.com.ph/metro-manila/quezon-city/land/buy/?script=23&page=28 --- Success!\n"
     ]
    },
    {
     "name": "stderr",
     "output_type": "stream",
     "text": [
      "Scraping pages:  49%|████▉     | 28/57 [01:04<01:01,  2.11s/it]"
     ]
    },
    {
     "name": "stdout",
     "output_type": "stream",
     "text": [
      "Retrieving: https://www.lamudi.com.ph/metro-manila/quezon-city/land/buy/?script=23&page=29 --- Success!\n"
     ]
    },
    {
     "name": "stderr",
     "output_type": "stream",
     "text": [
      "Scraping pages:  51%|█████     | 29/57 [01:06<00:57,  2.07s/it]"
     ]
    },
    {
     "name": "stdout",
     "output_type": "stream",
     "text": [
      "Retrieving: https://www.lamudi.com.ph/metro-manila/quezon-city/land/buy/?script=23&page=30 --- Success!\n"
     ]
    },
    {
     "name": "stderr",
     "output_type": "stream",
     "text": [
      "Scraping pages:  53%|█████▎    | 30/57 [01:08<01:00,  2.24s/it]"
     ]
    },
    {
     "name": "stdout",
     "output_type": "stream",
     "text": [
      "Retrieving: https://www.lamudi.com.ph/metro-manila/quezon-city/land/buy/?script=23&page=31 --- Success!\n"
     ]
    },
    {
     "name": "stderr",
     "output_type": "stream",
     "text": [
      "Scraping pages:  54%|█████▍    | 31/57 [01:14<01:23,  3.22s/it]"
     ]
    },
    {
     "name": "stdout",
     "output_type": "stream",
     "text": [
      "Retrieving: https://www.lamudi.com.ph/metro-manila/quezon-city/land/buy/?script=23&page=32 --- Success!\n"
     ]
    },
    {
     "name": "stderr",
     "output_type": "stream",
     "text": [
      "Scraping pages:  56%|█████▌    | 32/57 [01:16<01:11,  2.86s/it]"
     ]
    },
    {
     "name": "stdout",
     "output_type": "stream",
     "text": [
      "Retrieving: https://www.lamudi.com.ph/metro-manila/quezon-city/land/buy/?script=23&page=33 --- Success!\n"
     ]
    },
    {
     "name": "stderr",
     "output_type": "stream",
     "text": [
      "Scraping pages:  58%|█████▊    | 33/57 [01:18<01:02,  2.59s/it]"
     ]
    },
    {
     "name": "stdout",
     "output_type": "stream",
     "text": [
      "Retrieving: https://www.lamudi.com.ph/metro-manila/quezon-city/land/buy/?script=23&page=34 --- Success!\n"
     ]
    },
    {
     "name": "stderr",
     "output_type": "stream",
     "text": [
      "Scraping pages:  60%|█████▉    | 34/57 [01:20<00:55,  2.43s/it]"
     ]
    },
    {
     "name": "stdout",
     "output_type": "stream",
     "text": [
      "Retrieving: https://www.lamudi.com.ph/metro-manila/quezon-city/land/buy/?script=23&page=35 --- Success!\n"
     ]
    },
    {
     "name": "stderr",
     "output_type": "stream",
     "text": [
      "Scraping pages:  61%|██████▏   | 35/57 [01:22<00:52,  2.38s/it]"
     ]
    },
    {
     "name": "stdout",
     "output_type": "stream",
     "text": [
      "Retrieving: https://www.lamudi.com.ph/metro-manila/quezon-city/land/buy/?script=23&page=36 --- Success!\n"
     ]
    },
    {
     "name": "stderr",
     "output_type": "stream",
     "text": [
      "Scraping pages:  63%|██████▎   | 36/57 [01:24<00:49,  2.34s/it]"
     ]
    },
    {
     "name": "stdout",
     "output_type": "stream",
     "text": [
      "Retrieving: https://www.lamudi.com.ph/metro-manila/quezon-city/land/buy/?script=23&page=37 --- Success!\n"
     ]
    },
    {
     "name": "stderr",
     "output_type": "stream",
     "text": [
      "Scraping pages:  65%|██████▍   | 37/57 [01:26<00:44,  2.22s/it]"
     ]
    },
    {
     "name": "stdout",
     "output_type": "stream",
     "text": [
      "Retrieving: https://www.lamudi.com.ph/metro-manila/quezon-city/land/buy/?script=23&page=38 --- Success!\n"
     ]
    },
    {
     "name": "stderr",
     "output_type": "stream",
     "text": [
      "Scraping pages:  67%|██████▋   | 38/57 [01:28<00:41,  2.17s/it]"
     ]
    },
    {
     "name": "stdout",
     "output_type": "stream",
     "text": [
      "Retrieving: https://www.lamudi.com.ph/metro-manila/quezon-city/land/buy/?script=23&page=39 --- Success!\n"
     ]
    },
    {
     "name": "stderr",
     "output_type": "stream",
     "text": [
      "Scraping pages:  68%|██████▊   | 39/57 [01:31<00:39,  2.20s/it]"
     ]
    },
    {
     "name": "stdout",
     "output_type": "stream",
     "text": [
      "Retrieving: https://www.lamudi.com.ph/metro-manila/quezon-city/land/buy/?script=23&page=40 --- Success!\n"
     ]
    },
    {
     "name": "stderr",
     "output_type": "stream",
     "text": [
      "Scraping pages:  70%|███████   | 40/57 [01:33<00:36,  2.17s/it]"
     ]
    },
    {
     "name": "stdout",
     "output_type": "stream",
     "text": [
      "Retrieving: https://www.lamudi.com.ph/metro-manila/quezon-city/land/buy/?script=23&page=41 --- Success!\n"
     ]
    },
    {
     "name": "stderr",
     "output_type": "stream",
     "text": [
      "Scraping pages:  72%|███████▏  | 41/57 [01:35<00:34,  2.13s/it]"
     ]
    },
    {
     "name": "stdout",
     "output_type": "stream",
     "text": [
      "Retrieving: https://www.lamudi.com.ph/metro-manila/quezon-city/land/buy/?script=23&page=42 --- Success!\n"
     ]
    },
    {
     "name": "stderr",
     "output_type": "stream",
     "text": [
      "Scraping pages:  74%|███████▎  | 42/57 [01:37<00:33,  2.23s/it]"
     ]
    },
    {
     "name": "stdout",
     "output_type": "stream",
     "text": [
      "Retrieving: https://www.lamudi.com.ph/metro-manila/quezon-city/land/buy/?script=23&page=43 --- Success!\n"
     ]
    },
    {
     "name": "stderr",
     "output_type": "stream",
     "text": [
      "Scraping pages:  75%|███████▌  | 43/57 [01:40<00:32,  2.29s/it]"
     ]
    },
    {
     "name": "stdout",
     "output_type": "stream",
     "text": [
      "Retrieving: https://www.lamudi.com.ph/metro-manila/quezon-city/land/buy/?script=23&page=44 --- Success!\n"
     ]
    },
    {
     "name": "stderr",
     "output_type": "stream",
     "text": [
      "Scraping pages:  77%|███████▋  | 44/57 [01:42<00:28,  2.22s/it]"
     ]
    },
    {
     "name": "stdout",
     "output_type": "stream",
     "text": [
      "Retrieving: https://www.lamudi.com.ph/metro-manila/quezon-city/land/buy/?script=23&page=45 --- Success!\n"
     ]
    },
    {
     "name": "stderr",
     "output_type": "stream",
     "text": [
      "Scraping pages:  79%|███████▉  | 45/57 [01:44<00:25,  2.15s/it]"
     ]
    },
    {
     "name": "stdout",
     "output_type": "stream",
     "text": [
      "Retrieving: https://www.lamudi.com.ph/metro-manila/quezon-city/land/buy/?script=23&page=46 --- Success!\n"
     ]
    },
    {
     "name": "stderr",
     "output_type": "stream",
     "text": [
      "Scraping pages:  81%|████████  | 46/57 [01:46<00:23,  2.16s/it]"
     ]
    },
    {
     "name": "stdout",
     "output_type": "stream",
     "text": [
      "Retrieving: https://www.lamudi.com.ph/metro-manila/quezon-city/land/buy/?script=23&page=47 --- Success!\n"
     ]
    },
    {
     "name": "stderr",
     "output_type": "stream",
     "text": [
      "Scraping pages:  82%|████████▏ | 47/57 [01:48<00:21,  2.14s/it]"
     ]
    },
    {
     "name": "stdout",
     "output_type": "stream",
     "text": [
      "Retrieving: https://www.lamudi.com.ph/metro-manila/quezon-city/land/buy/?script=23&page=48 --- Success!\n"
     ]
    },
    {
     "name": "stderr",
     "output_type": "stream",
     "text": [
      "Scraping pages:  84%|████████▍ | 48/57 [01:50<00:19,  2.18s/it]"
     ]
    },
    {
     "name": "stdout",
     "output_type": "stream",
     "text": [
      "Retrieving: https://www.lamudi.com.ph/metro-manila/quezon-city/land/buy/?script=23&page=49 --- Success!\n"
     ]
    },
    {
     "name": "stderr",
     "output_type": "stream",
     "text": [
      "Scraping pages:  86%|████████▌ | 49/57 [01:52<00:17,  2.13s/it]"
     ]
    },
    {
     "name": "stdout",
     "output_type": "stream",
     "text": [
      "Retrieving: https://www.lamudi.com.ph/metro-manila/quezon-city/land/buy/?script=23&page=50 --- Success!\n"
     ]
    },
    {
     "name": "stderr",
     "output_type": "stream",
     "text": [
      "Scraping pages:  88%|████████▊ | 50/57 [01:55<00:15,  2.19s/it]"
     ]
    },
    {
     "name": "stdout",
     "output_type": "stream",
     "text": [
      "Retrieving: https://www.lamudi.com.ph/metro-manila/quezon-city/land/buy/?script=23&page=51 --- Success!\n"
     ]
    },
    {
     "name": "stderr",
     "output_type": "stream",
     "text": [
      "Scraping pages:  89%|████████▉ | 51/57 [01:57<00:12,  2.15s/it]"
     ]
    },
    {
     "name": "stdout",
     "output_type": "stream",
     "text": [
      "Retrieving: https://www.lamudi.com.ph/metro-manila/quezon-city/land/buy/?script=23&page=52 --- Success!\n"
     ]
    },
    {
     "name": "stderr",
     "output_type": "stream",
     "text": [
      "Scraping pages:  91%|█████████ | 52/57 [01:59<00:10,  2.09s/it]"
     ]
    },
    {
     "name": "stdout",
     "output_type": "stream",
     "text": [
      "Retrieving: https://www.lamudi.com.ph/metro-manila/quezon-city/land/buy/?script=23&page=53 --- Success!\n"
     ]
    },
    {
     "name": "stderr",
     "output_type": "stream",
     "text": [
      "Scraping pages:  93%|█████████▎| 53/57 [02:00<00:08,  2.02s/it]"
     ]
    },
    {
     "name": "stdout",
     "output_type": "stream",
     "text": [
      "Retrieving: https://www.lamudi.com.ph/metro-manila/quezon-city/land/buy/?script=23&page=54 --- Success!\n"
     ]
    },
    {
     "name": "stderr",
     "output_type": "stream",
     "text": [
      "Scraping pages:  95%|█████████▍| 54/57 [02:02<00:05,  1.96s/it]"
     ]
    },
    {
     "name": "stdout",
     "output_type": "stream",
     "text": [
      "Retrieving: https://www.lamudi.com.ph/metro-manila/quezon-city/land/buy/?script=23&page=55 --- Success!\n"
     ]
    },
    {
     "name": "stderr",
     "output_type": "stream",
     "text": [
      "Scraping pages:  96%|█████████▋| 55/57 [02:04<00:04,  2.03s/it]"
     ]
    },
    {
     "name": "stdout",
     "output_type": "stream",
     "text": [
      "Retrieving: https://www.lamudi.com.ph/metro-manila/quezon-city/land/buy/?script=23&page=56 --- Success!\n"
     ]
    },
    {
     "name": "stderr",
     "output_type": "stream",
     "text": [
      "Scraping pages:  98%|█████████▊| 56/57 [02:06<00:01,  2.00s/it]"
     ]
    },
    {
     "name": "stdout",
     "output_type": "stream",
     "text": [
      "Retrieving: https://www.lamudi.com.ph/metro-manila/quezon-city/land/buy/?script=23&page=57 --- Success!\n"
     ]
    },
    {
     "name": "stderr",
     "output_type": "stream",
     "text": [
      "Scraping pages: 100%|██████████| 57/57 [02:08<00:00,  2.26s/it]\n"
     ]
    }
   ],
   "source": [
    "quezon_city_condo = property_crawler(base_url='https://www.lamudi.com.ph/metro-manila/quezon-city/condominium/buy/?script=23&page=', start=1, end=100)\n",
    "quezon_city_house = property_crawler(base_url='https://www.lamudi.com.ph/metro-manila/quezon-city/house/buy/?script=23&page=', start=1, end=100)\n",
    "quezon_city_land = property_crawler(base_url='https://www.lamudi.com.ph/metro-manila/quezon-city/land/buy/?script=23&page=', start=1, end=57)"
   ]
  },
  {
   "cell_type": "code",
   "execution_count": 13,
   "metadata": {},
   "outputs": [
    {
     "name": "stderr",
     "output_type": "stream",
     "text": [
      "Scraping pages:   0%|          | 0/7 [00:00<?, ?it/s]"
     ]
    },
    {
     "name": "stdout",
     "output_type": "stream",
     "text": [
      "Retrieving: https://www.lamudi.com.ph/metro-manila/quezon-city/apartment/rent/?page=1 --- Success!\n"
     ]
    },
    {
     "name": "stderr",
     "output_type": "stream",
     "text": [
      "Scraping pages:  14%|█▍        | 1/7 [00:04<00:25,  4.21s/it]"
     ]
    },
    {
     "name": "stdout",
     "output_type": "stream",
     "text": [
      "Retrieving: https://www.lamudi.com.ph/metro-manila/quezon-city/apartment/rent/?page=2 --- Success!\n"
     ]
    },
    {
     "name": "stderr",
     "output_type": "stream",
     "text": [
      "Scraping pages:  29%|██▊       | 2/7 [00:06<00:15,  3.18s/it]"
     ]
    },
    {
     "name": "stdout",
     "output_type": "stream",
     "text": [
      "Retrieving: https://www.lamudi.com.ph/metro-manila/quezon-city/apartment/rent/?page=3 --- Success!\n"
     ]
    },
    {
     "name": "stderr",
     "output_type": "stream",
     "text": [
      "Scraping pages:  43%|████▎     | 3/7 [00:08<00:10,  2.73s/it]"
     ]
    },
    {
     "name": "stdout",
     "output_type": "stream",
     "text": [
      "Retrieving: https://www.lamudi.com.ph/metro-manila/quezon-city/apartment/rent/?page=4 --- Success!\n"
     ]
    },
    {
     "name": "stderr",
     "output_type": "stream",
     "text": [
      "Scraping pages:  57%|█████▋    | 4/7 [00:10<00:07,  2.42s/it]"
     ]
    },
    {
     "name": "stdout",
     "output_type": "stream",
     "text": [
      "Retrieving: https://www.lamudi.com.ph/metro-manila/quezon-city/apartment/rent/?page=5 --- Success!\n"
     ]
    },
    {
     "name": "stderr",
     "output_type": "stream",
     "text": [
      "Scraping pages:  71%|███████▏  | 5/7 [00:13<00:04,  2.36s/it]"
     ]
    },
    {
     "name": "stdout",
     "output_type": "stream",
     "text": [
      "Retrieving: https://www.lamudi.com.ph/metro-manila/quezon-city/apartment/rent/?page=6 --- Success!\n"
     ]
    },
    {
     "name": "stderr",
     "output_type": "stream",
     "text": [
      "Scraping pages:  86%|████████▌ | 6/7 [00:15<00:02,  2.28s/it]"
     ]
    },
    {
     "name": "stdout",
     "output_type": "stream",
     "text": [
      "Retrieving: https://www.lamudi.com.ph/metro-manila/quezon-city/apartment/rent/?page=7 --- Success!\n"
     ]
    },
    {
     "name": "stderr",
     "output_type": "stream",
     "text": [
      "Scraping pages: 100%|██████████| 7/7 [00:17<00:00,  2.47s/it]\n",
      "Scraping pages:   0%|          | 0/53 [00:00<?, ?it/s]"
     ]
    },
    {
     "name": "stdout",
     "output_type": "stream",
     "text": [
      "Retrieving: https://www.lamudi.com.ph/metro-manila/quezon-city/condominium/rent/?page=1 --- Success!\n"
     ]
    },
    {
     "name": "stderr",
     "output_type": "stream",
     "text": [
      "Scraping pages:   2%|▏         | 1/53 [00:02<01:45,  2.03s/it]"
     ]
    },
    {
     "name": "stdout",
     "output_type": "stream",
     "text": [
      "Retrieving: https://www.lamudi.com.ph/metro-manila/quezon-city/condominium/rent/?page=2 --- Success!\n"
     ]
    },
    {
     "name": "stderr",
     "output_type": "stream",
     "text": [
      "Scraping pages:   4%|▍         | 2/53 [00:03<01:41,  1.99s/it]"
     ]
    },
    {
     "name": "stdout",
     "output_type": "stream",
     "text": [
      "Retrieving: https://www.lamudi.com.ph/metro-manila/quezon-city/condominium/rent/?page=3 --- Success!\n"
     ]
    },
    {
     "name": "stderr",
     "output_type": "stream",
     "text": [
      "Scraping pages:   6%|▌         | 3/53 [00:05<01:38,  1.97s/it]"
     ]
    },
    {
     "name": "stdout",
     "output_type": "stream",
     "text": [
      "Retrieving: https://www.lamudi.com.ph/metro-manila/quezon-city/condominium/rent/?page=4 --- Success!\n"
     ]
    },
    {
     "name": "stderr",
     "output_type": "stream",
     "text": [
      "Scraping pages:   8%|▊         | 4/53 [00:08<01:39,  2.03s/it]"
     ]
    },
    {
     "name": "stdout",
     "output_type": "stream",
     "text": [
      "Retrieving: https://www.lamudi.com.ph/metro-manila/quezon-city/condominium/rent/?page=5 --- Success!\n"
     ]
    },
    {
     "name": "stderr",
     "output_type": "stream",
     "text": [
      "Scraping pages:   9%|▉         | 5/53 [00:09<01:33,  1.96s/it]"
     ]
    },
    {
     "name": "stdout",
     "output_type": "stream",
     "text": [
      "Retrieving: https://www.lamudi.com.ph/metro-manila/quezon-city/condominium/rent/?page=6 --- Success!\n"
     ]
    },
    {
     "name": "stderr",
     "output_type": "stream",
     "text": [
      "Scraping pages:  11%|█▏        | 6/53 [00:11<01:31,  1.94s/it]"
     ]
    },
    {
     "name": "stdout",
     "output_type": "stream",
     "text": [
      "Retrieving: https://www.lamudi.com.ph/metro-manila/quezon-city/condominium/rent/?page=7 --- Success!\n"
     ]
    },
    {
     "name": "stderr",
     "output_type": "stream",
     "text": [
      "Scraping pages:  13%|█▎        | 7/53 [00:13<01:27,  1.89s/it]"
     ]
    },
    {
     "name": "stdout",
     "output_type": "stream",
     "text": [
      "Retrieving: https://www.lamudi.com.ph/metro-manila/quezon-city/condominium/rent/?page=8 --- Success!\n"
     ]
    },
    {
     "name": "stderr",
     "output_type": "stream",
     "text": [
      "Scraping pages:  15%|█▌        | 8/53 [00:15<01:19,  1.76s/it]"
     ]
    },
    {
     "name": "stdout",
     "output_type": "stream",
     "text": [
      "Retrieving: https://www.lamudi.com.ph/metro-manila/quezon-city/condominium/rent/?page=9 --- Success!\n"
     ]
    },
    {
     "name": "stderr",
     "output_type": "stream",
     "text": [
      "Scraping pages:  17%|█▋        | 9/53 [00:16<01:19,  1.81s/it]"
     ]
    },
    {
     "name": "stdout",
     "output_type": "stream",
     "text": [
      "Retrieving: https://www.lamudi.com.ph/metro-manila/quezon-city/condominium/rent/?page=10 --- Success!\n"
     ]
    },
    {
     "name": "stderr",
     "output_type": "stream",
     "text": [
      "Scraping pages:  19%|█▉        | 10/53 [00:18<01:20,  1.86s/it]"
     ]
    },
    {
     "name": "stdout",
     "output_type": "stream",
     "text": [
      "Retrieving: https://www.lamudi.com.ph/metro-manila/quezon-city/condominium/rent/?page=11 --- Success!\n"
     ]
    },
    {
     "name": "stderr",
     "output_type": "stream",
     "text": [
      "Scraping pages:  21%|██        | 11/53 [00:21<01:21,  1.94s/it]"
     ]
    },
    {
     "name": "stdout",
     "output_type": "stream",
     "text": [
      "Retrieving: https://www.lamudi.com.ph/metro-manila/quezon-city/condominium/rent/?page=12 --- Success!\n"
     ]
    },
    {
     "name": "stderr",
     "output_type": "stream",
     "text": [
      "Scraping pages:  23%|██▎       | 12/53 [00:23<01:23,  2.03s/it]"
     ]
    },
    {
     "name": "stdout",
     "output_type": "stream",
     "text": [
      "Retrieving: https://www.lamudi.com.ph/metro-manila/quezon-city/condominium/rent/?page=13 --- Success!\n"
     ]
    },
    {
     "name": "stderr",
     "output_type": "stream",
     "text": [
      "Scraping pages:  25%|██▍       | 13/53 [00:25<01:24,  2.10s/it]"
     ]
    },
    {
     "name": "stdout",
     "output_type": "stream",
     "text": [
      "Retrieving: https://www.lamudi.com.ph/metro-manila/quezon-city/condominium/rent/?page=14 --- Success!\n"
     ]
    },
    {
     "name": "stderr",
     "output_type": "stream",
     "text": [
      "Scraping pages:  26%|██▋       | 14/53 [00:27<01:23,  2.15s/it]"
     ]
    },
    {
     "name": "stdout",
     "output_type": "stream",
     "text": [
      "Retrieving: https://www.lamudi.com.ph/metro-manila/quezon-city/condominium/rent/?page=15 --- Success!\n"
     ]
    },
    {
     "name": "stderr",
     "output_type": "stream",
     "text": [
      "Scraping pages:  28%|██▊       | 15/53 [00:30<01:24,  2.23s/it]"
     ]
    },
    {
     "name": "stdout",
     "output_type": "stream",
     "text": [
      "Retrieving: https://www.lamudi.com.ph/metro-manila/quezon-city/condominium/rent/?page=16 --- Success!\n"
     ]
    },
    {
     "name": "stderr",
     "output_type": "stream",
     "text": [
      "Scraping pages:  30%|███       | 16/53 [00:33<01:37,  2.64s/it]"
     ]
    },
    {
     "name": "stdout",
     "output_type": "stream",
     "text": [
      "Retrieving: https://www.lamudi.com.ph/metro-manila/quezon-city/condominium/rent/?page=17 --- Success!\n"
     ]
    },
    {
     "name": "stderr",
     "output_type": "stream",
     "text": [
      "Scraping pages:  32%|███▏      | 17/53 [00:36<01:30,  2.52s/it]"
     ]
    },
    {
     "name": "stdout",
     "output_type": "stream",
     "text": [
      "Retrieving: https://www.lamudi.com.ph/metro-manila/quezon-city/condominium/rent/?page=18 --- Success!\n"
     ]
    },
    {
     "name": "stderr",
     "output_type": "stream",
     "text": [
      "Scraping pages:  34%|███▍      | 18/53 [00:38<01:28,  2.52s/it]"
     ]
    },
    {
     "name": "stdout",
     "output_type": "stream",
     "text": [
      "Retrieving: https://www.lamudi.com.ph/metro-manila/quezon-city/condominium/rent/?page=19 --- Success!\n"
     ]
    },
    {
     "name": "stderr",
     "output_type": "stream",
     "text": [
      "Scraping pages:  36%|███▌      | 19/53 [00:41<01:27,  2.56s/it]"
     ]
    },
    {
     "name": "stdout",
     "output_type": "stream",
     "text": [
      "Retrieving: https://www.lamudi.com.ph/metro-manila/quezon-city/condominium/rent/?page=20 --- Success!\n"
     ]
    },
    {
     "name": "stderr",
     "output_type": "stream",
     "text": [
      "Scraping pages:  38%|███▊      | 20/53 [00:47<02:03,  3.75s/it]"
     ]
    },
    {
     "name": "stdout",
     "output_type": "stream",
     "text": [
      "Retrieving: https://www.lamudi.com.ph/metro-manila/quezon-city/condominium/rent/?page=21 --- Success!\n"
     ]
    },
    {
     "name": "stderr",
     "output_type": "stream",
     "text": [
      "Scraping pages:  40%|███▉      | 21/53 [00:50<01:48,  3.38s/it]"
     ]
    },
    {
     "name": "stdout",
     "output_type": "stream",
     "text": [
      "Retrieving: https://www.lamudi.com.ph/metro-manila/quezon-city/condominium/rent/?page=22 --- Success!\n"
     ]
    },
    {
     "name": "stderr",
     "output_type": "stream",
     "text": [
      "Scraping pages:  42%|████▏     | 22/53 [00:52<01:37,  3.15s/it]"
     ]
    },
    {
     "name": "stdout",
     "output_type": "stream",
     "text": [
      "Retrieving: https://www.lamudi.com.ph/metro-manila/quezon-city/condominium/rent/?page=23 --- Success!\n"
     ]
    },
    {
     "name": "stderr",
     "output_type": "stream",
     "text": [
      "Scraping pages:  43%|████▎     | 23/53 [00:54<01:24,  2.80s/it]"
     ]
    },
    {
     "name": "stdout",
     "output_type": "stream",
     "text": [
      "Retrieving: https://www.lamudi.com.ph/metro-manila/quezon-city/condominium/rent/?page=24 --- Success!\n"
     ]
    },
    {
     "name": "stderr",
     "output_type": "stream",
     "text": [
      "Scraping pages:  45%|████▌     | 24/53 [00:57<01:16,  2.63s/it]"
     ]
    },
    {
     "name": "stdout",
     "output_type": "stream",
     "text": [
      "Retrieving: https://www.lamudi.com.ph/metro-manila/quezon-city/condominium/rent/?page=25 --- Success!\n"
     ]
    },
    {
     "name": "stderr",
     "output_type": "stream",
     "text": [
      "Scraping pages:  47%|████▋     | 25/53 [00:59<01:10,  2.53s/it]"
     ]
    },
    {
     "name": "stdout",
     "output_type": "stream",
     "text": [
      "Retrieving: https://www.lamudi.com.ph/metro-manila/quezon-city/condominium/rent/?page=26 --- Success!\n"
     ]
    },
    {
     "name": "stderr",
     "output_type": "stream",
     "text": [
      "Scraping pages:  49%|████▉     | 26/53 [01:01<01:06,  2.46s/it]"
     ]
    },
    {
     "name": "stdout",
     "output_type": "stream",
     "text": [
      "Retrieving: https://www.lamudi.com.ph/metro-manila/quezon-city/condominium/rent/?page=27 --- Success!\n"
     ]
    },
    {
     "name": "stderr",
     "output_type": "stream",
     "text": [
      "Scraping pages:  51%|█████     | 27/53 [01:03<01:01,  2.38s/it]"
     ]
    },
    {
     "name": "stdout",
     "output_type": "stream",
     "text": [
      "Retrieving: https://www.lamudi.com.ph/metro-manila/quezon-city/condominium/rent/?page=28 --- Success!\n"
     ]
    },
    {
     "name": "stderr",
     "output_type": "stream",
     "text": [
      "Scraping pages:  53%|█████▎    | 28/53 [01:06<00:58,  2.36s/it]"
     ]
    },
    {
     "name": "stdout",
     "output_type": "stream",
     "text": [
      "Retrieving: https://www.lamudi.com.ph/metro-manila/quezon-city/condominium/rent/?page=29 --- Success!\n"
     ]
    },
    {
     "name": "stderr",
     "output_type": "stream",
     "text": [
      "Scraping pages:  55%|█████▍    | 29/53 [01:08<00:54,  2.29s/it]"
     ]
    },
    {
     "name": "stdout",
     "output_type": "stream",
     "text": [
      "Retrieving: https://www.lamudi.com.ph/metro-manila/quezon-city/condominium/rent/?page=30 --- Success!\n"
     ]
    },
    {
     "name": "stderr",
     "output_type": "stream",
     "text": [
      "Scraping pages:  57%|█████▋    | 30/53 [01:10<00:51,  2.22s/it]"
     ]
    },
    {
     "name": "stdout",
     "output_type": "stream",
     "text": [
      "Retrieving: https://www.lamudi.com.ph/metro-manila/quezon-city/condominium/rent/?page=31 --- Success!\n"
     ]
    },
    {
     "name": "stderr",
     "output_type": "stream",
     "text": [
      "Scraping pages:  58%|█████▊    | 31/53 [01:12<00:50,  2.28s/it]"
     ]
    },
    {
     "name": "stdout",
     "output_type": "stream",
     "text": [
      "Retrieving: https://www.lamudi.com.ph/metro-manila/quezon-city/condominium/rent/?page=32 --- Success!\n"
     ]
    },
    {
     "name": "stderr",
     "output_type": "stream",
     "text": [
      "Scraping pages:  60%|██████    | 32/53 [01:15<00:47,  2.25s/it]"
     ]
    },
    {
     "name": "stdout",
     "output_type": "stream",
     "text": [
      "Retrieving: https://www.lamudi.com.ph/metro-manila/quezon-city/condominium/rent/?page=33 --- Success!\n"
     ]
    },
    {
     "name": "stderr",
     "output_type": "stream",
     "text": [
      "Scraping pages:  62%|██████▏   | 33/53 [01:17<00:44,  2.21s/it]"
     ]
    },
    {
     "name": "stdout",
     "output_type": "stream",
     "text": [
      "Retrieving: https://www.lamudi.com.ph/metro-manila/quezon-city/condominium/rent/?page=34 --- Success!\n"
     ]
    },
    {
     "name": "stderr",
     "output_type": "stream",
     "text": [
      "Scraping pages:  64%|██████▍   | 34/53 [01:19<00:41,  2.20s/it]"
     ]
    },
    {
     "name": "stdout",
     "output_type": "stream",
     "text": [
      "Retrieving: https://www.lamudi.com.ph/metro-manila/quezon-city/condominium/rent/?page=35 --- Success!\n"
     ]
    },
    {
     "name": "stderr",
     "output_type": "stream",
     "text": [
      "Scraping pages:  66%|██████▌   | 35/53 [01:21<00:39,  2.18s/it]"
     ]
    },
    {
     "name": "stdout",
     "output_type": "stream",
     "text": [
      "Retrieving: https://www.lamudi.com.ph/metro-manila/quezon-city/condominium/rent/?page=36 --- Success!\n"
     ]
    },
    {
     "name": "stderr",
     "output_type": "stream",
     "text": [
      "Scraping pages:  68%|██████▊   | 36/53 [01:23<00:35,  2.12s/it]"
     ]
    },
    {
     "name": "stdout",
     "output_type": "stream",
     "text": [
      "Retrieving: https://www.lamudi.com.ph/metro-manila/quezon-city/condominium/rent/?page=37 --- Success!\n"
     ]
    },
    {
     "name": "stderr",
     "output_type": "stream",
     "text": [
      "Scraping pages:  70%|██████▉   | 37/53 [01:25<00:32,  2.04s/it]"
     ]
    },
    {
     "name": "stdout",
     "output_type": "stream",
     "text": [
      "Retrieving: https://www.lamudi.com.ph/metro-manila/quezon-city/condominium/rent/?page=38 --- Success!\n"
     ]
    },
    {
     "name": "stderr",
     "output_type": "stream",
     "text": [
      "Scraping pages:  72%|███████▏  | 38/53 [01:27<00:30,  2.05s/it]"
     ]
    },
    {
     "name": "stdout",
     "output_type": "stream",
     "text": [
      "Retrieving: https://www.lamudi.com.ph/metro-manila/quezon-city/condominium/rent/?page=39 --- Success!\n"
     ]
    },
    {
     "name": "stderr",
     "output_type": "stream",
     "text": [
      "Scraping pages:  74%|███████▎  | 39/53 [01:29<00:29,  2.10s/it]"
     ]
    },
    {
     "name": "stdout",
     "output_type": "stream",
     "text": [
      "Retrieving: https://www.lamudi.com.ph/metro-manila/quezon-city/condominium/rent/?page=40 --- Success!\n"
     ]
    },
    {
     "name": "stderr",
     "output_type": "stream",
     "text": [
      "Scraping pages:  75%|███████▌  | 40/53 [01:31<00:27,  2.09s/it]"
     ]
    },
    {
     "name": "stdout",
     "output_type": "stream",
     "text": [
      "Retrieving: https://www.lamudi.com.ph/metro-manila/quezon-city/condominium/rent/?page=41 --- Success!\n"
     ]
    },
    {
     "name": "stderr",
     "output_type": "stream",
     "text": [
      "Scraping pages:  77%|███████▋  | 41/53 [01:33<00:25,  2.15s/it]"
     ]
    },
    {
     "name": "stdout",
     "output_type": "stream",
     "text": [
      "Retrieving: https://www.lamudi.com.ph/metro-manila/quezon-city/condominium/rent/?page=42 --- Success!\n"
     ]
    },
    {
     "name": "stderr",
     "output_type": "stream",
     "text": [
      "Scraping pages:  79%|███████▉  | 42/53 [01:36<00:23,  2.16s/it]"
     ]
    },
    {
     "name": "stdout",
     "output_type": "stream",
     "text": [
      "Retrieving: https://www.lamudi.com.ph/metro-manila/quezon-city/condominium/rent/?page=43 --- Success!\n"
     ]
    },
    {
     "name": "stderr",
     "output_type": "stream",
     "text": [
      "Scraping pages:  81%|████████  | 43/53 [01:38<00:21,  2.14s/it]"
     ]
    },
    {
     "name": "stdout",
     "output_type": "stream",
     "text": [
      "Retrieving: https://www.lamudi.com.ph/metro-manila/quezon-city/condominium/rent/?page=44 --- Success!\n"
     ]
    },
    {
     "name": "stderr",
     "output_type": "stream",
     "text": [
      "Scraping pages:  83%|████████▎ | 44/53 [01:40<00:19,  2.13s/it]"
     ]
    },
    {
     "name": "stdout",
     "output_type": "stream",
     "text": [
      "Retrieving: https://www.lamudi.com.ph/metro-manila/quezon-city/condominium/rent/?page=45 --- Success!\n"
     ]
    },
    {
     "name": "stderr",
     "output_type": "stream",
     "text": [
      "Scraping pages:  85%|████████▍ | 45/53 [01:42<00:18,  2.29s/it]"
     ]
    },
    {
     "name": "stdout",
     "output_type": "stream",
     "text": [
      "Retrieving: https://www.lamudi.com.ph/metro-manila/quezon-city/condominium/rent/?page=46 --- Success!\n"
     ]
    },
    {
     "name": "stderr",
     "output_type": "stream",
     "text": [
      "Scraping pages:  87%|████████▋ | 46/53 [01:48<00:22,  3.15s/it]"
     ]
    },
    {
     "name": "stdout",
     "output_type": "stream",
     "text": [
      "Retrieving: https://www.lamudi.com.ph/metro-manila/quezon-city/condominium/rent/?page=47 --- Success!\n"
     ]
    },
    {
     "name": "stderr",
     "output_type": "stream",
     "text": [
      "Scraping pages:  89%|████████▊ | 47/53 [01:52<00:21,  3.66s/it]"
     ]
    },
    {
     "name": "stdout",
     "output_type": "stream",
     "text": [
      "Retrieving: https://www.lamudi.com.ph/metro-manila/quezon-city/condominium/rent/?page=48 --- Success!\n"
     ]
    },
    {
     "name": "stderr",
     "output_type": "stream",
     "text": [
      "Scraping pages:  91%|█████████ | 48/53 [01:55<00:16,  3.23s/it]"
     ]
    },
    {
     "name": "stdout",
     "output_type": "stream",
     "text": [
      "Retrieving: https://www.lamudi.com.ph/metro-manila/quezon-city/condominium/rent/?page=49 --- Success!\n"
     ]
    },
    {
     "name": "stderr",
     "output_type": "stream",
     "text": [
      "Scraping pages:  92%|█████████▏| 49/53 [01:57<00:11,  2.87s/it]"
     ]
    },
    {
     "name": "stdout",
     "output_type": "stream",
     "text": [
      "Retrieving: https://www.lamudi.com.ph/metro-manila/quezon-city/condominium/rent/?page=50 --- Success!\n"
     ]
    },
    {
     "name": "stderr",
     "output_type": "stream",
     "text": [
      "Scraping pages:  94%|█████████▍| 50/53 [01:59<00:08,  2.77s/it]"
     ]
    },
    {
     "name": "stdout",
     "output_type": "stream",
     "text": [
      "Retrieving: https://www.lamudi.com.ph/metro-manila/quezon-city/condominium/rent/?page=51 --- Success!\n"
     ]
    },
    {
     "name": "stderr",
     "output_type": "stream",
     "text": [
      "Scraping pages:  96%|█████████▌| 51/53 [02:01<00:05,  2.57s/it]"
     ]
    },
    {
     "name": "stdout",
     "output_type": "stream",
     "text": [
      "Retrieving: https://www.lamudi.com.ph/metro-manila/quezon-city/condominium/rent/?page=52 --- Success!\n"
     ]
    },
    {
     "name": "stderr",
     "output_type": "stream",
     "text": [
      "Scraping pages:  98%|█████████▊| 52/53 [02:04<00:02,  2.44s/it]"
     ]
    },
    {
     "name": "stdout",
     "output_type": "stream",
     "text": [
      "Retrieving: https://www.lamudi.com.ph/metro-manila/quezon-city/condominium/rent/?page=53 --- Success!\n"
     ]
    },
    {
     "name": "stderr",
     "output_type": "stream",
     "text": [
      "Scraping pages: 100%|██████████| 53/53 [02:06<00:00,  2.39s/it]\n",
      "Scraping pages:   0%|          | 0/12 [00:00<?, ?it/s]"
     ]
    },
    {
     "name": "stdout",
     "output_type": "stream",
     "text": [
      "Retrieving: https://www.lamudi.com.ph/metro-manila/quezon-city/house/rent/?page=1 --- Success!\n"
     ]
    },
    {
     "name": "stderr",
     "output_type": "stream",
     "text": [
      "Scraping pages:   8%|▊         | 1/12 [00:02<00:24,  2.22s/it]"
     ]
    },
    {
     "name": "stdout",
     "output_type": "stream",
     "text": [
      "Retrieving: https://www.lamudi.com.ph/metro-manila/quezon-city/house/rent/?page=2 --- Success!\n"
     ]
    },
    {
     "name": "stderr",
     "output_type": "stream",
     "text": [
      "Scraping pages:  17%|█▋        | 2/12 [00:04<00:21,  2.16s/it]"
     ]
    },
    {
     "name": "stdout",
     "output_type": "stream",
     "text": [
      "Retrieving: https://www.lamudi.com.ph/metro-manila/quezon-city/house/rent/?page=3 --- Success!\n"
     ]
    },
    {
     "name": "stderr",
     "output_type": "stream",
     "text": [
      "Scraping pages:  25%|██▌       | 3/12 [00:06<00:19,  2.22s/it]"
     ]
    },
    {
     "name": "stdout",
     "output_type": "stream",
     "text": [
      "Retrieving: https://www.lamudi.com.ph/metro-manila/quezon-city/house/rent/?page=4 --- Success!\n"
     ]
    },
    {
     "name": "stderr",
     "output_type": "stream",
     "text": [
      "Scraping pages:  33%|███▎      | 4/12 [00:08<00:17,  2.13s/it]"
     ]
    },
    {
     "name": "stdout",
     "output_type": "stream",
     "text": [
      "Retrieving: https://www.lamudi.com.ph/metro-manila/quezon-city/house/rent/?page=5 --- Success!\n"
     ]
    },
    {
     "name": "stderr",
     "output_type": "stream",
     "text": [
      "Scraping pages:  42%|████▏     | 5/12 [00:10<00:15,  2.21s/it]"
     ]
    },
    {
     "name": "stdout",
     "output_type": "stream",
     "text": [
      "Retrieving: https://www.lamudi.com.ph/metro-manila/quezon-city/house/rent/?page=6 --- Success!\n"
     ]
    },
    {
     "name": "stderr",
     "output_type": "stream",
     "text": [
      "Scraping pages:  50%|█████     | 6/12 [00:13<00:13,  2.18s/it]"
     ]
    },
    {
     "name": "stdout",
     "output_type": "stream",
     "text": [
      "Retrieving: https://www.lamudi.com.ph/metro-manila/quezon-city/house/rent/?page=7 --- Success!\n"
     ]
    },
    {
     "name": "stderr",
     "output_type": "stream",
     "text": [
      "Scraping pages:  58%|█████▊    | 7/12 [00:15<00:11,  2.31s/it]"
     ]
    },
    {
     "name": "stdout",
     "output_type": "stream",
     "text": [
      "Retrieving: https://www.lamudi.com.ph/metro-manila/quezon-city/house/rent/?page=8 --- Success!\n"
     ]
    },
    {
     "name": "stderr",
     "output_type": "stream",
     "text": [
      "Scraping pages:  67%|██████▋   | 8/12 [00:17<00:09,  2.26s/it]"
     ]
    },
    {
     "name": "stdout",
     "output_type": "stream",
     "text": [
      "Retrieving: https://www.lamudi.com.ph/metro-manila/quezon-city/house/rent/?page=9 --- Success!\n"
     ]
    },
    {
     "name": "stderr",
     "output_type": "stream",
     "text": [
      "Scraping pages:  75%|███████▌  | 9/12 [00:20<00:07,  2.36s/it]"
     ]
    },
    {
     "name": "stdout",
     "output_type": "stream",
     "text": [
      "Retrieving: https://www.lamudi.com.ph/metro-manila/quezon-city/house/rent/?page=10 --- Success!\n"
     ]
    },
    {
     "name": "stderr",
     "output_type": "stream",
     "text": [
      "Scraping pages:  83%|████████▎ | 10/12 [00:22<00:04,  2.23s/it]"
     ]
    },
    {
     "name": "stdout",
     "output_type": "stream",
     "text": [
      "Retrieving: https://www.lamudi.com.ph/metro-manila/quezon-city/house/rent/?page=11 --- Success!\n"
     ]
    },
    {
     "name": "stderr",
     "output_type": "stream",
     "text": [
      "Scraping pages:  92%|█████████▏| 11/12 [00:24<00:02,  2.20s/it]"
     ]
    },
    {
     "name": "stdout",
     "output_type": "stream",
     "text": [
      "Retrieving: https://www.lamudi.com.ph/metro-manila/quezon-city/house/rent/?page=12 --- Success!\n"
     ]
    },
    {
     "name": "stderr",
     "output_type": "stream",
     "text": [
      "Scraping pages: 100%|██████████| 12/12 [00:26<00:00,  2.25s/it]\n",
      "Scraping pages:   0%|          | 0/8 [00:00<?, ?it/s]"
     ]
    },
    {
     "name": "stdout",
     "output_type": "stream",
     "text": [
      "Retrieving: https://www.lamudi.com.ph/metro-manila/quezon-city/land/rent/?page=1 --- Success!\n"
     ]
    },
    {
     "name": "stderr",
     "output_type": "stream",
     "text": [
      "Scraping pages:  12%|█▎        | 1/8 [00:02<00:19,  2.72s/it]"
     ]
    },
    {
     "name": "stdout",
     "output_type": "stream",
     "text": [
      "Retrieving: https://www.lamudi.com.ph/metro-manila/quezon-city/land/rent/?page=2 --- Success!\n"
     ]
    },
    {
     "name": "stderr",
     "output_type": "stream",
     "text": [
      "Scraping pages:  25%|██▌       | 2/8 [00:04<00:13,  2.32s/it]"
     ]
    },
    {
     "name": "stdout",
     "output_type": "stream",
     "text": [
      "Retrieving: https://www.lamudi.com.ph/metro-manila/quezon-city/land/rent/?page=3 --- Success!\n"
     ]
    },
    {
     "name": "stderr",
     "output_type": "stream",
     "text": [
      "Scraping pages:  38%|███▊      | 3/8 [00:07<00:12,  2.46s/it]"
     ]
    },
    {
     "name": "stdout",
     "output_type": "stream",
     "text": [
      "Retrieving: https://www.lamudi.com.ph/metro-manila/quezon-city/land/rent/?page=4 --- Success!\n"
     ]
    },
    {
     "name": "stderr",
     "output_type": "stream",
     "text": [
      "Scraping pages:  50%|█████     | 4/8 [00:09<00:09,  2.40s/it]"
     ]
    },
    {
     "name": "stdout",
     "output_type": "stream",
     "text": [
      "Retrieving: https://www.lamudi.com.ph/metro-manila/quezon-city/land/rent/?page=5 --- Success!\n"
     ]
    },
    {
     "name": "stderr",
     "output_type": "stream",
     "text": [
      "Scraping pages:  62%|██████▎   | 5/8 [00:13<00:09,  3.03s/it]"
     ]
    },
    {
     "name": "stdout",
     "output_type": "stream",
     "text": [
      "Retrieving: https://www.lamudi.com.ph/metro-manila/quezon-city/land/rent/?page=6 --- Success!\n"
     ]
    },
    {
     "name": "stderr",
     "output_type": "stream",
     "text": [
      "Scraping pages:  75%|███████▌  | 6/8 [00:15<00:05,  2.66s/it]"
     ]
    },
    {
     "name": "stdout",
     "output_type": "stream",
     "text": [
      "Retrieving: https://www.lamudi.com.ph/metro-manila/quezon-city/land/rent/?page=7 --- Success!\n"
     ]
    },
    {
     "name": "stderr",
     "output_type": "stream",
     "text": [
      "Scraping pages:  88%|████████▊ | 7/8 [00:17<00:02,  2.43s/it]"
     ]
    },
    {
     "name": "stdout",
     "output_type": "stream",
     "text": [
      "Retrieving: https://www.lamudi.com.ph/metro-manila/quezon-city/land/rent/?page=8 --- Success!\n"
     ]
    },
    {
     "name": "stderr",
     "output_type": "stream",
     "text": [
      "Scraping pages: 100%|██████████| 8/8 [00:19<00:00,  2.46s/it]\n"
     ]
    }
   ],
   "source": [
    "rent_quezon_city_apartment = property_crawler(base_url='https://www.lamudi.com.ph/metro-manila/quezon-city/apartment/rent/?page=', start=1, end=7)\n",
    "rent_quezon_city_condo = property_crawler(base_url='https://www.lamudi.com.ph/metro-manila/quezon-city/condominium/rent/?page=', start=1, end=53)\n",
    "rent_quezon_city_house = property_crawler(base_url='https://www.lamudi.com.ph/metro-manila/quezon-city/house/rent/?page=', start=1, end=12)\n",
    "rent_quezon_city_land = property_crawler(base_url='https://www.lamudi.com.ph/metro-manila/quezon-city/land/rent/?page=', start=1, end=8)"
   ]
  },
  {
   "cell_type": "code",
   "execution_count": 14,
   "metadata": {},
   "outputs": [],
   "source": [
    "quezon_city_4sale = pd.concat([quezon_city_condo, quezon_city_house, quezon_city_land])\n",
    "quezon_city_4sale.to_csv('data/for sale/quezon-city_4sale.csv')\n",
    "\n",
    "quezon_city_4rent = pd.concat([rent_quezon_city_apartment, rent_quezon_city_condo, rent_quezon_city_house, rent_quezon_city_land])\n",
    "quezon_city_4rent.to_csv('data/for rent/quezon-city_4rent.csv')"
   ]
  },
  {
   "cell_type": "code",
   "execution_count": 15,
   "metadata": {},
   "outputs": [
    {
     "name": "stderr",
     "output_type": "stream",
     "text": [
      "Scraping pages:   0%|          | 0/88 [00:00<?, ?it/s]"
     ]
    },
    {
     "name": "stdout",
     "output_type": "stream",
     "text": [
      "Retrieving: https://www.lamudi.com.ph/metro-manila/pasig/condominium/buy/?script=23&page=1 --- Success!\n"
     ]
    },
    {
     "name": "stderr",
     "output_type": "stream",
     "text": [
      "Scraping pages:   1%|          | 1/88 [00:02<03:46,  2.60s/it]"
     ]
    },
    {
     "name": "stdout",
     "output_type": "stream",
     "text": [
      "Retrieving: https://www.lamudi.com.ph/metro-manila/pasig/condominium/buy/?script=23&page=2 --- Success!\n"
     ]
    },
    {
     "name": "stderr",
     "output_type": "stream",
     "text": [
      "Scraping pages:   2%|▏         | 2/88 [00:04<03:03,  2.14s/it]"
     ]
    },
    {
     "name": "stdout",
     "output_type": "stream",
     "text": [
      "Retrieving: https://www.lamudi.com.ph/metro-manila/pasig/condominium/buy/?script=23&page=3 --- Success!\n"
     ]
    },
    {
     "name": "stderr",
     "output_type": "stream",
     "text": [
      "Scraping pages:   3%|▎         | 3/88 [00:06<02:52,  2.03s/it]"
     ]
    },
    {
     "name": "stdout",
     "output_type": "stream",
     "text": [
      "Retrieving: https://www.lamudi.com.ph/metro-manila/pasig/condominium/buy/?script=23&page=4 --- Success!\n"
     ]
    },
    {
     "name": "stderr",
     "output_type": "stream",
     "text": [
      "Scraping pages:   5%|▍         | 4/88 [00:08<02:43,  1.95s/it]"
     ]
    },
    {
     "name": "stdout",
     "output_type": "stream",
     "text": [
      "Retrieving: https://www.lamudi.com.ph/metro-manila/pasig/condominium/buy/?script=23&page=5 --- Success!\n"
     ]
    },
    {
     "name": "stderr",
     "output_type": "stream",
     "text": [
      "Scraping pages:   6%|▌         | 5/88 [00:10<02:42,  1.96s/it]"
     ]
    },
    {
     "name": "stdout",
     "output_type": "stream",
     "text": [
      "Retrieving: https://www.lamudi.com.ph/metro-manila/pasig/condominium/buy/?script=23&page=6 --- Success!\n"
     ]
    },
    {
     "name": "stderr",
     "output_type": "stream",
     "text": [
      "Scraping pages:   7%|▋         | 6/88 [00:12<02:38,  1.93s/it]"
     ]
    },
    {
     "name": "stdout",
     "output_type": "stream",
     "text": [
      "Retrieving: https://www.lamudi.com.ph/metro-manila/pasig/condominium/buy/?script=23&page=7 --- Success!\n"
     ]
    },
    {
     "name": "stderr",
     "output_type": "stream",
     "text": [
      "Scraping pages:   8%|▊         | 7/88 [00:14<02:41,  2.00s/it]"
     ]
    },
    {
     "name": "stdout",
     "output_type": "stream",
     "text": [
      "Retrieving: https://www.lamudi.com.ph/metro-manila/pasig/condominium/buy/?script=23&page=8 --- Success!\n"
     ]
    },
    {
     "name": "stderr",
     "output_type": "stream",
     "text": [
      "Scraping pages:   9%|▉         | 8/88 [00:16<02:39,  1.99s/it]"
     ]
    },
    {
     "name": "stdout",
     "output_type": "stream",
     "text": [
      "Retrieving: https://www.lamudi.com.ph/metro-manila/pasig/condominium/buy/?script=23&page=9 --- Success!\n"
     ]
    },
    {
     "name": "stderr",
     "output_type": "stream",
     "text": [
      "Scraping pages:  10%|█         | 9/88 [00:18<02:37,  1.99s/it]"
     ]
    },
    {
     "name": "stdout",
     "output_type": "stream",
     "text": [
      "Retrieving: https://www.lamudi.com.ph/metro-manila/pasig/condominium/buy/?script=23&page=10 --- Success!\n"
     ]
    },
    {
     "name": "stderr",
     "output_type": "stream",
     "text": [
      "Scraping pages:  11%|█▏        | 10/88 [00:20<02:34,  1.98s/it]"
     ]
    },
    {
     "name": "stdout",
     "output_type": "stream",
     "text": [
      "Retrieving: https://www.lamudi.com.ph/metro-manila/pasig/condominium/buy/?script=23&page=11 --- Success!\n"
     ]
    },
    {
     "name": "stderr",
     "output_type": "stream",
     "text": [
      "Scraping pages:  12%|█▎        | 11/88 [00:21<02:28,  1.93s/it]"
     ]
    },
    {
     "name": "stdout",
     "output_type": "stream",
     "text": [
      "Retrieving: https://www.lamudi.com.ph/metro-manila/pasig/condominium/buy/?script=23&page=12 --- Success!\n"
     ]
    },
    {
     "name": "stderr",
     "output_type": "stream",
     "text": [
      "Scraping pages:  14%|█▎        | 12/88 [00:23<02:28,  1.95s/it]"
     ]
    },
    {
     "name": "stdout",
     "output_type": "stream",
     "text": [
      "Retrieving: https://www.lamudi.com.ph/metro-manila/pasig/condominium/buy/?script=23&page=13 --- Success!\n"
     ]
    },
    {
     "name": "stderr",
     "output_type": "stream",
     "text": [
      "Scraping pages:  15%|█▍        | 13/88 [00:25<02:24,  1.92s/it]"
     ]
    },
    {
     "name": "stdout",
     "output_type": "stream",
     "text": [
      "Retrieving: https://www.lamudi.com.ph/metro-manila/pasig/condominium/buy/?script=23&page=14 --- Success!\n"
     ]
    },
    {
     "name": "stderr",
     "output_type": "stream",
     "text": [
      "Scraping pages:  16%|█▌        | 14/88 [00:27<02:19,  1.88s/it]"
     ]
    },
    {
     "name": "stdout",
     "output_type": "stream",
     "text": [
      "Retrieving: https://www.lamudi.com.ph/metro-manila/pasig/condominium/buy/?script=23&page=15 --- Success!\n"
     ]
    },
    {
     "name": "stderr",
     "output_type": "stream",
     "text": [
      "Scraping pages:  17%|█▋        | 15/88 [00:29<02:19,  1.91s/it]"
     ]
    },
    {
     "name": "stdout",
     "output_type": "stream",
     "text": [
      "Retrieving: https://www.lamudi.com.ph/metro-manila/pasig/condominium/buy/?script=23&page=16 --- Success!\n"
     ]
    },
    {
     "name": "stderr",
     "output_type": "stream",
     "text": [
      "Scraping pages:  18%|█▊        | 16/88 [00:31<02:14,  1.87s/it]"
     ]
    },
    {
     "name": "stdout",
     "output_type": "stream",
     "text": [
      "Retrieving: https://www.lamudi.com.ph/metro-manila/pasig/condominium/buy/?script=23&page=17 --- Success!\n"
     ]
    },
    {
     "name": "stderr",
     "output_type": "stream",
     "text": [
      "Scraping pages:  19%|█▉        | 17/88 [00:33<02:15,  1.91s/it]"
     ]
    },
    {
     "name": "stdout",
     "output_type": "stream",
     "text": [
      "Retrieving: https://www.lamudi.com.ph/metro-manila/pasig/condominium/buy/?script=23&page=18 --- Success!\n"
     ]
    },
    {
     "name": "stderr",
     "output_type": "stream",
     "text": [
      "Scraping pages:  20%|██        | 18/88 [00:36<02:36,  2.23s/it]"
     ]
    },
    {
     "name": "stdout",
     "output_type": "stream",
     "text": [
      "Retrieving: https://www.lamudi.com.ph/metro-manila/pasig/condominium/buy/?script=23&page=19 --- Success!\n"
     ]
    },
    {
     "name": "stderr",
     "output_type": "stream",
     "text": [
      "Scraping pages:  22%|██▏       | 19/88 [00:38<02:42,  2.36s/it]"
     ]
    },
    {
     "name": "stdout",
     "output_type": "stream",
     "text": [
      "Retrieving: https://www.lamudi.com.ph/metro-manila/pasig/condominium/buy/?script=23&page=20 --- Success!\n"
     ]
    },
    {
     "name": "stderr",
     "output_type": "stream",
     "text": [
      "Scraping pages:  23%|██▎       | 20/88 [00:41<02:39,  2.35s/it]"
     ]
    },
    {
     "name": "stdout",
     "output_type": "stream",
     "text": [
      "Retrieving: https://www.lamudi.com.ph/metro-manila/pasig/condominium/buy/?script=23&page=21 --- Success!\n"
     ]
    },
    {
     "name": "stderr",
     "output_type": "stream",
     "text": [
      "Scraping pages:  24%|██▍       | 21/88 [00:43<02:41,  2.41s/it]"
     ]
    },
    {
     "name": "stdout",
     "output_type": "stream",
     "text": [
      "Retrieving: https://www.lamudi.com.ph/metro-manila/pasig/condominium/buy/?script=23&page=22 --- Success!\n"
     ]
    },
    {
     "name": "stderr",
     "output_type": "stream",
     "text": [
      "Scraping pages:  25%|██▌       | 22/88 [00:46<02:41,  2.44s/it]"
     ]
    },
    {
     "name": "stdout",
     "output_type": "stream",
     "text": [
      "Retrieving: https://www.lamudi.com.ph/metro-manila/pasig/condominium/buy/?script=23&page=23 --- Success!\n"
     ]
    },
    {
     "name": "stderr",
     "output_type": "stream",
     "text": [
      "Scraping pages:  26%|██▌       | 23/88 [00:49<02:44,  2.52s/it]"
     ]
    },
    {
     "name": "stdout",
     "output_type": "stream",
     "text": [
      "Retrieving: https://www.lamudi.com.ph/metro-manila/pasig/condominium/buy/?script=23&page=24 --- Success!\n"
     ]
    },
    {
     "name": "stderr",
     "output_type": "stream",
     "text": [
      "Scraping pages:  27%|██▋       | 24/88 [00:52<03:05,  2.90s/it]"
     ]
    },
    {
     "name": "stdout",
     "output_type": "stream",
     "text": [
      "Retrieving: https://www.lamudi.com.ph/metro-manila/pasig/condominium/buy/?script=23&page=25 --- Success!\n"
     ]
    },
    {
     "name": "stderr",
     "output_type": "stream",
     "text": [
      "Scraping pages:  28%|██▊       | 25/88 [00:55<02:50,  2.70s/it]"
     ]
    },
    {
     "name": "stdout",
     "output_type": "stream",
     "text": [
      "Retrieving: https://www.lamudi.com.ph/metro-manila/pasig/condominium/buy/?script=23&page=26 --- Success!\n"
     ]
    },
    {
     "name": "stderr",
     "output_type": "stream",
     "text": [
      "Scraping pages:  30%|██▉       | 26/88 [00:57<02:39,  2.58s/it]"
     ]
    },
    {
     "name": "stdout",
     "output_type": "stream",
     "text": [
      "Retrieving: https://www.lamudi.com.ph/metro-manila/pasig/condominium/buy/?script=23&page=27 --- Success!\n"
     ]
    },
    {
     "name": "stderr",
     "output_type": "stream",
     "text": [
      "Scraping pages:  31%|███       | 27/88 [00:59<02:32,  2.50s/it]"
     ]
    },
    {
     "name": "stdout",
     "output_type": "stream",
     "text": [
      "Retrieving: https://www.lamudi.com.ph/metro-manila/pasig/condominium/buy/?script=23&page=28 --- Success!\n"
     ]
    },
    {
     "name": "stderr",
     "output_type": "stream",
     "text": [
      "Scraping pages:  32%|███▏      | 28/88 [01:02<02:31,  2.52s/it]"
     ]
    },
    {
     "name": "stdout",
     "output_type": "stream",
     "text": [
      "Retrieving: https://www.lamudi.com.ph/metro-manila/pasig/condominium/buy/?script=23&page=29 --- Success!\n"
     ]
    },
    {
     "name": "stderr",
     "output_type": "stream",
     "text": [
      "Scraping pages:  33%|███▎      | 29/88 [01:04<02:25,  2.47s/it]"
     ]
    },
    {
     "name": "stdout",
     "output_type": "stream",
     "text": [
      "Retrieving: https://www.lamudi.com.ph/metro-manila/pasig/condominium/buy/?script=23&page=30 --- Success!\n"
     ]
    },
    {
     "name": "stderr",
     "output_type": "stream",
     "text": [
      "Scraping pages:  34%|███▍      | 30/88 [01:06<02:22,  2.45s/it]"
     ]
    },
    {
     "name": "stdout",
     "output_type": "stream",
     "text": [
      "Retrieving: https://www.lamudi.com.ph/metro-manila/pasig/condominium/buy/?script=23&page=31 --- Success!\n"
     ]
    },
    {
     "name": "stderr",
     "output_type": "stream",
     "text": [
      "Scraping pages:  35%|███▌      | 31/88 [01:09<02:16,  2.40s/it]"
     ]
    },
    {
     "name": "stdout",
     "output_type": "stream",
     "text": [
      "Retrieving: https://www.lamudi.com.ph/metro-manila/pasig/condominium/buy/?script=23&page=32 --- Success!\n"
     ]
    },
    {
     "name": "stderr",
     "output_type": "stream",
     "text": [
      "Scraping pages:  36%|███▋      | 32/88 [01:11<02:13,  2.39s/it]"
     ]
    },
    {
     "name": "stdout",
     "output_type": "stream",
     "text": [
      "Retrieving: https://www.lamudi.com.ph/metro-manila/pasig/condominium/buy/?script=23&page=33 --- Success!\n"
     ]
    },
    {
     "name": "stderr",
     "output_type": "stream",
     "text": [
      "Scraping pages:  38%|███▊      | 33/88 [01:14<02:11,  2.39s/it]"
     ]
    },
    {
     "name": "stdout",
     "output_type": "stream",
     "text": [
      "Retrieving: https://www.lamudi.com.ph/metro-manila/pasig/condominium/buy/?script=23&page=34 --- Success!\n"
     ]
    },
    {
     "name": "stderr",
     "output_type": "stream",
     "text": [
      "Scraping pages:  39%|███▊      | 34/88 [01:16<02:08,  2.38s/it]"
     ]
    },
    {
     "name": "stdout",
     "output_type": "stream",
     "text": [
      "Retrieving: https://www.lamudi.com.ph/metro-manila/pasig/condominium/buy/?script=23&page=35 --- Success!\n"
     ]
    },
    {
     "name": "stderr",
     "output_type": "stream",
     "text": [
      "Scraping pages:  40%|███▉      | 35/88 [01:19<02:16,  2.58s/it]"
     ]
    },
    {
     "name": "stdout",
     "output_type": "stream",
     "text": [
      "Retrieving: https://www.lamudi.com.ph/metro-manila/pasig/condominium/buy/?script=23&page=36 --- Success!\n"
     ]
    },
    {
     "name": "stderr",
     "output_type": "stream",
     "text": [
      "Scraping pages:  41%|████      | 36/88 [01:21<02:11,  2.53s/it]"
     ]
    },
    {
     "name": "stdout",
     "output_type": "stream",
     "text": [
      "Retrieving: https://www.lamudi.com.ph/metro-manila/pasig/condominium/buy/?script=23&page=37 --- Success!\n"
     ]
    },
    {
     "name": "stderr",
     "output_type": "stream",
     "text": [
      "Scraping pages:  42%|████▏     | 37/88 [01:24<02:05,  2.46s/it]"
     ]
    },
    {
     "name": "stdout",
     "output_type": "stream",
     "text": [
      "Retrieving: https://www.lamudi.com.ph/metro-manila/pasig/condominium/buy/?script=23&page=38 --- Success!\n"
     ]
    },
    {
     "name": "stderr",
     "output_type": "stream",
     "text": [
      "Scraping pages:  43%|████▎     | 38/88 [01:26<02:03,  2.48s/it]"
     ]
    },
    {
     "name": "stdout",
     "output_type": "stream",
     "text": [
      "Retrieving: https://www.lamudi.com.ph/metro-manila/pasig/condominium/buy/?script=23&page=39 --- Success!\n"
     ]
    },
    {
     "name": "stderr",
     "output_type": "stream",
     "text": [
      "Scraping pages:  44%|████▍     | 39/88 [01:29<02:07,  2.59s/it]"
     ]
    },
    {
     "name": "stdout",
     "output_type": "stream",
     "text": [
      "Retrieving: https://www.lamudi.com.ph/metro-manila/pasig/condominium/buy/?script=23&page=40 --- Success!\n"
     ]
    },
    {
     "name": "stderr",
     "output_type": "stream",
     "text": [
      "Scraping pages:  45%|████▌     | 40/88 [01:32<02:07,  2.66s/it]"
     ]
    },
    {
     "name": "stdout",
     "output_type": "stream",
     "text": [
      "Retrieving: https://www.lamudi.com.ph/metro-manila/pasig/condominium/buy/?script=23&page=41 --- Success!\n"
     ]
    },
    {
     "name": "stderr",
     "output_type": "stream",
     "text": [
      "Scraping pages:  47%|████▋     | 41/88 [01:35<02:06,  2.70s/it]"
     ]
    },
    {
     "name": "stdout",
     "output_type": "stream",
     "text": [
      "Retrieving: https://www.lamudi.com.ph/metro-manila/pasig/condominium/buy/?script=23&page=42 --- Success!\n"
     ]
    },
    {
     "name": "stderr",
     "output_type": "stream",
     "text": [
      "Scraping pages:  48%|████▊     | 42/88 [01:37<01:54,  2.50s/it]"
     ]
    },
    {
     "name": "stdout",
     "output_type": "stream",
     "text": [
      "Retrieving: https://www.lamudi.com.ph/metro-manila/pasig/condominium/buy/?script=23&page=43 --- Success!\n"
     ]
    },
    {
     "name": "stderr",
     "output_type": "stream",
     "text": [
      "Scraping pages:  49%|████▉     | 43/88 [01:39<01:46,  2.36s/it]"
     ]
    },
    {
     "name": "stdout",
     "output_type": "stream",
     "text": [
      "Retrieving: https://www.lamudi.com.ph/metro-manila/pasig/condominium/buy/?script=23&page=44 --- Success!\n"
     ]
    },
    {
     "name": "stderr",
     "output_type": "stream",
     "text": [
      "Scraping pages:  50%|█████     | 44/88 [01:41<01:42,  2.33s/it]"
     ]
    },
    {
     "name": "stdout",
     "output_type": "stream",
     "text": [
      "Retrieving: https://www.lamudi.com.ph/metro-manila/pasig/condominium/buy/?script=23&page=45 --- Success!\n"
     ]
    },
    {
     "name": "stderr",
     "output_type": "stream",
     "text": [
      "Scraping pages:  51%|█████     | 45/88 [01:43<01:38,  2.29s/it]"
     ]
    },
    {
     "name": "stdout",
     "output_type": "stream",
     "text": [
      "Retrieving: https://www.lamudi.com.ph/metro-manila/pasig/condominium/buy/?script=23&page=46 --- Success!\n"
     ]
    },
    {
     "name": "stderr",
     "output_type": "stream",
     "text": [
      "Scraping pages:  52%|█████▏    | 46/88 [01:45<01:34,  2.24s/it]"
     ]
    },
    {
     "name": "stdout",
     "output_type": "stream",
     "text": [
      "Retrieving: https://www.lamudi.com.ph/metro-manila/pasig/condominium/buy/?script=23&page=47 --- Success!\n"
     ]
    },
    {
     "name": "stderr",
     "output_type": "stream",
     "text": [
      "Scraping pages:  53%|█████▎    | 47/88 [01:47<01:29,  2.17s/it]"
     ]
    },
    {
     "name": "stdout",
     "output_type": "stream",
     "text": [
      "Retrieving: https://www.lamudi.com.ph/metro-manila/pasig/condominium/buy/?script=23&page=48 --- Success!\n"
     ]
    },
    {
     "name": "stderr",
     "output_type": "stream",
     "text": [
      "Scraping pages:  55%|█████▍    | 48/88 [01:50<01:27,  2.19s/it]"
     ]
    },
    {
     "name": "stdout",
     "output_type": "stream",
     "text": [
      "Retrieving: https://www.lamudi.com.ph/metro-manila/pasig/condominium/buy/?script=23&page=49 --- Success!\n"
     ]
    },
    {
     "name": "stderr",
     "output_type": "stream",
     "text": [
      "Scraping pages:  56%|█████▌    | 49/88 [01:54<01:46,  2.74s/it]"
     ]
    },
    {
     "name": "stdout",
     "output_type": "stream",
     "text": [
      "Retrieving: https://www.lamudi.com.ph/metro-manila/pasig/condominium/buy/?script=23&page=50 --- Success!\n"
     ]
    },
    {
     "name": "stderr",
     "output_type": "stream",
     "text": [
      "Scraping pages:  57%|█████▋    | 50/88 [01:56<01:43,  2.73s/it]"
     ]
    },
    {
     "name": "stdout",
     "output_type": "stream",
     "text": [
      "Retrieving: https://www.lamudi.com.ph/metro-manila/pasig/condominium/buy/?script=23&page=51 --- Success!\n"
     ]
    },
    {
     "name": "stderr",
     "output_type": "stream",
     "text": [
      "Scraping pages:  58%|█████▊    | 51/88 [01:59<01:38,  2.66s/it]"
     ]
    },
    {
     "name": "stdout",
     "output_type": "stream",
     "text": [
      "Retrieving: https://www.lamudi.com.ph/metro-manila/pasig/condominium/buy/?script=23&page=52 --- Success!\n"
     ]
    },
    {
     "name": "stderr",
     "output_type": "stream",
     "text": [
      "Scraping pages:  59%|█████▉    | 52/88 [02:01<01:30,  2.51s/it]"
     ]
    },
    {
     "name": "stdout",
     "output_type": "stream",
     "text": [
      "Retrieving: https://www.lamudi.com.ph/metro-manila/pasig/condominium/buy/?script=23&page=53 --- Success!\n"
     ]
    },
    {
     "name": "stderr",
     "output_type": "stream",
     "text": [
      "Scraping pages:  60%|██████    | 53/88 [02:03<01:25,  2.44s/it]"
     ]
    },
    {
     "name": "stdout",
     "output_type": "stream",
     "text": [
      "Retrieving: https://www.lamudi.com.ph/metro-manila/pasig/condominium/buy/?script=23&page=54 --- Success!\n"
     ]
    },
    {
     "name": "stderr",
     "output_type": "stream",
     "text": [
      "Scraping pages:  61%|██████▏   | 54/88 [02:05<01:17,  2.29s/it]"
     ]
    },
    {
     "name": "stdout",
     "output_type": "stream",
     "text": [
      "Retrieving: https://www.lamudi.com.ph/metro-manila/pasig/condominium/buy/?script=23&page=55 --- Success!\n"
     ]
    },
    {
     "name": "stderr",
     "output_type": "stream",
     "text": [
      "Scraping pages:  62%|██████▎   | 55/88 [02:07<01:15,  2.27s/it]"
     ]
    },
    {
     "name": "stdout",
     "output_type": "stream",
     "text": [
      "Retrieving: https://www.lamudi.com.ph/metro-manila/pasig/condominium/buy/?script=23&page=56 --- Success!\n"
     ]
    },
    {
     "name": "stderr",
     "output_type": "stream",
     "text": [
      "Scraping pages:  64%|██████▎   | 56/88 [02:10<01:17,  2.41s/it]"
     ]
    },
    {
     "name": "stdout",
     "output_type": "stream",
     "text": [
      "Retrieving: https://www.lamudi.com.ph/metro-manila/pasig/condominium/buy/?script=23&page=57 --- Success!\n"
     ]
    },
    {
     "name": "stderr",
     "output_type": "stream",
     "text": [
      "Scraping pages:  65%|██████▍   | 57/88 [02:12<01:11,  2.32s/it]"
     ]
    },
    {
     "name": "stdout",
     "output_type": "stream",
     "text": [
      "Retrieving: https://www.lamudi.com.ph/metro-manila/pasig/condominium/buy/?script=23&page=58 --- Success!\n"
     ]
    },
    {
     "name": "stderr",
     "output_type": "stream",
     "text": [
      "Scraping pages:  66%|██████▌   | 58/88 [02:14<01:08,  2.30s/it]"
     ]
    },
    {
     "name": "stdout",
     "output_type": "stream",
     "text": [
      "Retrieving: https://www.lamudi.com.ph/metro-manila/pasig/condominium/buy/?script=23&page=59 --- Success!\n"
     ]
    },
    {
     "name": "stderr",
     "output_type": "stream",
     "text": [
      "Scraping pages:  67%|██████▋   | 59/88 [02:17<01:04,  2.24s/it]"
     ]
    },
    {
     "name": "stdout",
     "output_type": "stream",
     "text": [
      "Retrieving: https://www.lamudi.com.ph/metro-manila/pasig/condominium/buy/?script=23&page=60 --- Success!\n"
     ]
    },
    {
     "name": "stderr",
     "output_type": "stream",
     "text": [
      "Scraping pages:  68%|██████▊   | 60/88 [02:19<01:03,  2.27s/it]"
     ]
    },
    {
     "name": "stdout",
     "output_type": "stream",
     "text": [
      "Retrieving: https://www.lamudi.com.ph/metro-manila/pasig/condominium/buy/?script=23&page=61 --- Success!\n"
     ]
    },
    {
     "name": "stderr",
     "output_type": "stream",
     "text": [
      "Scraping pages:  69%|██████▉   | 61/88 [02:23<01:16,  2.82s/it]"
     ]
    },
    {
     "name": "stdout",
     "output_type": "stream",
     "text": [
      "Retrieving: https://www.lamudi.com.ph/metro-manila/pasig/condominium/buy/?script=23&page=62 --- Success!\n"
     ]
    },
    {
     "name": "stderr",
     "output_type": "stream",
     "text": [
      "Scraping pages:  70%|███████   | 62/88 [02:25<01:08,  2.62s/it]"
     ]
    },
    {
     "name": "stdout",
     "output_type": "stream",
     "text": [
      "Retrieving: https://www.lamudi.com.ph/metro-manila/pasig/condominium/buy/?script=23&page=63 --- Success!\n"
     ]
    },
    {
     "name": "stderr",
     "output_type": "stream",
     "text": [
      "Scraping pages:  72%|███████▏  | 63/88 [02:27<01:01,  2.48s/it]"
     ]
    },
    {
     "name": "stdout",
     "output_type": "stream",
     "text": [
      "Retrieving: https://www.lamudi.com.ph/metro-manila/pasig/condominium/buy/?script=23&page=64 --- Success!\n"
     ]
    },
    {
     "name": "stderr",
     "output_type": "stream",
     "text": [
      "Scraping pages:  73%|███████▎  | 64/88 [02:30<00:58,  2.43s/it]"
     ]
    },
    {
     "name": "stdout",
     "output_type": "stream",
     "text": [
      "Retrieving: https://www.lamudi.com.ph/metro-manila/pasig/condominium/buy/?script=23&page=65 --- Success!\n"
     ]
    },
    {
     "name": "stderr",
     "output_type": "stream",
     "text": [
      "Scraping pages:  74%|███████▍  | 65/88 [02:32<00:53,  2.31s/it]"
     ]
    },
    {
     "name": "stdout",
     "output_type": "stream",
     "text": [
      "Retrieving: https://www.lamudi.com.ph/metro-manila/pasig/condominium/buy/?script=23&page=66 --- Success!\n"
     ]
    },
    {
     "name": "stderr",
     "output_type": "stream",
     "text": [
      "Scraping pages:  75%|███████▌  | 66/88 [02:34<00:48,  2.23s/it]"
     ]
    },
    {
     "name": "stdout",
     "output_type": "stream",
     "text": [
      "Retrieving: https://www.lamudi.com.ph/metro-manila/pasig/condominium/buy/?script=23&page=67 --- Success!\n"
     ]
    },
    {
     "name": "stderr",
     "output_type": "stream",
     "text": [
      "Scraping pages:  76%|███████▌  | 67/88 [02:36<00:45,  2.17s/it]"
     ]
    },
    {
     "name": "stdout",
     "output_type": "stream",
     "text": [
      "Retrieving: https://www.lamudi.com.ph/metro-manila/pasig/condominium/buy/?script=23&page=68 --- Success!\n"
     ]
    },
    {
     "name": "stderr",
     "output_type": "stream",
     "text": [
      "Scraping pages:  77%|███████▋  | 68/88 [02:38<00:42,  2.10s/it]"
     ]
    },
    {
     "name": "stdout",
     "output_type": "stream",
     "text": [
      "Retrieving: https://www.lamudi.com.ph/metro-manila/pasig/condominium/buy/?script=23&page=69 --- Success!\n"
     ]
    },
    {
     "name": "stderr",
     "output_type": "stream",
     "text": [
      "Scraping pages:  78%|███████▊  | 69/88 [02:39<00:38,  2.03s/it]"
     ]
    },
    {
     "name": "stdout",
     "output_type": "stream",
     "text": [
      "Retrieving: https://www.lamudi.com.ph/metro-manila/pasig/condominium/buy/?script=23&page=70 --- Success!\n"
     ]
    },
    {
     "name": "stderr",
     "output_type": "stream",
     "text": [
      "Scraping pages:  80%|███████▉  | 70/88 [02:42<00:41,  2.28s/it]"
     ]
    },
    {
     "name": "stdout",
     "output_type": "stream",
     "text": [
      "Retrieving: https://www.lamudi.com.ph/metro-manila/pasig/condominium/buy/?script=23&page=71 --- Success!\n"
     ]
    },
    {
     "name": "stderr",
     "output_type": "stream",
     "text": [
      "Scraping pages:  81%|████████  | 71/88 [02:44<00:37,  2.21s/it]"
     ]
    },
    {
     "name": "stdout",
     "output_type": "stream",
     "text": [
      "Retrieving: https://www.lamudi.com.ph/metro-manila/pasig/condominium/buy/?script=23&page=72 --- Success!\n"
     ]
    },
    {
     "name": "stderr",
     "output_type": "stream",
     "text": [
      "Scraping pages:  82%|████████▏ | 72/88 [02:47<00:35,  2.20s/it]"
     ]
    },
    {
     "name": "stdout",
     "output_type": "stream",
     "text": [
      "Retrieving: https://www.lamudi.com.ph/metro-manila/pasig/condominium/buy/?script=23&page=73 --- Success!\n"
     ]
    },
    {
     "name": "stderr",
     "output_type": "stream",
     "text": [
      "Scraping pages:  83%|████████▎ | 73/88 [02:49<00:32,  2.17s/it]"
     ]
    },
    {
     "name": "stdout",
     "output_type": "stream",
     "text": [
      "Retrieving: https://www.lamudi.com.ph/metro-manila/pasig/condominium/buy/?script=23&page=74 --- Success!\n"
     ]
    },
    {
     "name": "stderr",
     "output_type": "stream",
     "text": [
      "Scraping pages:  84%|████████▍ | 74/88 [02:53<00:37,  2.70s/it]"
     ]
    },
    {
     "name": "stdout",
     "output_type": "stream",
     "text": [
      "Retrieving: https://www.lamudi.com.ph/metro-manila/pasig/condominium/buy/?script=23&page=75 --- Success!\n"
     ]
    },
    {
     "name": "stderr",
     "output_type": "stream",
     "text": [
      "Scraping pages:  85%|████████▌ | 75/88 [02:55<00:34,  2.67s/it]"
     ]
    },
    {
     "name": "stdout",
     "output_type": "stream",
     "text": [
      "Retrieving: https://www.lamudi.com.ph/metro-manila/pasig/condominium/buy/?script=23&page=76 --- Success!\n"
     ]
    },
    {
     "name": "stderr",
     "output_type": "stream",
     "text": [
      "Scraping pages:  86%|████████▋ | 76/88 [02:58<00:31,  2.59s/it]"
     ]
    },
    {
     "name": "stdout",
     "output_type": "stream",
     "text": [
      "Retrieving: https://www.lamudi.com.ph/metro-manila/pasig/condominium/buy/?script=23&page=77 --- Success!\n"
     ]
    },
    {
     "name": "stderr",
     "output_type": "stream",
     "text": [
      "Scraping pages:  88%|████████▊ | 77/88 [03:00<00:26,  2.42s/it]"
     ]
    },
    {
     "name": "stdout",
     "output_type": "stream",
     "text": [
      "Retrieving: https://www.lamudi.com.ph/metro-manila/pasig/condominium/buy/?script=23&page=78 --- Success!\n"
     ]
    },
    {
     "name": "stderr",
     "output_type": "stream",
     "text": [
      "Scraping pages:  89%|████████▊ | 78/88 [03:02<00:22,  2.27s/it]"
     ]
    },
    {
     "name": "stdout",
     "output_type": "stream",
     "text": [
      "Retrieving: https://www.lamudi.com.ph/metro-manila/pasig/condominium/buy/?script=23&page=79 --- Success!\n"
     ]
    },
    {
     "name": "stderr",
     "output_type": "stream",
     "text": [
      "Scraping pages:  90%|████████▉ | 79/88 [03:03<00:19,  2.17s/it]"
     ]
    },
    {
     "name": "stdout",
     "output_type": "stream",
     "text": [
      "Retrieving: https://www.lamudi.com.ph/metro-manila/pasig/condominium/buy/?script=23&page=80 --- Success!\n"
     ]
    },
    {
     "name": "stderr",
     "output_type": "stream",
     "text": [
      "Scraping pages:  91%|█████████ | 80/88 [03:05<00:16,  2.11s/it]"
     ]
    },
    {
     "name": "stdout",
     "output_type": "stream",
     "text": [
      "Retrieving: https://www.lamudi.com.ph/metro-manila/pasig/condominium/buy/?script=23&page=81 --- Success!\n"
     ]
    },
    {
     "name": "stderr",
     "output_type": "stream",
     "text": [
      "Scraping pages:  92%|█████████▏| 81/88 [03:08<00:14,  2.14s/it]"
     ]
    },
    {
     "name": "stdout",
     "output_type": "stream",
     "text": [
      "Retrieving: https://www.lamudi.com.ph/metro-manila/pasig/condominium/buy/?script=23&page=82 --- Success!\n"
     ]
    },
    {
     "name": "stderr",
     "output_type": "stream",
     "text": [
      "Scraping pages:  93%|█████████▎| 82/88 [03:10<00:12,  2.06s/it]"
     ]
    },
    {
     "name": "stdout",
     "output_type": "stream",
     "text": [
      "Retrieving: https://www.lamudi.com.ph/metro-manila/pasig/condominium/buy/?script=23&page=83 --- Success!\n"
     ]
    },
    {
     "name": "stderr",
     "output_type": "stream",
     "text": [
      "Scraping pages:  94%|█████████▍| 83/88 [03:12<00:10,  2.03s/it]"
     ]
    },
    {
     "name": "stdout",
     "output_type": "stream",
     "text": [
      "Retrieving: https://www.lamudi.com.ph/metro-manila/pasig/condominium/buy/?script=23&page=84 --- Success!\n"
     ]
    },
    {
     "name": "stderr",
     "output_type": "stream",
     "text": [
      "Scraping pages:  95%|█████████▌| 84/88 [03:14<00:08,  2.02s/it]"
     ]
    },
    {
     "name": "stdout",
     "output_type": "stream",
     "text": [
      "Retrieving: https://www.lamudi.com.ph/metro-manila/pasig/condominium/buy/?script=23&page=85 --- Success!\n"
     ]
    },
    {
     "name": "stderr",
     "output_type": "stream",
     "text": [
      "Scraping pages:  97%|█████████▋| 85/88 [03:15<00:05,  1.97s/it]"
     ]
    },
    {
     "name": "stdout",
     "output_type": "stream",
     "text": [
      "Retrieving: https://www.lamudi.com.ph/metro-manila/pasig/condominium/buy/?script=23&page=86 --- Success!\n"
     ]
    },
    {
     "name": "stderr",
     "output_type": "stream",
     "text": [
      "Scraping pages:  98%|█████████▊| 86/88 [03:17<00:03,  1.99s/it]"
     ]
    },
    {
     "name": "stdout",
     "output_type": "stream",
     "text": [
      "Retrieving: https://www.lamudi.com.ph/metro-manila/pasig/condominium/buy/?script=23&page=87 --- Success!\n"
     ]
    },
    {
     "name": "stderr",
     "output_type": "stream",
     "text": [
      "Scraping pages:  99%|█████████▉| 87/88 [03:19<00:02,  2.01s/it]"
     ]
    },
    {
     "name": "stdout",
     "output_type": "stream",
     "text": [
      "Retrieving: https://www.lamudi.com.ph/metro-manila/pasig/condominium/buy/?script=23&page=88 --- Success!\n"
     ]
    },
    {
     "name": "stderr",
     "output_type": "stream",
     "text": [
      "Scraping pages: 100%|██████████| 88/88 [03:21<00:00,  2.29s/it]\n",
      "Scraping pages:   0%|          | 0/63 [00:00<?, ?it/s]"
     ]
    },
    {
     "name": "stdout",
     "output_type": "stream",
     "text": [
      "Retrieving: https://www.lamudi.com.ph/metro-manila/pasig/house/buy/?script=23&page=1 --- Success!\n"
     ]
    },
    {
     "name": "stderr",
     "output_type": "stream",
     "text": [
      "Scraping pages:   2%|▏         | 1/63 [00:02<02:27,  2.37s/it]"
     ]
    },
    {
     "name": "stdout",
     "output_type": "stream",
     "text": [
      "Retrieving: https://www.lamudi.com.ph/metro-manila/pasig/house/buy/?script=23&page=2 --- Success!\n"
     ]
    },
    {
     "name": "stderr",
     "output_type": "stream",
     "text": [
      "Scraping pages:   3%|▎         | 2/63 [00:04<02:10,  2.13s/it]"
     ]
    },
    {
     "name": "stdout",
     "output_type": "stream",
     "text": [
      "Retrieving: https://www.lamudi.com.ph/metro-manila/pasig/house/buy/?script=23&page=3 --- Success!\n"
     ]
    },
    {
     "name": "stderr",
     "output_type": "stream",
     "text": [
      "Scraping pages:   5%|▍         | 3/63 [00:06<02:13,  2.22s/it]"
     ]
    },
    {
     "name": "stdout",
     "output_type": "stream",
     "text": [
      "Retrieving: https://www.lamudi.com.ph/metro-manila/pasig/house/buy/?script=23&page=4 --- Success!\n"
     ]
    },
    {
     "name": "stderr",
     "output_type": "stream",
     "text": [
      "Scraping pages:   6%|▋         | 4/63 [00:08<02:10,  2.21s/it]"
     ]
    },
    {
     "name": "stdout",
     "output_type": "stream",
     "text": [
      "Retrieving: https://www.lamudi.com.ph/metro-manila/pasig/house/buy/?script=23&page=5 --- Success!\n"
     ]
    },
    {
     "name": "stderr",
     "output_type": "stream",
     "text": [
      "Scraping pages:   8%|▊         | 5/63 [00:10<02:06,  2.18s/it]"
     ]
    },
    {
     "name": "stdout",
     "output_type": "stream",
     "text": [
      "Retrieving: https://www.lamudi.com.ph/metro-manila/pasig/house/buy/?script=23&page=6 --- Success!\n"
     ]
    },
    {
     "name": "stderr",
     "output_type": "stream",
     "text": [
      "Scraping pages:  10%|▉         | 6/63 [00:13<02:04,  2.19s/it]"
     ]
    },
    {
     "name": "stdout",
     "output_type": "stream",
     "text": [
      "Retrieving: https://www.lamudi.com.ph/metro-manila/pasig/house/buy/?script=23&page=7 --- Success!\n"
     ]
    },
    {
     "name": "stderr",
     "output_type": "stream",
     "text": [
      "Scraping pages:  11%|█         | 7/63 [00:15<02:03,  2.20s/it]"
     ]
    },
    {
     "name": "stdout",
     "output_type": "stream",
     "text": [
      "Retrieving: https://www.lamudi.com.ph/metro-manila/pasig/house/buy/?script=23&page=8 --- Success!\n"
     ]
    },
    {
     "name": "stderr",
     "output_type": "stream",
     "text": [
      "Scraping pages:  13%|█▎        | 8/63 [00:17<01:56,  2.11s/it]"
     ]
    },
    {
     "name": "stdout",
     "output_type": "stream",
     "text": [
      "Retrieving: https://www.lamudi.com.ph/metro-manila/pasig/house/buy/?script=23&page=9 --- Success!\n"
     ]
    },
    {
     "name": "stderr",
     "output_type": "stream",
     "text": [
      "Scraping pages:  14%|█▍        | 9/63 [00:19<01:57,  2.18s/it]"
     ]
    },
    {
     "name": "stdout",
     "output_type": "stream",
     "text": [
      "Retrieving: https://www.lamudi.com.ph/metro-manila/pasig/house/buy/?script=23&page=10 --- Success!\n"
     ]
    },
    {
     "name": "stderr",
     "output_type": "stream",
     "text": [
      "Scraping pages:  16%|█▌        | 10/63 [00:21<01:52,  2.12s/it]"
     ]
    },
    {
     "name": "stdout",
     "output_type": "stream",
     "text": [
      "Retrieving: https://www.lamudi.com.ph/metro-manila/pasig/house/buy/?script=23&page=11 --- Success!\n"
     ]
    },
    {
     "name": "stderr",
     "output_type": "stream",
     "text": [
      "Scraping pages:  17%|█▋        | 11/63 [00:23<01:49,  2.11s/it]"
     ]
    },
    {
     "name": "stdout",
     "output_type": "stream",
     "text": [
      "Retrieving: https://www.lamudi.com.ph/metro-manila/pasig/house/buy/?script=23&page=12 --- Success!\n"
     ]
    },
    {
     "name": "stderr",
     "output_type": "stream",
     "text": [
      "Scraping pages:  19%|█▉        | 12/63 [00:25<01:43,  2.03s/it]"
     ]
    },
    {
     "name": "stdout",
     "output_type": "stream",
     "text": [
      "Retrieving: https://www.lamudi.com.ph/metro-manila/pasig/house/buy/?script=23&page=13 --- Success!\n"
     ]
    },
    {
     "name": "stderr",
     "output_type": "stream",
     "text": [
      "Scraping pages:  21%|██        | 13/63 [00:28<01:50,  2.21s/it]"
     ]
    },
    {
     "name": "stdout",
     "output_type": "stream",
     "text": [
      "Retrieving: https://www.lamudi.com.ph/metro-manila/pasig/house/buy/?script=23&page=14 --- Success!\n"
     ]
    },
    {
     "name": "stderr",
     "output_type": "stream",
     "text": [
      "Scraping pages:  22%|██▏       | 14/63 [00:33<02:26,  2.99s/it]"
     ]
    },
    {
     "name": "stdout",
     "output_type": "stream",
     "text": [
      "Retrieving: https://www.lamudi.com.ph/metro-manila/pasig/house/buy/?script=23&page=15 --- Success!\n"
     ]
    },
    {
     "name": "stderr",
     "output_type": "stream",
     "text": [
      "Scraping pages:  24%|██▍       | 15/63 [00:35<02:18,  2.88s/it]"
     ]
    },
    {
     "name": "stdout",
     "output_type": "stream",
     "text": [
      "Retrieving: https://www.lamudi.com.ph/metro-manila/pasig/house/buy/?script=23&page=16 --- Success!\n"
     ]
    },
    {
     "name": "stderr",
     "output_type": "stream",
     "text": [
      "Scraping pages:  25%|██▌       | 16/63 [00:37<02:03,  2.63s/it]"
     ]
    },
    {
     "name": "stdout",
     "output_type": "stream",
     "text": [
      "Retrieving: https://www.lamudi.com.ph/metro-manila/pasig/house/buy/?script=23&page=17 --- Success!\n"
     ]
    },
    {
     "name": "stderr",
     "output_type": "stream",
     "text": [
      "Scraping pages:  27%|██▋       | 17/63 [00:39<01:52,  2.45s/it]"
     ]
    },
    {
     "name": "stdout",
     "output_type": "stream",
     "text": [
      "Retrieving: https://www.lamudi.com.ph/metro-manila/pasig/house/buy/?script=23&page=18 --- Success!\n"
     ]
    },
    {
     "name": "stderr",
     "output_type": "stream",
     "text": [
      "Scraping pages:  29%|██▊       | 18/63 [00:41<01:43,  2.30s/it]"
     ]
    },
    {
     "name": "stdout",
     "output_type": "stream",
     "text": [
      "Retrieving: https://www.lamudi.com.ph/metro-manila/pasig/house/buy/?script=23&page=19 --- Success!\n"
     ]
    },
    {
     "name": "stderr",
     "output_type": "stream",
     "text": [
      "Scraping pages:  30%|███       | 19/63 [00:43<01:39,  2.25s/it]"
     ]
    },
    {
     "name": "stdout",
     "output_type": "stream",
     "text": [
      "Retrieving: https://www.lamudi.com.ph/metro-manila/pasig/house/buy/?script=23&page=20 --- Success!\n"
     ]
    },
    {
     "name": "stderr",
     "output_type": "stream",
     "text": [
      "Scraping pages:  32%|███▏      | 20/63 [00:45<01:35,  2.22s/it]"
     ]
    },
    {
     "name": "stdout",
     "output_type": "stream",
     "text": [
      "Retrieving: https://www.lamudi.com.ph/metro-manila/pasig/house/buy/?script=23&page=21 --- Success!\n"
     ]
    },
    {
     "name": "stderr",
     "output_type": "stream",
     "text": [
      "Scraping pages:  33%|███▎      | 21/63 [00:48<01:32,  2.19s/it]"
     ]
    },
    {
     "name": "stdout",
     "output_type": "stream",
     "text": [
      "Retrieving: https://www.lamudi.com.ph/metro-manila/pasig/house/buy/?script=23&page=22 --- Success!\n"
     ]
    },
    {
     "name": "stderr",
     "output_type": "stream",
     "text": [
      "Scraping pages:  35%|███▍      | 22/63 [00:50<01:29,  2.18s/it]"
     ]
    },
    {
     "name": "stdout",
     "output_type": "stream",
     "text": [
      "Retrieving: https://www.lamudi.com.ph/metro-manila/pasig/house/buy/?script=23&page=23 --- Success!\n"
     ]
    },
    {
     "name": "stderr",
     "output_type": "stream",
     "text": [
      "Scraping pages:  37%|███▋      | 23/63 [00:52<01:25,  2.13s/it]"
     ]
    },
    {
     "name": "stdout",
     "output_type": "stream",
     "text": [
      "Retrieving: https://www.lamudi.com.ph/metro-manila/pasig/house/buy/?script=23&page=24 --- Success!\n"
     ]
    },
    {
     "name": "stderr",
     "output_type": "stream",
     "text": [
      "Scraping pages:  38%|███▊      | 24/63 [00:54<01:24,  2.17s/it]"
     ]
    },
    {
     "name": "stdout",
     "output_type": "stream",
     "text": [
      "Retrieving: https://www.lamudi.com.ph/metro-manila/pasig/house/buy/?script=23&page=25 --- Success!\n"
     ]
    },
    {
     "name": "stderr",
     "output_type": "stream",
     "text": [
      "Scraping pages:  40%|███▉      | 25/63 [00:56<01:19,  2.10s/it]"
     ]
    },
    {
     "name": "stdout",
     "output_type": "stream",
     "text": [
      "Retrieving: https://www.lamudi.com.ph/metro-manila/pasig/house/buy/?script=23&page=26 --- Success!\n"
     ]
    },
    {
     "name": "stderr",
     "output_type": "stream",
     "text": [
      "Scraping pages:  41%|████▏     | 26/63 [00:58<01:17,  2.09s/it]"
     ]
    },
    {
     "name": "stdout",
     "output_type": "stream",
     "text": [
      "Retrieving: https://www.lamudi.com.ph/metro-manila/pasig/house/buy/?script=23&page=27 --- Success!\n"
     ]
    },
    {
     "name": "stderr",
     "output_type": "stream",
     "text": [
      "Scraping pages:  43%|████▎     | 27/63 [01:00<01:12,  2.02s/it]"
     ]
    },
    {
     "name": "stdout",
     "output_type": "stream",
     "text": [
      "Retrieving: https://www.lamudi.com.ph/metro-manila/pasig/house/buy/?script=23&page=28 --- Success!\n"
     ]
    },
    {
     "name": "stderr",
     "output_type": "stream",
     "text": [
      "Scraping pages:  44%|████▍     | 28/63 [01:02<01:10,  2.00s/it]"
     ]
    },
    {
     "name": "stdout",
     "output_type": "stream",
     "text": [
      "Retrieving: https://www.lamudi.com.ph/metro-manila/pasig/house/buy/?script=23&page=29 --- Success!\n"
     ]
    },
    {
     "name": "stderr",
     "output_type": "stream",
     "text": [
      "Scraping pages:  46%|████▌     | 29/63 [01:04<01:08,  2.02s/it]"
     ]
    },
    {
     "name": "stdout",
     "output_type": "stream",
     "text": [
      "Retrieving: https://www.lamudi.com.ph/metro-manila/pasig/house/buy/?script=23&page=30 --- Success!\n"
     ]
    },
    {
     "name": "stderr",
     "output_type": "stream",
     "text": [
      "Scraping pages:  48%|████▊     | 30/63 [01:06<01:08,  2.08s/it]"
     ]
    },
    {
     "name": "stdout",
     "output_type": "stream",
     "text": [
      "Retrieving: https://www.lamudi.com.ph/metro-manila/pasig/house/buy/?script=23&page=31 --- Success!\n"
     ]
    },
    {
     "name": "stderr",
     "output_type": "stream",
     "text": [
      "Scraping pages:  49%|████▉     | 31/63 [01:08<01:06,  2.07s/it]"
     ]
    },
    {
     "name": "stdout",
     "output_type": "stream",
     "text": [
      "Retrieving: https://www.lamudi.com.ph/metro-manila/pasig/house/buy/?script=23&page=32 --- Success!\n"
     ]
    },
    {
     "name": "stderr",
     "output_type": "stream",
     "text": [
      "Scraping pages:  51%|█████     | 32/63 [01:11<01:12,  2.35s/it]"
     ]
    },
    {
     "name": "stdout",
     "output_type": "stream",
     "text": [
      "Retrieving: https://www.lamudi.com.ph/metro-manila/pasig/house/buy/?script=23&page=33 --- Success!\n"
     ]
    },
    {
     "name": "stderr",
     "output_type": "stream",
     "text": [
      "Scraping pages:  52%|█████▏    | 33/63 [01:13<01:07,  2.25s/it]"
     ]
    },
    {
     "name": "stdout",
     "output_type": "stream",
     "text": [
      "Retrieving: https://www.lamudi.com.ph/metro-manila/pasig/house/buy/?script=23&page=34 --- Success!\n"
     ]
    },
    {
     "name": "stderr",
     "output_type": "stream",
     "text": [
      "Scraping pages:  54%|█████▍    | 34/63 [01:16<01:06,  2.30s/it]"
     ]
    },
    {
     "name": "stdout",
     "output_type": "stream",
     "text": [
      "Retrieving: https://www.lamudi.com.ph/metro-manila/pasig/house/buy/?script=23&page=35 --- Success!\n"
     ]
    },
    {
     "name": "stderr",
     "output_type": "stream",
     "text": [
      "Scraping pages:  56%|█████▌    | 35/63 [01:18<01:02,  2.22s/it]"
     ]
    },
    {
     "name": "stdout",
     "output_type": "stream",
     "text": [
      "Retrieving: https://www.lamudi.com.ph/metro-manila/pasig/house/buy/?script=23&page=36 --- Success!\n"
     ]
    },
    {
     "name": "stderr",
     "output_type": "stream",
     "text": [
      "Scraping pages:  57%|█████▋    | 36/63 [01:20<01:02,  2.30s/it]"
     ]
    },
    {
     "name": "stdout",
     "output_type": "stream",
     "text": [
      "Retrieving: https://www.lamudi.com.ph/metro-manila/pasig/house/buy/?script=23&page=37 --- Success!\n"
     ]
    },
    {
     "name": "stderr",
     "output_type": "stream",
     "text": [
      "Scraping pages:  59%|█████▊    | 37/63 [01:22<00:56,  2.19s/it]"
     ]
    },
    {
     "name": "stdout",
     "output_type": "stream",
     "text": [
      "Retrieving: https://www.lamudi.com.ph/metro-manila/pasig/house/buy/?script=23&page=38 --- Success!\n"
     ]
    },
    {
     "name": "stderr",
     "output_type": "stream",
     "text": [
      "Scraping pages:  60%|██████    | 38/63 [01:24<00:55,  2.21s/it]"
     ]
    },
    {
     "name": "stdout",
     "output_type": "stream",
     "text": [
      "Retrieving: https://www.lamudi.com.ph/metro-manila/pasig/house/buy/?script=23&page=39 --- Success!\n"
     ]
    },
    {
     "name": "stderr",
     "output_type": "stream",
     "text": [
      "Scraping pages:  62%|██████▏   | 39/63 [01:27<00:58,  2.43s/it]"
     ]
    },
    {
     "name": "stdout",
     "output_type": "stream",
     "text": [
      "Retrieving: https://www.lamudi.com.ph/metro-manila/pasig/house/buy/?script=23&page=40 --- Success!\n"
     ]
    },
    {
     "name": "stderr",
     "output_type": "stream",
     "text": [
      "Scraping pages:  63%|██████▎   | 40/63 [01:30<00:56,  2.47s/it]"
     ]
    },
    {
     "name": "stdout",
     "output_type": "stream",
     "text": [
      "Retrieving: https://www.lamudi.com.ph/metro-manila/pasig/house/buy/?script=23&page=41 --- Success!\n"
     ]
    },
    {
     "name": "stderr",
     "output_type": "stream",
     "text": [
      "Scraping pages:  65%|██████▌   | 41/63 [01:32<00:55,  2.50s/it]"
     ]
    },
    {
     "name": "stdout",
     "output_type": "stream",
     "text": [
      "Retrieving: https://www.lamudi.com.ph/metro-manila/pasig/house/buy/?script=23&page=42 --- Success!\n"
     ]
    },
    {
     "name": "stderr",
     "output_type": "stream",
     "text": [
      "Scraping pages:  67%|██████▋   | 42/63 [01:34<00:49,  2.36s/it]"
     ]
    },
    {
     "name": "stdout",
     "output_type": "stream",
     "text": [
      "Retrieving: https://www.lamudi.com.ph/metro-manila/pasig/house/buy/?script=23&page=43 --- Success!\n"
     ]
    },
    {
     "name": "stderr",
     "output_type": "stream",
     "text": [
      "Scraping pages:  68%|██████▊   | 43/63 [01:37<00:45,  2.29s/it]"
     ]
    },
    {
     "name": "stdout",
     "output_type": "stream",
     "text": [
      "Retrieving: https://www.lamudi.com.ph/metro-manila/pasig/house/buy/?script=23&page=44 --- Success!\n"
     ]
    },
    {
     "name": "stderr",
     "output_type": "stream",
     "text": [
      "Scraping pages:  70%|██████▉   | 44/63 [01:39<00:41,  2.20s/it]"
     ]
    },
    {
     "name": "stdout",
     "output_type": "stream",
     "text": [
      "Retrieving: https://www.lamudi.com.ph/metro-manila/pasig/house/buy/?script=23&page=45 --- Success!\n"
     ]
    },
    {
     "name": "stderr",
     "output_type": "stream",
     "text": [
      "Scraping pages:  71%|███████▏  | 45/63 [01:41<00:39,  2.19s/it]"
     ]
    },
    {
     "name": "stdout",
     "output_type": "stream",
     "text": [
      "Retrieving: https://www.lamudi.com.ph/metro-manila/pasig/house/buy/?script=23&page=46 --- Success!\n"
     ]
    },
    {
     "name": "stderr",
     "output_type": "stream",
     "text": [
      "Scraping pages:  73%|███████▎  | 46/63 [01:43<00:35,  2.09s/it]"
     ]
    },
    {
     "name": "stdout",
     "output_type": "stream",
     "text": [
      "Retrieving: https://www.lamudi.com.ph/metro-manila/pasig/house/buy/?script=23&page=47 --- Success!\n"
     ]
    },
    {
     "name": "stderr",
     "output_type": "stream",
     "text": [
      "Scraping pages:  75%|███████▍  | 47/63 [01:45<00:32,  2.05s/it]"
     ]
    },
    {
     "name": "stdout",
     "output_type": "stream",
     "text": [
      "Retrieving: https://www.lamudi.com.ph/metro-manila/pasig/house/buy/?script=23&page=48 --- Success!\n"
     ]
    },
    {
     "name": "stderr",
     "output_type": "stream",
     "text": [
      "Scraping pages:  76%|███████▌  | 48/63 [01:47<00:33,  2.21s/it]"
     ]
    },
    {
     "name": "stdout",
     "output_type": "stream",
     "text": [
      "Retrieving: https://www.lamudi.com.ph/metro-manila/pasig/house/buy/?script=23&page=49 --- Success!\n"
     ]
    },
    {
     "name": "stderr",
     "output_type": "stream",
     "text": [
      "Scraping pages:  78%|███████▊  | 49/63 [01:49<00:29,  2.13s/it]"
     ]
    },
    {
     "name": "stdout",
     "output_type": "stream",
     "text": [
      "Retrieving: https://www.lamudi.com.ph/metro-manila/pasig/house/buy/?script=23&page=50 --- Success!\n"
     ]
    },
    {
     "name": "stderr",
     "output_type": "stream",
     "text": [
      "Scraping pages:  79%|███████▉  | 50/63 [01:51<00:27,  2.15s/it]"
     ]
    },
    {
     "name": "stdout",
     "output_type": "stream",
     "text": [
      "Retrieving: https://www.lamudi.com.ph/metro-manila/pasig/house/buy/?script=23&page=51 --- Success!\n"
     ]
    },
    {
     "name": "stderr",
     "output_type": "stream",
     "text": [
      "Scraping pages:  81%|████████  | 51/63 [01:53<00:25,  2.09s/it]"
     ]
    },
    {
     "name": "stdout",
     "output_type": "stream",
     "text": [
      "Retrieving: https://www.lamudi.com.ph/metro-manila/pasig/house/buy/?script=23&page=52 --- Success!\n"
     ]
    },
    {
     "name": "stderr",
     "output_type": "stream",
     "text": [
      "Scraping pages:  83%|████████▎ | 52/63 [01:55<00:22,  2.01s/it]"
     ]
    },
    {
     "name": "stdout",
     "output_type": "stream",
     "text": [
      "Retrieving: https://www.lamudi.com.ph/metro-manila/pasig/house/buy/?script=23&page=53 --- Success!\n"
     ]
    },
    {
     "name": "stderr",
     "output_type": "stream",
     "text": [
      "Scraping pages:  84%|████████▍ | 53/63 [01:57<00:19,  1.95s/it]"
     ]
    },
    {
     "name": "stdout",
     "output_type": "stream",
     "text": [
      "Retrieving: https://www.lamudi.com.ph/metro-manila/pasig/house/buy/?script=23&page=54 --- Success!\n"
     ]
    },
    {
     "name": "stderr",
     "output_type": "stream",
     "text": [
      "Scraping pages:  86%|████████▌ | 54/63 [01:59<00:17,  1.96s/it]"
     ]
    },
    {
     "name": "stdout",
     "output_type": "stream",
     "text": [
      "Retrieving: https://www.lamudi.com.ph/metro-manila/pasig/house/buy/?script=23&page=55 --- Success!\n"
     ]
    },
    {
     "name": "stderr",
     "output_type": "stream",
     "text": [
      "Scraping pages:  87%|████████▋ | 55/63 [02:01<00:15,  1.92s/it]"
     ]
    },
    {
     "name": "stdout",
     "output_type": "stream",
     "text": [
      "Retrieving: https://www.lamudi.com.ph/metro-manila/pasig/house/buy/?script=23&page=56 --- Success!\n"
     ]
    },
    {
     "name": "stderr",
     "output_type": "stream",
     "text": [
      "Scraping pages:  89%|████████▉ | 56/63 [02:03<00:13,  1.92s/it]"
     ]
    },
    {
     "name": "stdout",
     "output_type": "stream",
     "text": [
      "Retrieving: https://www.lamudi.com.ph/metro-manila/pasig/house/buy/?script=23&page=57 --- Success!\n"
     ]
    },
    {
     "name": "stderr",
     "output_type": "stream",
     "text": [
      "Scraping pages:  90%|█████████ | 57/63 [02:04<00:11,  1.91s/it]"
     ]
    },
    {
     "name": "stdout",
     "output_type": "stream",
     "text": [
      "Retrieving: https://www.lamudi.com.ph/metro-manila/pasig/house/buy/?script=23&page=58 --- Success!\n"
     ]
    },
    {
     "name": "stderr",
     "output_type": "stream",
     "text": [
      "Scraping pages:  92%|█████████▏| 58/63 [02:06<00:09,  1.93s/it]"
     ]
    },
    {
     "name": "stdout",
     "output_type": "stream",
     "text": [
      "Retrieving: https://www.lamudi.com.ph/metro-manila/pasig/house/buy/?script=23&page=59 --- Success!\n"
     ]
    },
    {
     "name": "stderr",
     "output_type": "stream",
     "text": [
      "Scraping pages:  94%|█████████▎| 59/63 [02:08<00:07,  1.88s/it]"
     ]
    },
    {
     "name": "stdout",
     "output_type": "stream",
     "text": [
      "Retrieving: https://www.lamudi.com.ph/metro-manila/pasig/house/buy/?script=23&page=60 --- Success!\n"
     ]
    },
    {
     "name": "stderr",
     "output_type": "stream",
     "text": [
      "Scraping pages:  95%|█████████▌| 60/63 [02:11<00:06,  2.15s/it]"
     ]
    },
    {
     "name": "stdout",
     "output_type": "stream",
     "text": [
      "Retrieving: https://www.lamudi.com.ph/metro-manila/pasig/house/buy/?script=23&page=61 --- Success!\n"
     ]
    },
    {
     "name": "stderr",
     "output_type": "stream",
     "text": [
      "Scraping pages:  97%|█████████▋| 61/63 [02:13<00:04,  2.07s/it]"
     ]
    },
    {
     "name": "stdout",
     "output_type": "stream",
     "text": [
      "Retrieving: https://www.lamudi.com.ph/metro-manila/pasig/house/buy/?script=23&page=62 --- Success!\n"
     ]
    },
    {
     "name": "stderr",
     "output_type": "stream",
     "text": [
      "Scraping pages:  98%|█████████▊| 62/63 [02:15<00:02,  2.04s/it]"
     ]
    },
    {
     "name": "stdout",
     "output_type": "stream",
     "text": [
      "Retrieving: https://www.lamudi.com.ph/metro-manila/pasig/house/buy/?script=23&page=63 --- Success!\n"
     ]
    },
    {
     "name": "stderr",
     "output_type": "stream",
     "text": [
      "Scraping pages: 100%|██████████| 63/63 [02:17<00:00,  2.18s/it]\n",
      "Scraping pages:   0%|          | 0/7 [00:00<?, ?it/s]"
     ]
    },
    {
     "name": "stdout",
     "output_type": "stream",
     "text": [
      "Retrieving: https://www.lamudi.com.ph/metro-manila/pasig/land/buy/?script=23&page=1 --- Success!\n"
     ]
    },
    {
     "name": "stderr",
     "output_type": "stream",
     "text": [
      "Scraping pages:  14%|█▍        | 1/7 [00:02<00:13,  2.23s/it]"
     ]
    },
    {
     "name": "stdout",
     "output_type": "stream",
     "text": [
      "Retrieving: https://www.lamudi.com.ph/metro-manila/pasig/land/buy/?script=23&page=2 --- Success!\n"
     ]
    },
    {
     "name": "stderr",
     "output_type": "stream",
     "text": [
      "Scraping pages:  29%|██▊       | 2/7 [00:04<00:11,  2.30s/it]"
     ]
    },
    {
     "name": "stdout",
     "output_type": "stream",
     "text": [
      "Retrieving: https://www.lamudi.com.ph/metro-manila/pasig/land/buy/?script=23&page=3 --- Success!\n"
     ]
    },
    {
     "name": "stderr",
     "output_type": "stream",
     "text": [
      "Scraping pages:  43%|████▎     | 3/7 [00:06<00:09,  2.28s/it]"
     ]
    },
    {
     "name": "stdout",
     "output_type": "stream",
     "text": [
      "Retrieving: https://www.lamudi.com.ph/metro-manila/pasig/land/buy/?script=23&page=4 --- Success!\n"
     ]
    },
    {
     "name": "stderr",
     "output_type": "stream",
     "text": [
      "Scraping pages:  57%|█████▋    | 4/7 [00:09<00:07,  2.60s/it]"
     ]
    },
    {
     "name": "stdout",
     "output_type": "stream",
     "text": [
      "Retrieving: https://www.lamudi.com.ph/metro-manila/pasig/land/buy/?script=23&page=5 --- Success!\n"
     ]
    },
    {
     "name": "stderr",
     "output_type": "stream",
     "text": [
      "Scraping pages:  71%|███████▏  | 5/7 [00:13<00:05,  2.99s/it]"
     ]
    },
    {
     "name": "stdout",
     "output_type": "stream",
     "text": [
      "Retrieving: https://www.lamudi.com.ph/metro-manila/pasig/land/buy/?script=23&page=6 --- Success!\n"
     ]
    },
    {
     "name": "stderr",
     "output_type": "stream",
     "text": [
      "Scraping pages:  86%|████████▌ | 6/7 [00:15<00:02,  2.75s/it]"
     ]
    },
    {
     "name": "stdout",
     "output_type": "stream",
     "text": [
      "Retrieving: https://www.lamudi.com.ph/metro-manila/pasig/land/buy/?script=23&page=7 --- Success!\n"
     ]
    },
    {
     "name": "stderr",
     "output_type": "stream",
     "text": [
      "Scraping pages: 100%|██████████| 7/7 [00:18<00:00,  2.61s/it]\n"
     ]
    }
   ],
   "source": [
    "pasig_condo = property_crawler(base_url='https://www.lamudi.com.ph/metro-manila/pasig/condominium/buy/?script=23&page=', start=1, end=88)\n",
    "pasig_house = property_crawler(base_url='https://www.lamudi.com.ph/metro-manila/pasig/house/buy/?script=23&page=', start=1, end=63)\n",
    "pasig_land = property_crawler(base_url='https://www.lamudi.com.ph/metro-manila/pasig/land/buy/?script=23&page=', start=1, end=7)"
   ]
  },
  {
   "cell_type": "code",
   "execution_count": 16,
   "metadata": {},
   "outputs": [
    {
     "name": "stderr",
     "output_type": "stream",
     "text": [
      "Scraping pages:   0%|          | 0/3 [00:00<?, ?it/s]"
     ]
    },
    {
     "name": "stdout",
     "output_type": "stream",
     "text": [
      "Retrieving: https://www.lamudi.com.ph/metro-manila/pasig/apartment/rent/?page=1 --- Success!\n"
     ]
    },
    {
     "name": "stderr",
     "output_type": "stream",
     "text": [
      "Scraping pages:  33%|███▎      | 1/3 [00:02<00:04,  2.32s/it]"
     ]
    },
    {
     "name": "stdout",
     "output_type": "stream",
     "text": [
      "Retrieving: https://www.lamudi.com.ph/metro-manila/pasig/apartment/rent/?page=2 --- Success!\n"
     ]
    },
    {
     "name": "stderr",
     "output_type": "stream",
     "text": [
      "Scraping pages:  67%|██████▋   | 2/3 [00:04<00:02,  2.15s/it]"
     ]
    },
    {
     "name": "stdout",
     "output_type": "stream",
     "text": [
      "Retrieving: https://www.lamudi.com.ph/metro-manila/pasig/apartment/rent/?page=3 --- Success!\n"
     ]
    },
    {
     "name": "stderr",
     "output_type": "stream",
     "text": [
      "Scraping pages: 100%|██████████| 3/3 [00:06<00:00,  2.23s/it]\n",
      "Scraping pages:   0%|          | 0/45 [00:00<?, ?it/s]"
     ]
    },
    {
     "name": "stdout",
     "output_type": "stream",
     "text": [
      "Retrieving: https://www.lamudi.com.ph/metro-manila/pasig/condominium/rent/?page=1 --- Success!\n"
     ]
    },
    {
     "name": "stderr",
     "output_type": "stream",
     "text": [
      "Scraping pages:   2%|▏         | 1/45 [00:02<01:37,  2.21s/it]"
     ]
    },
    {
     "name": "stdout",
     "output_type": "stream",
     "text": [
      "Retrieving: https://www.lamudi.com.ph/metro-manila/pasig/condominium/rent/?page=2 --- Success!\n"
     ]
    },
    {
     "name": "stderr",
     "output_type": "stream",
     "text": [
      "Scraping pages:   4%|▍         | 2/45 [00:04<01:28,  2.05s/it]"
     ]
    },
    {
     "name": "stdout",
     "output_type": "stream",
     "text": [
      "Retrieving: https://www.lamudi.com.ph/metro-manila/pasig/condominium/rent/?page=3 --- Success!\n"
     ]
    },
    {
     "name": "stderr",
     "output_type": "stream",
     "text": [
      "Scraping pages:   7%|▋         | 3/45 [00:06<01:25,  2.03s/it]"
     ]
    },
    {
     "name": "stdout",
     "output_type": "stream",
     "text": [
      "Retrieving: https://www.lamudi.com.ph/metro-manila/pasig/condominium/rent/?page=4 --- Success!\n"
     ]
    },
    {
     "name": "stderr",
     "output_type": "stream",
     "text": [
      "Scraping pages:   9%|▉         | 4/45 [00:08<01:24,  2.06s/it]"
     ]
    },
    {
     "name": "stdout",
     "output_type": "stream",
     "text": [
      "Retrieving: https://www.lamudi.com.ph/metro-manila/pasig/condominium/rent/?page=5 --- Success!\n"
     ]
    },
    {
     "name": "stderr",
     "output_type": "stream",
     "text": [
      "Scraping pages:  11%|█         | 5/45 [00:10<01:20,  2.01s/it]"
     ]
    },
    {
     "name": "stdout",
     "output_type": "stream",
     "text": [
      "Retrieving: https://www.lamudi.com.ph/metro-manila/pasig/condominium/rent/?page=6 --- Success!\n"
     ]
    },
    {
     "name": "stderr",
     "output_type": "stream",
     "text": [
      "Scraping pages:  13%|█▎        | 6/45 [00:12<01:16,  1.97s/it]"
     ]
    },
    {
     "name": "stdout",
     "output_type": "stream",
     "text": [
      "Retrieving: https://www.lamudi.com.ph/metro-manila/pasig/condominium/rent/?page=7 --- Success!\n"
     ]
    },
    {
     "name": "stderr",
     "output_type": "stream",
     "text": [
      "Scraping pages:  16%|█▌        | 7/45 [00:13<01:13,  1.93s/it]"
     ]
    },
    {
     "name": "stdout",
     "output_type": "stream",
     "text": [
      "Retrieving: https://www.lamudi.com.ph/metro-manila/pasig/condominium/rent/?page=8 --- Success!\n"
     ]
    },
    {
     "name": "stderr",
     "output_type": "stream",
     "text": [
      "Scraping pages:  18%|█▊        | 8/45 [00:15<01:12,  1.96s/it]"
     ]
    },
    {
     "name": "stdout",
     "output_type": "stream",
     "text": [
      "Retrieving: https://www.lamudi.com.ph/metro-manila/pasig/condominium/rent/?page=9 --- Success!\n"
     ]
    },
    {
     "name": "stderr",
     "output_type": "stream",
     "text": [
      "Scraping pages:  20%|██        | 9/45 [00:17<01:09,  1.92s/it]"
     ]
    },
    {
     "name": "stdout",
     "output_type": "stream",
     "text": [
      "Retrieving: https://www.lamudi.com.ph/metro-manila/pasig/condominium/rent/?page=10 --- Success!\n"
     ]
    },
    {
     "name": "stderr",
     "output_type": "stream",
     "text": [
      "Scraping pages:  22%|██▏       | 10/45 [00:19<01:07,  1.92s/it]"
     ]
    },
    {
     "name": "stdout",
     "output_type": "stream",
     "text": [
      "Retrieving: https://www.lamudi.com.ph/metro-manila/pasig/condominium/rent/?page=11 --- Success!\n"
     ]
    },
    {
     "name": "stderr",
     "output_type": "stream",
     "text": [
      "Scraping pages:  24%|██▍       | 11/45 [00:21<01:04,  1.91s/it]"
     ]
    },
    {
     "name": "stdout",
     "output_type": "stream",
     "text": [
      "Retrieving: https://www.lamudi.com.ph/metro-manila/pasig/condominium/rent/?page=12 --- Success!\n"
     ]
    },
    {
     "name": "stderr",
     "output_type": "stream",
     "text": [
      "Scraping pages:  27%|██▋       | 12/45 [00:23<01:05,  1.99s/it]"
     ]
    },
    {
     "name": "stdout",
     "output_type": "stream",
     "text": [
      "Retrieving: https://www.lamudi.com.ph/metro-manila/pasig/condominium/rent/?page=13 --- Success!\n"
     ]
    },
    {
     "name": "stderr",
     "output_type": "stream",
     "text": [
      "Scraping pages:  29%|██▉       | 13/45 [00:25<01:04,  2.03s/it]"
     ]
    },
    {
     "name": "stdout",
     "output_type": "stream",
     "text": [
      "Retrieving: https://www.lamudi.com.ph/metro-manila/pasig/condominium/rent/?page=14 --- Success!\n"
     ]
    },
    {
     "name": "stderr",
     "output_type": "stream",
     "text": [
      "Scraping pages:  31%|███       | 14/45 [00:27<01:03,  2.03s/it]"
     ]
    },
    {
     "name": "stdout",
     "output_type": "stream",
     "text": [
      "Retrieving: https://www.lamudi.com.ph/metro-manila/pasig/condominium/rent/?page=15 --- Success!\n"
     ]
    },
    {
     "name": "stderr",
     "output_type": "stream",
     "text": [
      "Scraping pages:  33%|███▎      | 15/45 [00:30<01:02,  2.07s/it]"
     ]
    },
    {
     "name": "stdout",
     "output_type": "stream",
     "text": [
      "Retrieving: https://www.lamudi.com.ph/metro-manila/pasig/condominium/rent/?page=16 --- Success!\n"
     ]
    },
    {
     "name": "stderr",
     "output_type": "stream",
     "text": [
      "Scraping pages:  36%|███▌      | 16/45 [00:31<00:58,  2.02s/it]"
     ]
    },
    {
     "name": "stdout",
     "output_type": "stream",
     "text": [
      "Retrieving: https://www.lamudi.com.ph/metro-manila/pasig/condominium/rent/?page=17 --- Success!\n"
     ]
    },
    {
     "name": "stderr",
     "output_type": "stream",
     "text": [
      "Scraping pages:  38%|███▊      | 17/45 [00:33<00:56,  2.01s/it]"
     ]
    },
    {
     "name": "stdout",
     "output_type": "stream",
     "text": [
      "Retrieving: https://www.lamudi.com.ph/metro-manila/pasig/condominium/rent/?page=18 --- Success!\n"
     ]
    },
    {
     "name": "stderr",
     "output_type": "stream",
     "text": [
      "Scraping pages:  40%|████      | 18/45 [00:36<00:55,  2.07s/it]"
     ]
    },
    {
     "name": "stdout",
     "output_type": "stream",
     "text": [
      "Retrieving: https://www.lamudi.com.ph/metro-manila/pasig/condominium/rent/?page=19 --- Success!\n"
     ]
    },
    {
     "name": "stderr",
     "output_type": "stream",
     "text": [
      "Scraping pages:  42%|████▏     | 19/45 [00:38<00:55,  2.15s/it]"
     ]
    },
    {
     "name": "stdout",
     "output_type": "stream",
     "text": [
      "Retrieving: https://www.lamudi.com.ph/metro-manila/pasig/condominium/rent/?page=20 --- Success!\n"
     ]
    },
    {
     "name": "stderr",
     "output_type": "stream",
     "text": [
      "Scraping pages:  44%|████▍     | 20/45 [00:40<00:53,  2.14s/it]"
     ]
    },
    {
     "name": "stdout",
     "output_type": "stream",
     "text": [
      "Retrieving: https://www.lamudi.com.ph/metro-manila/pasig/condominium/rent/?page=21 --- Success!\n"
     ]
    },
    {
     "name": "stderr",
     "output_type": "stream",
     "text": [
      "Scraping pages:  47%|████▋     | 21/45 [00:42<00:49,  2.08s/it]"
     ]
    },
    {
     "name": "stdout",
     "output_type": "stream",
     "text": [
      "Retrieving: https://www.lamudi.com.ph/metro-manila/pasig/condominium/rent/?page=22 --- Success!\n"
     ]
    },
    {
     "name": "stderr",
     "output_type": "stream",
     "text": [
      "Scraping pages:  49%|████▉     | 22/45 [00:44<00:47,  2.05s/it]"
     ]
    },
    {
     "name": "stdout",
     "output_type": "stream",
     "text": [
      "Retrieving: https://www.lamudi.com.ph/metro-manila/pasig/condominium/rent/?page=23 --- Success!\n"
     ]
    },
    {
     "name": "stderr",
     "output_type": "stream",
     "text": [
      "Scraping pages:  51%|█████     | 23/45 [00:49<01:01,  2.77s/it]"
     ]
    },
    {
     "name": "stdout",
     "output_type": "stream",
     "text": [
      "Retrieving: https://www.lamudi.com.ph/metro-manila/pasig/condominium/rent/?page=24 --- Success!\n"
     ]
    },
    {
     "name": "stderr",
     "output_type": "stream",
     "text": [
      "Scraping pages:  53%|█████▎    | 24/45 [00:51<00:54,  2.59s/it]"
     ]
    },
    {
     "name": "stdout",
     "output_type": "stream",
     "text": [
      "Retrieving: https://www.lamudi.com.ph/metro-manila/pasig/condominium/rent/?page=25 --- Success!\n"
     ]
    },
    {
     "name": "stderr",
     "output_type": "stream",
     "text": [
      "Scraping pages:  56%|█████▌    | 25/45 [00:53<00:49,  2.49s/it]"
     ]
    },
    {
     "name": "stdout",
     "output_type": "stream",
     "text": [
      "Retrieving: https://www.lamudi.com.ph/metro-manila/pasig/condominium/rent/?page=26 --- Success!\n"
     ]
    },
    {
     "name": "stderr",
     "output_type": "stream",
     "text": [
      "Scraping pages:  58%|█████▊    | 26/45 [00:55<00:44,  2.35s/it]"
     ]
    },
    {
     "name": "stdout",
     "output_type": "stream",
     "text": [
      "Retrieving: https://www.lamudi.com.ph/metro-manila/pasig/condominium/rent/?page=27 --- Success!\n"
     ]
    },
    {
     "name": "stderr",
     "output_type": "stream",
     "text": [
      "Scraping pages:  60%|██████    | 27/45 [00:57<00:39,  2.22s/it]"
     ]
    },
    {
     "name": "stdout",
     "output_type": "stream",
     "text": [
      "Retrieving: https://www.lamudi.com.ph/metro-manila/pasig/condominium/rent/?page=28 --- Success!\n"
     ]
    },
    {
     "name": "stderr",
     "output_type": "stream",
     "text": [
      "Scraping pages:  62%|██████▏   | 28/45 [00:59<00:35,  2.09s/it]"
     ]
    },
    {
     "name": "stdout",
     "output_type": "stream",
     "text": [
      "Retrieving: https://www.lamudi.com.ph/metro-manila/pasig/condominium/rent/?page=29 --- Success!\n"
     ]
    },
    {
     "name": "stderr",
     "output_type": "stream",
     "text": [
      "Scraping pages:  64%|██████▍   | 29/45 [01:01<00:32,  2.04s/it]"
     ]
    },
    {
     "name": "stdout",
     "output_type": "stream",
     "text": [
      "Retrieving: https://www.lamudi.com.ph/metro-manila/pasig/condominium/rent/?page=30 --- Success!\n"
     ]
    },
    {
     "name": "stderr",
     "output_type": "stream",
     "text": [
      "Scraping pages:  67%|██████▋   | 30/45 [01:03<00:31,  2.09s/it]"
     ]
    },
    {
     "name": "stdout",
     "output_type": "stream",
     "text": [
      "Retrieving: https://www.lamudi.com.ph/metro-manila/pasig/condominium/rent/?page=31 --- Success!\n"
     ]
    },
    {
     "name": "stderr",
     "output_type": "stream",
     "text": [
      "Scraping pages:  69%|██████▉   | 31/45 [01:05<00:28,  2.01s/it]"
     ]
    },
    {
     "name": "stdout",
     "output_type": "stream",
     "text": [
      "Retrieving: https://www.lamudi.com.ph/metro-manila/pasig/condominium/rent/?page=32 --- Success!\n"
     ]
    },
    {
     "name": "stderr",
     "output_type": "stream",
     "text": [
      "Scraping pages:  71%|███████   | 32/45 [01:07<00:26,  2.01s/it]"
     ]
    },
    {
     "name": "stdout",
     "output_type": "stream",
     "text": [
      "Retrieving: https://www.lamudi.com.ph/metro-manila/pasig/condominium/rent/?page=33 --- Success!\n"
     ]
    },
    {
     "name": "stderr",
     "output_type": "stream",
     "text": [
      "Scraping pages:  73%|███████▎  | 33/45 [01:09<00:23,  2.00s/it]"
     ]
    },
    {
     "name": "stdout",
     "output_type": "stream",
     "text": [
      "Retrieving: https://www.lamudi.com.ph/metro-manila/pasig/condominium/rent/?page=34 --- Success!\n"
     ]
    },
    {
     "name": "stderr",
     "output_type": "stream",
     "text": [
      "Scraping pages:  76%|███████▌  | 34/45 [01:11<00:21,  1.98s/it]"
     ]
    },
    {
     "name": "stdout",
     "output_type": "stream",
     "text": [
      "Retrieving: https://www.lamudi.com.ph/metro-manila/pasig/condominium/rent/?page=35 --- Success!\n"
     ]
    },
    {
     "name": "stderr",
     "output_type": "stream",
     "text": [
      "Scraping pages:  78%|███████▊  | 35/45 [01:12<00:19,  1.94s/it]"
     ]
    },
    {
     "name": "stdout",
     "output_type": "stream",
     "text": [
      "Retrieving: https://www.lamudi.com.ph/metro-manila/pasig/condominium/rent/?page=36 --- Success!\n"
     ]
    },
    {
     "name": "stderr",
     "output_type": "stream",
     "text": [
      "Scraping pages:  80%|████████  | 36/45 [01:15<00:18,  2.08s/it]"
     ]
    },
    {
     "name": "stdout",
     "output_type": "stream",
     "text": [
      "Retrieving: https://www.lamudi.com.ph/metro-manila/pasig/condominium/rent/?page=37 --- Success!\n"
     ]
    },
    {
     "name": "stderr",
     "output_type": "stream",
     "text": [
      "Scraping pages:  82%|████████▏ | 37/45 [01:17<00:15,  1.99s/it]"
     ]
    },
    {
     "name": "stdout",
     "output_type": "stream",
     "text": [
      "Retrieving: https://www.lamudi.com.ph/metro-manila/pasig/condominium/rent/?page=38 --- Success!\n"
     ]
    },
    {
     "name": "stderr",
     "output_type": "stream",
     "text": [
      "Scraping pages:  84%|████████▍ | 38/45 [01:18<00:13,  1.94s/it]"
     ]
    },
    {
     "name": "stdout",
     "output_type": "stream",
     "text": [
      "Retrieving: https://www.lamudi.com.ph/metro-manila/pasig/condominium/rent/?page=39 --- Success!\n"
     ]
    },
    {
     "name": "stderr",
     "output_type": "stream",
     "text": [
      "Scraping pages:  87%|████████▋ | 39/45 [01:20<00:11,  1.89s/it]"
     ]
    },
    {
     "name": "stdout",
     "output_type": "stream",
     "text": [
      "Retrieving: https://www.lamudi.com.ph/metro-manila/pasig/condominium/rent/?page=40 --- Success!\n"
     ]
    },
    {
     "name": "stderr",
     "output_type": "stream",
     "text": [
      "Scraping pages:  89%|████████▉ | 40/45 [01:22<00:09,  1.92s/it]"
     ]
    },
    {
     "name": "stdout",
     "output_type": "stream",
     "text": [
      "Retrieving: https://www.lamudi.com.ph/metro-manila/pasig/condominium/rent/?page=41 --- Success!\n"
     ]
    },
    {
     "name": "stderr",
     "output_type": "stream",
     "text": [
      "Scraping pages:  91%|█████████ | 41/45 [01:24<00:08,  2.00s/it]"
     ]
    },
    {
     "name": "stdout",
     "output_type": "stream",
     "text": [
      "Retrieving: https://www.lamudi.com.ph/metro-manila/pasig/condominium/rent/?page=42 --- Success!\n"
     ]
    },
    {
     "name": "stderr",
     "output_type": "stream",
     "text": [
      "Scraping pages:  93%|█████████▎| 42/45 [01:26<00:05,  1.98s/it]"
     ]
    },
    {
     "name": "stdout",
     "output_type": "stream",
     "text": [
      "Retrieving: https://www.lamudi.com.ph/metro-manila/pasig/condominium/rent/?page=43 --- Success!\n"
     ]
    },
    {
     "name": "stderr",
     "output_type": "stream",
     "text": [
      "Scraping pages:  96%|█████████▌| 43/45 [01:28<00:03,  1.96s/it]"
     ]
    },
    {
     "name": "stdout",
     "output_type": "stream",
     "text": [
      "Retrieving: https://www.lamudi.com.ph/metro-manila/pasig/condominium/rent/?page=44 --- Success!\n"
     ]
    },
    {
     "name": "stderr",
     "output_type": "stream",
     "text": [
      "Scraping pages:  98%|█████████▊| 44/45 [01:30<00:01,  1.95s/it]"
     ]
    },
    {
     "name": "stdout",
     "output_type": "stream",
     "text": [
      "Retrieving: https://www.lamudi.com.ph/metro-manila/pasig/condominium/rent/?page=45 --- Success!\n"
     ]
    },
    {
     "name": "stderr",
     "output_type": "stream",
     "text": [
      "Scraping pages: 100%|██████████| 45/45 [01:33<00:00,  2.07s/it]\n",
      "Scraping pages:   0%|          | 0/7 [00:00<?, ?it/s]"
     ]
    },
    {
     "name": "stdout",
     "output_type": "stream",
     "text": [
      "Retrieving: https://www.lamudi.com.ph/metro-manila/pasig/house/rent/?page=1 --- Success!\n"
     ]
    },
    {
     "name": "stderr",
     "output_type": "stream",
     "text": [
      "Scraping pages:  14%|█▍        | 1/7 [00:02<00:12,  2.02s/it]"
     ]
    },
    {
     "name": "stdout",
     "output_type": "stream",
     "text": [
      "Retrieving: https://www.lamudi.com.ph/metro-manila/pasig/house/rent/?page=2 --- Success!\n"
     ]
    },
    {
     "name": "stderr",
     "output_type": "stream",
     "text": [
      "Scraping pages:  29%|██▊       | 2/7 [00:04<00:10,  2.01s/it]"
     ]
    },
    {
     "name": "stdout",
     "output_type": "stream",
     "text": [
      "Retrieving: https://www.lamudi.com.ph/metro-manila/pasig/house/rent/?page=3 --- Success!\n"
     ]
    },
    {
     "name": "stderr",
     "output_type": "stream",
     "text": [
      "Scraping pages:  43%|████▎     | 3/7 [00:06<00:08,  2.04s/it]"
     ]
    },
    {
     "name": "stdout",
     "output_type": "stream",
     "text": [
      "Retrieving: https://www.lamudi.com.ph/metro-manila/pasig/house/rent/?page=4 --- Success!\n"
     ]
    },
    {
     "name": "stderr",
     "output_type": "stream",
     "text": [
      "Scraping pages:  57%|█████▋    | 4/7 [00:08<00:06,  2.04s/it]"
     ]
    },
    {
     "name": "stdout",
     "output_type": "stream",
     "text": [
      "Retrieving: https://www.lamudi.com.ph/metro-manila/pasig/house/rent/?page=5 --- Success!\n"
     ]
    },
    {
     "name": "stderr",
     "output_type": "stream",
     "text": [
      "Scraping pages:  71%|███████▏  | 5/7 [00:10<00:04,  2.12s/it]"
     ]
    },
    {
     "name": "stdout",
     "output_type": "stream",
     "text": [
      "Retrieving: https://www.lamudi.com.ph/metro-manila/pasig/house/rent/?page=6 --- Success!\n"
     ]
    },
    {
     "name": "stderr",
     "output_type": "stream",
     "text": [
      "Scraping pages:  86%|████████▌ | 6/7 [00:12<00:02,  2.26s/it]"
     ]
    },
    {
     "name": "stdout",
     "output_type": "stream",
     "text": [
      "Retrieving: https://www.lamudi.com.ph/metro-manila/pasig/house/rent/?page=7 --- Success!\n"
     ]
    },
    {
     "name": "stderr",
     "output_type": "stream",
     "text": [
      "Scraping pages: 100%|██████████| 7/7 [00:16<00:00,  2.36s/it]\n",
      "Scraping pages:   0%|          | 0/2 [00:00<?, ?it/s]"
     ]
    },
    {
     "name": "stdout",
     "output_type": "stream",
     "text": [
      "Retrieving: https://www.lamudi.com.ph/metro-manila/pasig/land/rent/?page=1 --- Success!\n"
     ]
    },
    {
     "name": "stderr",
     "output_type": "stream",
     "text": [
      "Scraping pages:  50%|█████     | 1/2 [00:01<00:01,  2.00s/it]"
     ]
    },
    {
     "name": "stdout",
     "output_type": "stream",
     "text": [
      "Retrieving: https://www.lamudi.com.ph/metro-manila/pasig/land/rent/?page=2 --- Success!\n"
     ]
    },
    {
     "name": "stderr",
     "output_type": "stream",
     "text": [
      "Scraping pages: 100%|██████████| 2/2 [00:03<00:00,  1.72s/it]\n"
     ]
    }
   ],
   "source": [
    "rent_pasig_apartment = property_crawler(base_url='https://www.lamudi.com.ph/metro-manila/pasig/apartment/rent/?page=', start=1, end=3)\n",
    "rent_pasig_condo = property_crawler(base_url='https://www.lamudi.com.ph/metro-manila/pasig/condominium/rent/?page=', start=1, end=45)\n",
    "rent_pasig_house = property_crawler(base_url='https://www.lamudi.com.ph/metro-manila/pasig/house/rent/?page=', start=1, end=7)\n",
    "rent_pasig_land = property_crawler(base_url='https://www.lamudi.com.ph/metro-manila/pasig/land/rent/?page=', start=1, end=2)"
   ]
  },
  {
   "cell_type": "code",
   "execution_count": 17,
   "metadata": {},
   "outputs": [],
   "source": [
    "pasig_4sale = pd.concat([pasig_condo, pasig_house, pasig_land])\n",
    "pasig_4sale.to_csv('data/for sale/pasig_4sale.csv')\n",
    "\n",
    "pasig_4rent = pd.concat([rent_pasig_apartment, rent_pasig_condo, rent_pasig_house, rent_pasig_land])\n",
    "pasig_4rent.to_csv('data/for rent/pasig_4rent.csv')"
   ]
  },
  {
   "cell_type": "code",
   "execution_count": 18,
   "metadata": {},
   "outputs": [
    {
     "name": "stderr",
     "output_type": "stream",
     "text": [
      "Scraping pages:   0%|          | 0/51 [00:00<?, ?it/s]"
     ]
    },
    {
     "name": "stdout",
     "output_type": "stream",
     "text": [
      "Retrieving: https://www.lamudi.com.ph/metro-manila/manila/condominium/buy/?script=23&page=1 --- Success!\n"
     ]
    },
    {
     "name": "stderr",
     "output_type": "stream",
     "text": [
      "Scraping pages:   2%|▏         | 1/51 [00:01<01:33,  1.87s/it]"
     ]
    },
    {
     "name": "stdout",
     "output_type": "stream",
     "text": [
      "Retrieving: https://www.lamudi.com.ph/metro-manila/manila/condominium/buy/?script=23&page=2 --- Success!\n"
     ]
    },
    {
     "name": "stderr",
     "output_type": "stream",
     "text": [
      "Scraping pages:   4%|▍         | 2/51 [00:03<01:31,  1.87s/it]"
     ]
    },
    {
     "name": "stdout",
     "output_type": "stream",
     "text": [
      "Retrieving: https://www.lamudi.com.ph/metro-manila/manila/condominium/buy/?script=23&page=3 --- Success!\n"
     ]
    },
    {
     "name": "stderr",
     "output_type": "stream",
     "text": [
      "Scraping pages:   6%|▌         | 3/51 [00:05<01:37,  2.02s/it]"
     ]
    },
    {
     "name": "stdout",
     "output_type": "stream",
     "text": [
      "Retrieving: https://www.lamudi.com.ph/metro-manila/manila/condominium/buy/?script=23&page=4 --- Success!\n"
     ]
    },
    {
     "name": "stderr",
     "output_type": "stream",
     "text": [
      "Scraping pages:   8%|▊         | 4/51 [00:07<01:33,  1.99s/it]"
     ]
    },
    {
     "name": "stdout",
     "output_type": "stream",
     "text": [
      "Retrieving: https://www.lamudi.com.ph/metro-manila/manila/condominium/buy/?script=23&page=5 --- Success!\n"
     ]
    },
    {
     "name": "stderr",
     "output_type": "stream",
     "text": [
      "Scraping pages:  10%|▉         | 5/51 [00:10<01:37,  2.11s/it]"
     ]
    },
    {
     "name": "stdout",
     "output_type": "stream",
     "text": [
      "Retrieving: https://www.lamudi.com.ph/metro-manila/manila/condominium/buy/?script=23&page=6 --- Success!\n"
     ]
    },
    {
     "name": "stderr",
     "output_type": "stream",
     "text": [
      "Scraping pages:  12%|█▏        | 6/51 [00:12<01:35,  2.13s/it]"
     ]
    },
    {
     "name": "stdout",
     "output_type": "stream",
     "text": [
      "Retrieving: https://www.lamudi.com.ph/metro-manila/manila/condominium/buy/?script=23&page=7 --- Success!\n"
     ]
    },
    {
     "name": "stderr",
     "output_type": "stream",
     "text": [
      "Scraping pages:  14%|█▎        | 7/51 [00:14<01:31,  2.09s/it]"
     ]
    },
    {
     "name": "stdout",
     "output_type": "stream",
     "text": [
      "Retrieving: https://www.lamudi.com.ph/metro-manila/manila/condominium/buy/?script=23&page=8 --- Success!\n"
     ]
    },
    {
     "name": "stderr",
     "output_type": "stream",
     "text": [
      "Scraping pages:  16%|█▌        | 8/51 [00:16<01:26,  2.02s/it]"
     ]
    },
    {
     "name": "stdout",
     "output_type": "stream",
     "text": [
      "Retrieving: https://www.lamudi.com.ph/metro-manila/manila/condominium/buy/?script=23&page=9 --- Success!\n"
     ]
    },
    {
     "name": "stderr",
     "output_type": "stream",
     "text": [
      "Scraping pages:  18%|█▊        | 9/51 [00:18<01:21,  1.94s/it]"
     ]
    },
    {
     "name": "stdout",
     "output_type": "stream",
     "text": [
      "Retrieving: https://www.lamudi.com.ph/metro-manila/manila/condominium/buy/?script=23&page=10 --- Success!\n"
     ]
    },
    {
     "name": "stderr",
     "output_type": "stream",
     "text": [
      "Scraping pages:  20%|█▉        | 10/51 [00:19<01:17,  1.90s/it]"
     ]
    },
    {
     "name": "stdout",
     "output_type": "stream",
     "text": [
      "Retrieving: https://www.lamudi.com.ph/metro-manila/manila/condominium/buy/?script=23&page=11 --- Success!\n"
     ]
    },
    {
     "name": "stderr",
     "output_type": "stream",
     "text": [
      "Scraping pages:  22%|██▏       | 11/51 [00:21<01:17,  1.93s/it]"
     ]
    },
    {
     "name": "stdout",
     "output_type": "stream",
     "text": [
      "Retrieving: https://www.lamudi.com.ph/metro-manila/manila/condominium/buy/?script=23&page=12 --- Success!\n"
     ]
    },
    {
     "name": "stderr",
     "output_type": "stream",
     "text": [
      "Scraping pages:  24%|██▎       | 12/51 [00:23<01:16,  1.96s/it]"
     ]
    },
    {
     "name": "stdout",
     "output_type": "stream",
     "text": [
      "Retrieving: https://www.lamudi.com.ph/metro-manila/manila/condominium/buy/?script=23&page=13 --- Success!\n"
     ]
    },
    {
     "name": "stderr",
     "output_type": "stream",
     "text": [
      "Scraping pages:  25%|██▌       | 13/51 [00:25<01:14,  1.97s/it]"
     ]
    },
    {
     "name": "stdout",
     "output_type": "stream",
     "text": [
      "Retrieving: https://www.lamudi.com.ph/metro-manila/manila/condominium/buy/?script=23&page=14 --- Success!\n"
     ]
    },
    {
     "name": "stderr",
     "output_type": "stream",
     "text": [
      "Scraping pages:  27%|██▋       | 14/51 [00:27<01:11,  1.94s/it]"
     ]
    },
    {
     "name": "stdout",
     "output_type": "stream",
     "text": [
      "Retrieving: https://www.lamudi.com.ph/metro-manila/manila/condominium/buy/?script=23&page=15 --- Success!\n"
     ]
    },
    {
     "name": "stderr",
     "output_type": "stream",
     "text": [
      "Scraping pages:  29%|██▉       | 15/51 [00:29<01:11,  1.99s/it]"
     ]
    },
    {
     "name": "stdout",
     "output_type": "stream",
     "text": [
      "Retrieving: https://www.lamudi.com.ph/metro-manila/manila/condominium/buy/?script=23&page=16 --- Success!\n"
     ]
    },
    {
     "name": "stderr",
     "output_type": "stream",
     "text": [
      "Scraping pages:  31%|███▏      | 16/51 [00:31<01:09,  2.00s/it]"
     ]
    },
    {
     "name": "stdout",
     "output_type": "stream",
     "text": [
      "Retrieving: https://www.lamudi.com.ph/metro-manila/manila/condominium/buy/?script=23&page=17 --- Success!\n"
     ]
    },
    {
     "name": "stderr",
     "output_type": "stream",
     "text": [
      "Scraping pages:  33%|███▎      | 17/51 [00:34<01:09,  2.05s/it]"
     ]
    },
    {
     "name": "stdout",
     "output_type": "stream",
     "text": [
      "Retrieving: https://www.lamudi.com.ph/metro-manila/manila/condominium/buy/?script=23&page=18 --- Success!\n"
     ]
    },
    {
     "name": "stderr",
     "output_type": "stream",
     "text": [
      "Scraping pages:  35%|███▌      | 18/51 [00:35<01:06,  2.00s/it]"
     ]
    },
    {
     "name": "stdout",
     "output_type": "stream",
     "text": [
      "Retrieving: https://www.lamudi.com.ph/metro-manila/manila/condominium/buy/?script=23&page=19 --- Success!\n"
     ]
    },
    {
     "name": "stderr",
     "output_type": "stream",
     "text": [
      "Scraping pages:  37%|███▋      | 19/51 [00:37<01:01,  1.91s/it]"
     ]
    },
    {
     "name": "stdout",
     "output_type": "stream",
     "text": [
      "Retrieving: https://www.lamudi.com.ph/metro-manila/manila/condominium/buy/?script=23&page=20 --- Success!\n"
     ]
    },
    {
     "name": "stderr",
     "output_type": "stream",
     "text": [
      "Scraping pages:  39%|███▉      | 20/51 [00:39<01:02,  2.00s/it]"
     ]
    },
    {
     "name": "stdout",
     "output_type": "stream",
     "text": [
      "Retrieving: https://www.lamudi.com.ph/metro-manila/manila/condominium/buy/?script=23&page=21 --- Success!\n"
     ]
    },
    {
     "name": "stderr",
     "output_type": "stream",
     "text": [
      "Scraping pages:  41%|████      | 21/51 [00:41<01:01,  2.05s/it]"
     ]
    },
    {
     "name": "stdout",
     "output_type": "stream",
     "text": [
      "Retrieving: https://www.lamudi.com.ph/metro-manila/manila/condominium/buy/?script=23&page=22 --- Success!\n"
     ]
    },
    {
     "name": "stderr",
     "output_type": "stream",
     "text": [
      "Scraping pages:  43%|████▎     | 22/51 [00:44<00:59,  2.06s/it]"
     ]
    },
    {
     "name": "stdout",
     "output_type": "stream",
     "text": [
      "Retrieving: https://www.lamudi.com.ph/metro-manila/manila/condominium/buy/?script=23&page=23 --- Success!\n"
     ]
    },
    {
     "name": "stderr",
     "output_type": "stream",
     "text": [
      "Scraping pages:  45%|████▌     | 23/51 [00:45<00:55,  1.98s/it]"
     ]
    },
    {
     "name": "stdout",
     "output_type": "stream",
     "text": [
      "Retrieving: https://www.lamudi.com.ph/metro-manila/manila/condominium/buy/?script=23&page=24 --- Success!\n"
     ]
    },
    {
     "name": "stderr",
     "output_type": "stream",
     "text": [
      "Scraping pages:  47%|████▋     | 24/51 [00:47<00:53,  1.99s/it]"
     ]
    },
    {
     "name": "stdout",
     "output_type": "stream",
     "text": [
      "Retrieving: https://www.lamudi.com.ph/metro-manila/manila/condominium/buy/?script=23&page=25 --- Success!\n"
     ]
    },
    {
     "name": "stderr",
     "output_type": "stream",
     "text": [
      "Scraping pages:  49%|████▉     | 25/51 [00:49<00:51,  1.97s/it]"
     ]
    },
    {
     "name": "stdout",
     "output_type": "stream",
     "text": [
      "Retrieving: https://www.lamudi.com.ph/metro-manila/manila/condominium/buy/?script=23&page=26 --- Success!\n"
     ]
    },
    {
     "name": "stderr",
     "output_type": "stream",
     "text": [
      "Scraping pages:  51%|█████     | 26/51 [00:52<00:55,  2.21s/it]"
     ]
    },
    {
     "name": "stdout",
     "output_type": "stream",
     "text": [
      "Retrieving: https://www.lamudi.com.ph/metro-manila/manila/condominium/buy/?script=23&page=27 --- Success!\n"
     ]
    },
    {
     "name": "stderr",
     "output_type": "stream",
     "text": [
      "Scraping pages:  53%|█████▎    | 27/51 [00:56<01:02,  2.61s/it]"
     ]
    },
    {
     "name": "stdout",
     "output_type": "stream",
     "text": [
      "Retrieving: https://www.lamudi.com.ph/metro-manila/manila/condominium/buy/?script=23&page=28 --- Success!\n"
     ]
    },
    {
     "name": "stderr",
     "output_type": "stream",
     "text": [
      "Scraping pages:  55%|█████▍    | 28/51 [00:59<01:04,  2.80s/it]"
     ]
    },
    {
     "name": "stdout",
     "output_type": "stream",
     "text": [
      "Retrieving: https://www.lamudi.com.ph/metro-manila/manila/condominium/buy/?script=23&page=29 --- Success!\n"
     ]
    },
    {
     "name": "stderr",
     "output_type": "stream",
     "text": [
      "Scraping pages:  57%|█████▋    | 29/51 [01:01<00:58,  2.66s/it]"
     ]
    },
    {
     "name": "stdout",
     "output_type": "stream",
     "text": [
      "Retrieving: https://www.lamudi.com.ph/metro-manila/manila/condominium/buy/?script=23&page=30 --- Success!\n"
     ]
    },
    {
     "name": "stderr",
     "output_type": "stream",
     "text": [
      "Scraping pages:  59%|█████▉    | 30/51 [01:03<00:51,  2.47s/it]"
     ]
    },
    {
     "name": "stdout",
     "output_type": "stream",
     "text": [
      "Retrieving: https://www.lamudi.com.ph/metro-manila/manila/condominium/buy/?script=23&page=31 --- Success!\n"
     ]
    },
    {
     "name": "stderr",
     "output_type": "stream",
     "text": [
      "Scraping pages:  61%|██████    | 31/51 [01:05<00:45,  2.30s/it]"
     ]
    },
    {
     "name": "stdout",
     "output_type": "stream",
     "text": [
      "Retrieving: https://www.lamudi.com.ph/metro-manila/manila/condominium/buy/?script=23&page=32 --- Success!\n"
     ]
    },
    {
     "name": "stderr",
     "output_type": "stream",
     "text": [
      "Scraping pages:  63%|██████▎   | 32/51 [01:07<00:44,  2.32s/it]"
     ]
    },
    {
     "name": "stdout",
     "output_type": "stream",
     "text": [
      "Retrieving: https://www.lamudi.com.ph/metro-manila/manila/condominium/buy/?script=23&page=33 --- Success!\n"
     ]
    },
    {
     "name": "stderr",
     "output_type": "stream",
     "text": [
      "Scraping pages:  65%|██████▍   | 33/51 [01:10<00:40,  2.23s/it]"
     ]
    },
    {
     "name": "stdout",
     "output_type": "stream",
     "text": [
      "Retrieving: https://www.lamudi.com.ph/metro-manila/manila/condominium/buy/?script=23&page=34 --- Success!\n"
     ]
    },
    {
     "name": "stderr",
     "output_type": "stream",
     "text": [
      "Scraping pages:  67%|██████▋   | 34/51 [01:11<00:36,  2.15s/it]"
     ]
    },
    {
     "name": "stdout",
     "output_type": "stream",
     "text": [
      "Retrieving: https://www.lamudi.com.ph/metro-manila/manila/condominium/buy/?script=23&page=35 --- Success!\n"
     ]
    },
    {
     "name": "stderr",
     "output_type": "stream",
     "text": [
      "Scraping pages:  69%|██████▊   | 35/51 [01:13<00:32,  2.05s/it]"
     ]
    },
    {
     "name": "stdout",
     "output_type": "stream",
     "text": [
      "Retrieving: https://www.lamudi.com.ph/metro-manila/manila/condominium/buy/?script=23&page=36 --- Success!\n"
     ]
    },
    {
     "name": "stderr",
     "output_type": "stream",
     "text": [
      "Scraping pages:  71%|███████   | 36/51 [01:16<00:32,  2.17s/it]"
     ]
    },
    {
     "name": "stdout",
     "output_type": "stream",
     "text": [
      "Retrieving: https://www.lamudi.com.ph/metro-manila/manila/condominium/buy/?script=23&page=37 --- Success!\n"
     ]
    },
    {
     "name": "stderr",
     "output_type": "stream",
     "text": [
      "Scraping pages:  73%|███████▎  | 37/51 [01:18<00:29,  2.11s/it]"
     ]
    },
    {
     "name": "stdout",
     "output_type": "stream",
     "text": [
      "Retrieving: https://www.lamudi.com.ph/metro-manila/manila/condominium/buy/?script=23&page=38 --- Success!\n"
     ]
    },
    {
     "name": "stderr",
     "output_type": "stream",
     "text": [
      "Scraping pages:  75%|███████▍  | 38/51 [01:20<00:27,  2.09s/it]"
     ]
    },
    {
     "name": "stdout",
     "output_type": "stream",
     "text": [
      "Retrieving: https://www.lamudi.com.ph/metro-manila/manila/condominium/buy/?script=23&page=39 --- Success!\n"
     ]
    },
    {
     "name": "stderr",
     "output_type": "stream",
     "text": [
      "Scraping pages:  76%|███████▋  | 39/51 [01:22<00:25,  2.09s/it]"
     ]
    },
    {
     "name": "stdout",
     "output_type": "stream",
     "text": [
      "Retrieving: https://www.lamudi.com.ph/metro-manila/manila/condominium/buy/?script=23&page=40 --- Success!\n"
     ]
    },
    {
     "name": "stderr",
     "output_type": "stream",
     "text": [
      "Scraping pages:  78%|███████▊  | 40/51 [01:24<00:23,  2.12s/it]"
     ]
    },
    {
     "name": "stdout",
     "output_type": "stream",
     "text": [
      "Retrieving: https://www.lamudi.com.ph/metro-manila/manila/condominium/buy/?script=23&page=41 --- Success!\n"
     ]
    },
    {
     "name": "stderr",
     "output_type": "stream",
     "text": [
      "Scraping pages:  80%|████████  | 41/51 [01:26<00:20,  2.07s/it]"
     ]
    },
    {
     "name": "stdout",
     "output_type": "stream",
     "text": [
      "Retrieving: https://www.lamudi.com.ph/metro-manila/manila/condominium/buy/?script=23&page=42 --- Success!\n"
     ]
    },
    {
     "name": "stderr",
     "output_type": "stream",
     "text": [
      "Scraping pages:  82%|████████▏ | 42/51 [01:28<00:18,  2.07s/it]"
     ]
    },
    {
     "name": "stdout",
     "output_type": "stream",
     "text": [
      "Retrieving: https://www.lamudi.com.ph/metro-manila/manila/condominium/buy/?script=23&page=43 --- Success!\n"
     ]
    },
    {
     "name": "stderr",
     "output_type": "stream",
     "text": [
      "Scraping pages:  84%|████████▍ | 43/51 [01:30<00:16,  2.12s/it]"
     ]
    },
    {
     "name": "stdout",
     "output_type": "stream",
     "text": [
      "Retrieving: https://www.lamudi.com.ph/metro-manila/manila/condominium/buy/?script=23&page=44 --- Success!\n"
     ]
    },
    {
     "name": "stderr",
     "output_type": "stream",
     "text": [
      "Scraping pages:  86%|████████▋ | 44/51 [01:32<00:14,  2.09s/it]"
     ]
    },
    {
     "name": "stdout",
     "output_type": "stream",
     "text": [
      "Retrieving: https://www.lamudi.com.ph/metro-manila/manila/condominium/buy/?script=23&page=45 --- Success!\n"
     ]
    },
    {
     "name": "stderr",
     "output_type": "stream",
     "text": [
      "Scraping pages:  88%|████████▊ | 45/51 [01:35<00:12,  2.16s/it]"
     ]
    },
    {
     "name": "stdout",
     "output_type": "stream",
     "text": [
      "Retrieving: https://www.lamudi.com.ph/metro-manila/manila/condominium/buy/?script=23&page=46 --- Success!\n"
     ]
    },
    {
     "name": "stderr",
     "output_type": "stream",
     "text": [
      "Scraping pages:  90%|█████████ | 46/51 [01:37<00:10,  2.08s/it]"
     ]
    },
    {
     "name": "stdout",
     "output_type": "stream",
     "text": [
      "Retrieving: https://www.lamudi.com.ph/metro-manila/manila/condominium/buy/?script=23&page=47 --- Success!\n"
     ]
    },
    {
     "name": "stderr",
     "output_type": "stream",
     "text": [
      "Scraping pages:  92%|█████████▏| 47/51 [01:39<00:08,  2.14s/it]"
     ]
    },
    {
     "name": "stdout",
     "output_type": "stream",
     "text": [
      "Retrieving: https://www.lamudi.com.ph/metro-manila/manila/condominium/buy/?script=23&page=48 --- Success!\n"
     ]
    },
    {
     "name": "stderr",
     "output_type": "stream",
     "text": [
      "Scraping pages:  94%|█████████▍| 48/51 [01:41<00:06,  2.11s/it]"
     ]
    },
    {
     "name": "stdout",
     "output_type": "stream",
     "text": [
      "Retrieving: https://www.lamudi.com.ph/metro-manila/manila/condominium/buy/?script=23&page=49 --- Success!\n"
     ]
    },
    {
     "name": "stderr",
     "output_type": "stream",
     "text": [
      "Scraping pages:  96%|█████████▌| 49/51 [01:43<00:04,  2.06s/it]"
     ]
    },
    {
     "name": "stdout",
     "output_type": "stream",
     "text": [
      "Retrieving: https://www.lamudi.com.ph/metro-manila/manila/condominium/buy/?script=23&page=50 --- Success!\n"
     ]
    },
    {
     "name": "stderr",
     "output_type": "stream",
     "text": [
      "Scraping pages:  98%|█████████▊| 50/51 [01:45<00:02,  2.12s/it]"
     ]
    },
    {
     "name": "stdout",
     "output_type": "stream",
     "text": [
      "Retrieving: https://www.lamudi.com.ph/metro-manila/manila/condominium/buy/?script=23&page=51 --- Success!\n"
     ]
    },
    {
     "name": "stderr",
     "output_type": "stream",
     "text": [
      "Scraping pages: 100%|██████████| 51/51 [01:47<00:00,  2.11s/it]\n",
      "Scraping pages:   0%|          | 0/24 [00:00<?, ?it/s]"
     ]
    },
    {
     "name": "stdout",
     "output_type": "stream",
     "text": [
      "Retrieving: https://www.lamudi.com.ph/metro-manila/manila/house/buy/?script=23&page=1 --- Success!\n"
     ]
    },
    {
     "name": "stderr",
     "output_type": "stream",
     "text": [
      "Scraping pages:   4%|▍         | 1/24 [00:02<00:56,  2.47s/it]"
     ]
    },
    {
     "name": "stdout",
     "output_type": "stream",
     "text": [
      "Retrieving: https://www.lamudi.com.ph/metro-manila/manila/house/buy/?script=23&page=2 --- Success!\n"
     ]
    },
    {
     "name": "stderr",
     "output_type": "stream",
     "text": [
      "Scraping pages:   8%|▊         | 2/24 [00:07<01:32,  4.20s/it]"
     ]
    },
    {
     "name": "stdout",
     "output_type": "stream",
     "text": [
      "Retrieving: https://www.lamudi.com.ph/metro-manila/manila/house/buy/?script=23&page=3 --- Success!\n"
     ]
    },
    {
     "name": "stderr",
     "output_type": "stream",
     "text": [
      "Scraping pages:  12%|█▎        | 3/24 [00:10<01:10,  3.38s/it]"
     ]
    },
    {
     "name": "stdout",
     "output_type": "stream",
     "text": [
      "Retrieving: https://www.lamudi.com.ph/metro-manila/manila/house/buy/?script=23&page=4 --- Success!\n"
     ]
    },
    {
     "name": "stderr",
     "output_type": "stream",
     "text": [
      "Scraping pages:  17%|█▋        | 4/24 [00:12<00:54,  2.73s/it]"
     ]
    },
    {
     "name": "stdout",
     "output_type": "stream",
     "text": [
      "Retrieving: https://www.lamudi.com.ph/metro-manila/manila/house/buy/?script=23&page=5 --- Success!\n"
     ]
    },
    {
     "name": "stderr",
     "output_type": "stream",
     "text": [
      "Scraping pages:  21%|██        | 5/24 [00:14<00:49,  2.60s/it]"
     ]
    },
    {
     "name": "stdout",
     "output_type": "stream",
     "text": [
      "Retrieving: https://www.lamudi.com.ph/metro-manila/manila/house/buy/?script=23&page=6 --- Success!\n"
     ]
    },
    {
     "name": "stderr",
     "output_type": "stream",
     "text": [
      "Scraping pages:  25%|██▌       | 6/24 [00:16<00:42,  2.38s/it]"
     ]
    },
    {
     "name": "stdout",
     "output_type": "stream",
     "text": [
      "Retrieving: https://www.lamudi.com.ph/metro-manila/manila/house/buy/?script=23&page=7 --- Success!\n"
     ]
    },
    {
     "name": "stderr",
     "output_type": "stream",
     "text": [
      "Scraping pages:  29%|██▉       | 7/24 [00:18<00:41,  2.41s/it]"
     ]
    },
    {
     "name": "stdout",
     "output_type": "stream",
     "text": [
      "Retrieving: https://www.lamudi.com.ph/metro-manila/manila/house/buy/?script=23&page=8 --- Success!\n"
     ]
    },
    {
     "name": "stderr",
     "output_type": "stream",
     "text": [
      "Scraping pages:  33%|███▎      | 8/24 [00:21<00:37,  2.36s/it]"
     ]
    },
    {
     "name": "stdout",
     "output_type": "stream",
     "text": [
      "Retrieving: https://www.lamudi.com.ph/metro-manila/manila/house/buy/?script=23&page=9 --- Success!\n"
     ]
    },
    {
     "name": "stderr",
     "output_type": "stream",
     "text": [
      "Scraping pages:  38%|███▊      | 9/24 [00:23<00:34,  2.28s/it]"
     ]
    },
    {
     "name": "stdout",
     "output_type": "stream",
     "text": [
      "Retrieving: https://www.lamudi.com.ph/metro-manila/manila/house/buy/?script=23&page=10 --- Success!\n"
     ]
    },
    {
     "name": "stderr",
     "output_type": "stream",
     "text": [
      "Scraping pages:  42%|████▏     | 10/24 [00:25<00:33,  2.36s/it]"
     ]
    },
    {
     "name": "stdout",
     "output_type": "stream",
     "text": [
      "Retrieving: https://www.lamudi.com.ph/metro-manila/manila/house/buy/?script=23&page=11 --- Success!\n"
     ]
    },
    {
     "name": "stderr",
     "output_type": "stream",
     "text": [
      "Scraping pages:  46%|████▌     | 11/24 [00:27<00:29,  2.26s/it]"
     ]
    },
    {
     "name": "stdout",
     "output_type": "stream",
     "text": [
      "Retrieving: https://www.lamudi.com.ph/metro-manila/manila/house/buy/?script=23&page=12 --- Success!\n"
     ]
    },
    {
     "name": "stderr",
     "output_type": "stream",
     "text": [
      "Scraping pages:  50%|█████     | 12/24 [00:29<00:26,  2.20s/it]"
     ]
    },
    {
     "name": "stdout",
     "output_type": "stream",
     "text": [
      "Retrieving: https://www.lamudi.com.ph/metro-manila/manila/house/buy/?script=23&page=13 --- Success!\n"
     ]
    },
    {
     "name": "stderr",
     "output_type": "stream",
     "text": [
      "Scraping pages:  54%|█████▍    | 13/24 [00:31<00:23,  2.16s/it]"
     ]
    },
    {
     "name": "stdout",
     "output_type": "stream",
     "text": [
      "Retrieving: https://www.lamudi.com.ph/metro-manila/manila/house/buy/?script=23&page=14 --- Success!\n"
     ]
    },
    {
     "name": "stderr",
     "output_type": "stream",
     "text": [
      "Scraping pages:  58%|█████▊    | 14/24 [00:33<00:21,  2.14s/it]"
     ]
    },
    {
     "name": "stdout",
     "output_type": "stream",
     "text": [
      "Retrieving: https://www.lamudi.com.ph/metro-manila/manila/house/buy/?script=23&page=15 --- Success!\n"
     ]
    },
    {
     "name": "stderr",
     "output_type": "stream",
     "text": [
      "Scraping pages:  62%|██████▎   | 15/24 [00:36<00:19,  2.20s/it]"
     ]
    },
    {
     "name": "stdout",
     "output_type": "stream",
     "text": [
      "Retrieving: https://www.lamudi.com.ph/metro-manila/manila/house/buy/?script=23&page=16 --- Success!\n"
     ]
    },
    {
     "name": "stderr",
     "output_type": "stream",
     "text": [
      "Scraping pages:  67%|██████▋   | 16/24 [00:38<00:17,  2.15s/it]"
     ]
    },
    {
     "name": "stdout",
     "output_type": "stream",
     "text": [
      "Retrieving: https://www.lamudi.com.ph/metro-manila/manila/house/buy/?script=23&page=17 --- Success!\n"
     ]
    },
    {
     "name": "stderr",
     "output_type": "stream",
     "text": [
      "Scraping pages:  71%|███████   | 17/24 [00:40<00:14,  2.14s/it]"
     ]
    },
    {
     "name": "stdout",
     "output_type": "stream",
     "text": [
      "Retrieving: https://www.lamudi.com.ph/metro-manila/manila/house/buy/?script=23&page=18 --- Success!\n"
     ]
    },
    {
     "name": "stderr",
     "output_type": "stream",
     "text": [
      "Scraping pages:  75%|███████▌  | 18/24 [00:42<00:13,  2.20s/it]"
     ]
    },
    {
     "name": "stdout",
     "output_type": "stream",
     "text": [
      "Retrieving: https://www.lamudi.com.ph/metro-manila/manila/house/buy/?script=23&page=19 --- Success!\n"
     ]
    },
    {
     "name": "stderr",
     "output_type": "stream",
     "text": [
      "Scraping pages:  79%|███████▉  | 19/24 [00:45<00:11,  2.25s/it]"
     ]
    },
    {
     "name": "stdout",
     "output_type": "stream",
     "text": [
      "Retrieving: https://www.lamudi.com.ph/metro-manila/manila/house/buy/?script=23&page=20 --- Success!\n"
     ]
    },
    {
     "name": "stderr",
     "output_type": "stream",
     "text": [
      "Scraping pages:  83%|████████▎ | 20/24 [00:47<00:09,  2.31s/it]"
     ]
    },
    {
     "name": "stdout",
     "output_type": "stream",
     "text": [
      "Retrieving: https://www.lamudi.com.ph/metro-manila/manila/house/buy/?script=23&page=21 --- Success!\n"
     ]
    },
    {
     "name": "stderr",
     "output_type": "stream",
     "text": [
      "Scraping pages:  88%|████████▊ | 21/24 [00:49<00:06,  2.32s/it]"
     ]
    },
    {
     "name": "stdout",
     "output_type": "stream",
     "text": [
      "Retrieving: https://www.lamudi.com.ph/metro-manila/manila/house/buy/?script=23&page=22 --- Success!\n"
     ]
    },
    {
     "name": "stderr",
     "output_type": "stream",
     "text": [
      "Scraping pages:  92%|█████████▏| 22/24 [00:52<00:04,  2.33s/it]"
     ]
    },
    {
     "name": "stdout",
     "output_type": "stream",
     "text": [
      "Retrieving: https://www.lamudi.com.ph/metro-manila/manila/house/buy/?script=23&page=23 --- Success!\n"
     ]
    },
    {
     "name": "stderr",
     "output_type": "stream",
     "text": [
      "Scraping pages:  96%|█████████▌| 23/24 [00:54<00:02,  2.25s/it]"
     ]
    },
    {
     "name": "stdout",
     "output_type": "stream",
     "text": [
      "Retrieving: https://www.lamudi.com.ph/metro-manila/manila/house/buy/?script=23&page=24 --- Success!\n"
     ]
    },
    {
     "name": "stderr",
     "output_type": "stream",
     "text": [
      "Scraping pages: 100%|██████████| 24/24 [00:56<00:00,  2.35s/it]\n",
      "Scraping pages:   0%|          | 0/8 [00:00<?, ?it/s]"
     ]
    },
    {
     "name": "stdout",
     "output_type": "stream",
     "text": [
      "Retrieving: https://www.lamudi.com.ph/metro-manila/manila/land/buy/?script=23&page=1 --- Success!\n"
     ]
    },
    {
     "name": "stderr",
     "output_type": "stream",
     "text": [
      "Scraping pages:  12%|█▎        | 1/8 [00:02<00:15,  2.25s/it]"
     ]
    },
    {
     "name": "stdout",
     "output_type": "stream",
     "text": [
      "Retrieving: https://www.lamudi.com.ph/metro-manila/manila/land/buy/?script=23&page=2 --- Success!\n"
     ]
    },
    {
     "name": "stderr",
     "output_type": "stream",
     "text": [
      "Scraping pages:  25%|██▌       | 2/8 [00:04<00:13,  2.27s/it]"
     ]
    },
    {
     "name": "stdout",
     "output_type": "stream",
     "text": [
      "Retrieving: https://www.lamudi.com.ph/metro-manila/manila/land/buy/?script=23&page=3 --- Success!\n"
     ]
    },
    {
     "name": "stderr",
     "output_type": "stream",
     "text": [
      "Scraping pages:  38%|███▊      | 3/8 [00:07<00:12,  2.58s/it]"
     ]
    },
    {
     "name": "stdout",
     "output_type": "stream",
     "text": [
      "Retrieving: https://www.lamudi.com.ph/metro-manila/manila/land/buy/?script=23&page=4 --- Success!\n"
     ]
    },
    {
     "name": "stderr",
     "output_type": "stream",
     "text": [
      "Scraping pages:  50%|█████     | 4/8 [00:11<00:12,  3.07s/it]"
     ]
    },
    {
     "name": "stdout",
     "output_type": "stream",
     "text": [
      "Retrieving: https://www.lamudi.com.ph/metro-manila/manila/land/buy/?script=23&page=5 --- Success!\n"
     ]
    },
    {
     "name": "stderr",
     "output_type": "stream",
     "text": [
      "Scraping pages:  62%|██████▎   | 5/8 [00:13<00:08,  2.93s/it]"
     ]
    },
    {
     "name": "stdout",
     "output_type": "stream",
     "text": [
      "Retrieving: https://www.lamudi.com.ph/metro-manila/manila/land/buy/?script=23&page=6 --- Success!\n"
     ]
    },
    {
     "name": "stderr",
     "output_type": "stream",
     "text": [
      "Scraping pages:  75%|███████▌  | 6/8 [00:16<00:05,  2.71s/it]"
     ]
    },
    {
     "name": "stdout",
     "output_type": "stream",
     "text": [
      "Retrieving: https://www.lamudi.com.ph/metro-manila/manila/land/buy/?script=23&page=7 --- Success!\n"
     ]
    },
    {
     "name": "stderr",
     "output_type": "stream",
     "text": [
      "Scraping pages:  88%|████████▊ | 7/8 [00:19<00:02,  2.80s/it]"
     ]
    },
    {
     "name": "stdout",
     "output_type": "stream",
     "text": [
      "Retrieving: https://www.lamudi.com.ph/metro-manila/manila/land/buy/?script=23&page=8 --- Success!\n"
     ]
    },
    {
     "name": "stderr",
     "output_type": "stream",
     "text": [
      "Scraping pages: 100%|██████████| 8/8 [00:22<00:00,  2.80s/it]\n"
     ]
    }
   ],
   "source": [
    "manila_condo = property_crawler(base_url='https://www.lamudi.com.ph/metro-manila/manila/condominium/buy/?script=23&page=', start=1, end=51)\n",
    "manila_house = property_crawler(base_url='https://www.lamudi.com.ph/metro-manila/manila/house/buy/?script=23&page=', start=1, end=24)\n",
    "manila_land = property_crawler(base_url='https://www.lamudi.com.ph/metro-manila/manila/land/buy/?script=23&page=', start=1, end=8)"
   ]
  },
  {
   "cell_type": "code",
   "execution_count": 19,
   "metadata": {},
   "outputs": [
    {
     "name": "stderr",
     "output_type": "stream",
     "text": [
      "Scraping pages:   0%|          | 0/4 [00:00<?, ?it/s]"
     ]
    },
    {
     "name": "stdout",
     "output_type": "stream",
     "text": [
      "Retrieving: https://www.lamudi.com.ph/metro-manila/manila/apartment/rent/?page=1 --- Success!\n"
     ]
    },
    {
     "name": "stderr",
     "output_type": "stream",
     "text": [
      "Scraping pages:  25%|██▌       | 1/4 [00:02<00:07,  2.41s/it]"
     ]
    },
    {
     "name": "stdout",
     "output_type": "stream",
     "text": [
      "Retrieving: https://www.lamudi.com.ph/metro-manila/manila/apartment/rent/?page=2 --- Success!\n"
     ]
    },
    {
     "name": "stderr",
     "output_type": "stream",
     "text": [
      "Scraping pages:  50%|█████     | 2/4 [00:04<00:04,  2.17s/it]"
     ]
    },
    {
     "name": "stdout",
     "output_type": "stream",
     "text": [
      "Retrieving: https://www.lamudi.com.ph/metro-manila/manila/apartment/rent/?page=3 --- Success!\n"
     ]
    },
    {
     "name": "stderr",
     "output_type": "stream",
     "text": [
      "Scraping pages:  75%|███████▌  | 3/4 [00:06<00:02,  2.07s/it]"
     ]
    },
    {
     "name": "stdout",
     "output_type": "stream",
     "text": [
      "Retrieving: https://www.lamudi.com.ph/metro-manila/manila/apartment/rent/?page=4 --- Success!\n"
     ]
    },
    {
     "name": "stderr",
     "output_type": "stream",
     "text": [
      "Scraping pages: 100%|██████████| 4/4 [00:09<00:00,  2.25s/it]\n",
      "Scraping pages:   0%|          | 0/29 [00:00<?, ?it/s]"
     ]
    },
    {
     "name": "stdout",
     "output_type": "stream",
     "text": [
      "Retrieving: https://www.lamudi.com.ph/metro-manila/manila/condominium/rent/?page=1 --- Success!\n"
     ]
    },
    {
     "name": "stderr",
     "output_type": "stream",
     "text": [
      "Scraping pages:   3%|▎         | 1/29 [00:02<01:06,  2.38s/it]"
     ]
    },
    {
     "name": "stdout",
     "output_type": "stream",
     "text": [
      "Retrieving: https://www.lamudi.com.ph/metro-manila/manila/condominium/rent/?page=2 --- Success!\n"
     ]
    },
    {
     "name": "stderr",
     "output_type": "stream",
     "text": [
      "Scraping pages:   7%|▋         | 2/29 [00:04<00:55,  2.06s/it]"
     ]
    },
    {
     "name": "stdout",
     "output_type": "stream",
     "text": [
      "Retrieving: https://www.lamudi.com.ph/metro-manila/manila/condominium/rent/?page=3 --- Success!\n"
     ]
    },
    {
     "name": "stderr",
     "output_type": "stream",
     "text": [
      "Scraping pages:  10%|█         | 3/29 [00:06<00:55,  2.13s/it]"
     ]
    },
    {
     "name": "stdout",
     "output_type": "stream",
     "text": [
      "Retrieving: https://www.lamudi.com.ph/metro-manila/manila/condominium/rent/?page=4 --- Success!\n"
     ]
    },
    {
     "name": "stderr",
     "output_type": "stream",
     "text": [
      "Scraping pages:  14%|█▍        | 4/29 [00:08<00:54,  2.16s/it]"
     ]
    },
    {
     "name": "stdout",
     "output_type": "stream",
     "text": [
      "Retrieving: https://www.lamudi.com.ph/metro-manila/manila/condominium/rent/?page=5 --- Success!\n"
     ]
    },
    {
     "name": "stderr",
     "output_type": "stream",
     "text": [
      "Scraping pages:  17%|█▋        | 5/29 [00:10<00:51,  2.14s/it]"
     ]
    },
    {
     "name": "stdout",
     "output_type": "stream",
     "text": [
      "Retrieving: https://www.lamudi.com.ph/metro-manila/manila/condominium/rent/?page=6 --- Success!\n"
     ]
    },
    {
     "name": "stderr",
     "output_type": "stream",
     "text": [
      "Scraping pages:  21%|██        | 6/29 [00:12<00:49,  2.17s/it]"
     ]
    },
    {
     "name": "stdout",
     "output_type": "stream",
     "text": [
      "Retrieving: https://www.lamudi.com.ph/metro-manila/manila/condominium/rent/?page=7 --- Success!\n"
     ]
    },
    {
     "name": "stderr",
     "output_type": "stream",
     "text": [
      "Scraping pages:  24%|██▍       | 7/29 [00:15<00:50,  2.31s/it]"
     ]
    },
    {
     "name": "stdout",
     "output_type": "stream",
     "text": [
      "Retrieving: https://www.lamudi.com.ph/metro-manila/manila/condominium/rent/?page=8 --- Success!\n"
     ]
    },
    {
     "name": "stderr",
     "output_type": "stream",
     "text": [
      "Scraping pages:  28%|██▊       | 8/29 [00:18<00:50,  2.42s/it]"
     ]
    },
    {
     "name": "stdout",
     "output_type": "stream",
     "text": [
      "Retrieving: https://www.lamudi.com.ph/metro-manila/manila/condominium/rent/?page=9 --- Success!\n"
     ]
    },
    {
     "name": "stderr",
     "output_type": "stream",
     "text": [
      "Scraping pages:  31%|███       | 9/29 [00:20<00:47,  2.36s/it]"
     ]
    },
    {
     "name": "stdout",
     "output_type": "stream",
     "text": [
      "Retrieving: https://www.lamudi.com.ph/metro-manila/manila/condominium/rent/?page=10 --- Success!\n"
     ]
    },
    {
     "name": "stderr",
     "output_type": "stream",
     "text": [
      "Scraping pages:  34%|███▍      | 10/29 [00:22<00:43,  2.27s/it]"
     ]
    },
    {
     "name": "stdout",
     "output_type": "stream",
     "text": [
      "Retrieving: https://www.lamudi.com.ph/metro-manila/manila/condominium/rent/?page=11 --- Success!\n"
     ]
    },
    {
     "name": "stderr",
     "output_type": "stream",
     "text": [
      "Scraping pages:  38%|███▊      | 11/29 [00:24<00:40,  2.23s/it]"
     ]
    },
    {
     "name": "stdout",
     "output_type": "stream",
     "text": [
      "Retrieving: https://www.lamudi.com.ph/metro-manila/manila/condominium/rent/?page=12 --- Success!\n"
     ]
    },
    {
     "name": "stderr",
     "output_type": "stream",
     "text": [
      "Scraping pages:  41%|████▏     | 12/29 [00:27<00:38,  2.27s/it]"
     ]
    },
    {
     "name": "stdout",
     "output_type": "stream",
     "text": [
      "Retrieving: https://www.lamudi.com.ph/metro-manila/manila/condominium/rent/?page=13 --- Success!\n"
     ]
    },
    {
     "name": "stderr",
     "output_type": "stream",
     "text": [
      "Scraping pages:  45%|████▍     | 13/29 [00:29<00:39,  2.45s/it]"
     ]
    },
    {
     "name": "stdout",
     "output_type": "stream",
     "text": [
      "Retrieving: https://www.lamudi.com.ph/metro-manila/manila/condominium/rent/?page=14 --- Success!\n"
     ]
    },
    {
     "name": "stderr",
     "output_type": "stream",
     "text": [
      "Scraping pages:  48%|████▊     | 14/29 [00:32<00:35,  2.35s/it]"
     ]
    },
    {
     "name": "stdout",
     "output_type": "stream",
     "text": [
      "Retrieving: https://www.lamudi.com.ph/metro-manila/manila/condominium/rent/?page=15 --- Success!\n"
     ]
    },
    {
     "name": "stderr",
     "output_type": "stream",
     "text": [
      "Scraping pages:  52%|█████▏    | 15/29 [00:34<00:32,  2.32s/it]"
     ]
    },
    {
     "name": "stdout",
     "output_type": "stream",
     "text": [
      "Retrieving: https://www.lamudi.com.ph/metro-manila/manila/condominium/rent/?page=16 --- Success!\n"
     ]
    },
    {
     "name": "stderr",
     "output_type": "stream",
     "text": [
      "Scraping pages:  55%|█████▌    | 16/29 [00:38<00:39,  3.03s/it]"
     ]
    },
    {
     "name": "stdout",
     "output_type": "stream",
     "text": [
      "Retrieving: https://www.lamudi.com.ph/metro-manila/manila/condominium/rent/?page=17 --- Success!\n"
     ]
    },
    {
     "name": "stderr",
     "output_type": "stream",
     "text": [
      "Scraping pages:  59%|█████▊    | 17/29 [00:41<00:34,  2.89s/it]"
     ]
    },
    {
     "name": "stdout",
     "output_type": "stream",
     "text": [
      "Retrieving: https://www.lamudi.com.ph/metro-manila/manila/condominium/rent/?page=18 --- Success!\n"
     ]
    },
    {
     "name": "stderr",
     "output_type": "stream",
     "text": [
      "Scraping pages:  62%|██████▏   | 18/29 [00:43<00:30,  2.74s/it]"
     ]
    },
    {
     "name": "stdout",
     "output_type": "stream",
     "text": [
      "Retrieving: https://www.lamudi.com.ph/metro-manila/manila/condominium/rent/?page=19 --- Success!\n"
     ]
    },
    {
     "name": "stderr",
     "output_type": "stream",
     "text": [
      "Scraping pages:  66%|██████▌   | 19/29 [00:45<00:25,  2.53s/it]"
     ]
    },
    {
     "name": "stdout",
     "output_type": "stream",
     "text": [
      "Retrieving: https://www.lamudi.com.ph/metro-manila/manila/condominium/rent/?page=20 --- Success!\n"
     ]
    },
    {
     "name": "stderr",
     "output_type": "stream",
     "text": [
      "Scraping pages:  69%|██████▉   | 20/29 [00:48<00:22,  2.48s/it]"
     ]
    },
    {
     "name": "stdout",
     "output_type": "stream",
     "text": [
      "Retrieving: https://www.lamudi.com.ph/metro-manila/manila/condominium/rent/?page=21 --- Success!\n"
     ]
    },
    {
     "name": "stderr",
     "output_type": "stream",
     "text": [
      "Scraping pages:  72%|███████▏  | 21/29 [00:50<00:18,  2.32s/it]"
     ]
    },
    {
     "name": "stdout",
     "output_type": "stream",
     "text": [
      "Retrieving: https://www.lamudi.com.ph/metro-manila/manila/condominium/rent/?page=22 --- Success!\n"
     ]
    },
    {
     "name": "stderr",
     "output_type": "stream",
     "text": [
      "Scraping pages:  76%|███████▌  | 22/29 [00:52<00:15,  2.24s/it]"
     ]
    },
    {
     "name": "stdout",
     "output_type": "stream",
     "text": [
      "Retrieving: https://www.lamudi.com.ph/metro-manila/manila/condominium/rent/?page=23 --- Success!\n"
     ]
    },
    {
     "name": "stderr",
     "output_type": "stream",
     "text": [
      "Scraping pages:  79%|███████▉  | 23/29 [00:54<00:13,  2.28s/it]"
     ]
    },
    {
     "name": "stdout",
     "output_type": "stream",
     "text": [
      "Retrieving: https://www.lamudi.com.ph/metro-manila/manila/condominium/rent/?page=24 --- Success!\n"
     ]
    },
    {
     "name": "stderr",
     "output_type": "stream",
     "text": [
      "Scraping pages:  83%|████████▎ | 24/29 [00:56<00:10,  2.17s/it]"
     ]
    },
    {
     "name": "stdout",
     "output_type": "stream",
     "text": [
      "Retrieving: https://www.lamudi.com.ph/metro-manila/manila/condominium/rent/?page=25 --- Success!\n"
     ]
    },
    {
     "name": "stderr",
     "output_type": "stream",
     "text": [
      "Scraping pages:  86%|████████▌ | 25/29 [00:58<00:08,  2.16s/it]"
     ]
    },
    {
     "name": "stdout",
     "output_type": "stream",
     "text": [
      "Retrieving: https://www.lamudi.com.ph/metro-manila/manila/condominium/rent/?page=26 --- Success!\n"
     ]
    },
    {
     "name": "stderr",
     "output_type": "stream",
     "text": [
      "Scraping pages:  90%|████████▉ | 26/29 [01:00<00:06,  2.19s/it]"
     ]
    },
    {
     "name": "stdout",
     "output_type": "stream",
     "text": [
      "Retrieving: https://www.lamudi.com.ph/metro-manila/manila/condominium/rent/?page=27 --- Success!\n"
     ]
    },
    {
     "name": "stderr",
     "output_type": "stream",
     "text": [
      "Scraping pages:  93%|█████████▎| 27/29 [01:03<00:04,  2.34s/it]"
     ]
    },
    {
     "name": "stdout",
     "output_type": "stream",
     "text": [
      "Retrieving: https://www.lamudi.com.ph/metro-manila/manila/condominium/rent/?page=28 --- Success!\n"
     ]
    },
    {
     "name": "stderr",
     "output_type": "stream",
     "text": [
      "Scraping pages:  97%|█████████▋| 28/29 [01:05<00:02,  2.25s/it]"
     ]
    },
    {
     "name": "stdout",
     "output_type": "stream",
     "text": [
      "Retrieving: https://www.lamudi.com.ph/metro-manila/manila/condominium/rent/?page=29 --- Success!\n"
     ]
    },
    {
     "name": "stderr",
     "output_type": "stream",
     "text": [
      "Scraping pages: 100%|██████████| 29/29 [01:07<00:00,  2.34s/it]\n",
      "Scraping pages:   0%|          | 0/1 [00:00<?, ?it/s]"
     ]
    },
    {
     "name": "stdout",
     "output_type": "stream",
     "text": [
      "Retrieving: https://www.lamudi.com.ph/metro-manila/manila/house/rent/?page=1 --- Success!\n"
     ]
    },
    {
     "name": "stderr",
     "output_type": "stream",
     "text": [
      "Scraping pages: 100%|██████████| 1/1 [00:02<00:00,  2.37s/it]\n",
      "Scraping pages:   0%|          | 0/1 [00:00<?, ?it/s]"
     ]
    },
    {
     "name": "stdout",
     "output_type": "stream",
     "text": [
      "Retrieving: https://www.lamudi.com.ph/metro-manila/manila/land/rent/?page=1 --- Success!\n"
     ]
    },
    {
     "name": "stderr",
     "output_type": "stream",
     "text": [
      "Scraping pages: 100%|██████████| 1/1 [00:02<00:00,  2.54s/it]\n"
     ]
    }
   ],
   "source": [
    "rent_manila_apartment = property_crawler(base_url='https://www.lamudi.com.ph/metro-manila/manila/apartment/rent/?page=', start=1, end=4)\n",
    "rent_manila_condo = property_crawler(base_url='https://www.lamudi.com.ph/metro-manila/manila/condominium/rent/?page=', start=1, end=29)\n",
    "rent_manila_house = property_crawler(base_url='https://www.lamudi.com.ph/metro-manila/manila/house/rent/?page=', start=1, end=1)\n",
    "rent_manila_land = property_crawler(base_url='https://www.lamudi.com.ph/metro-manila/manila/land/rent/?page=', start=1, end=1)"
   ]
  },
  {
   "cell_type": "code",
   "execution_count": 20,
   "metadata": {},
   "outputs": [],
   "source": [
    "manila_4sale = pd.concat([manila_condo, manila_house, manila_land])\n",
    "manila_4sale.to_csv('data/for sale/manila_4sale.csv')\n",
    "\n",
    "manila_4rent = pd.concat([rent_manila_apartment, rent_manila_condo, rent_manila_house, rent_manila_land])\n",
    "manila_4rent.to_csv('data/for rent/manila_4rent.csv')"
   ]
  },
  {
   "cell_type": "code",
   "execution_count": 21,
   "metadata": {},
   "outputs": [
    {
     "name": "stderr",
     "output_type": "stream",
     "text": [
      "Scraping pages:   0%|          | 0/69 [00:00<?, ?it/s]"
     ]
    },
    {
     "name": "stdout",
     "output_type": "stream",
     "text": [
      "Retrieving: https://www.lamudi.com.ph/metro-manila/mandaluyong/condominium/buy/?script=23&page=1 --- Success!\n"
     ]
    },
    {
     "name": "stderr",
     "output_type": "stream",
     "text": [
      "Scraping pages:   1%|▏         | 1/69 [00:02<03:18,  2.92s/it]"
     ]
    },
    {
     "name": "stdout",
     "output_type": "stream",
     "text": [
      "Retrieving: https://www.lamudi.com.ph/metro-manila/mandaluyong/condominium/buy/?script=23&page=2 --- Success!\n"
     ]
    },
    {
     "name": "stderr",
     "output_type": "stream",
     "text": [
      "Scraping pages:   3%|▎         | 2/69 [00:05<02:44,  2.46s/it]"
     ]
    },
    {
     "name": "stdout",
     "output_type": "stream",
     "text": [
      "Retrieving: https://www.lamudi.com.ph/metro-manila/mandaluyong/condominium/buy/?script=23&page=3 --- Success!\n"
     ]
    },
    {
     "name": "stderr",
     "output_type": "stream",
     "text": [
      "Scraping pages:   4%|▍         | 3/69 [00:07<02:47,  2.55s/it]"
     ]
    },
    {
     "name": "stdout",
     "output_type": "stream",
     "text": [
      "Retrieving: https://www.lamudi.com.ph/metro-manila/mandaluyong/condominium/buy/?script=23&page=4 --- Success!\n"
     ]
    },
    {
     "name": "stderr",
     "output_type": "stream",
     "text": [
      "Scraping pages:   6%|▌         | 4/69 [00:10<02:39,  2.45s/it]"
     ]
    },
    {
     "name": "stdout",
     "output_type": "stream",
     "text": [
      "Retrieving: https://www.lamudi.com.ph/metro-manila/mandaluyong/condominium/buy/?script=23&page=5 --- Success!\n"
     ]
    },
    {
     "name": "stderr",
     "output_type": "stream",
     "text": [
      "Scraping pages:   7%|▋         | 5/69 [00:12<02:31,  2.37s/it]"
     ]
    },
    {
     "name": "stdout",
     "output_type": "stream",
     "text": [
      "Retrieving: https://www.lamudi.com.ph/metro-manila/mandaluyong/condominium/buy/?script=23&page=6 --- Success!\n"
     ]
    },
    {
     "name": "stderr",
     "output_type": "stream",
     "text": [
      "Scraping pages:   9%|▊         | 6/69 [00:14<02:33,  2.44s/it]"
     ]
    },
    {
     "name": "stdout",
     "output_type": "stream",
     "text": [
      "Retrieving: https://www.lamudi.com.ph/metro-manila/mandaluyong/condominium/buy/?script=23&page=7 --- Success!\n"
     ]
    },
    {
     "name": "stderr",
     "output_type": "stream",
     "text": [
      "Scraping pages:  10%|█         | 7/69 [00:16<02:22,  2.30s/it]"
     ]
    },
    {
     "name": "stdout",
     "output_type": "stream",
     "text": [
      "Retrieving: https://www.lamudi.com.ph/metro-manila/mandaluyong/condominium/buy/?script=23&page=8 --- Success!\n"
     ]
    },
    {
     "name": "stderr",
     "output_type": "stream",
     "text": [
      "Scraping pages:  12%|█▏        | 8/69 [00:19<02:20,  2.30s/it]"
     ]
    },
    {
     "name": "stdout",
     "output_type": "stream",
     "text": [
      "Retrieving: https://www.lamudi.com.ph/metro-manila/mandaluyong/condominium/buy/?script=23&page=9 --- Success!\n"
     ]
    },
    {
     "name": "stderr",
     "output_type": "stream",
     "text": [
      "Scraping pages:  13%|█▎        | 9/69 [00:21<02:19,  2.33s/it]"
     ]
    },
    {
     "name": "stdout",
     "output_type": "stream",
     "text": [
      "Retrieving: https://www.lamudi.com.ph/metro-manila/mandaluyong/condominium/buy/?script=23&page=10 --- Success!\n"
     ]
    },
    {
     "name": "stderr",
     "output_type": "stream",
     "text": [
      "Scraping pages:  14%|█▍        | 10/69 [00:26<03:00,  3.06s/it]"
     ]
    },
    {
     "name": "stdout",
     "output_type": "stream",
     "text": [
      "Retrieving: https://www.lamudi.com.ph/metro-manila/mandaluyong/condominium/buy/?script=23&page=11 --- Success!\n"
     ]
    },
    {
     "name": "stderr",
     "output_type": "stream",
     "text": [
      "Scraping pages:  16%|█▌        | 11/69 [00:29<03:08,  3.25s/it]"
     ]
    },
    {
     "name": "stdout",
     "output_type": "stream",
     "text": [
      "Retrieving: https://www.lamudi.com.ph/metro-manila/mandaluyong/condominium/buy/?script=23&page=12 --- Success!\n"
     ]
    },
    {
     "name": "stderr",
     "output_type": "stream",
     "text": [
      "Scraping pages:  17%|█▋        | 12/69 [00:32<02:53,  3.05s/it]"
     ]
    },
    {
     "name": "stdout",
     "output_type": "stream",
     "text": [
      "Retrieving: https://www.lamudi.com.ph/metro-manila/mandaluyong/condominium/buy/?script=23&page=13 --- Success!\n"
     ]
    },
    {
     "name": "stderr",
     "output_type": "stream",
     "text": [
      "Scraping pages:  19%|█▉        | 13/69 [00:34<02:31,  2.70s/it]"
     ]
    },
    {
     "name": "stdout",
     "output_type": "stream",
     "text": [
      "Retrieving: https://www.lamudi.com.ph/metro-manila/mandaluyong/condominium/buy/?script=23&page=14 --- Success!\n"
     ]
    },
    {
     "name": "stderr",
     "output_type": "stream",
     "text": [
      "Scraping pages:  20%|██        | 14/69 [00:36<02:24,  2.63s/it]"
     ]
    },
    {
     "name": "stdout",
     "output_type": "stream",
     "text": [
      "Retrieving: https://www.lamudi.com.ph/metro-manila/mandaluyong/condominium/buy/?script=23&page=15 --- Success!\n"
     ]
    },
    {
     "name": "stderr",
     "output_type": "stream",
     "text": [
      "Scraping pages:  22%|██▏       | 15/69 [00:39<02:28,  2.76s/it]"
     ]
    },
    {
     "name": "stdout",
     "output_type": "stream",
     "text": [
      "Retrieving: https://www.lamudi.com.ph/metro-manila/mandaluyong/condominium/buy/?script=23&page=16 --- Success!\n"
     ]
    },
    {
     "name": "stderr",
     "output_type": "stream",
     "text": [
      "Scraping pages:  23%|██▎       | 16/69 [00:42<02:20,  2.65s/it]"
     ]
    },
    {
     "name": "stdout",
     "output_type": "stream",
     "text": [
      "Retrieving: https://www.lamudi.com.ph/metro-manila/mandaluyong/condominium/buy/?script=23&page=17 --- Success!\n"
     ]
    },
    {
     "name": "stderr",
     "output_type": "stream",
     "text": [
      "Scraping pages:  25%|██▍       | 17/69 [00:44<02:14,  2.58s/it]"
     ]
    },
    {
     "name": "stdout",
     "output_type": "stream",
     "text": [
      "Retrieving: https://www.lamudi.com.ph/metro-manila/mandaluyong/condominium/buy/?script=23&page=18 --- Success!\n"
     ]
    },
    {
     "name": "stderr",
     "output_type": "stream",
     "text": [
      "Scraping pages:  26%|██▌       | 18/69 [00:46<02:05,  2.46s/it]"
     ]
    },
    {
     "name": "stdout",
     "output_type": "stream",
     "text": [
      "Retrieving: https://www.lamudi.com.ph/metro-manila/mandaluyong/condominium/buy/?script=23&page=19 --- Success!\n"
     ]
    },
    {
     "name": "stderr",
     "output_type": "stream",
     "text": [
      "Scraping pages:  28%|██▊       | 19/69 [00:49<01:59,  2.40s/it]"
     ]
    },
    {
     "name": "stdout",
     "output_type": "stream",
     "text": [
      "Retrieving: https://www.lamudi.com.ph/metro-manila/mandaluyong/condominium/buy/?script=23&page=20 --- Success!\n"
     ]
    },
    {
     "name": "stderr",
     "output_type": "stream",
     "text": [
      "Scraping pages:  29%|██▉       | 20/69 [00:51<01:57,  2.40s/it]"
     ]
    },
    {
     "name": "stdout",
     "output_type": "stream",
     "text": [
      "Retrieving: https://www.lamudi.com.ph/metro-manila/mandaluyong/condominium/buy/?script=23&page=21 --- Success!\n"
     ]
    },
    {
     "name": "stderr",
     "output_type": "stream",
     "text": [
      "Scraping pages:  30%|███       | 21/69 [00:53<01:53,  2.36s/it]"
     ]
    },
    {
     "name": "stdout",
     "output_type": "stream",
     "text": [
      "Retrieving: https://www.lamudi.com.ph/metro-manila/mandaluyong/condominium/buy/?script=23&page=22 --- Success!\n"
     ]
    },
    {
     "name": "stderr",
     "output_type": "stream",
     "text": [
      "Scraping pages:  32%|███▏      | 22/69 [00:56<01:55,  2.46s/it]"
     ]
    },
    {
     "name": "stdout",
     "output_type": "stream",
     "text": [
      "Retrieving: https://www.lamudi.com.ph/metro-manila/mandaluyong/condominium/buy/?script=23&page=23 --- Success!\n"
     ]
    },
    {
     "name": "stderr",
     "output_type": "stream",
     "text": [
      "Scraping pages:  33%|███▎      | 23/69 [00:58<01:48,  2.36s/it]"
     ]
    },
    {
     "name": "stdout",
     "output_type": "stream",
     "text": [
      "Retrieving: https://www.lamudi.com.ph/metro-manila/mandaluyong/condominium/buy/?script=23&page=24 --- Success!\n"
     ]
    },
    {
     "name": "stderr",
     "output_type": "stream",
     "text": [
      "Scraping pages:  35%|███▍      | 24/69 [01:00<01:43,  2.31s/it]"
     ]
    },
    {
     "name": "stdout",
     "output_type": "stream",
     "text": [
      "Retrieving: https://www.lamudi.com.ph/metro-manila/mandaluyong/condominium/buy/?script=23&page=25 --- Success!\n"
     ]
    },
    {
     "name": "stderr",
     "output_type": "stream",
     "text": [
      "Scraping pages:  36%|███▌      | 25/69 [01:03<01:43,  2.36s/it]"
     ]
    },
    {
     "name": "stdout",
     "output_type": "stream",
     "text": [
      "Retrieving: https://www.lamudi.com.ph/metro-manila/mandaluyong/condominium/buy/?script=23&page=26 --- Success!\n"
     ]
    },
    {
     "name": "stderr",
     "output_type": "stream",
     "text": [
      "Scraping pages:  38%|███▊      | 26/69 [01:05<01:36,  2.24s/it]"
     ]
    },
    {
     "name": "stdout",
     "output_type": "stream",
     "text": [
      "Retrieving: https://www.lamudi.com.ph/metro-manila/mandaluyong/condominium/buy/?script=23&page=27 --- Success!\n"
     ]
    },
    {
     "name": "stderr",
     "output_type": "stream",
     "text": [
      "Scraping pages:  39%|███▉      | 27/69 [01:07<01:33,  2.22s/it]"
     ]
    },
    {
     "name": "stdout",
     "output_type": "stream",
     "text": [
      "Retrieving: https://www.lamudi.com.ph/metro-manila/mandaluyong/condominium/buy/?script=23&page=28 --- Success!\n"
     ]
    },
    {
     "name": "stderr",
     "output_type": "stream",
     "text": [
      "Scraping pages:  41%|████      | 28/69 [01:10<01:37,  2.38s/it]"
     ]
    },
    {
     "name": "stdout",
     "output_type": "stream",
     "text": [
      "Retrieving: https://www.lamudi.com.ph/metro-manila/mandaluyong/condominium/buy/?script=23&page=29 --- Success!\n"
     ]
    },
    {
     "name": "stderr",
     "output_type": "stream",
     "text": [
      "Scraping pages:  42%|████▏     | 29/69 [01:12<01:35,  2.38s/it]"
     ]
    },
    {
     "name": "stdout",
     "output_type": "stream",
     "text": [
      "Retrieving: https://www.lamudi.com.ph/metro-manila/mandaluyong/condominium/buy/?script=23&page=30 --- Success!\n"
     ]
    },
    {
     "name": "stderr",
     "output_type": "stream",
     "text": [
      "Scraping pages:  43%|████▎     | 30/69 [01:15<01:34,  2.43s/it]"
     ]
    },
    {
     "name": "stdout",
     "output_type": "stream",
     "text": [
      "Retrieving: https://www.lamudi.com.ph/metro-manila/mandaluyong/condominium/buy/?script=23&page=31 --- Success!\n"
     ]
    },
    {
     "name": "stderr",
     "output_type": "stream",
     "text": [
      "Scraping pages:  45%|████▍     | 31/69 [01:17<01:34,  2.48s/it]"
     ]
    },
    {
     "name": "stdout",
     "output_type": "stream",
     "text": [
      "Retrieving: https://www.lamudi.com.ph/metro-manila/mandaluyong/condominium/buy/?script=23&page=32 --- Success!\n"
     ]
    },
    {
     "name": "stderr",
     "output_type": "stream",
     "text": [
      "Scraping pages:  46%|████▋     | 32/69 [01:20<01:30,  2.46s/it]"
     ]
    },
    {
     "name": "stdout",
     "output_type": "stream",
     "text": [
      "Retrieving: https://www.lamudi.com.ph/metro-manila/mandaluyong/condominium/buy/?script=23&page=33 --- Success!\n"
     ]
    },
    {
     "name": "stderr",
     "output_type": "stream",
     "text": [
      "Scraping pages:  48%|████▊     | 33/69 [01:22<01:28,  2.47s/it]"
     ]
    },
    {
     "name": "stdout",
     "output_type": "stream",
     "text": [
      "Retrieving: https://www.lamudi.com.ph/metro-manila/mandaluyong/condominium/buy/?script=23&page=34 --- Success!\n"
     ]
    },
    {
     "name": "stderr",
     "output_type": "stream",
     "text": [
      "Scraping pages:  49%|████▉     | 34/69 [01:29<02:10,  3.72s/it]"
     ]
    },
    {
     "name": "stdout",
     "output_type": "stream",
     "text": [
      "Retrieving: https://www.lamudi.com.ph/metro-manila/mandaluyong/condominium/buy/?script=23&page=35 --- Success!\n"
     ]
    },
    {
     "name": "stderr",
     "output_type": "stream",
     "text": [
      "Scraping pages:  51%|█████     | 35/69 [01:32<02:00,  3.54s/it]"
     ]
    },
    {
     "name": "stdout",
     "output_type": "stream",
     "text": [
      "Retrieving: https://www.lamudi.com.ph/metro-manila/mandaluyong/condominium/buy/?script=23&page=36 --- Success!\n"
     ]
    },
    {
     "name": "stderr",
     "output_type": "stream",
     "text": [
      "Scraping pages:  52%|█████▏    | 36/69 [01:35<01:49,  3.31s/it]"
     ]
    },
    {
     "name": "stdout",
     "output_type": "stream",
     "text": [
      "Retrieving: https://www.lamudi.com.ph/metro-manila/mandaluyong/condominium/buy/?script=23&page=37 --- Success!\n"
     ]
    },
    {
     "name": "stderr",
     "output_type": "stream",
     "text": [
      "Scraping pages:  54%|█████▎    | 37/69 [01:37<01:33,  2.91s/it]"
     ]
    },
    {
     "name": "stdout",
     "output_type": "stream",
     "text": [
      "Retrieving: https://www.lamudi.com.ph/metro-manila/mandaluyong/condominium/buy/?script=23&page=38 --- Success!\n"
     ]
    },
    {
     "name": "stderr",
     "output_type": "stream",
     "text": [
      "Scraping pages:  55%|█████▌    | 38/69 [01:39<01:25,  2.76s/it]"
     ]
    },
    {
     "name": "stdout",
     "output_type": "stream",
     "text": [
      "Retrieving: https://www.lamudi.com.ph/metro-manila/mandaluyong/condominium/buy/?script=23&page=39 --- Success!\n"
     ]
    },
    {
     "name": "stderr",
     "output_type": "stream",
     "text": [
      "Scraping pages:  57%|█████▋    | 39/69 [01:42<01:26,  2.89s/it]"
     ]
    },
    {
     "name": "stdout",
     "output_type": "stream",
     "text": [
      "Retrieving: https://www.lamudi.com.ph/metro-manila/mandaluyong/condominium/buy/?script=23&page=40 --- Success!\n"
     ]
    },
    {
     "name": "stderr",
     "output_type": "stream",
     "text": [
      "Scraping pages:  58%|█████▊    | 40/69 [01:44<01:16,  2.65s/it]"
     ]
    },
    {
     "name": "stdout",
     "output_type": "stream",
     "text": [
      "Retrieving: https://www.lamudi.com.ph/metro-manila/mandaluyong/condominium/buy/?script=23&page=41 --- Success!\n"
     ]
    },
    {
     "name": "stderr",
     "output_type": "stream",
     "text": [
      "Scraping pages:  59%|█████▉    | 41/69 [01:47<01:14,  2.66s/it]"
     ]
    },
    {
     "name": "stdout",
     "output_type": "stream",
     "text": [
      "Retrieving: https://www.lamudi.com.ph/metro-manila/mandaluyong/condominium/buy/?script=23&page=42 --- Success!\n"
     ]
    },
    {
     "name": "stderr",
     "output_type": "stream",
     "text": [
      "Scraping pages:  61%|██████    | 42/69 [01:51<01:19,  2.96s/it]"
     ]
    },
    {
     "name": "stdout",
     "output_type": "stream",
     "text": [
      "Retrieving: https://www.lamudi.com.ph/metro-manila/mandaluyong/condominium/buy/?script=23&page=43 --- Success!\n"
     ]
    },
    {
     "name": "stderr",
     "output_type": "stream",
     "text": [
      "Scraping pages:  62%|██████▏   | 43/69 [01:53<01:14,  2.87s/it]"
     ]
    },
    {
     "name": "stdout",
     "output_type": "stream",
     "text": [
      "Retrieving: https://www.lamudi.com.ph/metro-manila/mandaluyong/condominium/buy/?script=23&page=44 --- Success!\n"
     ]
    },
    {
     "name": "stderr",
     "output_type": "stream",
     "text": [
      "Scraping pages:  64%|██████▍   | 44/69 [01:56<01:12,  2.89s/it]"
     ]
    },
    {
     "name": "stdout",
     "output_type": "stream",
     "text": [
      "Retrieving: https://www.lamudi.com.ph/metro-manila/mandaluyong/condominium/buy/?script=23&page=45 --- Success!\n"
     ]
    },
    {
     "name": "stderr",
     "output_type": "stream",
     "text": [
      "Scraping pages:  65%|██████▌   | 45/69 [01:59<01:11,  2.97s/it]"
     ]
    },
    {
     "name": "stdout",
     "output_type": "stream",
     "text": [
      "Retrieving: https://www.lamudi.com.ph/metro-manila/mandaluyong/condominium/buy/?script=23&page=46 --- Success!\n"
     ]
    },
    {
     "name": "stderr",
     "output_type": "stream",
     "text": [
      "Scraping pages:  67%|██████▋   | 46/69 [02:02<01:07,  2.92s/it]"
     ]
    },
    {
     "name": "stdout",
     "output_type": "stream",
     "text": [
      "Retrieving: https://www.lamudi.com.ph/metro-manila/mandaluyong/condominium/buy/?script=23&page=47 --- Success!\n"
     ]
    },
    {
     "name": "stderr",
     "output_type": "stream",
     "text": [
      "Scraping pages:  68%|██████▊   | 47/69 [02:05<01:02,  2.82s/it]"
     ]
    },
    {
     "name": "stdout",
     "output_type": "stream",
     "text": [
      "Retrieving: https://www.lamudi.com.ph/metro-manila/mandaluyong/condominium/buy/?script=23&page=48 --- Success!\n"
     ]
    },
    {
     "name": "stderr",
     "output_type": "stream",
     "text": [
      "Scraping pages:  70%|██████▉   | 48/69 [02:07<00:55,  2.63s/it]"
     ]
    },
    {
     "name": "stdout",
     "output_type": "stream",
     "text": [
      "Retrieving: https://www.lamudi.com.ph/metro-manila/mandaluyong/condominium/buy/?script=23&page=49 --- Success!\n"
     ]
    },
    {
     "name": "stderr",
     "output_type": "stream",
     "text": [
      "Scraping pages:  71%|███████   | 49/69 [02:09<00:50,  2.51s/it]"
     ]
    },
    {
     "name": "stdout",
     "output_type": "stream",
     "text": [
      "Retrieving: https://www.lamudi.com.ph/metro-manila/mandaluyong/condominium/buy/?script=23&page=50 --- Success!\n"
     ]
    },
    {
     "name": "stderr",
     "output_type": "stream",
     "text": [
      "Scraping pages:  72%|███████▏  | 50/69 [02:12<00:51,  2.72s/it]"
     ]
    },
    {
     "name": "stdout",
     "output_type": "stream",
     "text": [
      "Retrieving: https://www.lamudi.com.ph/metro-manila/mandaluyong/condominium/buy/?script=23&page=51 --- Success!\n"
     ]
    },
    {
     "name": "stderr",
     "output_type": "stream",
     "text": [
      "Scraping pages:  74%|███████▍  | 51/69 [02:15<00:50,  2.79s/it]"
     ]
    },
    {
     "name": "stdout",
     "output_type": "stream",
     "text": [
      "Retrieving: https://www.lamudi.com.ph/metro-manila/mandaluyong/condominium/buy/?script=23&page=52 --- Success!\n"
     ]
    },
    {
     "name": "stderr",
     "output_type": "stream",
     "text": [
      "Scraping pages:  75%|███████▌  | 52/69 [02:18<00:46,  2.72s/it]"
     ]
    },
    {
     "name": "stdout",
     "output_type": "stream",
     "text": [
      "Retrieving: https://www.lamudi.com.ph/metro-manila/mandaluyong/condominium/buy/?script=23&page=53 --- Success!\n"
     ]
    },
    {
     "name": "stderr",
     "output_type": "stream",
     "text": [
      "Scraping pages:  77%|███████▋  | 53/69 [02:21<00:44,  2.78s/it]"
     ]
    },
    {
     "name": "stdout",
     "output_type": "stream",
     "text": [
      "Retrieving: https://www.lamudi.com.ph/metro-manila/mandaluyong/condominium/buy/?script=23&page=54 --- Success!\n"
     ]
    },
    {
     "name": "stderr",
     "output_type": "stream",
     "text": [
      "Scraping pages:  78%|███████▊  | 54/69 [02:25<00:47,  3.17s/it]"
     ]
    },
    {
     "name": "stdout",
     "output_type": "stream",
     "text": [
      "Retrieving: https://www.lamudi.com.ph/metro-manila/mandaluyong/condominium/buy/?script=23&page=55 --- Success!\n"
     ]
    },
    {
     "name": "stderr",
     "output_type": "stream",
     "text": [
      "Scraping pages:  80%|███████▉  | 55/69 [02:27<00:41,  2.98s/it]"
     ]
    },
    {
     "name": "stdout",
     "output_type": "stream",
     "text": [
      "Retrieving: https://www.lamudi.com.ph/metro-manila/mandaluyong/condominium/buy/?script=23&page=56 --- Success!\n"
     ]
    },
    {
     "name": "stderr",
     "output_type": "stream",
     "text": [
      "Scraping pages:  81%|████████  | 56/69 [02:30<00:38,  2.94s/it]"
     ]
    },
    {
     "name": "stdout",
     "output_type": "stream",
     "text": [
      "Retrieving: https://www.lamudi.com.ph/metro-manila/mandaluyong/condominium/buy/?script=23&page=57 --- Success!\n"
     ]
    },
    {
     "name": "stderr",
     "output_type": "stream",
     "text": [
      "Scraping pages:  83%|████████▎ | 57/69 [02:33<00:33,  2.79s/it]"
     ]
    },
    {
     "name": "stdout",
     "output_type": "stream",
     "text": [
      "Retrieving: https://www.lamudi.com.ph/metro-manila/mandaluyong/condominium/buy/?script=23&page=58 --- Success!\n"
     ]
    },
    {
     "name": "stderr",
     "output_type": "stream",
     "text": [
      "Scraping pages:  84%|████████▍ | 58/69 [02:35<00:28,  2.63s/it]"
     ]
    },
    {
     "name": "stdout",
     "output_type": "stream",
     "text": [
      "Retrieving: https://www.lamudi.com.ph/metro-manila/mandaluyong/condominium/buy/?script=23&page=59 --- Success!\n"
     ]
    },
    {
     "name": "stderr",
     "output_type": "stream",
     "text": [
      "Scraping pages:  86%|████████▌ | 59/69 [02:37<00:25,  2.56s/it]"
     ]
    },
    {
     "name": "stdout",
     "output_type": "stream",
     "text": [
      "Retrieving: https://www.lamudi.com.ph/metro-manila/mandaluyong/condominium/buy/?script=23&page=60 --- Success!\n"
     ]
    },
    {
     "name": "stderr",
     "output_type": "stream",
     "text": [
      "Scraping pages:  87%|████████▋ | 60/69 [02:40<00:23,  2.63s/it]"
     ]
    },
    {
     "name": "stdout",
     "output_type": "stream",
     "text": [
      "Retrieving: https://www.lamudi.com.ph/metro-manila/mandaluyong/condominium/buy/?script=23&page=61 --- Success!\n"
     ]
    },
    {
     "name": "stderr",
     "output_type": "stream",
     "text": [
      "Scraping pages:  88%|████████▊ | 61/69 [02:43<00:20,  2.56s/it]"
     ]
    },
    {
     "name": "stdout",
     "output_type": "stream",
     "text": [
      "Retrieving: https://www.lamudi.com.ph/metro-manila/mandaluyong/condominium/buy/?script=23&page=62 --- Success!\n"
     ]
    },
    {
     "name": "stderr",
     "output_type": "stream",
     "text": [
      "Scraping pages:  90%|████████▉ | 62/69 [02:45<00:17,  2.57s/it]"
     ]
    },
    {
     "name": "stdout",
     "output_type": "stream",
     "text": [
      "Retrieving: https://www.lamudi.com.ph/metro-manila/mandaluyong/condominium/buy/?script=23&page=63 --- Success!\n"
     ]
    },
    {
     "name": "stderr",
     "output_type": "stream",
     "text": [
      "Scraping pages:  91%|█████████▏| 63/69 [02:48<00:14,  2.50s/it]"
     ]
    },
    {
     "name": "stdout",
     "output_type": "stream",
     "text": [
      "Retrieving: https://www.lamudi.com.ph/metro-manila/mandaluyong/condominium/buy/?script=23&page=64 --- Success!\n"
     ]
    },
    {
     "name": "stderr",
     "output_type": "stream",
     "text": [
      "Scraping pages:  93%|█████████▎| 64/69 [02:50<00:12,  2.53s/it]"
     ]
    },
    {
     "name": "stdout",
     "output_type": "stream",
     "text": [
      "Retrieving: https://www.lamudi.com.ph/metro-manila/mandaluyong/condominium/buy/?script=23&page=65 --- Success!\n"
     ]
    },
    {
     "name": "stderr",
     "output_type": "stream",
     "text": [
      "Scraping pages:  94%|█████████▍| 65/69 [02:53<00:09,  2.49s/it]"
     ]
    },
    {
     "name": "stdout",
     "output_type": "stream",
     "text": [
      "Retrieving: https://www.lamudi.com.ph/metro-manila/mandaluyong/condominium/buy/?script=23&page=66 --- Success!\n"
     ]
    },
    {
     "name": "stderr",
     "output_type": "stream",
     "text": [
      "Scraping pages:  96%|█████████▌| 66/69 [02:55<00:07,  2.56s/it]"
     ]
    },
    {
     "name": "stdout",
     "output_type": "stream",
     "text": [
      "Retrieving: https://www.lamudi.com.ph/metro-manila/mandaluyong/condominium/buy/?script=23&page=67 --- Success!\n"
     ]
    },
    {
     "name": "stderr",
     "output_type": "stream",
     "text": [
      "Scraping pages:  97%|█████████▋| 67/69 [02:58<00:05,  2.52s/it]"
     ]
    },
    {
     "name": "stdout",
     "output_type": "stream",
     "text": [
      "Retrieving: https://www.lamudi.com.ph/metro-manila/mandaluyong/condominium/buy/?script=23&page=68 --- Success!\n"
     ]
    },
    {
     "name": "stderr",
     "output_type": "stream",
     "text": [
      "Scraping pages:  99%|█████████▊| 68/69 [03:01<00:02,  2.87s/it]"
     ]
    },
    {
     "name": "stdout",
     "output_type": "stream",
     "text": [
      "Retrieving: https://www.lamudi.com.ph/metro-manila/mandaluyong/condominium/buy/?script=23&page=69 --- Success!\n"
     ]
    },
    {
     "name": "stderr",
     "output_type": "stream",
     "text": [
      "Scraping pages: 100%|██████████| 69/69 [03:04<00:00,  2.67s/it]\n",
      "Scraping pages:   0%|          | 0/26 [00:00<?, ?it/s]"
     ]
    },
    {
     "name": "stdout",
     "output_type": "stream",
     "text": [
      "Retrieving: https://www.lamudi.com.ph/metro-manila/mandaluyong/house/buy/?script=23&page=1 --- Success!\n"
     ]
    },
    {
     "name": "stderr",
     "output_type": "stream",
     "text": [
      "Scraping pages:   4%|▍         | 1/26 [00:02<01:14,  2.97s/it]"
     ]
    },
    {
     "name": "stdout",
     "output_type": "stream",
     "text": [
      "Retrieving: https://www.lamudi.com.ph/metro-manila/mandaluyong/house/buy/?script=23&page=2 --- Success!\n"
     ]
    },
    {
     "name": "stderr",
     "output_type": "stream",
     "text": [
      "Scraping pages:   8%|▊         | 2/26 [00:05<01:07,  2.83s/it]"
     ]
    },
    {
     "name": "stdout",
     "output_type": "stream",
     "text": [
      "Retrieving: https://www.lamudi.com.ph/metro-manila/mandaluyong/house/buy/?script=23&page=3 --- Success!\n"
     ]
    },
    {
     "name": "stderr",
     "output_type": "stream",
     "text": [
      "Scraping pages:  12%|█▏        | 3/26 [00:08<01:00,  2.64s/it]"
     ]
    },
    {
     "name": "stdout",
     "output_type": "stream",
     "text": [
      "Retrieving: https://www.lamudi.com.ph/metro-manila/mandaluyong/house/buy/?script=23&page=4 --- Success!\n"
     ]
    },
    {
     "name": "stderr",
     "output_type": "stream",
     "text": [
      "Scraping pages:  15%|█▌        | 4/26 [00:10<00:56,  2.56s/it]"
     ]
    },
    {
     "name": "stdout",
     "output_type": "stream",
     "text": [
      "Retrieving: https://www.lamudi.com.ph/metro-manila/mandaluyong/house/buy/?script=23&page=5 --- Success!\n"
     ]
    },
    {
     "name": "stderr",
     "output_type": "stream",
     "text": [
      "Scraping pages:  19%|█▉        | 5/26 [00:12<00:51,  2.43s/it]"
     ]
    },
    {
     "name": "stdout",
     "output_type": "stream",
     "text": [
      "Retrieving: https://www.lamudi.com.ph/metro-manila/mandaluyong/house/buy/?script=23&page=6 --- Success!\n"
     ]
    },
    {
     "name": "stderr",
     "output_type": "stream",
     "text": [
      "Scraping pages:  23%|██▎       | 6/26 [00:14<00:45,  2.29s/it]"
     ]
    },
    {
     "name": "stdout",
     "output_type": "stream",
     "text": [
      "Retrieving: https://www.lamudi.com.ph/metro-manila/mandaluyong/house/buy/?script=23&page=7 --- Success!\n"
     ]
    },
    {
     "name": "stderr",
     "output_type": "stream",
     "text": [
      "Scraping pages:  27%|██▋       | 7/26 [00:17<00:43,  2.30s/it]"
     ]
    },
    {
     "name": "stdout",
     "output_type": "stream",
     "text": [
      "Retrieving: https://www.lamudi.com.ph/metro-manila/mandaluyong/house/buy/?script=23&page=8 --- Success!\n"
     ]
    },
    {
     "name": "stderr",
     "output_type": "stream",
     "text": [
      "Scraping pages:  31%|███       | 8/26 [00:22<00:58,  3.25s/it]"
     ]
    },
    {
     "name": "stdout",
     "output_type": "stream",
     "text": [
      "Retrieving: https://www.lamudi.com.ph/metro-manila/mandaluyong/house/buy/?script=23&page=9 --- Success!\n"
     ]
    },
    {
     "name": "stderr",
     "output_type": "stream",
     "text": [
      "Scraping pages:  35%|███▍      | 9/26 [00:24<00:50,  2.98s/it]"
     ]
    },
    {
     "name": "stdout",
     "output_type": "stream",
     "text": [
      "Retrieving: https://www.lamudi.com.ph/metro-manila/mandaluyong/house/buy/?script=23&page=10 --- Success!\n"
     ]
    },
    {
     "name": "stderr",
     "output_type": "stream",
     "text": [
      "Scraping pages:  38%|███▊      | 10/26 [00:27<00:44,  2.77s/it]"
     ]
    },
    {
     "name": "stdout",
     "output_type": "stream",
     "text": [
      "Retrieving: https://www.lamudi.com.ph/metro-manila/mandaluyong/house/buy/?script=23&page=11 --- Success!\n"
     ]
    },
    {
     "name": "stderr",
     "output_type": "stream",
     "text": [
      "Scraping pages:  42%|████▏     | 11/26 [00:29<00:38,  2.54s/it]"
     ]
    },
    {
     "name": "stdout",
     "output_type": "stream",
     "text": [
      "Retrieving: https://www.lamudi.com.ph/metro-manila/mandaluyong/house/buy/?script=23&page=12 --- Success!\n"
     ]
    },
    {
     "name": "stderr",
     "output_type": "stream",
     "text": [
      "Scraping pages:  46%|████▌     | 12/26 [00:30<00:32,  2.32s/it]"
     ]
    },
    {
     "name": "stdout",
     "output_type": "stream",
     "text": [
      "Retrieving: https://www.lamudi.com.ph/metro-manila/mandaluyong/house/buy/?script=23&page=13 --- Success!\n"
     ]
    },
    {
     "name": "stderr",
     "output_type": "stream",
     "text": [
      "Scraping pages:  50%|█████     | 13/26 [00:33<00:30,  2.34s/it]"
     ]
    },
    {
     "name": "stdout",
     "output_type": "stream",
     "text": [
      "Retrieving: https://www.lamudi.com.ph/metro-manila/mandaluyong/house/buy/?script=23&page=14 --- Success!\n"
     ]
    },
    {
     "name": "stderr",
     "output_type": "stream",
     "text": [
      "Scraping pages:  54%|█████▍    | 14/26 [00:35<00:27,  2.33s/it]"
     ]
    },
    {
     "name": "stdout",
     "output_type": "stream",
     "text": [
      "Retrieving: https://www.lamudi.com.ph/metro-manila/mandaluyong/house/buy/?script=23&page=15 --- Success!\n"
     ]
    },
    {
     "name": "stderr",
     "output_type": "stream",
     "text": [
      "Scraping pages:  58%|█████▊    | 15/26 [00:38<00:26,  2.38s/it]"
     ]
    },
    {
     "name": "stdout",
     "output_type": "stream",
     "text": [
      "Retrieving: https://www.lamudi.com.ph/metro-manila/mandaluyong/house/buy/?script=23&page=16 --- Success!\n"
     ]
    },
    {
     "name": "stderr",
     "output_type": "stream",
     "text": [
      "Scraping pages:  62%|██████▏   | 16/26 [00:40<00:23,  2.34s/it]"
     ]
    },
    {
     "name": "stdout",
     "output_type": "stream",
     "text": [
      "Retrieving: https://www.lamudi.com.ph/metro-manila/mandaluyong/house/buy/?script=23&page=17 --- Success!\n"
     ]
    },
    {
     "name": "stderr",
     "output_type": "stream",
     "text": [
      "Scraping pages:  65%|██████▌   | 17/26 [00:42<00:20,  2.28s/it]"
     ]
    },
    {
     "name": "stdout",
     "output_type": "stream",
     "text": [
      "Retrieving: https://www.lamudi.com.ph/metro-manila/mandaluyong/house/buy/?script=23&page=18 --- Success!\n"
     ]
    },
    {
     "name": "stderr",
     "output_type": "stream",
     "text": [
      "Scraping pages:  69%|██████▉   | 18/26 [00:44<00:18,  2.27s/it]"
     ]
    },
    {
     "name": "stdout",
     "output_type": "stream",
     "text": [
      "Retrieving: https://www.lamudi.com.ph/metro-manila/mandaluyong/house/buy/?script=23&page=19 --- Success!\n"
     ]
    },
    {
     "name": "stderr",
     "output_type": "stream",
     "text": [
      "Scraping pages:  73%|███████▎  | 19/26 [00:47<00:16,  2.30s/it]"
     ]
    },
    {
     "name": "stdout",
     "output_type": "stream",
     "text": [
      "Retrieving: https://www.lamudi.com.ph/metro-manila/mandaluyong/house/buy/?script=23&page=20 --- Success!\n"
     ]
    },
    {
     "name": "stderr",
     "output_type": "stream",
     "text": [
      "Scraping pages:  77%|███████▋  | 20/26 [00:49<00:13,  2.28s/it]"
     ]
    },
    {
     "name": "stdout",
     "output_type": "stream",
     "text": [
      "Retrieving: https://www.lamudi.com.ph/metro-manila/mandaluyong/house/buy/?script=23&page=21 --- Success!\n"
     ]
    },
    {
     "name": "stderr",
     "output_type": "stream",
     "text": [
      "Scraping pages:  81%|████████  | 21/26 [00:51<00:10,  2.15s/it]"
     ]
    },
    {
     "name": "stdout",
     "output_type": "stream",
     "text": [
      "Retrieving: https://www.lamudi.com.ph/metro-manila/mandaluyong/house/buy/?script=23&page=22 --- Success!\n"
     ]
    },
    {
     "name": "stderr",
     "output_type": "stream",
     "text": [
      "Scraping pages:  85%|████████▍ | 22/26 [00:53<00:08,  2.09s/it]"
     ]
    },
    {
     "name": "stdout",
     "output_type": "stream",
     "text": [
      "Retrieving: https://www.lamudi.com.ph/metro-manila/mandaluyong/house/buy/?script=23&page=23 --- Success!\n"
     ]
    },
    {
     "name": "stderr",
     "output_type": "stream",
     "text": [
      "Scraping pages:  88%|████████▊ | 23/26 [00:55<00:06,  2.21s/it]"
     ]
    },
    {
     "name": "stdout",
     "output_type": "stream",
     "text": [
      "Retrieving: https://www.lamudi.com.ph/metro-manila/mandaluyong/house/buy/?script=23&page=24 --- Success!\n"
     ]
    },
    {
     "name": "stderr",
     "output_type": "stream",
     "text": [
      "Scraping pages:  92%|█████████▏| 24/26 [00:58<00:04,  2.29s/it]"
     ]
    },
    {
     "name": "stdout",
     "output_type": "stream",
     "text": [
      "Retrieving: https://www.lamudi.com.ph/metro-manila/mandaluyong/house/buy/?script=23&page=25 --- Success!\n"
     ]
    },
    {
     "name": "stderr",
     "output_type": "stream",
     "text": [
      "Scraping pages:  96%|█████████▌| 25/26 [01:00<00:02,  2.23s/it]"
     ]
    },
    {
     "name": "stdout",
     "output_type": "stream",
     "text": [
      "Retrieving: https://www.lamudi.com.ph/metro-manila/mandaluyong/house/buy/?script=23&page=26 --- Success!\n"
     ]
    },
    {
     "name": "stderr",
     "output_type": "stream",
     "text": [
      "Scraping pages: 100%|██████████| 26/26 [01:02<00:00,  2.39s/it]\n",
      "Scraping pages:   0%|          | 0/4 [00:00<?, ?it/s]"
     ]
    },
    {
     "name": "stdout",
     "output_type": "stream",
     "text": [
      "Retrieving: https://www.lamudi.com.ph/metro-manila/mandaluyong/land/buy/?script=23&page=1 --- Success!\n"
     ]
    },
    {
     "name": "stderr",
     "output_type": "stream",
     "text": [
      "Scraping pages:  25%|██▌       | 1/4 [00:03<00:09,  3.00s/it]"
     ]
    },
    {
     "name": "stdout",
     "output_type": "stream",
     "text": [
      "Retrieving: https://www.lamudi.com.ph/metro-manila/mandaluyong/land/buy/?script=23&page=2 --- Success!\n"
     ]
    },
    {
     "name": "stderr",
     "output_type": "stream",
     "text": [
      "Scraping pages:  50%|█████     | 2/4 [00:05<00:04,  2.42s/it]"
     ]
    },
    {
     "name": "stdout",
     "output_type": "stream",
     "text": [
      "Retrieving: https://www.lamudi.com.ph/metro-manila/mandaluyong/land/buy/?script=23&page=3 --- Success!\n"
     ]
    },
    {
     "name": "stderr",
     "output_type": "stream",
     "text": [
      "Scraping pages:  75%|███████▌  | 3/4 [00:06<00:02,  2.20s/it]"
     ]
    },
    {
     "name": "stdout",
     "output_type": "stream",
     "text": [
      "Retrieving: https://www.lamudi.com.ph/metro-manila/mandaluyong/land/buy/?script=23&page=4 --- Success!\n"
     ]
    },
    {
     "name": "stderr",
     "output_type": "stream",
     "text": [
      "Scraping pages: 100%|██████████| 4/4 [00:09<00:00,  2.32s/it]\n"
     ]
    }
   ],
   "source": [
    "mandaluyong_condo = property_crawler(base_url='https://www.lamudi.com.ph/metro-manila/mandaluyong/condominium/buy/?script=23&page=', start=1, end=69)\n",
    "mandaluyong_house = property_crawler(base_url='https://www.lamudi.com.ph/metro-manila/mandaluyong/house/buy/?script=23&page=', start=1, end=26)\n",
    "mandaluyong_land = property_crawler(base_url='https://www.lamudi.com.ph/metro-manila/mandaluyong/land/buy/?script=23&page=', start=1, end=4)"
   ]
  },
  {
   "cell_type": "code",
   "execution_count": 22,
   "metadata": {},
   "outputs": [
    {
     "name": "stderr",
     "output_type": "stream",
     "text": [
      "Scraping pages:   0%|          | 0/3 [00:00<?, ?it/s]"
     ]
    },
    {
     "name": "stdout",
     "output_type": "stream",
     "text": [
      "Retrieving: https://www.lamudi.com.ph/metro-manila/mandaluyong/apartment/rent/?page=1 --- Success!\n"
     ]
    },
    {
     "name": "stderr",
     "output_type": "stream",
     "text": [
      "Scraping pages:  33%|███▎      | 1/3 [00:02<00:04,  2.28s/it]"
     ]
    },
    {
     "name": "stdout",
     "output_type": "stream",
     "text": [
      "Retrieving: https://www.lamudi.com.ph/metro-manila/mandaluyong/apartment/rent/?page=2 --- Success!\n"
     ]
    },
    {
     "name": "stderr",
     "output_type": "stream",
     "text": [
      "Scraping pages:  67%|██████▋   | 2/3 [00:04<00:01,  1.98s/it]"
     ]
    },
    {
     "name": "stdout",
     "output_type": "stream",
     "text": [
      "Retrieving: https://www.lamudi.com.ph/metro-manila/mandaluyong/apartment/rent/?page=3 --- Success!\n"
     ]
    },
    {
     "name": "stderr",
     "output_type": "stream",
     "text": [
      "Scraping pages: 100%|██████████| 3/3 [00:06<00:00,  2.20s/it]\n",
      "Scraping pages:   0%|          | 0/48 [00:00<?, ?it/s]"
     ]
    },
    {
     "name": "stdout",
     "output_type": "stream",
     "text": [
      "Retrieving: https://www.lamudi.com.ph/metro-manila/mandaluyong/condominium/rent/?page=1 --- Success!\n"
     ]
    },
    {
     "name": "stderr",
     "output_type": "stream",
     "text": [
      "Scraping pages:   2%|▏         | 1/48 [00:03<03:06,  3.96s/it]"
     ]
    },
    {
     "name": "stdout",
     "output_type": "stream",
     "text": [
      "Retrieving: https://www.lamudi.com.ph/metro-manila/mandaluyong/condominium/rent/?page=2 --- Success!\n"
     ]
    },
    {
     "name": "stderr",
     "output_type": "stream",
     "text": [
      "Scraping pages:   4%|▍         | 2/48 [00:06<02:10,  2.85s/it]"
     ]
    },
    {
     "name": "stdout",
     "output_type": "stream",
     "text": [
      "Retrieving: https://www.lamudi.com.ph/metro-manila/mandaluyong/condominium/rent/?page=3 --- Success!\n"
     ]
    },
    {
     "name": "stderr",
     "output_type": "stream",
     "text": [
      "Scraping pages:   6%|▋         | 3/48 [00:07<01:48,  2.41s/it]"
     ]
    },
    {
     "name": "stdout",
     "output_type": "stream",
     "text": [
      "Retrieving: https://www.lamudi.com.ph/metro-manila/mandaluyong/condominium/rent/?page=4 --- Success!\n"
     ]
    },
    {
     "name": "stderr",
     "output_type": "stream",
     "text": [
      "Scraping pages:   8%|▊         | 4/48 [00:10<01:43,  2.36s/it]"
     ]
    },
    {
     "name": "stdout",
     "output_type": "stream",
     "text": [
      "Retrieving: https://www.lamudi.com.ph/metro-manila/mandaluyong/condominium/rent/?page=5 --- Success!\n"
     ]
    },
    {
     "name": "stderr",
     "output_type": "stream",
     "text": [
      "Scraping pages:  10%|█         | 5/48 [00:13<01:53,  2.65s/it]"
     ]
    },
    {
     "name": "stdout",
     "output_type": "stream",
     "text": [
      "Retrieving: https://www.lamudi.com.ph/metro-manila/mandaluyong/condominium/rent/?page=6 --- Success!\n"
     ]
    },
    {
     "name": "stderr",
     "output_type": "stream",
     "text": [
      "Scraping pages:  12%|█▎        | 6/48 [00:15<01:41,  2.42s/it]"
     ]
    },
    {
     "name": "stdout",
     "output_type": "stream",
     "text": [
      "Retrieving: https://www.lamudi.com.ph/metro-manila/mandaluyong/condominium/rent/?page=7 --- Success!\n"
     ]
    },
    {
     "name": "stderr",
     "output_type": "stream",
     "text": [
      "Scraping pages:  15%|█▍        | 7/48 [00:17<01:41,  2.48s/it]"
     ]
    },
    {
     "name": "stdout",
     "output_type": "stream",
     "text": [
      "Retrieving: https://www.lamudi.com.ph/metro-manila/mandaluyong/condominium/rent/?page=8 --- Success!\n"
     ]
    },
    {
     "name": "stderr",
     "output_type": "stream",
     "text": [
      "Scraping pages:  17%|█▋        | 8/48 [00:20<01:35,  2.38s/it]"
     ]
    },
    {
     "name": "stdout",
     "output_type": "stream",
     "text": [
      "Retrieving: https://www.lamudi.com.ph/metro-manila/mandaluyong/condominium/rent/?page=9 --- Success!\n"
     ]
    },
    {
     "name": "stderr",
     "output_type": "stream",
     "text": [
      "Scraping pages:  19%|█▉        | 9/48 [00:22<01:37,  2.51s/it]"
     ]
    },
    {
     "name": "stdout",
     "output_type": "stream",
     "text": [
      "Retrieving: https://www.lamudi.com.ph/metro-manila/mandaluyong/condominium/rent/?page=10 --- Success!\n"
     ]
    },
    {
     "name": "stderr",
     "output_type": "stream",
     "text": [
      "Scraping pages:  21%|██        | 10/48 [00:25<01:31,  2.41s/it]"
     ]
    },
    {
     "name": "stdout",
     "output_type": "stream",
     "text": [
      "Retrieving: https://www.lamudi.com.ph/metro-manila/mandaluyong/condominium/rent/?page=11 --- Success!\n"
     ]
    },
    {
     "name": "stderr",
     "output_type": "stream",
     "text": [
      "Scraping pages:  23%|██▎       | 11/48 [00:27<01:25,  2.32s/it]"
     ]
    },
    {
     "name": "stdout",
     "output_type": "stream",
     "text": [
      "Retrieving: https://www.lamudi.com.ph/metro-manila/mandaluyong/condominium/rent/?page=12 --- Success!\n"
     ]
    },
    {
     "name": "stderr",
     "output_type": "stream",
     "text": [
      "Scraping pages:  25%|██▌       | 12/48 [00:30<01:28,  2.47s/it]"
     ]
    },
    {
     "name": "stdout",
     "output_type": "stream",
     "text": [
      "Retrieving: https://www.lamudi.com.ph/metro-manila/mandaluyong/condominium/rent/?page=13 --- Success!\n"
     ]
    },
    {
     "name": "stderr",
     "output_type": "stream",
     "text": [
      "Scraping pages:  27%|██▋       | 13/48 [00:32<01:23,  2.39s/it]"
     ]
    },
    {
     "name": "stdout",
     "output_type": "stream",
     "text": [
      "Retrieving: https://www.lamudi.com.ph/metro-manila/mandaluyong/condominium/rent/?page=14 --- Success!\n"
     ]
    },
    {
     "name": "stderr",
     "output_type": "stream",
     "text": [
      "Scraping pages:  29%|██▉       | 14/48 [00:34<01:19,  2.33s/it]"
     ]
    },
    {
     "name": "stdout",
     "output_type": "stream",
     "text": [
      "Retrieving: https://www.lamudi.com.ph/metro-manila/mandaluyong/condominium/rent/?page=15 --- Success!\n"
     ]
    },
    {
     "name": "stderr",
     "output_type": "stream",
     "text": [
      "Scraping pages:  31%|███▏      | 15/48 [00:37<01:22,  2.49s/it]"
     ]
    },
    {
     "name": "stdout",
     "output_type": "stream",
     "text": [
      "Retrieving: https://www.lamudi.com.ph/metro-manila/mandaluyong/condominium/rent/?page=16 --- Success!\n"
     ]
    },
    {
     "name": "stderr",
     "output_type": "stream",
     "text": [
      "Scraping pages:  33%|███▎      | 16/48 [00:39<01:19,  2.48s/it]"
     ]
    },
    {
     "name": "stdout",
     "output_type": "stream",
     "text": [
      "Retrieving: https://www.lamudi.com.ph/metro-manila/mandaluyong/condominium/rent/?page=17 --- Success!\n"
     ]
    },
    {
     "name": "stderr",
     "output_type": "stream",
     "text": [
      "Scraping pages:  35%|███▌      | 17/48 [00:42<01:18,  2.53s/it]"
     ]
    },
    {
     "name": "stdout",
     "output_type": "stream",
     "text": [
      "Retrieving: https://www.lamudi.com.ph/metro-manila/mandaluyong/condominium/rent/?page=18 --- Success!\n"
     ]
    },
    {
     "name": "stderr",
     "output_type": "stream",
     "text": [
      "Scraping pages:  38%|███▊      | 18/48 [00:45<01:21,  2.71s/it]"
     ]
    },
    {
     "name": "stdout",
     "output_type": "stream",
     "text": [
      "Retrieving: https://www.lamudi.com.ph/metro-manila/mandaluyong/condominium/rent/?page=19 --- Success!\n"
     ]
    },
    {
     "name": "stderr",
     "output_type": "stream",
     "text": [
      "Scraping pages:  40%|███▉      | 19/48 [00:48<01:16,  2.64s/it]"
     ]
    },
    {
     "name": "stdout",
     "output_type": "stream",
     "text": [
      "Retrieving: https://www.lamudi.com.ph/metro-manila/mandaluyong/condominium/rent/?page=20 --- Success!\n"
     ]
    },
    {
     "name": "stderr",
     "output_type": "stream",
     "text": [
      "Scraping pages:  42%|████▏     | 20/48 [00:50<01:13,  2.61s/it]"
     ]
    },
    {
     "name": "stdout",
     "output_type": "stream",
     "text": [
      "Retrieving: https://www.lamudi.com.ph/metro-manila/mandaluyong/condominium/rent/?page=21 --- Success!\n"
     ]
    },
    {
     "name": "stderr",
     "output_type": "stream",
     "text": [
      "Scraping pages:  44%|████▍     | 21/48 [00:52<01:06,  2.45s/it]"
     ]
    },
    {
     "name": "stdout",
     "output_type": "stream",
     "text": [
      "Retrieving: https://www.lamudi.com.ph/metro-manila/mandaluyong/condominium/rent/?page=22 --- Success!\n"
     ]
    },
    {
     "name": "stderr",
     "output_type": "stream",
     "text": [
      "Scraping pages:  46%|████▌     | 22/48 [00:54<01:02,  2.40s/it]"
     ]
    },
    {
     "name": "stdout",
     "output_type": "stream",
     "text": [
      "Retrieving: https://www.lamudi.com.ph/metro-manila/mandaluyong/condominium/rent/?page=23 --- Success!\n"
     ]
    },
    {
     "name": "stderr",
     "output_type": "stream",
     "text": [
      "Scraping pages:  48%|████▊     | 23/48 [00:56<00:55,  2.22s/it]"
     ]
    },
    {
     "name": "stdout",
     "output_type": "stream",
     "text": [
      "Retrieving: https://www.lamudi.com.ph/metro-manila/mandaluyong/condominium/rent/?page=24 --- Success!\n"
     ]
    },
    {
     "name": "stderr",
     "output_type": "stream",
     "text": [
      "Scraping pages:  50%|█████     | 24/48 [00:59<00:54,  2.28s/it]"
     ]
    },
    {
     "name": "stdout",
     "output_type": "stream",
     "text": [
      "Retrieving: https://www.lamudi.com.ph/metro-manila/mandaluyong/condominium/rent/?page=25 --- Success!\n"
     ]
    },
    {
     "name": "stderr",
     "output_type": "stream",
     "text": [
      "Scraping pages:  52%|█████▏    | 25/48 [01:04<01:10,  3.08s/it]"
     ]
    },
    {
     "name": "stdout",
     "output_type": "stream",
     "text": [
      "Retrieving: https://www.lamudi.com.ph/metro-manila/mandaluyong/condominium/rent/?page=26 --- Success!\n"
     ]
    },
    {
     "name": "stderr",
     "output_type": "stream",
     "text": [
      "Scraping pages:  54%|█████▍    | 26/48 [01:06<01:03,  2.88s/it]"
     ]
    },
    {
     "name": "stdout",
     "output_type": "stream",
     "text": [
      "Retrieving: https://www.lamudi.com.ph/metro-manila/mandaluyong/condominium/rent/?page=27 --- Success!\n"
     ]
    },
    {
     "name": "stderr",
     "output_type": "stream",
     "text": [
      "Scraping pages:  56%|█████▋    | 27/48 [01:08<00:56,  2.69s/it]"
     ]
    },
    {
     "name": "stdout",
     "output_type": "stream",
     "text": [
      "Retrieving: https://www.lamudi.com.ph/metro-manila/mandaluyong/condominium/rent/?page=28 --- Success!\n"
     ]
    },
    {
     "name": "stderr",
     "output_type": "stream",
     "text": [
      "Scraping pages:  58%|█████▊    | 28/48 [01:10<00:50,  2.50s/it]"
     ]
    },
    {
     "name": "stdout",
     "output_type": "stream",
     "text": [
      "Retrieving: https://www.lamudi.com.ph/metro-manila/mandaluyong/condominium/rent/?page=29 --- Success!\n"
     ]
    },
    {
     "name": "stderr",
     "output_type": "stream",
     "text": [
      "Scraping pages:  60%|██████    | 29/48 [01:12<00:44,  2.36s/it]"
     ]
    },
    {
     "name": "stdout",
     "output_type": "stream",
     "text": [
      "Retrieving: https://www.lamudi.com.ph/metro-manila/mandaluyong/condominium/rent/?page=30 --- Success!\n"
     ]
    },
    {
     "name": "stderr",
     "output_type": "stream",
     "text": [
      "Scraping pages:  62%|██████▎   | 30/48 [01:14<00:40,  2.23s/it]"
     ]
    },
    {
     "name": "stdout",
     "output_type": "stream",
     "text": [
      "Retrieving: https://www.lamudi.com.ph/metro-manila/mandaluyong/condominium/rent/?page=31 --- Success!\n"
     ]
    },
    {
     "name": "stderr",
     "output_type": "stream",
     "text": [
      "Scraping pages:  65%|██████▍   | 31/48 [01:17<00:39,  2.30s/it]"
     ]
    },
    {
     "name": "stdout",
     "output_type": "stream",
     "text": [
      "Retrieving: https://www.lamudi.com.ph/metro-manila/mandaluyong/condominium/rent/?page=32 --- Success!\n"
     ]
    },
    {
     "name": "stderr",
     "output_type": "stream",
     "text": [
      "Scraping pages:  67%|██████▋   | 32/48 [01:19<00:36,  2.30s/it]"
     ]
    },
    {
     "name": "stdout",
     "output_type": "stream",
     "text": [
      "Retrieving: https://www.lamudi.com.ph/metro-manila/mandaluyong/condominium/rent/?page=33 --- Success!\n"
     ]
    },
    {
     "name": "stderr",
     "output_type": "stream",
     "text": [
      "Scraping pages:  69%|██████▉   | 33/48 [01:21<00:34,  2.32s/it]"
     ]
    },
    {
     "name": "stdout",
     "output_type": "stream",
     "text": [
      "Retrieving: https://www.lamudi.com.ph/metro-manila/mandaluyong/condominium/rent/?page=34 --- Success!\n"
     ]
    },
    {
     "name": "stderr",
     "output_type": "stream",
     "text": [
      "Scraping pages:  71%|███████   | 34/48 [01:24<00:34,  2.44s/it]"
     ]
    },
    {
     "name": "stdout",
     "output_type": "stream",
     "text": [
      "Retrieving: https://www.lamudi.com.ph/metro-manila/mandaluyong/condominium/rent/?page=35 --- Success!\n"
     ]
    },
    {
     "name": "stderr",
     "output_type": "stream",
     "text": [
      "Scraping pages:  73%|███████▎  | 35/48 [01:26<00:30,  2.37s/it]"
     ]
    },
    {
     "name": "stdout",
     "output_type": "stream",
     "text": [
      "Retrieving: https://www.lamudi.com.ph/metro-manila/mandaluyong/condominium/rent/?page=36 --- Success!\n"
     ]
    },
    {
     "name": "stderr",
     "output_type": "stream",
     "text": [
      "Scraping pages:  75%|███████▌  | 36/48 [01:29<00:28,  2.35s/it]"
     ]
    },
    {
     "name": "stdout",
     "output_type": "stream",
     "text": [
      "Retrieving: https://www.lamudi.com.ph/metro-manila/mandaluyong/condominium/rent/?page=37 --- Success!\n"
     ]
    },
    {
     "name": "stderr",
     "output_type": "stream",
     "text": [
      "Scraping pages:  77%|███████▋  | 37/48 [01:31<00:25,  2.34s/it]"
     ]
    },
    {
     "name": "stdout",
     "output_type": "stream",
     "text": [
      "Retrieving: https://www.lamudi.com.ph/metro-manila/mandaluyong/condominium/rent/?page=38 --- Success!\n"
     ]
    },
    {
     "name": "stderr",
     "output_type": "stream",
     "text": [
      "Scraping pages:  79%|███████▉  | 38/48 [01:33<00:22,  2.22s/it]"
     ]
    },
    {
     "name": "stdout",
     "output_type": "stream",
     "text": [
      "Retrieving: https://www.lamudi.com.ph/metro-manila/mandaluyong/condominium/rent/?page=39 --- Success!\n"
     ]
    },
    {
     "name": "stderr",
     "output_type": "stream",
     "text": [
      "Scraping pages:  81%|████████▏ | 39/48 [01:35<00:18,  2.11s/it]"
     ]
    },
    {
     "name": "stdout",
     "output_type": "stream",
     "text": [
      "Retrieving: https://www.lamudi.com.ph/metro-manila/mandaluyong/condominium/rent/?page=40 --- Success!\n"
     ]
    },
    {
     "name": "stderr",
     "output_type": "stream",
     "text": [
      "Scraping pages:  83%|████████▎ | 40/48 [01:37<00:17,  2.17s/it]"
     ]
    },
    {
     "name": "stdout",
     "output_type": "stream",
     "text": [
      "Retrieving: https://www.lamudi.com.ph/metro-manila/mandaluyong/condominium/rent/?page=41 --- Success!\n"
     ]
    },
    {
     "name": "stderr",
     "output_type": "stream",
     "text": [
      "Scraping pages:  85%|████████▌ | 41/48 [01:39<00:14,  2.09s/it]"
     ]
    },
    {
     "name": "stdout",
     "output_type": "stream",
     "text": [
      "Retrieving: https://www.lamudi.com.ph/metro-manila/mandaluyong/condominium/rent/?page=42 --- Success!\n"
     ]
    },
    {
     "name": "stderr",
     "output_type": "stream",
     "text": [
      "Scraping pages:  88%|████████▊ | 42/48 [01:41<00:13,  2.21s/it]"
     ]
    },
    {
     "name": "stdout",
     "output_type": "stream",
     "text": [
      "Retrieving: https://www.lamudi.com.ph/metro-manila/mandaluyong/condominium/rent/?page=43 --- Success!\n"
     ]
    },
    {
     "name": "stderr",
     "output_type": "stream",
     "text": [
      "Scraping pages:  90%|████████▉ | 43/48 [01:43<00:10,  2.12s/it]"
     ]
    },
    {
     "name": "stdout",
     "output_type": "stream",
     "text": [
      "Retrieving: https://www.lamudi.com.ph/metro-manila/mandaluyong/condominium/rent/?page=44 --- Success!\n"
     ]
    },
    {
     "name": "stderr",
     "output_type": "stream",
     "text": [
      "Scraping pages:  92%|█████████▏| 44/48 [01:46<00:08,  2.14s/it]"
     ]
    },
    {
     "name": "stdout",
     "output_type": "stream",
     "text": [
      "Retrieving: https://www.lamudi.com.ph/metro-manila/mandaluyong/condominium/rent/?page=45 --- Success!\n"
     ]
    },
    {
     "name": "stderr",
     "output_type": "stream",
     "text": [
      "Scraping pages:  94%|█████████▍| 45/48 [01:48<00:06,  2.11s/it]"
     ]
    },
    {
     "name": "stdout",
     "output_type": "stream",
     "text": [
      "Retrieving: https://www.lamudi.com.ph/metro-manila/mandaluyong/condominium/rent/?page=46 --- Success!\n"
     ]
    },
    {
     "name": "stderr",
     "output_type": "stream",
     "text": [
      "Scraping pages:  96%|█████████▌| 46/48 [01:50<00:04,  2.11s/it]"
     ]
    },
    {
     "name": "stdout",
     "output_type": "stream",
     "text": [
      "Retrieving: https://www.lamudi.com.ph/metro-manila/mandaluyong/condominium/rent/?page=47 --- Success!\n"
     ]
    },
    {
     "name": "stderr",
     "output_type": "stream",
     "text": [
      "Scraping pages:  98%|█████████▊| 47/48 [01:53<00:02,  2.33s/it]"
     ]
    },
    {
     "name": "stdout",
     "output_type": "stream",
     "text": [
      "Retrieving: https://www.lamudi.com.ph/metro-manila/mandaluyong/condominium/rent/?page=48 --- Success!\n"
     ]
    },
    {
     "name": "stderr",
     "output_type": "stream",
     "text": [
      "Scraping pages: 100%|██████████| 48/48 [01:55<00:00,  2.41s/it]\n",
      "Scraping pages:   0%|          | 0/1 [00:00<?, ?it/s]"
     ]
    },
    {
     "name": "stdout",
     "output_type": "stream",
     "text": [
      "Retrieving: https://www.lamudi.com.ph/metro-manila/mandaluyong/house/rent/?page=1 --- Success!\n"
     ]
    },
    {
     "name": "stderr",
     "output_type": "stream",
     "text": [
      "Scraping pages: 100%|██████████| 1/1 [00:03<00:00,  3.19s/it]\n",
      "Scraping pages:   0%|          | 0/1 [00:00<?, ?it/s]"
     ]
    },
    {
     "name": "stdout",
     "output_type": "stream",
     "text": [
      "Retrieving: https://www.lamudi.com.ph/metro-manila/mandaluyong/land/rent/?page=1 --- Success!\n"
     ]
    },
    {
     "name": "stderr",
     "output_type": "stream",
     "text": [
      "Scraping pages: 100%|██████████| 1/1 [00:05<00:00,  5.86s/it]\n"
     ]
    }
   ],
   "source": [
    "rent_mandaluyong_apartment = property_crawler(base_url='https://www.lamudi.com.ph/metro-manila/mandaluyong/apartment/rent/?page=', start=1, end=3)\n",
    "rent_mandaluyong_condo = property_crawler(base_url='https://www.lamudi.com.ph/metro-manila/mandaluyong/condominium/rent/?page=', start=1, end=48)\n",
    "rent_mandaluyong_house = property_crawler(base_url='https://www.lamudi.com.ph/metro-manila/mandaluyong/house/rent/?page=', start=1, end=1)\n",
    "rent_mandaluyong_land = property_crawler(base_url='https://www.lamudi.com.ph/metro-manila/mandaluyong/land/rent/?page=', start=1, end=1)"
   ]
  },
  {
   "cell_type": "code",
   "execution_count": 23,
   "metadata": {},
   "outputs": [],
   "source": [
    "mandaluyong_4sale = pd.concat([mandaluyong_condo, mandaluyong_house, mandaluyong_land])\n",
    "mandaluyong_4sale.to_csv('data/for sale/mandaluyong_4sale.csv')\n",
    "\n",
    "mandaluyong_4rent = pd.concat([rent_mandaluyong_apartment, rent_mandaluyong_condo, rent_mandaluyong_house, rent_mandaluyong_land])\n",
    "mandaluyong_4rent.to_csv('data/for rent/mandaluyong_4rent.csv')"
   ]
  },
  {
   "cell_type": "code",
   "execution_count": 24,
   "metadata": {},
   "outputs": [
    {
     "name": "stderr",
     "output_type": "stream",
     "text": [
      "Scraping pages:   0%|          | 0/22 [00:00<?, ?it/s]"
     ]
    },
    {
     "name": "stdout",
     "output_type": "stream",
     "text": [
      "Retrieving: https://www.lamudi.com.ph/metro-manila/san-juan-5/condominium/buy/?script=23&page=1 --- Success!\n"
     ]
    },
    {
     "name": "stderr",
     "output_type": "stream",
     "text": [
      "Scraping pages:   5%|▍         | 1/22 [00:02<00:51,  2.45s/it]"
     ]
    },
    {
     "name": "stdout",
     "output_type": "stream",
     "text": [
      "Retrieving: https://www.lamudi.com.ph/metro-manila/san-juan-5/condominium/buy/?script=23&page=2 --- Success!\n"
     ]
    },
    {
     "name": "stderr",
     "output_type": "stream",
     "text": [
      "Scraping pages:   9%|▉         | 2/22 [00:04<00:44,  2.23s/it]"
     ]
    },
    {
     "name": "stdout",
     "output_type": "stream",
     "text": [
      "Retrieving: https://www.lamudi.com.ph/metro-manila/san-juan-5/condominium/buy/?script=23&page=3 --- Success!\n"
     ]
    },
    {
     "name": "stderr",
     "output_type": "stream",
     "text": [
      "Scraping pages:  14%|█▎        | 3/22 [00:06<00:41,  2.16s/it]"
     ]
    },
    {
     "name": "stdout",
     "output_type": "stream",
     "text": [
      "Retrieving: https://www.lamudi.com.ph/metro-manila/san-juan-5/condominium/buy/?script=23&page=4 --- Success!\n"
     ]
    },
    {
     "name": "stderr",
     "output_type": "stream",
     "text": [
      "Scraping pages:  18%|█▊        | 4/22 [00:08<00:38,  2.15s/it]"
     ]
    },
    {
     "name": "stdout",
     "output_type": "stream",
     "text": [
      "Retrieving: https://www.lamudi.com.ph/metro-manila/san-juan-5/condominium/buy/?script=23&page=5 --- Success!\n"
     ]
    },
    {
     "name": "stderr",
     "output_type": "stream",
     "text": [
      "Scraping pages:  23%|██▎       | 5/22 [00:10<00:34,  2.05s/it]"
     ]
    },
    {
     "name": "stdout",
     "output_type": "stream",
     "text": [
      "Retrieving: https://www.lamudi.com.ph/metro-manila/san-juan-5/condominium/buy/?script=23&page=6 --- Success!\n"
     ]
    },
    {
     "name": "stderr",
     "output_type": "stream",
     "text": [
      "Scraping pages:  27%|██▋       | 6/22 [00:12<00:32,  2.01s/it]"
     ]
    },
    {
     "name": "stdout",
     "output_type": "stream",
     "text": [
      "Retrieving: https://www.lamudi.com.ph/metro-manila/san-juan-5/condominium/buy/?script=23&page=7 --- Success!\n"
     ]
    },
    {
     "name": "stderr",
     "output_type": "stream",
     "text": [
      "Scraping pages:  32%|███▏      | 7/22 [00:14<00:31,  2.12s/it]"
     ]
    },
    {
     "name": "stdout",
     "output_type": "stream",
     "text": [
      "Retrieving: https://www.lamudi.com.ph/metro-manila/san-juan-5/condominium/buy/?script=23&page=8 --- Success!\n"
     ]
    },
    {
     "name": "stderr",
     "output_type": "stream",
     "text": [
      "Scraping pages:  36%|███▋      | 8/22 [00:17<00:30,  2.21s/it]"
     ]
    },
    {
     "name": "stdout",
     "output_type": "stream",
     "text": [
      "Retrieving: https://www.lamudi.com.ph/metro-manila/san-juan-5/condominium/buy/?script=23&page=9 --- Success!\n"
     ]
    },
    {
     "name": "stderr",
     "output_type": "stream",
     "text": [
      "Scraping pages:  41%|████      | 9/22 [00:19<00:29,  2.25s/it]"
     ]
    },
    {
     "name": "stdout",
     "output_type": "stream",
     "text": [
      "Retrieving: https://www.lamudi.com.ph/metro-manila/san-juan-5/condominium/buy/?script=23&page=10 --- Success!\n"
     ]
    },
    {
     "name": "stderr",
     "output_type": "stream",
     "text": [
      "Scraping pages:  45%|████▌     | 10/22 [00:21<00:25,  2.15s/it]"
     ]
    },
    {
     "name": "stdout",
     "output_type": "stream",
     "text": [
      "Retrieving: https://www.lamudi.com.ph/metro-manila/san-juan-5/condominium/buy/?script=23&page=11 --- Success!\n"
     ]
    },
    {
     "name": "stderr",
     "output_type": "stream",
     "text": [
      "Scraping pages:  50%|█████     | 11/22 [00:24<00:25,  2.32s/it]"
     ]
    },
    {
     "name": "stdout",
     "output_type": "stream",
     "text": [
      "Retrieving: https://www.lamudi.com.ph/metro-manila/san-juan-5/condominium/buy/?script=23&page=12 --- Success!\n"
     ]
    },
    {
     "name": "stderr",
     "output_type": "stream",
     "text": [
      "Scraping pages:  55%|█████▍    | 12/22 [00:26<00:22,  2.25s/it]"
     ]
    },
    {
     "name": "stdout",
     "output_type": "stream",
     "text": [
      "Retrieving: https://www.lamudi.com.ph/metro-manila/san-juan-5/condominium/buy/?script=23&page=13 --- Success!\n"
     ]
    },
    {
     "name": "stderr",
     "output_type": "stream",
     "text": [
      "Scraping pages:  59%|█████▉    | 13/22 [00:28<00:19,  2.22s/it]"
     ]
    },
    {
     "name": "stdout",
     "output_type": "stream",
     "text": [
      "Retrieving: https://www.lamudi.com.ph/metro-manila/san-juan-5/condominium/buy/?script=23&page=14 --- Success!\n"
     ]
    },
    {
     "name": "stderr",
     "output_type": "stream",
     "text": [
      "Scraping pages:  64%|██████▎   | 14/22 [00:30<00:17,  2.14s/it]"
     ]
    },
    {
     "name": "stdout",
     "output_type": "stream",
     "text": [
      "Retrieving: https://www.lamudi.com.ph/metro-manila/san-juan-5/condominium/buy/?script=23&page=15 --- Success!\n"
     ]
    },
    {
     "name": "stderr",
     "output_type": "stream",
     "text": [
      "Scraping pages:  68%|██████▊   | 15/22 [00:32<00:15,  2.17s/it]"
     ]
    },
    {
     "name": "stdout",
     "output_type": "stream",
     "text": [
      "Retrieving: https://www.lamudi.com.ph/metro-manila/san-juan-5/condominium/buy/?script=23&page=16 --- Success!\n"
     ]
    },
    {
     "name": "stderr",
     "output_type": "stream",
     "text": [
      "Scraping pages:  73%|███████▎  | 16/22 [00:34<00:13,  2.17s/it]"
     ]
    },
    {
     "name": "stdout",
     "output_type": "stream",
     "text": [
      "Retrieving: https://www.lamudi.com.ph/metro-manila/san-juan-5/condominium/buy/?script=23&page=17 --- Success!\n"
     ]
    },
    {
     "name": "stderr",
     "output_type": "stream",
     "text": [
      "Scraping pages:  77%|███████▋  | 17/22 [00:37<00:11,  2.22s/it]"
     ]
    },
    {
     "name": "stdout",
     "output_type": "stream",
     "text": [
      "Retrieving: https://www.lamudi.com.ph/metro-manila/san-juan-5/condominium/buy/?script=23&page=18 --- Success!\n"
     ]
    },
    {
     "name": "stderr",
     "output_type": "stream",
     "text": [
      "Scraping pages:  82%|████████▏ | 18/22 [00:39<00:09,  2.30s/it]"
     ]
    },
    {
     "name": "stdout",
     "output_type": "stream",
     "text": [
      "Retrieving: https://www.lamudi.com.ph/metro-manila/san-juan-5/condominium/buy/?script=23&page=19 --- Success!\n"
     ]
    },
    {
     "name": "stderr",
     "output_type": "stream",
     "text": [
      "Scraping pages:  86%|████████▋ | 19/22 [00:41<00:06,  2.22s/it]"
     ]
    },
    {
     "name": "stdout",
     "output_type": "stream",
     "text": [
      "Retrieving: https://www.lamudi.com.ph/metro-manila/san-juan-5/condominium/buy/?script=23&page=20 --- Success!\n"
     ]
    },
    {
     "name": "stderr",
     "output_type": "stream",
     "text": [
      "Scraping pages:  91%|█████████ | 20/22 [00:44<00:04,  2.29s/it]"
     ]
    },
    {
     "name": "stdout",
     "output_type": "stream",
     "text": [
      "Retrieving: https://www.lamudi.com.ph/metro-manila/san-juan-5/condominium/buy/?script=23&page=21 --- Success!\n"
     ]
    },
    {
     "name": "stderr",
     "output_type": "stream",
     "text": [
      "Scraping pages:  95%|█████████▌| 21/22 [00:46<00:02,  2.25s/it]"
     ]
    },
    {
     "name": "stdout",
     "output_type": "stream",
     "text": [
      "Retrieving: https://www.lamudi.com.ph/metro-manila/san-juan-5/condominium/buy/?script=23&page=22 --- Success!\n"
     ]
    },
    {
     "name": "stderr",
     "output_type": "stream",
     "text": [
      "Scraping pages: 100%|██████████| 22/22 [00:48<00:00,  2.22s/it]\n",
      "Scraping pages:   0%|          | 0/28 [00:00<?, ?it/s]"
     ]
    },
    {
     "name": "stdout",
     "output_type": "stream",
     "text": [
      "Retrieving: https://www.lamudi.com.ph/metro-manila/san-juan-5/house/buy/?script=23&page=1 --- Success!\n"
     ]
    },
    {
     "name": "stderr",
     "output_type": "stream",
     "text": [
      "Scraping pages:   4%|▎         | 1/28 [00:03<01:21,  3.01s/it]"
     ]
    },
    {
     "name": "stdout",
     "output_type": "stream",
     "text": [
      "Retrieving: https://www.lamudi.com.ph/metro-manila/san-juan-5/house/buy/?script=23&page=2 --- Success!\n"
     ]
    },
    {
     "name": "stderr",
     "output_type": "stream",
     "text": [
      "Scraping pages:   7%|▋         | 2/28 [00:05<01:12,  2.77s/it]"
     ]
    },
    {
     "name": "stdout",
     "output_type": "stream",
     "text": [
      "Retrieving: https://www.lamudi.com.ph/metro-manila/san-juan-5/house/buy/?script=23&page=3 --- Success!\n"
     ]
    },
    {
     "name": "stderr",
     "output_type": "stream",
     "text": [
      "Scraping pages:  11%|█         | 3/28 [00:09<01:25,  3.41s/it]"
     ]
    },
    {
     "name": "stdout",
     "output_type": "stream",
     "text": [
      "Retrieving: https://www.lamudi.com.ph/metro-manila/san-juan-5/house/buy/?script=23&page=4 --- Success!\n"
     ]
    },
    {
     "name": "stderr",
     "output_type": "stream",
     "text": [
      "Scraping pages:  14%|█▍        | 4/28 [00:13<01:21,  3.38s/it]"
     ]
    },
    {
     "name": "stdout",
     "output_type": "stream",
     "text": [
      "Retrieving: https://www.lamudi.com.ph/metro-manila/san-juan-5/house/buy/?script=23&page=5 --- Success!\n"
     ]
    },
    {
     "name": "stderr",
     "output_type": "stream",
     "text": [
      "Scraping pages:  18%|█▊        | 5/28 [00:15<01:08,  2.97s/it]"
     ]
    },
    {
     "name": "stdout",
     "output_type": "stream",
     "text": [
      "Retrieving: https://www.lamudi.com.ph/metro-manila/san-juan-5/house/buy/?script=23&page=6 --- Success!\n"
     ]
    },
    {
     "name": "stderr",
     "output_type": "stream",
     "text": [
      "Scraping pages:  21%|██▏       | 6/28 [00:17<00:59,  2.70s/it]"
     ]
    },
    {
     "name": "stdout",
     "output_type": "stream",
     "text": [
      "Retrieving: https://www.lamudi.com.ph/metro-manila/san-juan-5/house/buy/?script=23&page=7 --- Success!\n"
     ]
    },
    {
     "name": "stderr",
     "output_type": "stream",
     "text": [
      "Scraping pages:  25%|██▌       | 7/28 [00:19<00:52,  2.51s/it]"
     ]
    },
    {
     "name": "stdout",
     "output_type": "stream",
     "text": [
      "Retrieving: https://www.lamudi.com.ph/metro-manila/san-juan-5/house/buy/?script=23&page=8 --- Success!\n"
     ]
    },
    {
     "name": "stderr",
     "output_type": "stream",
     "text": [
      "Scraping pages:  29%|██▊       | 8/28 [00:21<00:46,  2.34s/it]"
     ]
    },
    {
     "name": "stdout",
     "output_type": "stream",
     "text": [
      "Retrieving: https://www.lamudi.com.ph/metro-manila/san-juan-5/house/buy/?script=23&page=9 --- Success!\n"
     ]
    },
    {
     "name": "stderr",
     "output_type": "stream",
     "text": [
      "Scraping pages:  32%|███▏      | 9/28 [00:23<00:43,  2.28s/it]"
     ]
    },
    {
     "name": "stdout",
     "output_type": "stream",
     "text": [
      "Retrieving: https://www.lamudi.com.ph/metro-manila/san-juan-5/house/buy/?script=23&page=10 --- Success!\n"
     ]
    },
    {
     "name": "stderr",
     "output_type": "stream",
     "text": [
      "Scraping pages:  36%|███▌      | 10/28 [00:26<00:41,  2.32s/it]"
     ]
    },
    {
     "name": "stdout",
     "output_type": "stream",
     "text": [
      "Retrieving: https://www.lamudi.com.ph/metro-manila/san-juan-5/house/buy/?script=23&page=11 --- Success!\n"
     ]
    },
    {
     "name": "stderr",
     "output_type": "stream",
     "text": [
      "Scraping pages:  39%|███▉      | 11/28 [00:28<00:36,  2.17s/it]"
     ]
    },
    {
     "name": "stdout",
     "output_type": "stream",
     "text": [
      "Retrieving: https://www.lamudi.com.ph/metro-manila/san-juan-5/house/buy/?script=23&page=12 --- Success!\n"
     ]
    },
    {
     "name": "stderr",
     "output_type": "stream",
     "text": [
      "Scraping pages:  43%|████▎     | 12/28 [00:30<00:36,  2.28s/it]"
     ]
    },
    {
     "name": "stdout",
     "output_type": "stream",
     "text": [
      "Retrieving: https://www.lamudi.com.ph/metro-manila/san-juan-5/house/buy/?script=23&page=13 --- Success!\n"
     ]
    },
    {
     "name": "stderr",
     "output_type": "stream",
     "text": [
      "Scraping pages:  46%|████▋     | 13/28 [00:32<00:32,  2.16s/it]"
     ]
    },
    {
     "name": "stdout",
     "output_type": "stream",
     "text": [
      "Retrieving: https://www.lamudi.com.ph/metro-manila/san-juan-5/house/buy/?script=23&page=14 --- Success!\n"
     ]
    },
    {
     "name": "stderr",
     "output_type": "stream",
     "text": [
      "Scraping pages:  50%|█████     | 14/28 [00:34<00:29,  2.12s/it]"
     ]
    },
    {
     "name": "stdout",
     "output_type": "stream",
     "text": [
      "Retrieving: https://www.lamudi.com.ph/metro-manila/san-juan-5/house/buy/?script=23&page=15 --- Success!\n"
     ]
    },
    {
     "name": "stderr",
     "output_type": "stream",
     "text": [
      "Scraping pages:  54%|█████▎    | 15/28 [00:36<00:28,  2.16s/it]"
     ]
    },
    {
     "name": "stdout",
     "output_type": "stream",
     "text": [
      "Retrieving: https://www.lamudi.com.ph/metro-manila/san-juan-5/house/buy/?script=23&page=16 --- Success!\n"
     ]
    },
    {
     "name": "stderr",
     "output_type": "stream",
     "text": [
      "Scraping pages:  57%|█████▋    | 16/28 [00:38<00:25,  2.15s/it]"
     ]
    },
    {
     "name": "stdout",
     "output_type": "stream",
     "text": [
      "Retrieving: https://www.lamudi.com.ph/metro-manila/san-juan-5/house/buy/?script=23&page=17 --- Success!\n"
     ]
    },
    {
     "name": "stderr",
     "output_type": "stream",
     "text": [
      "Scraping pages:  61%|██████    | 17/28 [00:40<00:23,  2.11s/it]"
     ]
    },
    {
     "name": "stdout",
     "output_type": "stream",
     "text": [
      "Retrieving: https://www.lamudi.com.ph/metro-manila/san-juan-5/house/buy/?script=23&page=18 --- Success!\n"
     ]
    },
    {
     "name": "stderr",
     "output_type": "stream",
     "text": [
      "Scraping pages:  64%|██████▍   | 18/28 [00:42<00:21,  2.12s/it]"
     ]
    },
    {
     "name": "stdout",
     "output_type": "stream",
     "text": [
      "Retrieving: https://www.lamudi.com.ph/metro-manila/san-juan-5/house/buy/?script=23&page=19 --- Success!\n"
     ]
    },
    {
     "name": "stderr",
     "output_type": "stream",
     "text": [
      "Scraping pages:  68%|██████▊   | 19/28 [00:45<00:18,  2.10s/it]"
     ]
    },
    {
     "name": "stdout",
     "output_type": "stream",
     "text": [
      "Retrieving: https://www.lamudi.com.ph/metro-manila/san-juan-5/house/buy/?script=23&page=20 --- Success!\n"
     ]
    },
    {
     "name": "stderr",
     "output_type": "stream",
     "text": [
      "Scraping pages:  71%|███████▏  | 20/28 [00:47<00:17,  2.18s/it]"
     ]
    },
    {
     "name": "stdout",
     "output_type": "stream",
     "text": [
      "Retrieving: https://www.lamudi.com.ph/metro-manila/san-juan-5/house/buy/?script=23&page=21 --- Success!\n"
     ]
    },
    {
     "name": "stderr",
     "output_type": "stream",
     "text": [
      "Scraping pages:  75%|███████▌  | 21/28 [00:49<00:15,  2.14s/it]"
     ]
    },
    {
     "name": "stdout",
     "output_type": "stream",
     "text": [
      "Retrieving: https://www.lamudi.com.ph/metro-manila/san-juan-5/house/buy/?script=23&page=22 --- Success!\n"
     ]
    },
    {
     "name": "stderr",
     "output_type": "stream",
     "text": [
      "Scraping pages:  79%|███████▊  | 22/28 [00:51<00:12,  2.14s/it]"
     ]
    },
    {
     "name": "stdout",
     "output_type": "stream",
     "text": [
      "Retrieving: https://www.lamudi.com.ph/metro-manila/san-juan-5/house/buy/?script=23&page=23 --- Success!\n"
     ]
    },
    {
     "name": "stderr",
     "output_type": "stream",
     "text": [
      "Scraping pages:  82%|████████▏ | 23/28 [00:53<00:10,  2.16s/it]"
     ]
    },
    {
     "name": "stdout",
     "output_type": "stream",
     "text": [
      "Retrieving: https://www.lamudi.com.ph/metro-manila/san-juan-5/house/buy/?script=23&page=24 --- Success!\n"
     ]
    },
    {
     "name": "stderr",
     "output_type": "stream",
     "text": [
      "Scraping pages:  86%|████████▌ | 24/28 [00:55<00:08,  2.08s/it]"
     ]
    },
    {
     "name": "stdout",
     "output_type": "stream",
     "text": [
      "Retrieving: https://www.lamudi.com.ph/metro-manila/san-juan-5/house/buy/?script=23&page=25 --- Success!\n"
     ]
    },
    {
     "name": "stderr",
     "output_type": "stream",
     "text": [
      "Scraping pages:  89%|████████▉ | 25/28 [00:58<00:06,  2.20s/it]"
     ]
    },
    {
     "name": "stdout",
     "output_type": "stream",
     "text": [
      "Retrieving: https://www.lamudi.com.ph/metro-manila/san-juan-5/house/buy/?script=23&page=26 --- Success!\n"
     ]
    },
    {
     "name": "stderr",
     "output_type": "stream",
     "text": [
      "Scraping pages:  93%|█████████▎| 26/28 [01:00<00:04,  2.21s/it]"
     ]
    },
    {
     "name": "stdout",
     "output_type": "stream",
     "text": [
      "Retrieving: https://www.lamudi.com.ph/metro-manila/san-juan-5/house/buy/?script=23&page=27 --- Success!\n"
     ]
    },
    {
     "name": "stderr",
     "output_type": "stream",
     "text": [
      "Scraping pages:  96%|█████████▋| 27/28 [01:02<00:02,  2.17s/it]"
     ]
    },
    {
     "name": "stdout",
     "output_type": "stream",
     "text": [
      "Retrieving: https://www.lamudi.com.ph/metro-manila/san-juan-5/house/buy/?script=23&page=28 --- Success!\n"
     ]
    },
    {
     "name": "stderr",
     "output_type": "stream",
     "text": [
      "Scraping pages: 100%|██████████| 28/28 [01:04<00:00,  2.32s/it]\n",
      "Scraping pages:   0%|          | 0/4 [00:00<?, ?it/s]"
     ]
    },
    {
     "name": "stdout",
     "output_type": "stream",
     "text": [
      "Retrieving: https://www.lamudi.com.ph/metro-manila/san-juan-5/land/buy/?script=23&page=1 --- Success!\n"
     ]
    },
    {
     "name": "stderr",
     "output_type": "stream",
     "text": [
      "Scraping pages:  25%|██▌       | 1/4 [00:06<00:19,  6.61s/it]"
     ]
    },
    {
     "name": "stdout",
     "output_type": "stream",
     "text": [
      "Retrieving: https://www.lamudi.com.ph/metro-manila/san-juan-5/land/buy/?script=23&page=2 --- Success!\n"
     ]
    },
    {
     "name": "stderr",
     "output_type": "stream",
     "text": [
      "Scraping pages:  50%|█████     | 2/4 [00:09<00:08,  4.16s/it]"
     ]
    },
    {
     "name": "stdout",
     "output_type": "stream",
     "text": [
      "Retrieving: https://www.lamudi.com.ph/metro-manila/san-juan-5/land/buy/?script=23&page=3 --- Success!\n"
     ]
    },
    {
     "name": "stderr",
     "output_type": "stream",
     "text": [
      "Scraping pages:  75%|███████▌  | 3/4 [00:12<00:03,  3.74s/it]"
     ]
    },
    {
     "name": "stdout",
     "output_type": "stream",
     "text": [
      "Retrieving: https://www.lamudi.com.ph/metro-manila/san-juan-5/land/buy/?script=23&page=4 --- Success!\n"
     ]
    },
    {
     "name": "stderr",
     "output_type": "stream",
     "text": [
      "Scraping pages: 100%|██████████| 4/4 [00:15<00:00,  3.84s/it]\n"
     ]
    }
   ],
   "source": [
    "san_juan_condo = property_crawler(base_url='https://www.lamudi.com.ph/metro-manila/san-juan-5/condominium/buy/?script=23&page=', start=1, end=22)\n",
    "san_juan_house = property_crawler(base_url='https://www.lamudi.com.ph/metro-manila/san-juan-5/house/buy/?script=23&page=', start=1, end=28)\n",
    "san_juan_land = property_crawler(base_url='https://www.lamudi.com.ph/metro-manila/san-juan-5/land/buy/?script=23&page=', start=1, end=4)"
   ]
  },
  {
   "cell_type": "code",
   "execution_count": 25,
   "metadata": {},
   "outputs": [
    {
     "name": "stderr",
     "output_type": "stream",
     "text": [
      "Scraping pages:   0%|          | 0/1 [00:00<?, ?it/s]"
     ]
    },
    {
     "name": "stdout",
     "output_type": "stream",
     "text": [
      "Retrieving: https://www.lamudi.com.ph/metro-manila/san-juan-5/apartment/rent/?page=1 --- Success!\n"
     ]
    },
    {
     "name": "stderr",
     "output_type": "stream",
     "text": [
      "Scraping pages: 100%|██████████| 1/1 [00:02<00:00,  2.60s/it]\n",
      "Scraping pages:   0%|          | 0/6 [00:00<?, ?it/s]"
     ]
    },
    {
     "name": "stdout",
     "output_type": "stream",
     "text": [
      "Retrieving: https://www.lamudi.com.ph/metro-manila/san-juan-5/condominium/rent/?page=1 --- Success!\n"
     ]
    },
    {
     "name": "stderr",
     "output_type": "stream",
     "text": [
      "Scraping pages:  17%|█▋        | 1/6 [00:02<00:12,  2.55s/it]"
     ]
    },
    {
     "name": "stdout",
     "output_type": "stream",
     "text": [
      "Retrieving: https://www.lamudi.com.ph/metro-manila/san-juan-5/condominium/rent/?page=2 --- Success!\n"
     ]
    },
    {
     "name": "stderr",
     "output_type": "stream",
     "text": [
      "Scraping pages:  33%|███▎      | 2/6 [00:05<00:10,  2.74s/it]"
     ]
    },
    {
     "name": "stdout",
     "output_type": "stream",
     "text": [
      "Retrieving: https://www.lamudi.com.ph/metro-manila/san-juan-5/condominium/rent/?page=3 --- Success!\n"
     ]
    },
    {
     "name": "stderr",
     "output_type": "stream",
     "text": [
      "Scraping pages:  50%|█████     | 3/6 [00:07<00:07,  2.53s/it]"
     ]
    },
    {
     "name": "stdout",
     "output_type": "stream",
     "text": [
      "Retrieving: https://www.lamudi.com.ph/metro-manila/san-juan-5/condominium/rent/?page=4 --- Success!\n"
     ]
    },
    {
     "name": "stderr",
     "output_type": "stream",
     "text": [
      "Scraping pages:  67%|██████▋   | 4/6 [00:10<00:05,  2.56s/it]"
     ]
    },
    {
     "name": "stdout",
     "output_type": "stream",
     "text": [
      "Retrieving: https://www.lamudi.com.ph/metro-manila/san-juan-5/condominium/rent/?page=5 --- Success!\n"
     ]
    },
    {
     "name": "stderr",
     "output_type": "stream",
     "text": [
      "Scraping pages:  83%|████████▎ | 5/6 [00:13<00:02,  2.67s/it]"
     ]
    },
    {
     "name": "stdout",
     "output_type": "stream",
     "text": [
      "Retrieving: https://www.lamudi.com.ph/metro-manila/san-juan-5/condominium/rent/?page=6 --- Success!\n"
     ]
    },
    {
     "name": "stderr",
     "output_type": "stream",
     "text": [
      "Scraping pages: 100%|██████████| 6/6 [00:15<00:00,  2.55s/it]\n",
      "Scraping pages:   0%|          | 0/2 [00:00<?, ?it/s]"
     ]
    },
    {
     "name": "stdout",
     "output_type": "stream",
     "text": [
      "Retrieving: https://www.lamudi.com.ph/metro-manila/san-juan-5/house/rent/?page=1 --- Success!\n"
     ]
    },
    {
     "name": "stderr",
     "output_type": "stream",
     "text": [
      "Scraping pages:  50%|█████     | 1/2 [00:02<00:02,  2.96s/it]"
     ]
    },
    {
     "name": "stdout",
     "output_type": "stream",
     "text": [
      "Retrieving: https://www.lamudi.com.ph/metro-manila/san-juan-5/house/rent/?page=2 --- Success!\n"
     ]
    },
    {
     "name": "stderr",
     "output_type": "stream",
     "text": [
      "Scraping pages: 100%|██████████| 2/2 [00:05<00:00,  2.74s/it]\n",
      "Scraping pages:   0%|          | 0/1 [00:00<?, ?it/s]"
     ]
    },
    {
     "name": "stdout",
     "output_type": "stream",
     "text": [
      "Retrieving: https://www.lamudi.com.ph/metro-manila/san-juan-5/land/rent/?page=1 --- Success!\n"
     ]
    },
    {
     "name": "stderr",
     "output_type": "stream",
     "text": [
      "Scraping pages: 100%|██████████| 1/1 [00:02<00:00,  2.45s/it]\n"
     ]
    }
   ],
   "source": [
    "rent_san_juan_apartment = property_crawler(base_url='https://www.lamudi.com.ph/metro-manila/san-juan-5/apartment/rent/?page=', start=1, end=1)\n",
    "rent_san_juan_condo = property_crawler(base_url='https://www.lamudi.com.ph/metro-manila/san-juan-5/condominium/rent/?page=', start=1, end=6)\n",
    "rent_san_juan_house = property_crawler(base_url='https://www.lamudi.com.ph/metro-manila/san-juan-5/house/rent/?page=', start=1, end=2)\n",
    "rent_san_juan_land = property_crawler(base_url='https://www.lamudi.com.ph/metro-manila/san-juan-5/land/rent/?page=', start=1, end=1)"
   ]
  },
  {
   "cell_type": "code",
   "execution_count": 26,
   "metadata": {},
   "outputs": [],
   "source": [
    "san_juan_4sale = pd.concat([san_juan_condo, san_juan_house, san_juan_land])\n",
    "san_juan_4sale.to_csv('data/for sale/san_juan_4sale.csv')\n",
    "\n",
    "san_juan_4rent = pd.concat([rent_san_juan_apartment, rent_san_juan_condo, rent_san_juan_house, rent_san_juan_land])\n",
    "san_juan_4rent.to_csv('data/for rent/san_juan_4rent.csv')"
   ]
  },
  {
   "cell_type": "code",
   "execution_count": 27,
   "metadata": {},
   "outputs": [],
   "source": [
    "ncr_4sale = pd.concat([manila_4sale, makati_4sale, mandaluyong_4sale, san_juan_4sale, taguig_4sale, pasig_4sale, quezon_city_4sale])\n",
    "ncr_4rent = pd.concat([manila_4rent, makati_4rent, mandaluyong_4rent, san_juan_4rent, taguig_4rent, pasig_4rent, quezon_city_4rent])\n",
    "\n",
    "ncr_4sale.to_csv('data/for sale/ncr_4sale.csv')\n",
    "ncr_4rent.to_csv('data/for rent/ncr_4rent.csv')"
   ]
  },
  {
   "cell_type": "code",
   "execution_count": 28,
   "metadata": {},
   "outputs": [
    {
     "data": {
      "text/plain": [
       "(28710, 9)"
      ]
     },
     "execution_count": 28,
     "metadata": {},
     "output_type": "execute_result"
    }
   ],
   "source": [
    "ncr_4sale.shape"
   ]
  },
  {
   "cell_type": "code",
   "execution_count": 29,
   "metadata": {},
   "outputs": [
    {
     "data": {
      "text/plain": [
       "(15270, 9)"
      ]
     },
     "execution_count": 29,
     "metadata": {},
     "output_type": "execute_result"
    }
   ],
   "source": [
    "ncr_4rent.shape"
   ]
  }
 ],
 "metadata": {
  "kernelspec": {
   "display_name": "Python 3.9.9 ('data-science-env')",
   "language": "python",
   "name": "python3"
  },
  "language_info": {
   "codemirror_mode": {
    "name": "ipython",
    "version": 3
   },
   "file_extension": ".py",
   "mimetype": "text/x-python",
   "name": "python",
   "nbconvert_exporter": "python",
   "pygments_lexer": "ipython3",
   "version": "3.9.9"
  },
  "orig_nbformat": 4,
  "vscode": {
   "interpreter": {
    "hash": "3e0019efc82fe41ec9211655433a532ae886cd805ebc5122e71a85ca9cbbc365"
   }
  }
 },
 "nbformat": 4,
 "nbformat_minor": 2
}
